{
 "cells": [
  {
   "cell_type": "markdown",
   "metadata": {
    "collapsed": false,
    "id": "od2YkWY8pSOC",
    "pycharm": {
     "name": "#%% md\n"
    }
   },
   "source": [
    "# NLP 2025\n",
    "# Lab 2: Word Vectors and Information Retrieval\n",
    "\n",
    "During the first few weeks, we discussed various ways to represent text 📝. One key question was: What should be the basic unit of representation? Words are the fundamental building blocks 🧱.\n",
    "\n",
    "In this lab, we will explore different text representation models, such as Bag-of-Words (BoW), TF-IDF and word embeddings 🔤➡️🔢. Among these, word embeddings are the most effective in terms of performance. They represent each word as a vector of numbers, where each vector captures the meaning of the word 🧠📊.\n",
    "\n",
    "These numerical representations (or weights) are learned using machine learning models 🤖. We’ll dive deeper into how these vectors are learned in the next lecture 📚.\n",
    "\n",
    "For now, we’ll focus on how different representation methods affect performance in an information retrieval task 🔍."
   ]
  },
  {
   "cell_type": "markdown",
   "metadata": {
    "collapsed": false,
    "id": "s93LS5bspSOD",
    "pycharm": {
     "name": "#%% md\n"
    }
   },
   "source": [
    "By the end of this lab, you should be able to:\n",
    "\n",
    "+ 🧼🔁 Implement and/or use built-in functions to preprocess your data (once again!)\n",
    "+ 🧱👜 Build a Bag-of-Words representation of the dataset\n",
    "+ 📊✨ Implement TF-IDF\n",
    "+ 📥🔤 Load pre-trained word embeddings\n",
    "+ 🔍🧠 Inspect and test word embedding properties\n",
    "+ 🗣️➡️📐 Use word embeddings to get sentence representations (aka sentence embeddings)\n",
    "+ 🧩🔎 Use sentence embeddings to solve more complex tasks like information retrieval\n",
    "+ 🧪📏 Design evaluation frameworks for specific NLP tasks and assess their difficulty\n",
    "\n",
    "### Score breakdown\n",
    "\n",
    "| Exercise            | Points |\n",
    "|---------------------|--------|\n",
    "| [Exercise 1](#e1)   | 1      |\n",
    "| [Exercise 2](#e2)   | 1      |\n",
    "| [Exercise 3](#e3)   | 1      |\n",
    "| [Exercise 4](#e4)   | 1      |\n",
    "| [Exercise 5](#e5)   | 1      |\n",
    "| [Exercise 6](#e6)   | 2      |\n",
    "| [Exercise 7](#e7)   | 10     |\n",
    "| [Exercise 8](#e8)   | 5      |\n",
    "| [Exercise 9](#e9)   | 15     |\n",
    "| [Exercise 10](#e10) | 10     |\n",
    "| [Exercise 11](#e11) | 10     |\n",
    "| [Exercise 12](#e12) | 5      |\n",
    "| [Exercise 13](#e13) | 15     |\n",
    "| [Exercise 14](#e14) | 3      |\n",
    "| [Exercise 15](#e15) | 10     |\n",
    "| [Exercise 16](#e16) | 10     |\n",
    "| Total               | 100    |\n",
    "\n",
    "This score will be scaled down to 1 and that will be your final lab score.\n",
    "\n",
    "### 📌 **Instructions for Delivery** (📅 **Deadline: 18/Apr 18:00**, 🎭 *wildcards possible*)\n",
    "\n",
    "✅ **Submission Requirements**\n",
    "+ 📄 You need to submit a **PDF of your report** (use the templates provided in **LaTeX** 🖋️ (*preferred*) or **Word** 📑) and a **copy of your notebook** 📓 with the code.\n",
    "+ ⚡ Make sure that **all cells are executed properly** ⚙️ and that **all figures/results/plots** 📊 you include in the report are also visible in your **executed notebook**.\n",
    "\n",
    "✅ **Collaboration & Integrity**\n",
    "+ 🗣️ While you may **discuss** the lab with others, you must **write your solutions with your group only**. If you **discuss specific tasks** with others, please **include their names** in the appendix of the report.\n",
    "+ 📜 **Honor Code applies** to this lab. For more details, check **Syllabus §7.2** ⚖️.\n",
    "+ 📢 **Mandatory Disclosure**:\n",
    "   - Any **websites** 🌐 (e.g., **Stack Overflow** 💡) or **other resources** used must be **listed and disclosed**.\n",
    "   - Any **GenAI tools** 🤖 (e.g., **ChatGPT**) used must be **explicitly mentioned**.\n",
    "   - 🚨 **Failure to disclose these resources is a violation of academic integrity**. See **Syllabus §7.3** for details."
   ]
  },
  {
   "cell_type": "markdown",
   "metadata": {
    "collapsed": false,
    "id": "aHYGq5RUpSOD",
    "pycharm": {
     "name": "#%% md\n"
    }
   },
   "source": [
    "## 0. Setup\n",
    "\n",
    "As in the last lab, we will be using huggingface datasets library ([https://huggingface.co/datasets](https://huggingface.co/datasets)). You can find the detailed documentation and tutorials here: [https://huggingface.co/docs/datasets/en/index](https://huggingface.co/docs/datasets/en/index)\n",
    "\n",
    "If you don't have it installed you can run the code below or install it via `pip` in your terminal. If you are using Google Colab, you can uncomment and run the code below in a code cell. Restarting of the runtime may be required after installation (Runtime/Restart session)."
   ]
  },
  {
   "cell_type": "code",
   "execution_count": 134,
   "metadata": {
    "id": "rhEG8hKrpSOE",
    "pycharm": {
     "name": "#%%\n"
    }
   },
   "outputs": [],
   "source": [
    "# ! pip install -U datasets~=3.5.0\n",
    "# ! pip install -U gensim\n",
    "# ! python -m pip install -U matplotlib\n",
    "# ! pip install nltk\n",
    "# ! pip install -U scikit-learn"
   ]
  },
  {
   "cell_type": "markdown",
   "metadata": {
    "collapsed": false,
    "pycharm": {
     "name": "#%% md\n"
    }
   },
   "source": [
    "Previously installed datasets library version of 3.2.0 had an error when combined with numpy version >2. If you encounter an error at some point it might require to update the datasets library to the newer version. You can do that by running the code below. If you are using Google Colab, you can run the code below in a code cell. If you are using Jupyter Notebook, you can run the code below in a code cell or in a terminal."
   ]
  },
  {
   "cell_type": "code",
   "execution_count": 135,
   "metadata": {
    "collapsed": false,
    "pycharm": {
     "name": "#%%\n"
    }
   },
   "outputs": [],
   "source": [
    "# ! pip install --upgrade --force-reinstall datasets"
   ]
  },
  {
   "cell_type": "markdown",
   "metadata": {
    "collapsed": false,
    "id": "5CCI1TPJpSOF",
    "pycharm": {
     "name": "#%% md\n"
    }
   },
   "source": [
    "As usual, we start by importing some essential Python libraries and we will be using. Apart from `gensim` (which is going to be used for word embeddings), we have already seen the others."
   ]
  },
  {
   "cell_type": "code",
   "execution_count": 136,
   "metadata": {
    "id": "CRe8W4hKpSOF",
    "pycharm": {
     "name": "#%%\n"
    }
   },
   "outputs": [
    {
     "name": "stderr",
     "output_type": "stream",
     "text": [
      "[nltk_data] Downloading package punkt_tab to\n",
      "[nltk_data]     C:\\Users\\matec\\AppData\\Roaming\\nltk_data...\n",
      "[nltk_data]   Package punkt_tab is already up-to-date!\n",
      "[nltk_data] Downloading package stopwords to\n",
      "[nltk_data]     C:\\Users\\matec\\AppData\\Roaming\\nltk_data...\n",
      "[nltk_data]   Package stopwords is already up-to-date!\n"
     ]
    }
   ],
   "source": [
    "import re\n",
    "\n",
    "import numpy as np\n",
    "import matplotlib.pyplot as plt\n",
    "import datasets\n",
    "import nltk\n",
    "import tqdm\n",
    "import gensim\n",
    "\n",
    "nltk.download('punkt_tab')\n",
    "nltk.download('stopwords')\n",
    "\n",
    "from nltk.corpus import stopwords"
   ]
  },
  {
   "cell_type": "markdown",
   "metadata": {
    "collapsed": false,
    "id": "NXy-1KiCpSOF",
    "pycharm": {
     "name": "#%% md\n"
    }
   },
   "source": [
    "## 1. Load and Preprocess Data\n",
    "\n",
    "*Sentence compression* involves rephrasing sentences to make them shorter while still retaining the original meaning. A reliable compression system would be valuable for mobile devices and could also serve as a component in an extractive summarization system.\n",
    "\n",
    "The dataset we are going to use can be found on [Huggingface](https://huggingface.co/datasets/embedding-data/sentence-compression). It concerns a set of 180,000 pairs of sentences, aka it is a parallel corpus of sentences and their equivalent compressions. It has been collected by harvesting news articles from the Internet where the headline appears to be similar to the first sentence and that property is used to find an \"extractive\" compression of the sentence.\n",
    "\n",
    "For example, for the sentence\n",
    "\n",
    "`\"Regulators Friday shut down a small Florida bank, bringing to 119 the number of US bank failures this year amid mounting loan defaults\"`\n",
    "\n",
    "the compressed equivalent (based on the dataset) is:\n",
    "\n",
    "`\"Regulators shut down small Florida bank\"`.\n",
    "\n",
    "\n",
    "For more information you can read the original paper (from Google) [here](https://aclanthology.org/D13-1155.pdf). We strongly recommend going over the paper to gain further insights. Notice that the paper is from 2013, therefore word embeddings have not been widely introduced yet in NLP tasks, meaning that the methods applied were based on the traditional NLP pipeline (feature extraction + ML)."
   ]
  },
  {
   "cell_type": "markdown",
   "metadata": {
    "collapsed": false,
    "id": "ztJX2GRVpSOF",
    "pycharm": {
     "name": "#%% md\n"
    }
   },
   "source": [
    "### 1.1 Loading the Dataset\n",
    "\n",
    "The dataset will be loaded as a Pandas DataFrame. This may take a few minutes because of the large size of the data.\n",
    "\n",
    "Make sure to inspect the dataset and make sure it is imported properly."
   ]
  },
  {
   "cell_type": "code",
   "execution_count": 137,
   "metadata": {
    "id": "tay2NXPTpSOG",
    "pycharm": {
     "name": "#%%\n"
    }
   },
   "outputs": [
    {
     "name": "stdout",
     "output_type": "stream",
     "text": [
      "DatasetDict({\n",
      "    train: Dataset({\n",
      "        features: ['set'],\n",
      "        num_rows: 180000\n",
      "    })\n",
      "})\n"
     ]
    }
   ],
   "source": [
    "ds = datasets.load_dataset('embedding-data/sentence-compression')\n",
    "print(ds)"
   ]
  },
  {
   "cell_type": "code",
   "execution_count": 138,
   "metadata": {
    "id": "bUud3eZVpSOH",
    "pycharm": {
     "name": "#%%\n"
    }
   },
   "outputs": [
    {
     "name": "stdout",
     "output_type": "stream",
     "text": [
      "{'set': [\"The USHL completed an expansion draft on Monday as 10 players who were on the rosters of USHL teams during the 2009-10 season were selected by the League's two newest entries, the Muskegon Lumberjacks and Dubuque Fighting Saints.\", 'USHL completes expansion draft']}\n",
      "{'set': ['Major League Baseball Commissioner Bud Selig will be speaking at St. Norbert College next month.', 'Bud Selig to speak at St. Norbert College']}\n",
      "{'set': [\"It's fresh cherry time in Michigan and the best time to enjoy this delicious and nutritious fruit.\", \"It's cherry time\"]}\n",
      "{'set': ['An Evesham man is facing charges in Pennsylvania after he allegedly dragged his girlfriend from the side of his pickup truck on the campus of Kutztown University in the early morning hours of Dec. 5, police said.', 'Evesham man faces charges for Pa.']}\n",
      "{'set': [\"NRT LLC, one of the nation's largest residential real estate brokerage companies, announced several executive appointments within its Coldwell Banker Residential Brokerage operations in Southern California.\", 'NRT announces executive appointments at its Coldwell Banker operations in Southern California']}\n",
      "{'set': ['THE JSE kept toying with an all time high by midday today as resources continued to fuel the bourse.', 'JSE keeps toying with all time high']}\n",
      "{'set': ['The government is defending the latest police crime statistics despite a worrying rise in the recorded amount of violent offending.', 'Government defends crime statistics']}\n",
      "{'set': ['The renovated Marappalam bridge, which had been opened for two-wheelers last week, was opened for other vehicles also on Friday.', 'Marappalam bridge opened']}\n",
      "{'set': ['A new survey shows 30 percent of Californians use Twitter, and more and more of us are using our smart phones to go online.', 'Survey: 30 percent of Californians use Twitter']}\n",
      "{'set': ['Brightpoint ,a provider of logistic services to the mobile industry, has started operations in the Turkish market.', 'Brightpoint starts operations on Turkish market']}\n"
     ]
    }
   ],
   "source": [
    "for i in range(10):\n",
    "    print(ds['train'][i])"
   ]
  },
  {
   "cell_type": "markdown",
   "metadata": {
    "collapsed": false,
    "id": "HfJSiWxrpSOH",
    "pycharm": {
     "name": "#%% md\n"
    }
   },
   "source": [
    "The dataset comes with only the `train` split so we will have to split it ourselves."
   ]
  },
  {
   "cell_type": "code",
   "execution_count": 139,
   "metadata": {
    "id": "tATL53MWpSOH",
    "pycharm": {
     "name": "#%%\n"
    }
   },
   "outputs": [
    {
     "name": "stdout",
     "output_type": "stream",
     "text": [
      "DatasetDict({\n",
      "    train: Dataset({\n",
      "        features: ['set'],\n",
      "        num_rows: 144000\n",
      "    })\n",
      "    test: Dataset({\n",
      "        features: ['set'],\n",
      "        num_rows: 36000\n",
      "    })\n",
      "})\n"
     ]
    }
   ],
   "source": [
    "split_ds = ds['train'].train_test_split(test_size=0.2)\n",
    "print(split_ds)"
   ]
  },
  {
   "cell_type": "markdown",
   "metadata": {
    "collapsed": false,
    "id": "L133t3CqpSOH",
    "pycharm": {
     "name": "#%% md\n"
    }
   },
   "source": [
    "### 1.2 Preprocessing the dataset\n",
    "In this section we will prepare the dataset, aka clean the sentences and tokenize.\n",
    "\n",
    "First, let's write the function to clean the text. It can be similar to the one from the previous lab (Lab1) but make sure that it makes sense for this dataset and task.\n",
    "\n",
    "More specifically, think about lower-casing, punctuation, stop-words and lemmatization/stemming and the impact it might have on the dataset. Also reflect on the fact that with word embeddings we want to uncover semantic relationships between words, whereas with bag-of-words we were trying to capture different morphological variations."
   ]
  },
  {
   "cell_type": "markdown",
   "metadata": {
    "collapsed": false,
    "id": "mQszN6GNpSOH",
    "pycharm": {
     "name": "#%% md\n"
    }
   },
   "source": [
    "<a name='e1'></a>\n",
    "### Exercise 1: Clean function\n",
    "(1p) Fill in the following function ot clean the dataset. Implement at least 3 different steps."
   ]
  },
  {
   "cell_type": "code",
   "execution_count": 140,
   "metadata": {
    "id": "TxjfLQj6pSOH",
    "pycharm": {
     "name": "#%%\n"
    }
   },
   "outputs": [],
   "source": [
    "def clean(text):\n",
    "    \"\"\"\n",
    "    Cleans the given text\n",
    "    Args:\n",
    "        text: a str with the text to clean\n",
    "\n",
    "    Returns: a str with the cleaned text\n",
    "\n",
    "    \"\"\"\n",
    "\n",
    "    # Empty text\n",
    "    if text == '':\n",
    "        return text\n",
    "\n",
    "    # 'text' from the example can be of type numpy.str_, let's convert it to a python str\n",
    "    text = str(text)\n",
    "\n",
    "    #you might need more\n",
    "    #add them here\n",
    "\n",
    "    ### YOUR CODE HERE\n",
    "\n",
    "    # Remove all the special characters and numbers from the text\n",
    "    text = re.sub(r'[^a-zA-Z\\s]', '', text)\n",
    "\n",
    "    # Remove extra spaces\n",
    "    text = re.sub(r'\\s+', ' ', text)\n",
    "\n",
    "    #This is how we started but I changed it after exercise 6, results should account for that change tho \n",
    "    # # Lowercase the text\n",
    "    # text = text.lower()\n",
    "\n",
    "    #This it the new one\n",
    "\n",
    "    #Removnig stop-words\n",
    "\n",
    "    stop_words = set(stopwords.words('english'))\n",
    "    text = ' '.join([word for word in text.split() if word not in stop_words])\n",
    "\n",
    "    # Lower casing only the first letter of a new sentence and only if the next letter is also lower case (to avoid USA to uSA)\n",
    "    text = re.sub(r'^([A-Z])(?=[a-z])', lambda m: m.group(1).lower(), text)\n",
    "\n",
    "    ### YOUR CODE ENDS HERE\n",
    "\n",
    "    text = text.strip()\n",
    "\n",
    "    # Update the example with the cleaned text\n",
    "    return text"
   ]
  },
  {
   "cell_type": "markdown",
   "metadata": {
    "collapsed": false,
    "id": "gAqf1AoupSOJ",
    "pycharm": {
     "name": "#%% md\n"
    }
   },
   "source": [
    "The following function will apply the function (sic) you just wrote to the whole dataset. More specifically, it takes the first entry (`sentence`) from the set of uncompressed/compressed pairs, applies the `clean` function and saves the processed sentence in the field `clean_sentence`. The same is dome for the compressed version of the sentence (saved as `clean_compressed`)."
   ]
  },
  {
   "cell_type": "code",
   "execution_count": 141,
   "metadata": {
    "id": "WZn-M4_vpSOJ",
    "pycharm": {
     "name": "#%%\n"
    }
   },
   "outputs": [],
   "source": [
    "def clean_dataset(example):\n",
    "    \"\"\"\n",
    "    Cleans the sentence and compressed sentence in the example from the Dataset\n",
    "    Args:\n",
    "        example: an example from the Dataset\n",
    "\n",
    "    Returns: updated example with 'clean_sentence' and 'clean_compressed' cleaned\n",
    "\n",
    "    \"\"\"\n",
    "    sentence, compressed = example['set']\n",
    "    clean_sentence = clean(sentence)\n",
    "    clean_compressed = clean(compressed)\n",
    "    example['clean_sentence'] = clean_sentence\n",
    "    example['clean_compressed'] = clean_compressed\n",
    "    return example"
   ]
  },
  {
   "cell_type": "markdown",
   "metadata": {
    "collapsed": false,
    "id": "_KVujosKpSOJ",
    "pycharm": {
     "name": "#%% md\n"
    }
   },
   "source": [
    "Below we apply the function to the whole dataset (using `map`) and we can also inspect the result."
   ]
  },
  {
   "cell_type": "code",
   "execution_count": 142,
   "metadata": {
    "id": "NBS1JbISpSOJ",
    "pycharm": {
     "name": "#%%\n"
    }
   },
   "outputs": [
    {
     "name": "stderr",
     "output_type": "stream",
     "text": [
      "Map: 100%|██████████| 144000/144000 [01:49<00:00, 1309.49 examples/s]\n",
      "Map: 100%|██████████| 36000/36000 [00:26<00:00, 1352.52 examples/s]"
     ]
    },
    {
     "name": "stdout",
     "output_type": "stream",
     "text": [
      "DatasetDict({\n",
      "    train: Dataset({\n",
      "        features: ['set', 'clean_sentence', 'clean_compressed'],\n",
      "        num_rows: 144000\n",
      "    })\n",
      "    test: Dataset({\n",
      "        features: ['set', 'clean_sentence', 'clean_compressed'],\n",
      "        num_rows: 36000\n",
      "    })\n",
      "})\n"
     ]
    },
    {
     "name": "stderr",
     "output_type": "stream",
     "text": [
      "\n"
     ]
    }
   ],
   "source": [
    "split_ds = split_ds.map(clean_dataset)\n",
    "print(split_ds)"
   ]
  },
  {
   "cell_type": "markdown",
   "metadata": {
    "collapsed": false,
    "id": "X_ThE9H-pSOJ",
    "pycharm": {
     "name": "#%% md\n"
    }
   },
   "source": [
    "Let's examine some examples from the dataset and make sure that we got the results we wanted. At this step, it might be necessary to revisit some pre-processing steps if you are not happy with the results."
   ]
  },
  {
   "cell_type": "code",
   "execution_count": 143,
   "metadata": {
    "id": "hP-qOPijpSOJ",
    "pycharm": {
     "name": "#%%\n"
    }
   },
   "outputs": [
    {
     "name": "stdout",
     "output_type": "stream",
     "text": [
      "{'set': ['A Ridgeway man who pleaded guilty Tuesday to shooting his estranged wife after she found him hiding under her bed could spend the rest of his life in prison.', 'Man pleads guilty to shooting wife'], 'clean_sentence': 'A Ridgeway man pleaded guilty Tuesday shooting estranged wife found hiding bed could spend rest life prison', 'clean_compressed': 'man pleads guilty shooting wife'}\n",
      "{'set': ['Federal regulators have shut down Ameribank operating in West Virginia and eastern Ohio.', 'Regulators shut down Ameribank in West Virginia'], 'clean_sentence': 'federal regulators shut Ameribank operating West Virginia eastern Ohio', 'clean_compressed': 'regulators shut Ameribank West Virginia'}\n",
      "{'set': ['A former Ernst & Young partner and an investment banker were charged with insider trading Thursday in an indictment unsealed in Manhattan.', 'Former Ernst & Young partner charged with insider trading'], 'clean_sentence': 'A former Ernst Young partner investment banker charged insider trading Thursday indictment unsealed Manhattan', 'clean_compressed': 'former Ernst Young partner charged insider trading'}\n",
      "{'set': [\"East Timor is demanding more information from the Government before it agrees to accept any asylum seekers, under Julia Gillard's proposed new plan.\", 'East Timor demands information'], 'clean_sentence': 'east Timor demanding information Government agrees accept asylum seekers Julia Gillards proposed new plan', 'clean_compressed': 'east Timor demands information'}\n",
      "{'set': ['Diana Nyad will make another attempt to swim from Cuba to Florida after failing to reach her goal in August.', 'Diana Nyad makes another attempt to swim from Cuba to Florida'], 'clean_sentence': 'diana Nyad make another attempt swim Cuba Florida failing reach goal August', 'clean_compressed': 'diana Nyad makes another attempt swim Cuba Florida'}\n",
      "{'set': ['The Wareham High School class of 2013 picked a prom location at the School Committee meeting tonight.', 'Class of 2013 picks a prom location'], 'clean_sentence': 'the Wareham High School class picked prom location School Committee meeting tonight', 'clean_compressed': 'class picks prom location'}\n",
      "{'set': ['The Euclid vs Cleveland Heights football game for tonight, Friday, September 23rd has been postponed.', 'Euclid vs Cleveland Heights football game postponed'], 'clean_sentence': 'the Euclid vs Cleveland Heights football game tonight Friday September rd postponed', 'clean_compressed': 'euclid vs Cleveland Heights football game postponed'}\n",
      "{'set': ['Legislators from Hyderabad faulted the State Government for its failure to prevent riots in the Old City and alleged that it also failed to deploy Rapid Action Force on time.', 'Legislators fault State Government'], 'clean_sentence': 'legislators Hyderabad faulted State Government failure prevent riots Old City alleged also failed deploy Rapid Action Force time', 'clean_compressed': 'legislators fault State Government'}\n",
      "{'set': ['Original Stampeders member Kim Berly thrills the PGX crowd Thursday night with his solo drum/vocal performance of Minstrel Gypsy.', 'Stampeders thrill at the PGX'], 'clean_sentence': 'original Stampeders member Kim Berly thrills PGX crowd Thursday night solo drumvocal performance Minstrel Gypsy', 'clean_compressed': 'stampeders thrill PGX'}\n",
      "{'set': ['In a very close battle at the Emperors Palace in South Africa, Hekkie Budler won a twelve round split decision over Juanito Rubillar to retain his IBO junior flyweight title.', 'Hekkie Budler decisions Juanito Rubillar, retains title'], 'clean_sentence': 'in close battle Emperors Palace South Africa Hekkie Budler twelve round split decision Juanito Rubillar retain IBO junior flyweight title', 'clean_compressed': 'hekkie Budler decisions Juanito Rubillar retains title'}\n"
     ]
    }
   ],
   "source": [
    "for i in range(10):\n",
    "    print(split_ds['train'][i])"
   ]
  },
  {
   "cell_type": "markdown",
   "metadata": {
    "collapsed": false,
    "id": "7LI2KlfypSOJ",
    "pycharm": {
     "name": "#%% md\n"
    }
   },
   "source": [
    "<a name='e2'></a>\n",
    "### Exercise 2: Tokenize function\n",
    "\n",
    "(1p) As always, we will need to tokenize the dataset in order to create bat-of-words and TF-IDF representations in the next sections. We will use the [Natural Language Toolkit (NLTK) library]([https://www.nltk.org/]) (https://www.nltk.org/). Complete the following function to split the text into tokens using the `word_tokenize()` function. Check the [documentation](https://www.nltk.org/api/nltk.tokenize.word_tokenize.html?highlight=word_tokenize) first.\n",
    "Note that there are different tokenizers e.g. `RegexpTokenizer` where you can enter your own regexp, `WhitespaceTokenizer` (similar to Python's string.split()) and `BlanklineTokenizer`."
   ]
  },
  {
   "cell_type": "code",
   "execution_count": 144,
   "metadata": {
    "id": "sb-M3V6ApSOK",
    "pycharm": {
     "name": "#%%\n"
    }
   },
   "outputs": [],
   "source": [
    "def tokenize(text):\n",
    "    \"\"\"\n",
    "    Tokenizes the `text` parameter using nltk library\n",
    "    Args:\n",
    "        text: a string representing a sentence to be tokenized\n",
    "\n",
    "    Returns: a list of tokens (strings)\n",
    "\n",
    "    \"\"\"\n",
    "\n",
    "    ### YOUR CODE HERE\n",
    "    # Tokenize the text using nltk's word_tokenize function\n",
    "    tokens = nltk.word_tokenize(text)\n",
    "\n",
    "    ### YOUR CODE ENDS HERE\n",
    "    return tokens"
   ]
  },
  {
   "cell_type": "markdown",
   "metadata": {
    "collapsed": false,
    "id": "gwsHqZc9pSOK",
    "pycharm": {
     "name": "#%% md\n"
    }
   },
   "source": [
    "Next, the function will be applied to the whole dataset (as we did with the pre-processing) and `sentence_tokens` field will be created to store the result."
   ]
  },
  {
   "cell_type": "code",
   "execution_count": 145,
   "metadata": {
    "id": "6sTX-AcTpSOK",
    "pycharm": {
     "name": "#%%\n"
    }
   },
   "outputs": [],
   "source": [
    "def tokenize_dataset(example):\n",
    "    \"\"\"\n",
    "    Tokenizes 'clean_sentence' columns in the example from the Dataset\n",
    "    Args:\n",
    "        example: an example from the Dataset\n",
    "\n",
    "    Returns: updated example with 'sentence_tokens' columns\n",
    "\n",
    "    \"\"\"\n",
    "    example['sentence_tokens'] = tokenize(example['clean_sentence'])\n",
    "    example['compressed_tokens'] = tokenize(example['clean_compressed'])\n",
    "    return example"
   ]
  },
  {
   "cell_type": "code",
   "execution_count": 146,
   "metadata": {
    "id": "jvwmXLj2pSOK",
    "pycharm": {
     "name": "#%%\n"
    }
   },
   "outputs": [
    {
     "name": "stderr",
     "output_type": "stream",
     "text": [
      "Map: 100%|██████████| 144000/144000 [00:29<00:00, 4903.80 examples/s]\n",
      "Map: 100%|██████████| 36000/36000 [00:07<00:00, 4748.16 examples/s]\n"
     ]
    }
   ],
   "source": [
    "split_ds = split_ds.map(tokenize_dataset)"
   ]
  },
  {
   "cell_type": "code",
   "execution_count": 147,
   "metadata": {
    "id": "yXnje31SpSOK",
    "pycharm": {
     "name": "#%%\n"
    }
   },
   "outputs": [
    {
     "name": "stdout",
     "output_type": "stream",
     "text": [
      "{'set': ['A Ridgeway man who pleaded guilty Tuesday to shooting his estranged wife after she found him hiding under her bed could spend the rest of his life in prison.', 'Man pleads guilty to shooting wife'], 'clean_sentence': 'A Ridgeway man pleaded guilty Tuesday shooting estranged wife found hiding bed could spend rest life prison', 'clean_compressed': 'man pleads guilty shooting wife', 'sentence_tokens': ['A', 'Ridgeway', 'man', 'pleaded', 'guilty', 'Tuesday', 'shooting', 'estranged', 'wife', 'found', 'hiding', 'bed', 'could', 'spend', 'rest', 'life', 'prison'], 'compressed_tokens': ['man', 'pleads', 'guilty', 'shooting', 'wife']}\n",
      "{'set': ['Federal regulators have shut down Ameribank operating in West Virginia and eastern Ohio.', 'Regulators shut down Ameribank in West Virginia'], 'clean_sentence': 'federal regulators shut Ameribank operating West Virginia eastern Ohio', 'clean_compressed': 'regulators shut Ameribank West Virginia', 'sentence_tokens': ['federal', 'regulators', 'shut', 'Ameribank', 'operating', 'West', 'Virginia', 'eastern', 'Ohio'], 'compressed_tokens': ['regulators', 'shut', 'Ameribank', 'West', 'Virginia']}\n",
      "{'set': ['A former Ernst & Young partner and an investment banker were charged with insider trading Thursday in an indictment unsealed in Manhattan.', 'Former Ernst & Young partner charged with insider trading'], 'clean_sentence': 'A former Ernst Young partner investment banker charged insider trading Thursday indictment unsealed Manhattan', 'clean_compressed': 'former Ernst Young partner charged insider trading', 'sentence_tokens': ['A', 'former', 'Ernst', 'Young', 'partner', 'investment', 'banker', 'charged', 'insider', 'trading', 'Thursday', 'indictment', 'unsealed', 'Manhattan'], 'compressed_tokens': ['former', 'Ernst', 'Young', 'partner', 'charged', 'insider', 'trading']}\n",
      "{'set': [\"East Timor is demanding more information from the Government before it agrees to accept any asylum seekers, under Julia Gillard's proposed new plan.\", 'East Timor demands information'], 'clean_sentence': 'east Timor demanding information Government agrees accept asylum seekers Julia Gillards proposed new plan', 'clean_compressed': 'east Timor demands information', 'sentence_tokens': ['east', 'Timor', 'demanding', 'information', 'Government', 'agrees', 'accept', 'asylum', 'seekers', 'Julia', 'Gillards', 'proposed', 'new', 'plan'], 'compressed_tokens': ['east', 'Timor', 'demands', 'information']}\n",
      "{'set': ['Diana Nyad will make another attempt to swim from Cuba to Florida after failing to reach her goal in August.', 'Diana Nyad makes another attempt to swim from Cuba to Florida'], 'clean_sentence': 'diana Nyad make another attempt swim Cuba Florida failing reach goal August', 'clean_compressed': 'diana Nyad makes another attempt swim Cuba Florida', 'sentence_tokens': ['diana', 'Nyad', 'make', 'another', 'attempt', 'swim', 'Cuba', 'Florida', 'failing', 'reach', 'goal', 'August'], 'compressed_tokens': ['diana', 'Nyad', 'makes', 'another', 'attempt', 'swim', 'Cuba', 'Florida']}\n",
      "{'set': ['The Wareham High School class of 2013 picked a prom location at the School Committee meeting tonight.', 'Class of 2013 picks a prom location'], 'clean_sentence': 'the Wareham High School class picked prom location School Committee meeting tonight', 'clean_compressed': 'class picks prom location', 'sentence_tokens': ['the', 'Wareham', 'High', 'School', 'class', 'picked', 'prom', 'location', 'School', 'Committee', 'meeting', 'tonight'], 'compressed_tokens': ['class', 'picks', 'prom', 'location']}\n",
      "{'set': ['The Euclid vs Cleveland Heights football game for tonight, Friday, September 23rd has been postponed.', 'Euclid vs Cleveland Heights football game postponed'], 'clean_sentence': 'the Euclid vs Cleveland Heights football game tonight Friday September rd postponed', 'clean_compressed': 'euclid vs Cleveland Heights football game postponed', 'sentence_tokens': ['the', 'Euclid', 'vs', 'Cleveland', 'Heights', 'football', 'game', 'tonight', 'Friday', 'September', 'rd', 'postponed'], 'compressed_tokens': ['euclid', 'vs', 'Cleveland', 'Heights', 'football', 'game', 'postponed']}\n",
      "{'set': ['Legislators from Hyderabad faulted the State Government for its failure to prevent riots in the Old City and alleged that it also failed to deploy Rapid Action Force on time.', 'Legislators fault State Government'], 'clean_sentence': 'legislators Hyderabad faulted State Government failure prevent riots Old City alleged also failed deploy Rapid Action Force time', 'clean_compressed': 'legislators fault State Government', 'sentence_tokens': ['legislators', 'Hyderabad', 'faulted', 'State', 'Government', 'failure', 'prevent', 'riots', 'Old', 'City', 'alleged', 'also', 'failed', 'deploy', 'Rapid', 'Action', 'Force', 'time'], 'compressed_tokens': ['legislators', 'fault', 'State', 'Government']}\n",
      "{'set': ['Original Stampeders member Kim Berly thrills the PGX crowd Thursday night with his solo drum/vocal performance of Minstrel Gypsy.', 'Stampeders thrill at the PGX'], 'clean_sentence': 'original Stampeders member Kim Berly thrills PGX crowd Thursday night solo drumvocal performance Minstrel Gypsy', 'clean_compressed': 'stampeders thrill PGX', 'sentence_tokens': ['original', 'Stampeders', 'member', 'Kim', 'Berly', 'thrills', 'PGX', 'crowd', 'Thursday', 'night', 'solo', 'drumvocal', 'performance', 'Minstrel', 'Gypsy'], 'compressed_tokens': ['stampeders', 'thrill', 'PGX']}\n",
      "{'set': ['In a very close battle at the Emperors Palace in South Africa, Hekkie Budler won a twelve round split decision over Juanito Rubillar to retain his IBO junior flyweight title.', 'Hekkie Budler decisions Juanito Rubillar, retains title'], 'clean_sentence': 'in close battle Emperors Palace South Africa Hekkie Budler twelve round split decision Juanito Rubillar retain IBO junior flyweight title', 'clean_compressed': 'hekkie Budler decisions Juanito Rubillar retains title', 'sentence_tokens': ['in', 'close', 'battle', 'Emperors', 'Palace', 'South', 'Africa', 'Hekkie', 'Budler', 'twelve', 'round', 'split', 'decision', 'Juanito', 'Rubillar', 'retain', 'IBO', 'junior', 'flyweight', 'title'], 'compressed_tokens': ['hekkie', 'Budler', 'decisions', 'Juanito', 'Rubillar', 'retains', 'title']}\n"
     ]
    }
   ],
   "source": [
    "for i in range(10):\n",
    "    print(split_ds['train'][i])"
   ]
  },
  {
   "cell_type": "markdown",
   "metadata": {
    "collapsed": false,
    "id": "FeF0wFd0pSOL",
    "pycharm": {
     "name": "#%% md\n"
    }
   },
   "source": [
    "Since we will need the tokenized sentences, we can use the following statement to extract them from the `train` split of our dataset."
   ]
  },
  {
   "cell_type": "code",
   "execution_count": 148,
   "metadata": {
    "id": "qYKfXFxQpSOL",
    "pycharm": {
     "name": "#%%\n"
    }
   },
   "outputs": [
    {
     "name": "stdout",
     "output_type": "stream",
     "text": [
      "144000\n",
      "[['A', 'Ridgeway', 'man', 'pleaded', 'guilty', 'Tuesday', 'shooting', 'estranged', 'wife', 'found', 'hiding', 'bed', 'could', 'spend', 'rest', 'life', 'prison'], ['federal', 'regulators', 'shut', 'Ameribank', 'operating', 'West', 'Virginia', 'eastern', 'Ohio'], ['A', 'former', 'Ernst', 'Young', 'partner', 'investment', 'banker', 'charged', 'insider', 'trading', 'Thursday', 'indictment', 'unsealed', 'Manhattan'], ['east', 'Timor', 'demanding', 'information', 'Government', 'agrees', 'accept', 'asylum', 'seekers', 'Julia', 'Gillards', 'proposed', 'new', 'plan'], ['diana', 'Nyad', 'make', 'another', 'attempt', 'swim', 'Cuba', 'Florida', 'failing', 'reach', 'goal', 'August'], ['the', 'Wareham', 'High', 'School', 'class', 'picked', 'prom', 'location', 'School', 'Committee', 'meeting', 'tonight'], ['the', 'Euclid', 'vs', 'Cleveland', 'Heights', 'football', 'game', 'tonight', 'Friday', 'September', 'rd', 'postponed'], ['legislators', 'Hyderabad', 'faulted', 'State', 'Government', 'failure', 'prevent', 'riots', 'Old', 'City', 'alleged', 'also', 'failed', 'deploy', 'Rapid', 'Action', 'Force', 'time'], ['original', 'Stampeders', 'member', 'Kim', 'Berly', 'thrills', 'PGX', 'crowd', 'Thursday', 'night', 'solo', 'drumvocal', 'performance', 'Minstrel', 'Gypsy'], ['in', 'close', 'battle', 'Emperors', 'Palace', 'South', 'Africa', 'Hekkie', 'Budler', 'twelve', 'round', 'split', 'decision', 'Juanito', 'Rubillar', 'retain', 'IBO', 'junior', 'flyweight', 'title']]\n"
     ]
    }
   ],
   "source": [
    "tokenized_sentences = split_ds['train']['sentence_tokens']\n",
    "print(len(tokenized_sentences))\n",
    "print(tokenized_sentences[:10])"
   ]
  },
  {
   "cell_type": "code",
   "execution_count": 149,
   "metadata": {
    "collapsed": false,
    "pycharm": {
     "name": "#%%\n"
    }
   },
   "outputs": [
    {
     "name": "stdout",
     "output_type": "stream",
     "text": [
      "144000\n",
      "[['man', 'pleads', 'guilty', 'shooting', 'wife'], ['regulators', 'shut', 'Ameribank', 'West', 'Virginia'], ['former', 'Ernst', 'Young', 'partner', 'charged', 'insider', 'trading'], ['east', 'Timor', 'demands', 'information'], ['diana', 'Nyad', 'makes', 'another', 'attempt', 'swim', 'Cuba', 'Florida'], ['class', 'picks', 'prom', 'location'], ['euclid', 'vs', 'Cleveland', 'Heights', 'football', 'game', 'postponed'], ['legislators', 'fault', 'State', 'Government'], ['stampeders', 'thrill', 'PGX'], ['hekkie', 'Budler', 'decisions', 'Juanito', 'Rubillar', 'retains', 'title']]\n"
     ]
    }
   ],
   "source": [
    "tokenized_compressed = split_ds['train']['compressed_tokens']\n",
    "print(len(tokenized_compressed))\n",
    "print(tokenized_compressed[:10])"
   ]
  },
  {
   "cell_type": "markdown",
   "metadata": {
    "id": "ZDGwEiZeCA5U",
    "pycharm": {
     "name": "#%% md\n"
    }
   },
   "source": [
    "Notice the difference in the types of the different structures we use. Run the following cell to check the types. Do they make sense to you?"
   ]
  },
  {
   "cell_type": "code",
   "execution_count": 150,
   "metadata": {
    "id": "wKrkFmcZCtOd",
    "pycharm": {
     "name": "#%%\n"
    }
   },
   "outputs": [
    {
     "name": "stdout",
     "output_type": "stream",
     "text": [
      "<class 'datasets.dataset_dict.DatasetDict'>\n",
      "--\n",
      "{'set': ['Federal regulators have shut down Ameribank operating in West Virginia and eastern Ohio.', 'Regulators shut down Ameribank in West Virginia'], 'clean_sentence': 'federal regulators shut Ameribank operating West Virginia eastern Ohio', 'clean_compressed': 'regulators shut Ameribank West Virginia', 'sentence_tokens': ['federal', 'regulators', 'shut', 'Ameribank', 'operating', 'West', 'Virginia', 'eastern', 'Ohio'], 'compressed_tokens': ['regulators', 'shut', 'Ameribank', 'West', 'Virginia']}\n",
      "<class 'dict'>\n",
      "--\n",
      "federal regulators shut Ameribank operating West Virginia eastern Ohio\n",
      "<class 'str'>\n",
      "--\n",
      "['federal', 'regulators', 'shut', 'Ameribank', 'operating', 'West', 'Virginia', 'eastern', 'Ohio']\n",
      "<class 'list'>\n",
      "--\n"
     ]
    }
   ],
   "source": [
    "#type of original dataset\n",
    "print(type(split_ds))\n",
    "print(\"--\")\n",
    "#type of original sentence\n",
    "print(split_ds['train'][1])\n",
    "print(type(split_ds['train'][1]))\n",
    "print(\"--\")\n",
    "#type of pre-proceesed sentence\n",
    "print(split_ds['train']['clean_sentence'][1])\n",
    "print(type(split_ds['train']['clean_sentence'][1]))\n",
    "print(\"--\")\n",
    "#type of tokenized sentence\n",
    "print(split_ds['train']['sentence_tokens'][1])\n",
    "print(type(split_ds['train']['sentence_tokens'][1]))\n",
    "print(\"--\")"
   ]
  },
  {
   "cell_type": "markdown",
   "metadata": {
    "collapsed": false,
    "pycharm": {
     "name": "#%% md\n"
    }
   },
   "source": [
    "## 2. Bag of Words\n",
    "In this section you will built a bag-of-words representation of the dataset. We will use numpy arrays to store the results. The bag-of-words representation is a simple and effective way to represent text data. It involves creating a vocabulary of unique words from the dataset and representing each sentence as a vector of word counts. We first need the vocabulary, which we will build from both the full sentences and the compressed sentences. Similar to the first lab, the vocabulary will be a list of unique words from the dataset."
   ]
  },
  {
   "cell_type": "markdown",
   "metadata": {
    "collapsed": false,
    "pycharm": {
     "name": "#%% md\n"
    }
   },
   "source": [
    "<a name='e3'></a>\n",
    "### Exercise 3: Extracting vocabulary counts\n",
    "\n",
    "(1p) In the following cell, you will implement a function that takes a list of tokenized sentences and returns a dictionary with the counts of each word in the vocabulary. The dictionary should be of the form {word: count}. As in previous lab, you will use the `Counter` class from the `collections` module to do this."
   ]
  },
  {
   "cell_type": "code",
   "execution_count": 151,
   "metadata": {
    "collapsed": false,
    "pycharm": {
     "name": "#%%\n"
    }
   },
   "outputs": [],
   "source": [
    "from collections import Counter\n",
    "\n",
    "\n",
    "def extract_vocabulary_counts(tokenized_sentences):\n",
    "    \"\"\"\n",
    "    Extracts the vocabulary from the tokenized sentences\n",
    "    Args:\n",
    "        tokenized_sentences: a list of lists of tokens\n",
    "\n",
    "    Returns: a Counter object with the counts of each word in the vocabulary\n",
    "    \"\"\"\n",
    "\n",
    "    ### YOUR CODE HERE\n",
    "    # Create a Counter object to count the occurrences of each token\n",
    "    counter = Counter()\n",
    "    # Iterate through each list of tokens and update the counter\n",
    "    for tokens in tokenized_sentences:\n",
    "        counter.update(tokens)\n",
    "\n",
    "    # Return the Counter object containing the vocabulary counts\n",
    "    return counter\n",
    "    ### YOUR CODE ENDS HERE"
   ]
  },
  {
   "cell_type": "code",
   "execution_count": 152,
   "metadata": {
    "collapsed": false,
    "pycharm": {
     "name": "#%%\n"
    }
   },
   "outputs": [
    {
     "name": "stdout",
     "output_type": "stream",
     "text": [
      "141145\n",
      "[('said', 19821), ('A', 18450), ('the', 17236), ('new', 15849), ('man', 11633), ('US', 11002), ('today', 9813), ('two', 9059), ('police', 8583), ('announced', 7724)]\n"
     ]
    }
   ],
   "source": [
    "vocab_counter = extract_vocabulary_counts(tokenized_sentences + tokenized_compressed)\n",
    "print(len(vocab_counter))\n",
    "print(vocab_counter.most_common(10))"
   ]
  },
  {
   "cell_type": "markdown",
   "metadata": {
    "collapsed": false,
    "pycharm": {
     "name": "#%% md\n"
    }
   },
   "source": [
    "As you can see the size of the vocabulary is quite large. Like the last time, we will limit the vocabulary to the most frequent words. The next cell will create a dictionary that maps each word to an index in the vocabulary. This will be used to create the bag-of-words representation of the sentences."
   ]
  },
  {
   "cell_type": "code",
   "execution_count": 153,
   "metadata": {
    "collapsed": false,
    "pycharm": {
     "name": "#%%\n"
    }
   },
   "outputs": [
    {
     "name": "stdout",
     "output_type": "stream",
     "text": [
      "{'said': 0, 'A': 1, 'the': 2, 'new': 3, 'man': 4, 'US': 5, 'today': 6, 'two': 7, 'police': 8, 'announced': 9, 'first': 10, 'Tuesday': 11, 'Wednesday': 12, 'Monday': 13, 'Thursday': 14, 'year': 15, 'Friday': 16, 'says': 17, 'former': 18, 'million': 19, 'according': 20, 'last': 21, 'one': 22, 'years': 23, 'woman': 24, 'Saturday': 25, 'County': 26, 'Sunday': 27, 'three': 28, 'week': 29, 'home': 30, 'state': 31, 'people': 32, 'New': 33, 'government': 34, 'killed': 35, 'time': 36, 'The': 37, 'arrested': 38, 'next': 39, 'found': 40, 'night': 41, 'died': 42, 'set': 43, 'charged': 44, 'company': 45, 'morning': 46, 'I': 47, 'may': 48, 'Minister': 49, 'would': 50, 'second': 51, 'President': 52, 'back': 53, 'could': 54, 'reported': 55, 'market': 56, 'yearold': 57, 'th': 58, 'president': 59, 'fire': 60, 'season': 61, 'day': 62, 'early': 63, 'charges': 64, 'Inc': 65, 'reports': 66, 'prices': 67, 'car': 68, 'team': 69, 'India': 70, 'oil': 71, 'plans': 72, 'guilty': 73, 'dies': 74, 'business': 75, 'officials': 76, 'City': 77, 'month': 78, 'billion': 79, 'report': 80, 'following': 81, 'school': 82, 'country': 83, 'star': 84, 'four': 85, 'South': 86, 'Obama': 87, 'death': 88, 'global': 89, 'United': 90, 'State': 91, 'yesterday': 92, 'released': 93, 'near': 94, 'world': 95, 'city': 96, 'say': 97, 'hit': 98, 'months': 99, 'help': 100, 'court': 101, 'public': 102, 'York': 103, 'open': 104, 'percent': 105, 'service': 106, 'make': 107, 'made': 108, 'end': 109, 'take': 110, 'hospital': 111, 'World': 112, 'accused': 113, 'per': 114, 'five': 115, 'launched': 116, 'coach': 117, 'National': 118, 'play': 119, 'services': 120, 'another': 121, 'announces': 122, 'game': 123, 'Bank': 124, 'expected': 125, 'official': 126, 'local': 127, 'economic': 128, 'show': 129, 'high': 130, 'American': 131, 'top': 132, 'launches': 133, 'part': 134, 'third': 135, 'work': 136, 'dead': 137, 'told': 138, 'record': 139, 'Cup': 140, 'crash': 141, 'deal': 142, 'win': 143, 'cut': 144, 'held': 145, 'financial': 146, 'stocks': 147, 'security': 148, 'national': 149, 'an': 150, 'shot': 151, 'return': 152, 'group': 153, 'days': 154, 'health': 155, 'federal': 156, 'jobs': 157, 'bank': 158, 'support': 159, 'international': 160, 'major': 161, 'due': 162, 'get': 163, 'left': 164, 'close': 165, 'North': 166, 'life': 167, 'China': 168, 'UK': 169, 'news': 170, 'since': 171, 'League': 172, 'injured': 173, 'trade': 174, 'March': 175, 'office': 176, 'gas': 177, 'May': 178, 'West': 179, 'launch': 180, 'leader': 181, 'Indian': 182, 'online': 183, 'power': 184, 'economy': 185, 'free': 186, 'officer': 187, 'in': 188, 'still': 189, 'called': 190, 'John': 191, 'release': 192, 'face': 193, 'including': 194, 'six': 195, 'weekend': 196, 'child': 197, 'sales': 198, 'afternoon': 199, 'visit': 200, 'quarter': 201, 'drug': 202, 'area': 203, 'University': 204, 'house': 205, 'Pakistan': 206, 'start': 207, 'shares': 208, 'chief': 209, 'students': 210, 'media': 211, 'head': 212, 'dollar': 213, 'attack': 214, 'fall': 215, 'military': 216, 'despite': 217, 'June': 218, 'campaign': 219, 'April': 220, 'tax': 221, 'fell': 222, 'signed': 223, 'wins': 224, 'sentenced': 225, 'across': 226, 'final': 227, 'markets': 228, 'family': 229, 'women': 230, 'like': 231, 'Group': 232, 'children': 233, 'talks': 234, 'House': 235, 'mobile': 236, 'go': 237, 'leading': 238, 'men': 239, 'Corp': 240, 'weeks': 241, 'system': 242, 'Court': 243, 'International': 244, 'European': 245, 'growth': 246, 'pay': 247, 'data': 248, 'revealed': 249, 'cancer': 250, 'around': 251, 'contract': 252, 'host': 253, 'plan': 254, 'actor': 255, 'allegedly': 256, 'largest': 257, 'Afghanistan': 258, 'case': 259, 'British': 260, 'meeting': 261, 'wants': 262, 'States': 263, 'Barack': 264, 'authorities': 265, 'move': 266, 'series': 267, 'increase': 268, 'best': 269, 'confirmed': 270, 'number': 271, 'prison': 272, 'run': 273, 'industry': 274, 'several': 275, 'south': 276, 'water': 277, 'Street': 278, 'late': 279, 'murder': 280, 'crisis': 281, 'money': 282, 'Department': 283, 'rate': 284, 'agreement': 285, 'stock': 286, 'worlds': 287, 'political': 288, 'way': 289, 'recent': 290, 'manager': 291, 'July': 292, 'film': 293, 'London': 294, 'St': 295, 'saying': 296, 'Rs': 297, 'minister': 298, 'firm': 299, 'closed': 300, 'lead': 301, 'continue': 302, 'recently': 303, 'share': 304, 'higher': 305, 'nearly': 306, 'india': 307, 'surgery': 308, 'annual': 309, 'party': 310, 'program': 311, 'latest': 312, 'price': 313, 'well': 314, 'private': 315, 'use': 316, 'TV': 317, 'provider': 318, 'opened': 319, 'workers': 320, 'budget': 321, 'away': 322, 'companies': 323, 'bill': 324, 'study': 325, 'many': 326, 'energy': 327, 'right': 328, 'offer': 329, 'shooting': 330, 'china': 331, 'pm': 332, 'making': 333, 'become': 334, 'law': 335, 'hold': 336, 'demand': 337, 'News': 338, 'capital': 339, 'taking': 340, 'actress': 341, 'rise': 342, 'food': 343, 'football': 344, 'cent': 345, 'production': 346, 'Day': 347, 'buy': 348, 'trial': 349, 'wife': 350, 'development': 351, 'air': 352, 'club': 353, 'named': 354, 'opens': 355, 'Park': 356, 'sex': 357, 'likely': 358, 'girl': 359, 'gold': 360, 'foreign': 361, 'age': 362, 'body': 363, 'fight': 364, 'rates': 365, 'Police': 366, 'action': 367, 'meet': 368, 'signs': 369, 'investment': 370, 'director': 371, 'assault': 372, 'sign': 373, 'going': 374, 'research': 375, 'debt': 376, 'lower': 377, 'Australia': 378, 'faces': 379, 'loss': 380, 'America': 381, 'January': 382, 'accident': 383, 'also': 384, 'election': 385, 'Washington': 386, 'San': 387, 'baby': 388, 'points': 389, 'good': 390, 'investors': 391, 'England': 392, 'ahead': 393, 'charge': 394, 'credit': 395, 'members': 396, 'north': 397, 'store': 398, 'profit': 399, 'facing': 400, 'Center': 401, 'David': 402, 'senior': 403, 'leaders': 404, 'issued': 405, 'filed': 406, 'special': 407, 'East': 408, 'management': 409, 'singer': 410, 'pleaded': 411, 'trading': 412, 'rose': 413, 'ago': 414, 'Korea': 415, 'hours': 416, 'place': 417, 'even': 418, 'results': 419, 'past': 420, 'amid': 421, 'strong': 422, 'tour': 423, 'pleads': 424, 'Australian': 425, 'September': 426, 'line': 427, 'calls': 428, 'Angeles': 429, 'interest': 430, 'least': 431, 'without': 432, 'agreed': 433, 'technology': 434, 'forces': 435, 'nuclear': 436, 'February': 437, 'music': 438, 'presidential': 439, 'community': 440, 'rights': 441, 'took': 442, 'future': 443, 'small': 444, 'player': 445, 'title': 446, 'banks': 447, 'young': 448, 'emergency': 449, 'taken': 450, 'products': 451, 'players': 452, 'video': 453, 'residents': 454, 'care': 455, 'reportedly': 456, 'fourth': 457, 'Prime': 458, 'leave': 459, 'coming': 460, 'role': 461, 'judge': 462, 'student': 463, 'plant': 464, 'general': 465, 'driver': 466, 'board': 467, 'School': 468, 'bus': 469, 'earlier': 470, 'Updated': 471, 'call': 472, 'big': 473, 'lost': 474, 'working': 475, 'network': 476, 'road': 477, 'makes': 478, 'Chinese': 479, 'beat': 480, 'countrys': 481, 'Africa': 482, 'sell': 483, 'Senate': 484, 'building': 485, 'traffic': 486, 'Delhi': 487, 'conference': 488, 'stop': 489, 'Canada': 490, 'race': 491, 'cash': 492, 'returns': 493, 'social': 494, 'claims': 495, 'district': 496, 'live': 497, 'forward': 498, 'site': 499, 'November': 500, 'injury': 501, 'long': 502, 'center': 503, 'seven': 504, 'looking': 505, 'test': 506, 'heart': 507, 'central': 508, 'cuts': 509, 'Michael': 510, 'summer': 511, 'boy': 512, 'continues': 513, 'order': 514, 'bid': 515, 'Council': 516, 'issues': 517, 'Congress': 518, 'White': 519, 'obama': 520, 'project': 521, 'need': 522, 'December': 523, 'raise': 524, 'opening': 525, 'website': 526, 'used': 527, 'job': 528, 'General': 529, 'suspended': 530, 'Los': 531, 'region': 532, 'change': 533, 'strike': 534, 'October': 535, 'match': 536, 'Texas': 537, 'medical': 538, 'much': 539, 'sector': 540, 'victory': 541, 'town': 542, 'killing': 543, 'fans': 544, 'come': 545, 'missing': 546, 'Chief': 547, 'Corporation': 548, 'offering': 549, 'Co': 550, 'issue': 551, 'California': 552, 'schools': 553, 'games': 554, 'August': 555, 'information': 556, 'driving': 557, 'operations': 558, 'High': 559, 'evening': 560, 'keep': 561, 'countries': 562, 'Florida': 563, 'must': 564, 'running': 565, 'war': 566, 'remain': 567, 'agency': 568, 'shows': 569, 'biggest': 570, 'received': 571, 'old': 572, 'planning': 573, 'Europe': 574, 'join': 575, 'round': 576, 'ended': 577, 'album': 578, 'side': 579, 'us': 580, 'after': 581, 'ready': 582, 'troops': 583, 'domestic': 584, 'put': 585, 'half': 586, 'Iran': 587, 'policy': 588, 'takes': 589, 'arrest': 590, 'soon': 591, 'vote': 592, 'remains': 593, 'control': 594, 'trying': 595, 'French': 596, 'give': 597, 'southern': 598, 'key': 599, 'getting': 600, 'train': 601, 'Airlines': 602, 'member': 603, 'sold': 604, 'states': 605, 'low': 606, 'sale': 607, 'software': 608, 'customers': 609, 'press': 610, 'construction': 611, 'better': 612, 'eight': 613, 'Open': 614, 'full': 615, 'led': 616, 'current': 617, 'officers': 618, 'among': 619, 'training': 620, 'giant': 621, 'Secretary': 622, 'vehicle': 623, 'Brown': 624, 'level': 625, 'Paul': 626, 'event': 627, 'search': 628, 'property': 629, 'investigating': 630, 'announce': 631, 'want': 632, 'outside': 633, 'session': 634, 'human': 635, 'Japan': 636, 'jail': 637, 'within': 638, 'sexual': 639, 'got': 640, 'along': 641, 'consumer': 642, 'pakistan': 643, 'Union': 644, 'real': 645, 'Lake': 646, 'stage': 647, 'statement': 648, 'Premier': 649, 'Energy': 650, 'see': 651, 'bankruptcy': 652, 'Central': 653, 'retail': 654, 'behind': 655, 'elections': 656, 'James': 657, 'executive': 658, 'admitted': 659, 'needs': 660, 'fund': 661, 'career': 662, 'couple': 663, 'station': 664, 'struck': 665, 'African': 666, 'border': 667, 'warned': 668, 'fuel': 669, 'debut': 670, 'No': 671, 'later': 672, 'thousands': 673, 'ban': 674, 'suicide': 675, 'College': 676, 'Singh': 677, 'sent': 678, 'Office': 679, 'falls': 680, 'District': 681, 'son': 682, 'gains': 683, 'using': 684, 'movie': 685, 'France': 686, 'claimed': 687, 'upcoming': 688, 'protest': 689, 'risk': 690, 'champion': 691, 'losses': 692, 'euro': 693, 'name': 694, 'selling': 695, 'Republican': 696, 'positive': 697, 'maker': 698, 'leaving': 699, 'violence': 700, 'Israel': 701, 'offers': 702, 'raised': 703, 'Russian': 704, 'officially': 705, 'practice': 706, 'decision': 707, 'Road': 708, 'based': 709, 'centre': 710, 'safety': 711, 'Association': 712, 'target': 713, 'almost': 714, 'recovery': 715, 'attacks': 716, 'flu': 717, 'mortgage': 718, 'spending': 719, 'provide': 720, 'growing': 721, 'candidate': 722, 'Zealand': 723, 'given': 724, 'changes': 725, 'hes': 726, 'Ltd': 727, 'Asian': 728, 'River': 729, 'pressure': 730, 'Iraq': 731, 'performance': 732, 'Bay': 733, 'staff': 734, 'list': 735, 'loan': 736, 'opposition': 737, 'british': 738, 'showed': 739, 'truck': 740, 'alleged': 741, 'mother': 742, 'history': 743, 'continued': 744, 'it': 745, 'acquire': 746, 'funds': 747, 'George': 748, 'declared': 749, 'Commission': 750, 'possible': 751, 'husband': 752, 'businesses': 753, 'anniversary': 754, 'ever': 755, 'employees': 756, 'build': 757, 'break': 758, 'fraud': 759, 'on': 760, 'Health': 761, 'plane': 762, 'battle': 763, 'approved': 764, 'prime': 765, 'confidence': 766, 'Ministry': 767, 'returned': 768, 'Hall': 769, 'phone': 770, 'Jackson': 771, 'UN': 772, 'Valley': 773, 'soldiers': 774, 'files': 775, 'insurance': 776, 'known': 777, 'sources': 778, 'force': 779, 'legal': 780, 'great': 781, 'costs': 782, 'seen': 783, 'robbery': 784, 'inflation': 785, 'northern': 786, 'asked': 787, 'owner': 788, 'rally': 789, 'Air': 790, 'governor': 791, 'whose': 792, 'Russia': 793, 'begin': 794, 'brand': 795, 'education': 796, 'less': 797, 'west': 798, 'boost': 799, 'soldier': 800, 'interview': 801, 'cost': 802, 'weather': 803, 'little': 804, 'captain': 805, 'Party': 806, 'starting': 807, 'never': 808, 'peace': 809, 'projects': 810, 'convicted': 811, 'iran': 812, 'acquired': 813, 'space': 814, 'serious': 815, 'hopes': 816, 'gets': 817, 'Service': 818, 'tonight': 819, 'Red': 820, 'Chris': 821, 'league': 822, 'increased': 823, 'chairman': 824, 'nations': 825, 'Chicago': 826, 'worth': 827, 'stay': 828, 'Foreign': 829, 'areas': 830, 'joint': 831, 'single': 832, 'step': 833, 'protection': 834, 'daughter': 835, 'father': 836, 'Williams': 837, 'falling': 838, 'fired': 839, 'storm': 840, 'solutions': 841, 'appointed': 842, 'Company': 843, 'travel': 844, 'Canadian': 845, 'look': 846, 'might': 847, 'Olympic': 848, 'Smith': 849, 'veteran': 850, 'drugs': 851, 'injuries': 852, 'Grand': 853, 'fiscal': 854, 'flights': 855, 'dropped': 856, 'teams': 857, 'housing': 858, 'heavy': 859, 'Israeli': 860, 'drop': 861, 'red': 862, 'completed': 863, 'jailed': 864, 'as': 865, 'supply': 866, 'Calif': 867, 'warning': 868, 'went': 869, 'large': 870, 'Carolina': 871, 'gay': 872, 'earnings': 873, 'met': 874, 'failed': 875, 'facility': 876, 'futures': 877, 'joined': 878, 'teacher': 879, 'straight': 880, 'winning': 881, 'bring': 882, 'expand': 883, 'turned': 884, 'hits': 885, 'homes': 886, 'love': 887, 'playing': 888, 'european': 889, 'efforts': 890, 'every': 891, 'dont': 892, 'nine': 893, 'Johnson': 894, 'passed': 895, 'popular': 896, 'suffered': 897, 'finally': 898, 'commercial': 899, 'scheduled': 900, 'Christmas': 901, 'Asia': 902, 'gun': 903, 'indian': 904, 'concerns': 905, 'Coast': 906, 'decided': 907, 'field': 908, 'Khan': 909, 'st': 910, 'Mexico': 911, 'television': 912, 'striker': 913, 'seeking': 914, 'bomb': 915, 'reached': 916, 'conditions': 917, 'apple': 918, 'connection': 919, 'raises': 920, 'begins': 921, 'basketball': 922, 'dog': 923, 'double': 924, 'paid': 925, 'cricket': 926, 'more': 927, 'survey': 928, 'birth': 929, 'Federal': 930, 'create': 931, 'term': 932, 'started': 933, 'NFL': 934, 'suspected': 935, 'levels': 936, 'find': 937, 'know': 938, 'google': 939, 'patients': 940, 'published': 941, 'total': 942, 'spokesman': 943, 'sports': 944, 'moving': 945, 'Government': 946, 'reduce': 947, 'regional': 948, 'yet': 949, 'recession': 950, 'problems': 951, 'times': 952, 'already': 953, 'forced': 954, 'armed': 955, 'caught': 956, 'natural': 957, 'CEO': 958, 'lawsuit': 959, 'guard': 960, 'banned': 961, 'girls': 962, 'Board': 963, 'book': 964, 'Mark': 965, 'goes': 966, 'hundreds': 967, 'German': 968, 'Hollywood': 969, 'unit': 970, 'suspect': 971, 'aid': 972, 'wont': 973, 'involved': 974, 'crashed': 975, 'funding': 976, 'earthquake': 977, 'giving': 978, 'caused': 979, 'ruled': 980, 'stores': 981, 'army': 982, 'Manchester': 983, 'Robert': 984, 'treatment': 985, 'russia': 986, 'parts': 987, 'unveiled': 988, 'stake': 989, 'stabbed': 990, 'mark': 991, 'Internet': 992, 'Island': 993, 'person': 994, 'attacked': 995, 'Times': 996, 'digital': 997, 'american': 998, 'Sri': 999, 'flight': 1000, 'leaves': 1001, 'process': 1002, 'union': 1003, 'we': 1004, 'exchange': 1005, 'common': 1006, 'THE': 1007, 'joins': 1008, 'posted': 1009, 'Bill': 1010, 'Gov': 1011, 'investigation': 1012, 'reach': 1013, 'nation': 1014, 'Facebook': 1015, 'together': 1016, 'miss': 1017, 'Jones': 1018, 'access': 1019, 'land': 1020, 'partnership': 1021, 'illegal': 1022, 'figures': 1023, 'Lanka': 1024, 'point': 1025, 'de': 1026, 'cars': 1027, 'added': 1028, 'condition': 1029, 'incident': 1030, 'improve': 1031, 'Sen': 1032, 'arrived': 1033, 'releases': 1034, 'hotel': 1035, 'dollars': 1036, 'celebrate': 1037, 'iPhone': 1038, 'robbed': 1039, 'available': 1040, 'divorce': 1041, 'perform': 1042, 'Wall': 1043, 'partner': 1044, 'post': 1045, 'ground': 1046, 'Germany': 1047, 'retirement': 1048, 'whether': 1049, 'marriage': 1050, 'Georgia': 1051, 'track': 1052, 'ordered': 1053, 'jury': 1054, 'damage': 1055, 'Capital': 1056, 'period': 1057, 'Dr': 1058, 'rest': 1059, 'expects': 1060, 'kill': 1061, 'cases': 1062, 'Palestinian': 1063, 'abuse': 1064, 'Bush': 1065, 'assets': 1066, 'proposed': 1067, 'researchers': 1068, 'Agency': 1069, 'save': 1070, 'producer': 1071, 'Beach': 1072, 'rape': 1073, 'unemployment': 1074, 'watch': 1075, 'operation': 1076, 'personal': 1077, 'range': 1078, 'suffering': 1079, 'front': 1080, 'calling': 1081, 'boss': 1082, 'concert': 1083, 'ceremony': 1084, 'Jan': 1085, 'criminal': 1086, 'platform': 1087, 'black': 1088, 'agent': 1089, 'net': 1090, 'coast': 1091, 'rules': 1092, 'county': 1093, 'urged': 1094, 'EU': 1095, 'rising': 1096, 'council': 1097, 'ship': 1098, 'light': 1099, 'banking': 1100, 'main': 1101, 'overnight': 1102, 'Syria': 1103, 'base': 1104, 'stand': 1105, 'receive': 1106, 'admits': 1107, 'quarterly': 1108, 'dividend': 1109, 'Japanese': 1110, 'celebrates': 1111, 'Army': 1112, 'Hospital': 1113, 'david': 1114, 'corporate': 1115, 'midfielder': 1116, 'with': 1117, 'militants': 1118, 'seek': 1119, 'Joe': 1120, 'short': 1121, 'minor': 1122, 'stolen': 1123, 'extended': 1124, 'crude': 1125, 'companys': 1126, 'female': 1127, 'potential': 1128, 'groups': 1129, 'broke': 1130, 'split': 1131, 'Martin': 1132, 'no': 1133, 'comes': 1134, 'felony': 1135, 'pregnant': 1136, 'came': 1137, 'Exchange': 1138, 'Mike': 1139, 'college': 1140, 'scientists': 1141, 'NBA': 1142, 'Google': 1143, 'bond': 1144, 'cooperation': 1145, 'holiday': 1146, 'helped': 1147, 'birthday': 1148, 'Boston': 1149, 'stealing': 1150, 'gives': 1151, 'corruption': 1152, 'others': 1153, 'threat': 1154, 'began': 1155, 'offered': 1156, 'newspaper': 1157, 'inside': 1158, 'users': 1159, 'Stadium': 1160, 'returning': 1161, 'wanted': 1162, 'operator': 1163, 'tomorrow': 1164, 'turn': 1165, 'One': 1166, 'S': 1167, 'Turkey': 1168, 'source': 1169, 'spring': 1170, 'played': 1171, 'Mumbai': 1172, 'charity': 1173, 'review': 1174, 'grand': 1175, 'airport': 1176, 'appear': 1177, 'drive': 1178, 'Ohio': 1179, 'radio': 1180, 'Michigan': 1181, 'massive': 1182, 'Clinton': 1183, 'card': 1184, 'barrel': 1185, 'street': 1186, 'fresh': 1187, 'Twitter': 1188, 'manufacturing': 1189, 'discuss': 1190, 'hospitalized': 1191, 'MP': 1192, 'deficit': 1193, 'moved': 1194, 'fifth': 1195, 'australian': 1196, 'vehicles': 1197, 'planned': 1198, 'Big': 1199, 'Tour': 1200, 'acquisition': 1201, 'baseball': 1202, 'Ali': 1203, 'previous': 1204, 'german': 1205, 'adding': 1206, 'holding': 1207, 'equity': 1208, 'Awards': 1209, 'weak': 1210, 'marketing': 1211, 'Club': 1212, 'Democratic': 1213, 'apartment': 1214, 'crime': 1215, 'tried': 1216, 'Parliament': 1217, 'civil': 1218, 'winter': 1219, 'towards': 1220, 'Houston': 1221, 'Airways': 1222, 'living': 1223, 'address': 1224, 'receives': 1225, 'teachers': 1226, 'buying': 1227, 'industrial': 1228, 'green': 1229, 'competition': 1230, 'victims': 1231, 'Gulf': 1232, 'disease': 1233, 'looks': 1234, 'highest': 1235, 'parents': 1236, 'rises': 1237, 'cause': 1238, 'losing': 1239, 'Games': 1240, 'model': 1241, 'john': 1242, 'think': 1243, 'voted': 1244, 'acquires': 1245, 'appeal': 1246, 'NATO': 1247, 'Security': 1248, 'revenue': 1249, 'award': 1250, 'orders': 1251, 'Korean': 1252, 'doctors': 1253, 'primary': 1254, 'claim': 1255, 'Middle': 1256, 'compared': 1257, 'ties': 1258, 'far': 1259, 'firefighters': 1260, 'Gaza': 1261, 'worker': 1262, 'Highway': 1263, 'Supreme': 1264, 'bail': 1265, 'administration': 1266, 'starts': 1267, 'leads': 1268, 'Championship': 1269, 'allow': 1270, 'effort': 1271, 'systems': 1272, 'operating': 1273, 'department': 1274, 'independent': 1275, 'finance': 1276, 'what': 1277, 'attempt': 1278, 'girlfriend': 1279, 'controversial': 1280, 'cutting': 1281, 'boat': 1282, 'parliament': 1283, 'committed': 1284, 'form': 1285, 'protect': 1286, 'Ryan': 1287, 'Afghan': 1288, 'fatal': 1289, 'investigate': 1290, 'Committee': 1291, 'bad': 1292, 'womens': 1293, 'hard': 1294, 'exports': 1295, 'relations': 1296, 'sells': 1297, 'fined': 1298, 'closing': 1299, 'room': 1300, 'Financial': 1301, 'gave': 1302, 'completes': 1303, 'strategic': 1304, 'Services': 1305, 'this': 1306, 'wedding': 1307, 'engaged': 1308, 'flat': 1309, 'magazine': 1310, 'measures': 1311, 'Vegas': 1312, 'Ireland': 1313, 'Britain': 1314, 'camp': 1315, 'terms': 1316, 'defense': 1317, 'heard': 1318, 'date': 1319, 'G': 1320, 'Press': 1321, 'talk': 1322, 'east': 1323, 'downtown': 1324, 'considering': 1325, 'Apple': 1326, 'custody': 1327, 'though': 1328, 'direct': 1329, 'Im': 1330, 'Minnesota': 1331, 'King': 1332, 'Las': 1333, 'introduced': 1334, 'scheme': 1335, 'friends': 1336, 'defender': 1337, 'product': 1338, 'deputy': 1339, 'band': 1340, 'Western': 1341, 'response': 1342, 'winner': 1343, 'western': 1344, 'Reserve': 1345, 'mayor': 1346, 'fashion': 1347, 'beating': 1348, 'pulled': 1349, 'situation': 1350, 'indicted': 1351, 'denied': 1352, 'worldwide': 1353, 'meets': 1354, 'Nations': 1355, 'protesters': 1356, 'voters': 1357, 'lot': 1358, 'tournament': 1359, 'microsoft': 1360, 'Italian': 1361, 'park': 1362, 'doesnt': 1363, 'Jersey': 1364, 'separate': 1365, 'enough': 1366, 'critical': 1367, 'knee': 1368, 'secretary': 1369, 'Super': 1370, 'Feb': 1371, 'eastern': 1372, 'celebrated': 1373, 'Romney': 1374, 'rival': 1375, 'benefits': 1376, 'slightly': 1377, 'estate': 1378, 'internet': 1379, 'defeat': 1380, 'rating': 1381, 'swine': 1382, 'worst': 1383, 'replace': 1384, 'position': 1385, 'Louis': 1386, 'Scott': 1387, 'forecast': 1388, 'elderly': 1389, 'holds': 1390, 'reporting': 1391, 'solar': 1392, 'Steve': 1393, 'teen': 1394, 'lose': 1395, 'its': 1396, 'resume': 1397, 'currently': 1398, 'Airport': 1399, 'X': 1400, 'gov': 1401, 'Centre': 1402, 'drivers': 1403, 'quality': 1404, 'course': 1405, 'arrives': 1406, 'moves': 1407, 'becoming': 1408, 'Tom': 1409, 'legend': 1410, 'airline': 1411, 'Kong': 1412, 'hand': 1413, 'michael': 1414, 'soccer': 1415, 'flood': 1416, 'runs': 1417, 'elected': 1418, 'involving': 1419, 'Pakistani': 1420, 'package': 1421, 'retire': 1422, 'saw': 1423, 'Institute': 1424, 'how': 1425, 'blood': 1426, 'Green': 1427, 'Americans': 1428, 'fighting': 1429, 'Taliban': 1430, 'draw': 1431, 'decline': 1432, 'Test': 1433, 'lawmakers': 1434, 'additional': 1435, 'different': 1436, 'effective': 1437, 'pop': 1438, 'Development': 1439, 'Iranian': 1440, 'Business': 1441, 'dispute': 1442, 'restaurant': 1443, 'Sydney': 1444, 'avoid': 1445, 'focus': 1446, 'beginning': 1447, 'Medical': 1448, 'Aug': 1449, 'programme': 1450, 'Justice': 1451, 'average': 1452, 'boyfriend': 1453, 'Hill': 1454, 'threatened': 1455, 'believes': 1456, 'Lee': 1457, 'Dec': 1458, 'income': 1459, 'province': 1460, 'rescued': 1461, 'defence': 1462, 'severe': 1463, 'hearing': 1464, 'mining': 1465, 'important': 1466, 'developer': 1467, 'present': 1468, 'turns': 1469, 'Al': 1470, 'aircraft': 1471, 'shut': 1472, 'Chairman': 1473, 'resigned': 1474, 'Town': 1475, 'Rep': 1476, 'rain': 1477, 'visits': 1478, 'ends': 1479, 'committee': 1480, 'climate': 1481, 'coal': 1482, 'equipment': 1483, 'Taylor': 1484, 'Black': 1485, 'quarterback': 1486, 'M': 1487, 'reform': 1488, 'Perry': 1489, 'headed': 1490, 'Madrid': 1491, 'successful': 1492, 'develop': 1493, 'challenge': 1494, 'Toronto': 1495, 'ministry': 1496, 'loans': 1497, 'draft': 1498, 'Nov': 1499, 'snow': 1500, 'youth': 1501, 'contest': 1502, 'theft': 1503, 'retailer': 1504, 'version': 1505, 'class': 1506, 'showing': 1507, 'Dubai': 1508, 'rebels': 1509, 'Diego': 1510, 'Spain': 1511, 'mixed': 1512, 'families': 1513, 'owners': 1514, 'spot': 1515, 'ending': 1516, 'multiple': 1517, 'brain': 1518, 'kills': 1519, 'shes': 1520, 'account': 1521, 'white': 1522, 'invest': 1523, 'can': 1524, 'poor': 1525, 'awarded': 1526, 'Francisco': 1527, 'sets': 1528, 'believe': 1529, 'broken': 1530, 'effect': 1531, 'huge': 1532, 'profits': 1533, 'seeks': 1534, 'row': 1535, 'events': 1536, 'Rock': 1537, 'became': 1538, 'Blue': 1539, 'farmers': 1540, 'Kardashian': 1541, 'resign': 1542, 'victim': 1543, 'records': 1544, 'Republic': 1545, 'Pacific': 1546, 'conduct': 1547, 'transfer': 1548, 'recovering': 1549, 'scored': 1550, 'solution': 1551, 'firms': 1552, 'Kansas': 1553, 'Champions': 1554, 'result': 1555, 'problem': 1556, 'Oct': 1557, 'lady': 1558, 'friend': 1559, 'capacity': 1560, 'entered': 1561, 'hour': 1562, 'chain': 1563, 'Governor': 1564, 'Peter': 1565, 'aimed': 1566, 'progress': 1567, 'consumers': 1568, 'fears': 1569, 'index': 1570, 'rock': 1571, 'Libya': 1572, 'steps': 1573, 'bringing': 1574, 'village': 1575, 'weapons': 1576, 'festival': 1577, 'distribution': 1578, 'block': 1579, 'cell': 1580, 'justice': 1581, 'seriously': 1582, 'strikes': 1583, 'russian': 1584, 'expecting': 1585, 'bills': 1586, 'Illinois': 1587, 'currency': 1588, 'attempted': 1589, 'university': 1590, 'stars': 1591, 'value': 1592, 'not': 1593, 'landing': 1594, 'protests': 1595, 'citizens': 1596, 'launching': 1597, 'quit': 1598, 'grow': 1599, 'chance': 1600, 'raising': 1601, 'Spanish': 1602, 'crashes': 1603, 'Sheriffs': 1604, 'parties': 1605, 'remained': 1606, 'benefit': 1607, 'lawyer': 1608, 'citing': 1609, 'various': 1610, 'Tony': 1611, 'headquarters': 1612, 'Turkish': 1613, 'wind': 1614, 'Force': 1615, 'Conference': 1616, 'Fort': 1617, 'enter': 1618, 'vice': 1619, 'Syrian': 1620, 'poll': 1621, 'battery': 1622, 'relationship': 1623, 'married': 1624, 'causing': 1625, 'division': 1626, 'tribute': 1627, 'daily': 1628, 'tennis': 1629, 'act': 1630, 'increases': 1631, 'church': 1632, 'signing': 1633, 'passes': 1634, 'Miami': 1635, 'content': 1636, 'rescue': 1637, 'Fox': 1638, 'feels': 1639, 'Technologies': 1640, 'squad': 1641, 'crore': 1642, 'reality': 1643, 'Virginia': 1644, 'Lohan': 1645, 'bonds': 1646, 'Paris': 1647, 'Series': 1648, 'Affairs': 1649, 'recall': 1650, 'via': 1651, 'millions': 1652, 'farm': 1653, 'governments': 1654, 'Woods': 1655, 'needed': 1656, 'Milan': 1657, 'Media': 1658, 'expansion': 1659, 'debate': 1660, 'rupee': 1661, 'at': 1662, 'sexually': 1663, 'Festival': 1664, 'ongoing': 1665, 'auto': 1666, 'chinese': 1667, 'cant': 1668, 'manufacturer': 1669, 'japan': 1670, 'strategy': 1671, 'doctor': 1672, 'Kevin': 1673, 'D': 1674, 'really': 1675, 'carrying': 1676, 'Kashmir': 1677, 'Southern': 1678, 'candidates': 1679, 'regular': 1680, 'prevent': 1681, 'Italy': 1682, 'Brazil': 1683, 'cleared': 1684, 'experts': 1685, 'Stewart': 1686, 'Motors': 1687, 'increasing': 1688, 'helping': 1689, 'Iowa': 1690, 'gone': 1691, 'shop': 1692, 'clear': 1693, 'activity': 1694, 'Arizona': 1695, 'impact': 1696, 'developing': 1697, 'terror': 1698, 'cents': 1699, 'Sports': 1700, 'disabled': 1701, 'investor': 1702, 'fan': 1703, 'struggling': 1704, 'always': 1705, 'london': 1706, 'crimes': 1707, 'deadly': 1708, 'defensive': 1709, 'significant': 1710, 'politics': 1711, 'professional': 1712, 'Sox': 1713, 'Colorado': 1714, 'cast': 1715, 'Systems': 1716, 'ambassador': 1717, 'file': 1718, 'breaks': 1719, 'minutes': 1720, 'boys': 1721, 'send': 1722, 'analysts': 1723, 'Bieber': 1724, 'die': 1725, 'Detroit': 1726, 'marijuana': 1727, 'Andrew': 1728, 'BBC': 1729, 'application': 1730, 'brought': 1731, 'warns': 1732, 'appoints': 1733, 'activists': 1734, 'Finance': 1735, 'B': 1736, 'trip': 1737, 'activities': 1738, 'venture': 1739, 'films': 1740, 'unveils': 1741, 'related': 1742, 'extend': 1743, 'mission': 1744, 'design': 1745, 'sharply': 1746, 'reelection': 1747, 'posts': 1748, 'Saudi': 1749, 'Jim': 1750, 'tree': 1751, 'didnt': 1752, 'placed': 1753, 'french': 1754, 'spend': 1755, 'Morgan': 1756, 'computer': 1757, 'Church': 1758, 'sanctions': 1759, 'canadian': 1760, 'advanced': 1761, 'joining': 1762, 'English': 1763, 'gain': 1764, 'closes': 1765, 'tests': 1766, 'israeli': 1767, 'employee': 1768, 'seat': 1769, 'offensive': 1770, 'bn': 1771, 'toward': 1772, 'steel': 1773, 'approves': 1774, 'Public': 1775, 'awards': 1776, 'allegations': 1777, 'loses': 1778, 'denies': 1779, 'spent': 1780, 'motorcycle': 1781, 'able': 1782, 'Charles': 1783, 'view': 1784, 'Academy': 1785, 'Fund': 1786, 'attend': 1787, 'developed': 1788, 'expectations': 1789, 'leg': 1790, 'foot': 1791, 'cities': 1792, 'selected': 1793, 'stimulus': 1794, 'Singapore': 1795, 'delivery': 1796, 'israel': 1797, 'lives': 1798, 'Alex': 1799, 'Guard': 1800, 'declares': 1801, 'terrorism': 1802, 'First': 1803, 'Show': 1804, 'discovered': 1805, 'promote': 1806, 'seized': 1807, 'rare': 1808, 'Atlanta': 1809, 'possession': 1810, 'Web': 1811, 'sentence': 1812, 'safe': 1813, 'fires': 1814, 'homicide': 1815, 'assaulting': 1816, 'disaster': 1817, 'failure': 1818, 'happy': 1819, 'polls': 1820, 'Northern': 1821, 'William': 1822, 'Holdings': 1823, 'Richard': 1824, 'cabinet': 1825, 'patent': 1826, 'apparently': 1827, 'visited': 1828, 'Gaga': 1829, 'purchase': 1830, 'carrier': 1831, 'concern': 1832, 'detained': 1833, 'comments': 1834, 'schedule': 1835, 'plants': 1836, 'add': 1837, 'II': 1838, 'Olympics': 1839, 'Management': 1840, 'historic': 1841, 'complete': 1842, 'vs': 1843, 'DC': 1844, 'customer': 1845, 'USA': 1846, 'recovered': 1847, 'tackle': 1848, 'for': 1849, 'hot': 1850, 'justin': 1851, 'providing': 1852, 'auction': 1853, 'IT': 1854, 'subsidiary': 1855, 'leadership': 1856, 'Fame': 1857, 'Research': 1858, 'Township': 1859, 'wide': 1860, 'hosting': 1861, 'ice': 1862, 'consecutive': 1863, 'ministers': 1864, 'identified': 1865, 'activist': 1866, 'Home': 1867, 'things': 1868, 'satellite': 1869, 'try': 1870, 'Royal': 1871, 'author': 1872, 'Stock': 1873, 'tough': 1874, 'settlement': 1875, 'fair': 1876, 'Avenue': 1877, 'Allen': 1878, 'pick': 1879, 'destroyed': 1880, 'designed': 1881, 'speech': 1882, 'pounds': 1883, 'receiver': 1884, 'burglary': 1885, 'passenger': 1886, 'allowed': 1887, 'grant': 1888, 'outlook': 1889, 'championship': 1890, 'relief': 1891, 'Power': 1892, 'stabbing': 1893, 'animal': 1894, 'offices': 1895, 'consider': 1896, 'he': 1897, 'violent': 1898, 'AP': 1899, 'applications': 1900, 'introduces': 1901, 'wake': 1902, 'Real': 1903, 'facebook': 1904, 'throughout': 1905, 'story': 1906, 'failing': 1907, 'complex': 1908, 'brother': 1909, 'sending': 1910, 'Prince': 1911, 'pilot': 1912, 'Orleans': 1913, 'Justin': 1914, 'mens': 1915, 'Bowl': 1916, 'beaten': 1917, 'thought': 1918, 'fast': 1919, 'appears': 1920, 'experience': 1921, 'song': 1922, 'FC': 1923, 'evidence': 1924, 'Tim': 1925, 'infrastructure': 1926, 'Act': 1927, 'Irish': 1928, 'BJP': 1929, 'pirates': 1930, 'asian': 1931, 'counts': 1932, 'heading': 1933, 'hands': 1934, 'overseas': 1935, 'Cole': 1936, 'helicopter': 1937, 'Wayne': 1938, 'ruling': 1939, 'decade': 1940, 'aged': 1941, 'Dallas': 1942, 'united': 1943, 'Beijing': 1944, 'success': 1945, 'australia': 1946, 'confirms': 1947, 'extension': 1948, 'feel': 1949, 'manchester': 1950, 'agree': 1951, 'channel': 1952, 'Ben': 1953, 'honored': 1954, 'dating': 1955, 'broadband': 1956, 'Football': 1957, 'Assembly': 1958, 'Post': 1959, 'overall': 1960, 'ensure': 1961, 'serve': 1962, 'Azerbaijan': 1963, 'kids': 1964, 'clubs': 1965, 'Missouri': 1966, 'fees': 1967, 'Arab': 1968, 'Hong': 1969, 'prosecutors': 1970, 'Eastern': 1971, 'box': 1972, 'changed': 1973, 'majority': 1974, 'all': 1975, 'zone': 1976, 'appearance': 1977, 'hope': 1978, 'web': 1979, 'voting': 1980, 'supplies': 1981, 'adds': 1982, 'alcohol': 1983, 'wrong': 1984, 'goal': 1985, 'shopping': 1986, 'founder': 1987, 'scandal': 1988, 'crew': 1989, 'continuing': 1990, 'Thomas': 1991, 'Chelsea': 1992, 'Kim': 1993, 'taxes': 1994, 'reveals': 1995, 'numbers': 1996, 'Daily': 1997, 'Egypt': 1998, 'passengers': 1999, 'sites': 2000, 'attorney': 2001, 'Rangers': 2002, 'Education': 2003, 'speak': 2004, 'refused': 2005, 'Sept': 2006, 'Mayor': 2007, 'granted': 2008, 'bridge': 2009, 'ratings': 2010, 'advertising': 2011, 'Brian': 2012, 'agencies': 2013, 'Moscow': 2014, 'Islamic': 2015, 'rule': 2016, 'beats': 2017, 'previously': 2018, 'Davis': 2019, 'Idol': 2020, 'serving': 2021, 'expanding': 2022, 'Jr': 2023, 'ring': 2024, 'Hills': 2025, 'Matt': 2026, 'expands': 2027, 'app': 2028, 'Year': 2029, 'Arabia': 2030, 'setting': 2031, 'facilities': 2032, 'units': 2033, 'comedy': 2034, 'clash': 2035, 'electronic': 2036, 'closer': 2037, 'created': 2038, 'decades': 2039, 'there': 2040, 'Network': 2041, 'teenager': 2042, 'Microsoft': 2043, 'claiming': 2044, 'electricity': 2045, 'metal': 2046, 'treated': 2047, 'Harry': 2048, 'environment': 2049, 'threats': 2050, 'cloud': 2051, 'deliver': 2052, 'announcement': 2053, 'Authority': 2054, 'NEW': 2055, 'done': 2056, 'Indiana': 2057, 'Gold': 2058, 'summit': 2059, 'environmental': 2060, 'sea': 2061, 'diagnosed': 2062, 'CBS': 2063, 'Mr': 2064, 'cover': 2065, 'successfully': 2066, 'immigration': 2067, 'washington': 2068, 'license': 2069, 'surprise': 2070, 'Star': 2071, 'undergo': 2072, 'Philadelphia': 2073, 'rejected': 2074, 'Jose': 2075, 'McCain': 2076, 'Motor': 2077, 'Communications': 2078, 'chris': 2079, 'laid': 2080, 'dangerous': 2081, 'pace': 2082, 'finds': 2083, 'amount': 2084, 'Pradesh': 2085, 'Malaysia': 2086, 'targets': 2087, 'Kennedy': 2088, 'jennifer': 2089, 'advisory': 2090, 'Prix': 2091, 'hosts': 2092, 'Anthony': 2093, 'threatening': 2094, 'N': 2095, 'works': 2096, 'Rick': 2097, 'shareholders': 2098, 'receiving': 2099, 'dealers': 2100, 'Falls': 2101, 'organization': 2102, 'middle': 2103, 'assistant': 2104, 'negative': 2105, 'Lady': 2106, 'terrorist': 2107, 'carbon': 2108, 'stronger': 2109, 'linked': 2110, 'All': 2111, 'update': 2112, 'cocaine': 2113, 'La': 2114, 'bar': 2115, 'Muslim': 2116, 'assaulted': 2117, 'friendly': 2118, 'communications': 2119, 'Santa': 2120, 'urges': 2121, 'rural': 2122, 'collision': 2123, 'appeared': 2124, 'Global': 2125, 'question': 2126, 'senator': 2127, 'export': 2128, 'lack': 2129, 'roads': 2130, 'Foundation': 2131, 'approval': 2132, 'Gordon': 2133, 'some': 2134, 'longer': 2135, 'Music': 2136, 'resigns': 2137, 'extends': 2138, 'agents': 2139, 'Hamilton': 2140, 'push': 2141, 'sri': 2142, 'campus': 2143, 'Gandhi': 2144, 'tourism': 2145, 'thanks': 2146, 'crews': 2147, 'iPad': 2148, 'Community': 2149, 'hired': 2150, 'speculation': 2151, 'Scotland': 2152, 'message': 2153, 'turkey': 2154, 'stated': 2155, 'prince': 2156, 'toll': 2157, 'Navy': 2158, 'parking': 2159, 'options': 2160, 'lowest': 2161, 'lending': 2162, 'programs': 2163, 'longtime': 2164, 'Jason': 2165, 'details': 2166, 'territory': 2167, 'powerful': 2168, 'chase': 2169, 'proposal': 2170, 'Wales': 2171, 'sees': 2172, 'Kelly': 2173, 'jet': 2174, 'Democrats': 2175, 'visiting': 2176, 'improved': 2177, 'panel': 2178, 'Factor': 2179, 'Taiwan': 2180, 'In': 2181, 'Bob': 2182, 'Executive': 2183, 'wounded': 2184, 'pitcher': 2185, 'Pattinson': 2186, 'begun': 2187, 'religious': 2188, 'email': 2189, 'devices': 2190, 'Life': 2191, 'island': 2192, 'shoulder': 2193, 'Great': 2194, 'photo': 2195, 'USD': 2196, 'robert': 2197, 'sen': 2198, 'rapper': 2199, 'tiger': 2200, 'Senator': 2201, 'let': 2202, 'Award': 2203, 'Punjab': 2204, 'fully': 2205, 'Resources': 2206, 'celebrity': 2207, 'status': 2208, 'device': 2209, 'Beckham': 2210, 'bought': 2211, 'artist': 2212, 'Greece': 2213, 'pass': 2214, 'studio': 2215, 'Fargo': 2216, 'homeless': 2217, 'embassy': 2218, 'toyota': 2219, 'southwest': 2220, 'immediate': 2221, 'finish': 2222, 'Sundays': 2223, 'expanded': 2224, 'streets': 2225, 'suspicion': 2226, 'Journal': 2227, 'sixth': 2228, 'traders': 2229, 'hoping': 2230, 'plays': 2231, 'texas': 2232, 'plea': 2233, 'removed': 2234, 'Liverpool': 2235, 'Greek': 2236, 'Stars': 2237, 'golf': 2238, 'letter': 2239, 'legislation': 2240, 'believed': 2241, 'becomes': 2242, 'C': 2243, 'formally': 2244, 'generation': 2245, 'collection': 2246, 'reaches': 2247, 'shoot': 2248, 'supporters': 2249, 'twice': 2250, 'bodies': 2251, 'rather': 2252, 'built': 2253, 'War': 2254, 'phones': 2255, 'initial': 2256, 'deals': 2257, 'engine': 2258, 'kept': 2259, 'trend': 2260, 'nationwide': 2261, 'Vice': 2262, 'regions': 2263, 'diplomatic': 2264, 'although': 2265, 'Android': 2266, 'electric': 2267, 'produce': 2268, 'Wisconsin': 2269, 'wireless': 2270, 'but': 2271, 'Ukraine': 2272, 'agrees': 2273, 'van': 2274, 'rep': 2275, 'Director': 2276, 'art': 2277, 'spread': 2278, 'premier': 2279, 'nomination': 2280, 'Philippines': 2281, 'existing': 2282, 'goods': 2283, 'located': 2284, 'testing': 2285, 'rehab': 2286, 'speed': 2287, 'Kentucky': 2288, 'exercise': 2289, 'hurt': 2290, 'Man': 2291, 'mine': 2292, 'buys': 2293, 'missed': 2294, 'note': 2295, 'contracts': 2296, 'hitting': 2297, 'Seattle': 2298, 'coalition': 2299, 'drops': 2300, 'Technology': 2301, 'provides': 2302, 'votes': 2303, 'entertainment': 2304, 'certain': 2305, 'laws': 2306, 'weekly': 2307, 'Cameron': 2308, 'technical': 2309, 'lines': 2310, 'Memorial': 2311, 'cancelled': 2312, 'instead': 2313, 'penalty': 2314, 'Indians': 2315, 'Queen': 2316, 'rivals': 2317, 'Wilson': 2318, 'Division': 2319, 'Indonesia': 2320, 'sued': 2321, 'Cleveland': 2322, 'residential': 2323, 'directors': 2324, 'breaking': 2325, 'funeral': 2326, 'lifted': 2327, 'Port': 2328, 'famous': 2329, 'Moore': 2330, 'PM': 2331, 'kicked': 2332, 'feature': 2333, 'W': 2334, 'journalists': 2335, 'Commerce': 2336, 'owned': 2337, 'Industries': 2338, 'heat': 2339, 'Andy': 2340, 'questions': 2341, 'Limited': 2342, 'drama': 2343, 'strength': 2344, 'asking': 2345, 'Defense': 2346, 'yen': 2347, 'Atlantic': 2348, 'supports': 2349, 'hire': 2350, 'suffers': 2351, 'lindsay': 2352, 'ill': 2353, 'fact': 2354, 'Tennessee': 2355, 'wall': 2356, 'citys': 2357, 'journalist': 2358, 'storage': 2359, 'stopped': 2360, 'Palin': 2361, 'putting': 2362, 'strengthen': 2363, 'arms': 2364, 'vowed': 2365, 'Reuters': 2366, 'E': 2367, 'fine': 2368, 'ways': 2369, 'keeping': 2370, 'secret': 2371, 'Cross': 2372, 'Best': 2373, 'fellow': 2374, 'dozens': 2375, 'ABC': 2376, 'bailout': 2377, 'stable': 2378, 'breast': 2379, 'duty': 2380, 'Game': 2381, 'recover': 2382, 'creating': 2383, 'im': 2384, 'judges': 2385, 'J': 2386, 'shown': 2387, 'nights': 2388, 'UAE': 2389, 'champions': 2390, 'pull': 2391, 'persons': 2392, 'hockey': 2393, 'causes': 2394, 'Campbell': 2395, 'feet': 2396, 'explosion': 2397, 'clean': 2398, 'combat': 2399, 'Entertainment': 2400, 'payment': 2401, 'Christian': 2402, 'portfolio': 2403, 'policies': 2404, 'reduced': 2405, 'challenges': 2406, 'apparent': 2407, 'miles': 2408, 'presence': 2409, 'Miller': 2410, 'ten': 2411, 'communities': 2412, 'healthcare': 2413, 'reporters': 2414, 'thats': 2415, 'preparing': 2416, 'comeback': 2417, 'Tamil': 2418, 'parliamentary': 2419, 'AM': 2420, 'Oklahoma': 2421, 'Melbourne': 2422, 'presented': 2423, 'factory': 2424, 'society': 2425, 'regarding': 2426, 'mass': 2427, 'delegation': 2428, 'medal': 2429, 'branch': 2430, 'Phoenix': 2431, 'Murray': 2432, 'rail': 2433, 'conducted': 2434, 'Spears': 2435, 'basis': 2436, 'bin': 2437, 'negotiations': 2438, 'advance': 2439, 'window': 2440, 'spotted': 2441, 'teenage': 2442, 'healthy': 2443, 'tourists': 2444, 'tells': 2445, 'fishing': 2446, 'stroke': 2447, 'resources': 2448, 'recalls': 2449, 'Mitt': 2450, 'traded': 2451, 'deaths': 2452, 'demands': 2453, 'Stanley': 2454, 'Barcelona': 2455, 'movies': 2456, 'welcomed': 2457, 'transport': 2458, 'approximately': 2459, 'Sea': 2460, 'output': 2461, 'hospitals': 2462, 'stations': 2463, 'Fire': 2464, 'george': 2465, 'weight': 2466, 'by': 2467, 'Cape': 2468, 'Giants': 2469, 'partners': 2470, 'paul': 2471, 'sides': 2472, 'considered': 2473, 'hollywood': 2474, 'newly': 2475, 'winds': 2476, 'limited': 2477, 'include': 2478, 'enters': 2479, 'recalled': 2480, 'businessman': 2481, 'hell': 2482, 'copper': 2483, 'alive': 2484, 'japanese': 2485, 'jumped': 2486, 'celebrating': 2487, 'probation': 2488, 'Partners': 2489, 'invited': 2490, 'Lewis': 2491, 'bear': 2492, 'sought': 2493, 'Sabha': 2494, 'true': 2495, 'assistance': 2496, 'Alabama': 2497, 'when': 2498, 'Brazilian': 2499, 'exclusive': 2500, 'dogs': 2501, 'writer': 2502, 'Cricket': 2503, 'france': 2504, 'prisoners': 2505, 'renewed': 2506, 'Windows': 2507, 'musical': 2508, 'Labor': 2509, 'nd': 2510, 'designer': 2511, 'terrorists': 2512, 'affected': 2513, 'Simpson': 2514, 'Kyrgyzstan': 2515, 'invasion': 2516, 'franchise': 2517, 'Deputy': 2518, 'busy': 2519, 'voice': 2520, 'eye': 2521, 'entire': 2522, 'tickets': 2523, 'outstanding': 2524, 'goals': 2525, 'Nifty': 2526, 'asks': 2527, 'financing': 2528, 'todays': 2529, 'paper': 2530, 'option': 2531, 'democracy': 2532, 'alert': 2533, 'GOP': 2534, 'monthly': 2535, 'check': 2536, 'Field': 2537, 'complaint': 2538, 'pension': 2539, 'expert': 2540, 'Massachusetts': 2541, 'buildings': 2542, 'preliminary': 2543, 'superstar': 2544, 'Bureau': 2545, 'Defence': 2546, 'engineering': 2547, 'hurricane': 2548, 'Economic': 2549, 'Frank': 2550, 'secure': 2551, 'Patrick': 2552, 'Kumar': 2553, 'especially': 2554, 'march': 2555, 'virus': 2556, 'BP': 2557, 'Society': 2558, 'Saturdays': 2559, 'welcomes': 2560, 'Jack': 2561, 'probe': 2562, 'liverpool': 2563, 'Writer': 2564, 'Square': 2565, 'El': 2566, 'dialogue': 2567, 'Attorney': 2568, 'confident': 2569, 'fatally': 2570, 'insists': 2571, 'seasons': 2572, 'documents': 2573, 'felt': 2574, 'deadline': 2575, 'networking': 2576, 'Catholic': 2577, 'NSW': 2578, 'mumbai': 2579, 'fear': 2580, 'cards': 2581, 'steady': 2582, 'legendary': 2583, 'Young': 2584, 'turning': 2585, 'restructuring': 2586, 'Stephen': 2587, 'identity': 2588, 'offender': 2589, 'screen': 2590, 'coverage': 2591, 'emerging': 2592, 'fishermen': 2593, 'welcome': 2594, 'scene': 2595, 'river': 2596, 'Americas': 2597, 'Indias': 2598, 'NY': 2599, 'repair': 2600, 'Chinas': 2601, 'ATT': 2602, 'highly': 2603, 'hall': 2604, 'lawyers': 2605, 'raid': 2606, 'drunk': 2607, 'declined': 2608, 'Simon': 2609, 'pool': 2610, 'filing': 2611, 'native': 2612, 'active': 2613, 'Swiss': 2614, 'conflict': 2615, 'republican': 2616, 'honor': 2617, 'Mobile': 2618, 'notes': 2619, 'san': 2620, 'resident': 2621, 'extra': 2622, 'regime': 2623, 'Sudan': 2624, 'smoke': 2625, 'northwest': 2626, 'pair': 2627, 'retired': 2628, 'Elizabeth': 2629, 'You': 2630, 'walk': 2631, 'cold': 2632, 'manslaughter': 2633, 'tropical': 2634, 'delayed': 2635, 'Foods': 2636, 'Broadway': 2637, 'assembly': 2638, 'postponed': 2639, 'bit': 2640, 'Ford': 2641, 'clients': 2642, 'male': 2643, 'illness': 2644, 'bilateral': 2645, 'waste': 2646, 'learned': 2647, 'Mexican': 2648, 'Gary': 2649, 'Sir': 2650, 'We': 2651, 'Express': 2652, 'Food': 2653, 'Denver': 2654, 'reopen': 2655, 'Oil': 2656, 'slow': 2657, 'Channel': 2658, 'Chapter': 2659, 'congress': 2660, 'worked': 2661, 'ad': 2662, 'ankle': 2663, 'Austin': 2664, 'Index': 2665, 'Bangladesh': 2666, 'lineup': 2667, 'positions': 2668, 'analyst': 2669, 'doors': 2670, 'Golden': 2671, 'dedicated': 2672, 'Classic': 2673, 'collapsed': 2674, 'england': 2675, 'Live': 2676, 'britain': 2677, 'Bridge': 2678, 'contact': 2679, 'labor': 2680, 'escaped': 2681, 'population': 2682, 'matches': 2683, 'canceled': 2684, 'Two': 2685, 'immediately': 2686, 'Law': 2687, 'science': 2688, 'rugby': 2689, 'sharp': 2690, 'Yemen': 2691, 'luxury': 2692, 'evacuated': 2693, 'killer': 2694, 'Securities': 2695, 'royal': 2696, 'childrens': 2697, 'movement': 2698, 'james': 2699, 'greater': 2700, 'Jolie': 2701, 'Springs': 2702, 'tonnes': 2703, 'benchmark': 2704, 'silver': 2705, 'offshore': 2706, 'Harris': 2707, 'enterprise': 2708, 'Sachs': 2709, 'scam': 2710, 'lift': 2711, 'carry': 2712, 'Insurance': 2713, 'touch': 2714, 'Dakota': 2715, 'standards': 2716, 'investments': 2717, 'false': 2718, 'targeting': 2719, 'opportunities': 2720, 'imports': 2721, 'betting': 2722, 'Dutch': 2723, 'Hillary': 2724, 'Arts': 2725, 'recorded': 2726, 'Pittsburgh': 2727, 'specialist': 2728, 'pedestrian': 2729, 'ease': 2730, 'announcing': 2731, 'kim': 2732, 'Jordan': 2733, 'defend': 2734, 'threatens': 2735, 'port': 2736, 'Lankan': 2737, 'expect': 2738, 'iron': 2739, 'reforms': 2740, 'pornography': 2741, 'learn': 2742, 'tight': 2743, 'P': 2744, 'rd': 2745, 'Cyrus': 2746, 'Forest': 2747, 'residence': 2748, 'troubled': 2749, 'matter': 2750, 'suspects': 2751, 'defends': 2752, 'request': 2753, 'hosted': 2754, 'arm': 2755, 'nominated': 2756, 'incidents': 2757, 'floor': 2758, 'Trade': 2759, 'something': 2760, 'participate': 2761, 'wild': 2762, 'waiting': 2763, 'democratic': 2764, 'freedom': 2765, 'Kate': 2766, 'Palestinians': 2767, 'rocket': 2768, 'Sheen': 2769, 'personnel': 2770, 'Information': 2771, 'dance': 2772, 'Networks': 2773, 'It': 2774, 'drinking': 2775, 'chemical': 2776, 'merger': 2777, 'patient': 2778, 'fake': 2779, 'missile': 2780, 'features': 2781, 'suspicious': 2782, 'delays': 2783, 'highway': 2784, 'suspends': 2785, 'kate': 2786, 'performing': 2787, 'nothing': 2788, 'Zardari': 2789, 'inmate': 2790, 'producers': 2791, 'supplier': 2792, 'deep': 2793, 'expressed': 2794, 'Ambassador': 2795, 'helps': 2796, 'stole': 2797, 'Galaxy': 2798, 'import': 2799, 'sends': 2800, 'Kings': 2801, 'Commissioner': 2802, 'waters': 2803, 'introduce': 2804, 'figure': 2805, 'responsible': 2806, 'tied': 2807, 'fee': 2808, 'Regional': 2809, 'pays': 2810, 'sentiment': 2811, 'Pennsylvania': 2812, 'ticket': 2813, 'noon': 2814, 'display': 2815, 'sworn': 2816, 'smartphone': 2817, 'exhibition': 2818, 'informed': 2819, 'will': 2820, 'gang': 2821, 'districts': 2822, 'Brad': 2823, 'Nick': 2824, 'civilians': 2825, 'Eric': 2826, 'pain': 2827, 'notice': 2828, 'Egyptian': 2829, 'sony': 2830, 'tested': 2831, 'Scottish': 2832, 'Mac': 2833, 'escape': 2834, 'onto': 2835, 'Milwaukee': 2836, 'eurozone': 2837, 'whats': 2838, 'managed': 2839, 'super': 2840, 'payments': 2841, 'fit': 2842, 'cancels': 2843, 'Tampa': 2844, 'Edwards': 2845, 'Patrol': 2846, 'Yankees': 2847, 'awareness': 2848, 'turkish': 2849, 'slowdown': 2850, 'feeling': 2851, 'cruise': 2852, 'kicks': 2853, 'Tigers': 2854, 'accept': 2855, 'Old': 2856, 'NHL': 2857, 'horse': 2858, 'estimates': 2859, 'performed': 2860, 'often': 2861, 'suggested': 2862, 'weaker': 2863, 'featuring': 2864, 'engagement': 2865, 'deputies': 2866, 'temporary': 2867, 'compete': 2868, 'ask': 2869, 'pitch': 2870, 'alliance': 2871, 'Officer': 2872, 'names': 2873, 'fallen': 2874, 'reserve': 2875, 'searching': 2876, 'Weather': 2877, 'Mountain': 2878, 'Administration': 2879, 'Winehouse': 2880, 'settle': 2881, 'SA': 2882, 'kidnapped': 2883, 'standard': 2884, 'promotion': 2885, 'approach': 2886, 'pipeline': 2887, 'initiative': 2888, 'NCAA': 2889, 'blast': 2890, 'targeted': 2891, 'Daniel': 2892, 'Iraqi': 2893, 'Anderson': 2894, 'includes': 2895, 'opener': 2896, 'Treasury': 2897, 'Utah': 2898, 'enforcement': 2899, 'Masters': 2900, 'suggests': 2901, 'supporting': 2902, 'acting': 2903, 'criticism': 2904, 'battling': 2905, 'Associated': 2906, 'finished': 2907, 'theres': 2908, 'conservative': 2909, 'Long': 2910, 'route': 2911, 'Ghana': 2912, 'Major': 2913, 'Pitt': 2914, 'seems': 2915, 'Cowell': 2916, 'Russell': 2917, 'Film': 2918, 'places': 2919, 'edition': 2920, 'shots': 2921, 'los': 2922, 'Cuba': 2923, 'picked': 2924, 'Lebanon': 2925, 'cargo': 2926, 'Formula': 2927, 'institutions': 2928, 'adopted': 2929, 'provided': 2930, 'thing': 2931, 'Sam': 2932, 'Charlie': 2933, 'Tech': 2934, 'unions': 2935, 'Cooper': 2936, 'resolution': 2937, 'commitment': 2938, 'assigned': 2939, 'memorial': 2940, 'carried': 2941, 'marks': 2942, 'Steel': 2943, 'fail': 2944, 'trust': 2945, 'violations': 2946, 'recalling': 2947, 'airlines': 2948, 'Nelson': 2949, 'Nigeria': 2950, 'bars': 2951, 'heads': 2952, 'perfect': 2953, 'hike': 2954, 'Samsung': 2955, 'Sun': 2956, 'cited': 2957, 'ride': 2958, 'everything': 2959, 'undisclosed': 2960, 'reopened': 2961, 'Jewish': 2962, 'most': 2963, 'ran': 2964, 'influence': 2965, 'paying': 2966, 'clashes': 2967, 'difficult': 2968, 'rushed': 2969, 'items': 2970, 'improving': 2971, 'Week': 2972, 'taxi': 2973, 'Vietnam': 2974, 'murdered': 2975, 'gunpoint': 2976, 'Howard': 2977, 'jets': 2978, 'twins': 2979, 'Sarah': 2980, 'Buy': 2981, 'LLC': 2982, 'jump': 2983, 'why': 2984, 'defended': 2985, 'accounts': 2986, 'smoking': 2987, 'Victoria': 2988, 'revenues': 2989, 'Oregon': 2990, 'Mississippi': 2991, 'AG': 2992, 'preseason': 2993, 'Edward': 2994, 'remaining': 2995, 'shortage': 2996, 'restore': 2997, 'taiwan': 2998, 'Q': 2999, 'born': 3000, 'cable': 3001, 'Ontario': 3002, 'drowned': 3003, 'defeated': 3004, 'traditional': 3005, 'registered': 3006, 'proud': 3007, 'Zimbabwe': 3008, 'counties': 3009, 'Dancing': 3010, 'mostly': 3011, 'normal': 3012, 'NBC': 3013, 'dream': 3014, 'saudi': 3015, 'employment': 3016, 'tons': 3017, 'delivered': 3018, 'rookie': 3019, 'wait': 3020, 'utility': 3021, 'suing': 3022, 'honoured': 3023, 'Metro': 3024, 'commander': 3025, 'remove': 3026, 'Henry': 3027, 'Labour': 3028, 'pound': 3029, 'violating': 3030, 'promised': 3031, 'Oakland': 3032, 'allowing': 3033, 'Vancouver': 3034, 'reasons': 3035, 'italian': 3036, 'tom': 3037, 'flooding': 3038, 'al': 3039, 'premiere': 3040, 'canada': 3041, 'plead': 3042, 'tell': 3043, 'marry': 3044, 'playoff': 3045, 'flying': 3046, 'telecom': 3047, 'delay': 3048, 'burning': 3049, 'Columbia': 3050, 'prepare': 3051, 'follow': 3052, 'warrant': 3053, 'aims': 3054, 'smart': 3055, 'Industry': 3056, 'Theatre': 3057, 'pilots': 3058, 'Statistics': 3059, 'now': 3060, 'Abu': 3061, 'Hockey': 3062, 'Hudson': 3063, 'fastest': 3064, 'Cabinet': 3065, 'Miss': 3066, 'railway': 3067, 'Special': 3068, 'Jennifer': 3069, 'suspension': 3070, 'investigators': 3071, 'speaks': 3072, 'integrated': 3073, 'style': 3074, 'Software': 3075, 'tornado': 3076, 'decide': 3077, 'Warren': 3078, 'mental': 3079, 'volunteers': 3080, 'checks': 3081, 'MAN': 3082, 'F': 3083, 'Hurricane': 3084, 'Oscar': 3085, 'LA': 3086, 'tourist': 3087, 'risks': 3088, 'Republicans': 3089, 'People': 3090, 'whole': 3091, 'neighborhood': 3092, 'blow': 3093, 'Manmohan': 3094, 'Leader': 3095, 'Adam': 3096, 'faced': 3097, 'securities': 3098, 'Station': 3099, 'forum': 3100, 'damaged': 3101, 'representative': 3102, 'halt': 3103, 'Creek': 3104, 'ford': 3105, 'Orange': 3106, 'Buffalo': 3107, 'maintain': 3108, 'prominent': 3109, 'broadcast': 3110, 'tender': 3111, 'happened': 3112, 'Queensland': 3113, 'upgraded': 3114, 'Former': 3115, 'arson': 3116, 'trafficking': 3117, 'while': 3118, 'temporarily': 3119, 'alternative': 3120, 'compensation': 3121, 'veterans': 3122, 'vows': 3123, 'brings': 3124, 'Radio': 3125, 'Chavez': 3126, 'Market': 3127, 'blamed': 3128, 'opportunity': 3129, 'lay': 3130, 'longterm': 3131, 'Bulgaria': 3132, 'resistance': 3133, 'Anna': 3134, 'Haiti': 3135, 'withdraws': 3136, 'syrian': 3137, 'retailers': 3138, 'singapore': 3139, 'page': 3140, 'secured': 3141, 'streak': 3142, 'commission': 3143, 'establish': 3144, 'gained': 3145, 'retiring': 3146, 'UFC': 3147, 'hedge': 3148, 'Connecticut': 3149, 'sister': 3150, 'however': 3151, 'AC': 3152, 'Little': 3153, 'forthcoming': 3154, 'scores': 3155, 'lake': 3156, 'beyond': 3157, 'actually': 3158, 'restored': 3159, 'grew': 3160, 'produced': 3161, 'IBM': 3162, 'athletes': 3163, 'celebration': 3164, 'senate': 3165, 'Night': 3166, 'murdering': 3167, 'petrol': 3168, 'word': 3169, 'location': 3170, 'fighter': 3171, 'estimated': 3172, 'visa': 3173, 'registration': 3174, 'Portland': 3175, 'Libyan': 3176, 'meetings': 3177, 'euros': 3178, 'isnt': 3179, 'YORK': 3180, 'modern': 3181, 'material': 3182, 'threw': 3183, 'Alliance': 3184, 'With': 3185, 'regulators': 3186, 'hiring': 3187, 'crossing': 3188, 'Dhabi': 3189, 'organizations': 3190, 'swimming': 3191, 'Madison': 3192, 'Strip': 3193, 'written': 3194, 'Human': 3195, 'described': 3196, 'arrests': 3197, 'arrive': 3198, 'intelligence': 3199, 'R': 3200, 'boxing': 3201, 'roster': 3202, 'anything': 3203, 'Lopez': 3204, 'listed': 3205, 'comedian': 3206, 'Shanghai': 3207, 'Ray': 3208, 'captured': 3209, 'means': 3210, 'processing': 3211, 'politicians': 3212, 'similar': 3213, 'fitness': 3214, 'if': 3215, 'kidnapping': 3216, 'K': 3217, 'Price': 3218, 'maintenance': 3219, 'language': 3220, 'occurred': 3221, 'landed': 3222, 'bollywood': 3223, 'probably': 3224, 'undergoing': 3225, 'Marine': 3226, 'considers': 3227, 'egypt': 3228, 'handed': 3229, 'Tiger': 3230, 'emerged': 3231, 'dinner': 3232, 'Stone': 3233, 'Bollywood': 3234, 'Czech': 3235, 'Way': 3236, 'Ocean': 3237, 'parent': 3238, 'Trust': 3239, 'edge': 3240, 'thinks': 3241, 'unexpectedly': 3242, 'Michelle': 3243, 'firefighter': 3244, 'image': 3245, 'older': 3246, 'comprehensive': 3247, 'trees': 3248, 'electronics': 3249, 'germany': 3250, 'spill': 3251, 'Venezuela': 3252, 'my': 3253, 'agreements': 3254, 'Jeff': 3255, 'flag': 3256, 'talent': 3257, 'Qatar': 3258, 'dismissed': 3259, 'employers': 3260, 'linebacker': 3261, 'culture': 3262, 'downturn': 3263, 'worries': 3264, 'Argentina': 3265, 'casino': 3266, 'learning': 3267, 'shoots': 3268, 'Family': 3269, 'episode': 3270, 'Peoples': 3271, 'Lions': 3272, 'rains': 3273, 'phase': 3274, 'improvement': 3275, 'Europes': 3276, 'Biden': 3277, 'labour': 3278, 'hires': 3279, 'Jon': 3280, 'Asif': 3281, 'Mary': 3282, 'focused': 3283, 'Craig': 3284, 'animals': 3285, 'outfielder': 3286, 'Drive': 3287, 'demanded': 3288, 'resort': 3289, 'cultural': 3290, 'Myanmar': 3291, 'Bengal': 3292, 'ranked': 3293, 'Orlando': 3294, 'Tokyo': 3295, 'trillion': 3296, 'hear': 3297, 'fish': 3298, 'Kapoor': 3299, 'wave': 3300, 'Steven': 3301, 'Louisiana': 3302, 'Rights': 3303, 'Carter': 3304, 'rich': 3305, 'shortly': 3306, 'just': 3307, 'cells': 3308, 'reveal': 3309, 'diesel': 3310, 'backed': 3311, 'wearing': 3312, 'interim': 3313, 'reaching': 3314, 'Point': 3315, 'metro': 3316, 'attacking': 3317, 'illegally': 3318, 'pope': 3319, 'withdraw': 3320, 'core': 3321, 'Wireless': 3322, 'Love': 3323, 'unveil': 3324, 'Rugby': 3325, 'lenders': 3326, 'unchanged': 3327, 'undergoes': 3328, 'drilling': 3329, 'Palm': 3330, 'Rio': 3331, 'Birmingham': 3332, 'Jessica': 3333, 'NASA': 3334, 'upon': 3335, 'beach': 3336, 'stepping': 3337, 'century': 3338, 'This': 3339, 'buyers': 3340, 'Franklin': 3341, 'door': 3342, 'crowd': 3343, 'networks': 3344, 'kick': 3345, 'standoff': 3346, 'Lama': 3347, 'Andre': 3348, 'sugar': 3349, 'tie': 3350, 'attention': 3351, 'struggle': 3352, 'drink': 3353, 'provincial': 3354, 'Terry': 3355, 'passing': 3356, 'diabetes': 3357, 'drunken': 3358, 'enhance': 3359, 'ball': 3360, 'Brand': 3361, 'Antonio': 3362, 'Brothers': 3363, 'chelsea': 3364, 'Lawrence': 3365, 'Somali': 3366, 'nominee': 3367, 'interested': 3368, 'storms': 3369, 'association': 3370, 'exit': 3371, 'exploration': 3372, 'books': 3373, 'arsenal': 3374, 'forest': 3375, 'Pro': 3376, 'resolve': 3377, 'centers': 3378, 'quickly': 3379, 'Interior': 3380, 'brands': 3381, 'pole': 3382, 'pushed': 3383, 'Jerry': 3384, 'sure': 3385, 'classes': 3386, 'camera': 3387, 'softball': 3388, 'raping': 3389, 'Eagles': 3390, 'takeover': 3391, 'Thailand': 3392, 'responsibility': 3393, 'competitive': 3394, 'alone': 3395, 'shuttle': 3396, 'Armenia': 3397, 'accepted': 3398, 'An': 3399, 'adults': 3400, 'reporter': 3401, 'knife': 3402, 'associated': 3403, 'Jimmy': 3404, 'downgraded': 3405, 'heavyweight': 3406, 'Time': 3407, 'CNN': 3408, 'properties': 3409, 'Baltimore': 3410, 'malaysia': 3411, 'Hotel': 3412, 'talking': 3413, 'clinic': 3414, 'respect': 3415, 'Benedict': 3416, 'degree': 3417, 'tensions': 3418, 'endorses': 3419, 'marking': 3420, 'independence': 3421, 'resignation': 3422, 'grants': 3423, 'balance': 3424, 'mail': 3425, 'increasingly': 3426, 'affect': 3427, 'advantage': 3428, 'racing': 3429, 'physical': 3430, 'Jobs': 3431, 'sparked': 3432, 'Arena': 3433, 'walking': 3434, 'Columbus': 3435, 'fewer': 3436, 'hero': 3437, 'accidentally': 3438, 'technologies': 3439, 'wreck': 3440, 'fails': 3441, 'strongly': 3442, 'Carlos': 3443, 'plastic': 3444, 'charter': 3445, 'saved': 3446, 'raped': 3447, 'determined': 3448, 'prize': 3449, 'firing': 3450, 'Jets': 3451, 'seventh': 3452, 'measure': 3453, 'suit': 3454, 'charlie': 3455, 'sport': 3456, 'quits': 3457, 'coordinator': 3458, 'misdemeanor': 3459, 'ryan': 3460, 'drone': 3461, 'affairs': 3462, 'poised': 3463, 'pakistani': 3464, 'entering': 3465, 'roll': 3466, 'samsung': 3467, 'moment': 3468, 'table': 3469, 'greece': 3470, 'intends': 3471, 'king': 3472, 'coaching': 3473, 'condemned': 3474, 'tool': 3475, 'billionaire': 3476, 'label': 3477, 'conspiracy': 3478, 'easy': 3479, 'encounter': 3480, 'Ron': 3481, 'Museum': 3482, 'Federation': 3483, 'dealer': 3484, 'Democrat': 3485, 'puts': 3486, 'stress': 3487, 'publisher': 3488, 'Newcastle': 3489, 'classic': 3490, 'bans': 3491, 'keen': 3492, 'jessica': 3493, 'original': 3494, 'junior': 3495, 'pushing': 3496, 'forecasts': 3497, 'collapse': 3498, 'score': 3499, 'during': 3500, 'twoyear': 3501, 'insisted': 3502, 'coffee': 3503, 'served': 3504, 'Van': 3505, 'goalkeeper': 3506, 'Roberts': 3507, 'wells': 3508, 'powers': 3509, 'prepared': 3510, 'Aniston': 3511, 'Earth': 3512, 'greek': 3513, 'seize': 3514, 'hair': 3515, 'FBI': 3516, 'dates': 3517, 'upset': 3518, 'materials': 3519, 'Baseball': 3520, 'On': 3521, 'mountain': 3522, 'Yahoo': 3523, 'infection': 3524, 'Caribbean': 3525, 'abroad': 3526, 'NASCAR': 3527, 'My': 3528, 'fixed': 3529, 'sustained': 3530, 'savings': 3531, 'rejects': 3532, 'bike': 3533, 'Social': 3534, 'authority': 3535, 'fleet': 3536, 'III': 3537, 'executives': 3538, 'Malik': 3539, 'sectors': 3540, 'required': 3541, 'inquiry': 3542, 'Josh': 3543, 'dramatic': 3544, 'Space': 3545, 'YouTube': 3546, 'extending': 3547, 'Nashville': 3548, 'ranks': 3549, 'Swift': 3550, 'Celebrity': 3551, 'roof': 3552, 'Latin': 3553, 'Alaska': 3554, 'wear': 3555, 'innovative': 3556, 'backs': 3557, 'Maryland': 3558, 'defending': 3559, 'appeals': 3560, 'kelly': 3561, 'Watson': 3562, 'injuring': 3563, 'formed': 3564, 'interests': 3565, 'highs': 3566, 'knocked': 3567, 'mans': 3568, 'leak': 3569, 'collaboration': 3570, 'recording': 3571, 'releasing': 3572, 'cap': 3573, 'toddler': 3574, 'Country': 3575, 'unique': 3576, 'presents': 3577, 'reason': 3578, 'pulls': 3579, 'minimum': 3580, 'sheriffs': 3581, 'Reid': 3582, 'giants': 3583, 'Kristen': 3584, 'limits': 3585, 'writes': 3586, 'included': 3587, 'blue': 3588, 'size': 3589, 'Villa': 3590, 'Sweden': 3591, 'PC': 3592, 'kind': 3593, 'closure': 3594, 'Ferguson': 3595, 'endorsed': 3596, 'icon': 3597, 'nokia': 3598, 'anyone': 3599, 'metals': 3600, 'potentially': 3601, 'permanent': 3602, 'you': 3603, 'trailer': 3604, 'HP': 3605, 'pak': 3606, 'demanding': 3607, 'Kazakhstan': 3608, 'publicly': 3609, 'familiar': 3610, 'Arsenal': 3611, 'weapon': 3612, 'tanker': 3613, 'queen': 3614, 'Rose': 3615, 'Brother': 3616, 'Bachchan': 3617, 'upgrade': 3618, 'agriculture': 3619, 'Electric': 3620, 'Ukrainian': 3621, 'MPs': 3622, 'pleased': 3623, 'established': 3624, 'remarks': 3625, 'judicial': 3626, 'Collins': 3627, 'pledged': 3628, 'gift': 3629, 'Charlotte': 3630, 'dropping': 3631, 'taylor': 3632, 'Speaker': 3633, 'FA': 3634, 'freed': 3635, 'till': 3636, 'analysis': 3637, 'Phil': 3638, 'operators': 3639, 'direction': 3640, 'Arkansas': 3641, 'everyone': 3642, 'choice': 3643, 'asset': 3644, 'idea': 3645, 'Sensex': 3646, 'Fair': 3647, 'Dublin': 3648, 'accuses': 3649, 'appointment': 3650, 'adult': 3651, 'managers': 3652, 'attempting': 3653, 'bigger': 3654, 'Lok': 3655, 'edged': 3656, 'tries': 3657, 'Netherlands': 3658, 'Armstrong': 3659, 'Twenty': 3660, 'courts': 3661, 'Penn': 3662, 'witnesses': 3663, 'currencies': 3664, 'Disney': 3665, 'underwent': 3666, 'Telecom': 3667, 'restrictions': 3668, 'waivers': 3669, 'motorists': 3670, 'amy': 3671, 'crackdown': 3672, 'motorcyclist': 3673, 'sues': 3674, 'rebound': 3675, 'settled': 3676, 'quite': 3677, 'qualifying': 3678, 'momentum': 3679, 'monitoring': 3680, 'withdrawn': 3681, 'discovery': 3682, 'crashing': 3683, 'salary': 3684, 'stability': 3685, 'Malaysian': 3686, 'prescription': 3687, 'Britains': 3688, 'Investment': 3689, 'surge': 3690, 'tracking': 3691, 'seats': 3692, 'asylum': 3693, 'possibility': 3694, 'northeast': 3695, 'register': 3696, 'Nevada': 3697, 'Shah': 3698, 'Switzerland': 3699, 'innings': 3700, 'significantly': 3701, 'lender': 3702, 'workforce': 3703, 'internal': 3704, 'alongside': 3705, 'visitors': 3706, 'declines': 3707, 'affair': 3708, 'promises': 3709, 'teens': 3710, 'lakh': 3711, 'drought': 3712, 'oneyear': 3713, 'stadium': 3714, 'Serbia': 3715, 'Dan': 3716, 'wage': 3717, 'gap': 3718, 'crack': 3719, 'retires': 3720, 'imposed': 3721, 'urging': 3722, 'Holmes': 3723, 'adopt': 3724, 'commodity': 3725, 'Head': 3726, 'changing': 3727, 'Top': 3728, 'milestone': 3729, 'controversy': 3730, 'houses': 3731, 'AFP': 3732, 'worse': 3733, 'streaming': 3734, 'Hawaii': 3735, 'Parker': 3736, 'promoting': 3737, 'Senior': 3738, 'steve': 3739, 'sarah': 3740, 'rallied': 3741, 'stands': 3742, 'selection': 3743, 'tribal': 3744, 'prove': 3745, 'Kingdom': 3746, 'directed': 3747, 'Clark': 3748, 'guidance': 3749, 'proposals': 3750, 'Science': 3751, 'winger': 3752, 'Australias': 3753, 'memory': 3754, 'prior': 3755, 'commissioner': 3756, 'walked': 3757, 'mind': 3758, 'Manager': 3759, 'dealing': 3760, 'reduction': 3761, 'link': 3762, 'fun': 3763, 'skin': 3764, 'Tata': 3765, 'starring': 3766, 'Obamas': 3767, 'Team': 3768, 'burned': 3769, 'lands': 3770, 'addition': 3771, 'humanitarian': 3772, 'forcing': 3773, 'pub': 3774, 'Mandela': 3775, 'tablet': 3776, 'Prize': 3777, 'Jammu': 3778, 'earned': 3779, 'cross': 3780, 'brothers': 3781, 'priority': 3782, 'Swedish': 3783, 'SP': 3784, 'finding': 3785, 'Hampshire': 3786, 'advice': 3787, 'congressional': 3788, 'refuses': 3789, 'hunting': 3790, 'unlikely': 3791, 'semifinal': 3792, 'virtual': 3793, 'beer': 3794, 'He': 3795, 'someone': 3796, 'Sean': 3797, 'shipping': 3798, 'Mar': 3799, 'peter': 3800, 'photos': 3801, 'Agriculture': 3802, 'elementary': 3803, 'article': 3804, 'she': 3805, 'rice': 3806, 'accepting': 3807, 'Mukherjee': 3808, 'knowledge': 3809, 'Hilton': 3810, 'effects': 3811, 'structure': 3812, 'Warner': 3813, 'trucks': 3814, 'rollover': 3815, 'joe': 3816, 'faster': 3817, 'Amy': 3818, 'proposes': 3819, 'simon': 3820, 'promoted': 3821, 'FIFA': 3822, 'complaints': 3823, 'prostitution': 3824, 'depression': 3825, 'NC': 3826, 'winners': 3827, 'kidney': 3828, 'ESPN': 3829, 'routes': 3830, 'dr': 3831, 'praised': 3832, 'principal': 3833, 'dry': 3834, 'mutual': 3835, 'Cruise': 3836, 'providers': 3837, 'attempts': 3838, 'prostate': 3839, 'emissions': 3840, 'resumed': 3841, 'stepped': 3842, 'Fla': 3843, 'Adams': 3844, 'florida': 3845, 'Cairo': 3846, 'beauty': 3847, 'throwing': 3848, 'prepares': 3849, 'actions': 3850, 'Forum': 3851, 'Walker': 3852, 'Lakers': 3853, 'over': 3854, 'tea': 3855, 'Commonwealth': 3856, 'renewable': 3857, 'theyre': 3858, 'regulatory': 3859, 'hub': 3860, 'Area': 3861, 'Capitol': 3862, 'models': 3863, 'God': 3864, 'trapped': 3865, 'Montreal': 3866, 'chiefs': 3867, 'creative': 3868, 'reading': 3869, 'shed': 3870, 'rolled': 3871, 'pickup': 3872, 'conviction': 3873, 'Dodgers': 3874, 'sponsor': 3875, 'Joseph': 3876, 'uses': 3877, 'limit': 3878, 'tools': 3879, 'involvement': 3880, 'minority': 3881, 'towns': 3882, 'wrote': 3883, 'Alan': 3884, 'Grove': 3885, 'Elementary': 3886, 'Bulgarian': 3887, 'practices': 3888, 'NHS': 3889, 'spokeswoman': 3890, 'Azerbaijani': 3891, 'path': 3892, 'cameras': 3893, 'blog': 3894, 'boosted': 3895, 'Auto': 3896, 'thrown': 3897, 'Hugo': 3898, 'Hamas': 3899, 'garden': 3900, 'managing': 3901, 'Indianapolis': 3902, 'assignment': 3903, 'jobless': 3904, 'Barbara': 3905, 'sons': 3906, 'Jerusalem': 3907, 'Trophy': 3908, 'skills': 3909, 'Hughes': 3910, 'DUI': 3911, 'exposure': 3912, 'sir': 3913, 'cyclist': 3914, 'manage': 3915, 'picture': 3916, 'gunmen': 3917, 'kevin': 3918, 'southeast': 3919, 'clothing': 3920, 'Pat': 3921, 'Roger': 3922, 'messages': 3923, 'character': 3924, 'Womens': 3925, 'Years': 3926, 'telling': 3927, 'ability': 3928, 'attending': 3929, 'text': 3930, 'Alexander': 3931, 'McCartney': 3932, 'write': 3933, 'Raza': 3934, 'For': 3935, 'tata': 3936, 'yahoo': 3937, 'newest': 3938, 'gaming': 3939, 'vaccine': 3940, 'approve': 3941, 'read': 3942, 'stranded': 3943, 'commits': 3944, 'solo': 3945, 'PTI': 3946, 'AN': 3947, 'pharmaceutical': 3948, 'bag': 3949, 'Graham': 3950, 'wholesale': 3951, 'advised': 3952, 'donated': 3953, 'temperatures': 3954, 'speaking': 3955, 'Indies': 3956, 'catches': 3957, 'professor': 3958, 'discharged': 3959, 'photographer': 3960, 'beef': 3961, 'loves': 3962, 'reducing': 3963, 'communication': 3964, 'Jay': 3965, 'Roy': 3966, 'trouble': 3967, 'prospects': 3968, 'Munich': 3969, 'tank': 3970, 'shareholder': 3971, 'Mount': 3972, 'locations': 3973, 'Village': 3974, 'implement': 3975, 'followed': 3976, 'entry': 3977, 'blame': 3978, 'cat': 3979, 'midnight': 3980, 'pit': 3981, 'neck': 3982, 'era': 3983, 'tony': 3984, 'foreclosure': 3985, 'blasts': 3986, 'guns': 3987, 'Good': 3988, 'Abdullah': 3989, 'revised': 3990, 'Corps': 3991, 'supported': 3992, 'count': 3993, 'critically': 3994, 'baseman': 3995, 'Tyler': 3996, 'individual': 3997, 'feared': 3998, 'barack': 3999, 'websites': 4000, 'petition': 4001, 'slipped': 4002, 'Baghdad': 4003, 'ore': 4004, 'immigrants': 4005, 'envoy': 4006, 'throws': 4007, 'Maria': 4008, 'Mahmoud': 4009, 'concluded': 4010, 'marked': 4011, 'Records': 4012, 'shift': 4013, 'sue': 4014, 'ownership': 4015, 'transportation': 4016, 'Racing': 4017, 'argument': 4018, 'MTV': 4019, 'favourite': 4020, 'Sep': 4021, 'staterun': 4022, 'prospect': 4023, 'twin': 4024, 'keeps': 4025, 'Kerala': 4026, 'chicago': 4027, 'Fisher': 4028, 'Cowboys': 4029, 'remote': 4030, 'Storm': 4031, 'BMW': 4032, 'boston': 4033, 'chosen': 4034, 'performs': 4035, 'milk': 4036, 'discrimination': 4037, 'Interstate': 4038, 'Rihanna': 4039, 'channels': 4040, 'plunged': 4041, 'To': 4042, 'Euro': 4043, 'developers': 4044, 'legislative': 4045, 'refugees': 4046, 'requirements': 4047, 'library': 4048, 'picks': 4049, 'expenses': 4050, 'Region': 4051, 'pending': 4052, 'guards': 4053, 'Care': 4054, 'Philippine': 4055, 'treat': 4056, 'rush': 4057, 'watching': 4058, 'representatives': 4059, 'either': 4060, 'papers': 4061, 'Spring': 4062, 'adviser': 4063, 'Evans': 4064, 'motor': 4065, 'Bradley': 4066, 'refinance': 4067, 'hunger': 4068, 'crucial': 4069, 'Safety': 4070, 'widespread': 4071, 'scale': 4072, 'militant': 4073, 'membership': 4074, 'Tehran': 4075, 'Douglas': 4076, 'cruelty': 4077, 'outbreak': 4078, 'quoted': 4079, 'underway': 4080, 'GM': 4081, 'HIV': 4082, 'machine': 4083, 'bomber': 4084, 'restaurants': 4085, 'Raiders': 4086, 'completely': 4087, 'semifinals': 4088, 'IMF': 4089, 'forms': 4090, 'Solutions': 4091, 'hopeful': 4092, 'abortion': 4093, 'Poland': 4094, 'Cyprus': 4095, 'Kenya': 4096, 'Wood': 4097, 'updated': 4098, 'studies': 4099, 'hip': 4100, 'volume': 4101, 'Ive': 4102, 'tsunami': 4103, 'transplant': 4104, 'string': 4105, 'Lincoln': 4106, 'surplus': 4107, 'peoples': 4108, 'iranian': 4109, 'lightning': 4110, 'square': 4111, 'shock': 4112, 'pilgrims': 4113, 'pregnancy': 4114, 'Winter': 4115, 'Duke': 4116, 'Royals': 4117, 'spain': 4118, 'allows': 4119, 'Bruce': 4120, 'inducted': 4121, 'Middleton': 4122, 'sustainable': 4123, 'computers': 4124, 'Line': 4125, 'celebrations': 4126, 'Ross': 4127, 'outdoor': 4128, 'Knight': 4129, 'monetary': 4130, 'Directors': 4131, 'britney': 4132, 'rihanna': 4133, 'anticipated': 4134, 'Idaho': 4135, 'skipper': 4136, 'Medvedev': 4137, 'Cincinnati': 4138, 'Gujarat': 4139, 'prosecutor': 4140, 'citizen': 4141, 'species': 4142, 'Bobby': 4143, 'defenseman': 4144, 'chest': 4145, 'Ill': 4146, 'concerned': 4147, 'suspend': 4148, 'opinion': 4149, 'reserves': 4150, 'Saints': 4151, 'discussed': 4152, 'abandoned': 4153, 'slammed': 4154, 'nationals': 4155, 'goldman': 4156, 'mike': 4157, 'audience': 4158, 'Jacob': 4159, 'Islands': 4160, 'sovereign': 4161, 'tracks': 4162, 'cheryl': 4163, 'stops': 4164, 'Armenian': 4165, 'hole': 4166, 'answer': 4167, 'BlackBerry': 4168, 'surrounding': 4169, 'wheat': 4170, 'transaction': 4171, 'aggressive': 4172, 'Project': 4173, 'Marshall': 4174, 'Fridays': 4175, 'bat': 4176, 'acts': 4177, 'links': 4178, 'Jonathan': 4179, 'subject': 4180, 'Championships': 4181, 'who': 4182, 'georgia': 4183, 'apologizes': 4184, 'disappointing': 4185, 'coaches': 4186, 'Neil': 4187, 'fares': 4188, 'evasion': 4189, 'musician': 4190, 'austerity': 4191, 'guitarist': 4192, 'fly': 4193, 'Standard': 4194, 'looked': 4195, 'assist': 4196, 'sound': 4197, 'Of': 4198, 'overcome': 4199, 'recycling': 4200, 'smartphones': 4201, 'magnitude': 4202, 'absence': 4203, 'eased': 4204, 'parade': 4205, 'aviation': 4206, 'Cardinals': 4207, 'lucky': 4208, 'attract': 4209, 'jack': 4210, 'weakened': 4211, 'Belarus': 4212, 'equities': 4213, 'songs': 4214, 'Don': 4215, 'Kerry': 4216, 'slip': 4217, 'miley': 4218, 'bush': 4219, 'Maine': 4220, 'Environment': 4221, 'investigated': 4222, 'lying': 4223, 'replaced': 4224, 'congressman': 4225, 'Lindsay': 4226, 'Robin': 4227, 'lows': 4228, 'Wright': 4229, 'sleep': 4230, 'Electronics': 4231, 'completion': 4232, 'finger': 4233, 'section': 4234, 'catch': 4235, 'disputed': 4236, 'pet': 4237, 'finals': 4238, 'peaceful': 4239, 'favorite': 4240, 'cancel': 4241, 'diamond': 4242, 'Billy': 4243, 'Perth': 4244, 'BC': 4245, 'Mets': 4246, 'resumes': 4247, 'burn': 4248, 'madonna': 4249, 'threeday': 4250, 'unknown': 4251, 'apologized': 4252, 'Nationals': 4253, 'Pharmaceuticals': 4254, 'Warriors': 4255, 'afghan': 4256, 'abusing': 4257, 'Bristol': 4258, 'Nicolas': 4259, 'bangladesh': 4260, 'Auckland': 4261, 'Class': 4262, 'syria': 4263, 'economies': 4264, 'accusing': 4265, 'Brussels': 4266, 'Gilani': 4267, 'california': 4268, 'makers': 4269, 'Gomez': 4270, 'Wimbledon': 4271, 'witness': 4272, 'brief': 4273, 'Cancer': 4274, 'slash': 4275, 'Library': 4276, 'Springfield': 4277, 'documentary': 4278, 'efficiency': 4279, 'regulations': 4280, 'Nadu': 4281, 'voluntary': 4282, 'Bell': 4283, 'drawing': 4284, 'buried': 4285, 'Katie': 4286, 'floods': 4287, 'Side': 4288, 'trains': 4289, 'danger': 4290, 'licence': 4291, 'possibly': 4292, 'holidays': 4293, 'volleyball': 4294, 'presidency': 4295, 'Emirates': 4296, 'bombing': 4297, 'misses': 4298, 'drove': 4299, 'filmmaker': 4300, 'trials': 4301, 'reopens': 4302, 'Berlin': 4303, 'upgrades': 4304, 'trades': 4305, 'praises': 4306, 'so': 4307, 'triple': 4308, 'Nebraska': 4309, 'championships': 4310, 'fields': 4311, 'sitting': 4312, 'Muhammad': 4313, 'Johnny': 4314, 'dark': 4315, 'integration': 4316, 'Delaware': 4317, 'Roman': 4318, 'spokesperson': 4319, 'unable': 4320, 'supermarket': 4321, 'user': 4322, 'navy': 4323, 'acres': 4324, 'morgan': 4325, 'featured': 4326, 'ceasefire': 4327, 'determine': 4328, 'drew': 4329, 'Gates': 4330, 'creation': 4331, 'individuals': 4332, 'confirm': 4333, 'Chiefs': 4334, 'welfare': 4335, 'HTC': 4336, 'aggravated': 4337, 'bed': 4338, 'refusing': 4339, 'installed': 4340, 'U': 4341, 'to': 4342, 'sharing': 4343, 'briefly': 4344, 'vessel': 4345, 'chances': 4346, 'Carl': 4347, 'suburban': 4348, 'brad': 4349, 'uncertainty': 4350, 'indonesia': 4351, 'Kosovo': 4352, 'hunt': 4353, 'Rome': 4354, 'suffer': 4355, 'sacked': 4356, 'Montana': 4357, 'fort': 4358, 'recognized': 4359, 'Bears': 4360, 'hostage': 4361, 'Mason': 4362, 'improves': 4363, 'affiliate': 4364, 'tributes': 4365, 'Palace': 4366, 'Annual': 4367, 'gathered': 4368, 'standing': 4369, 'Osbourne': 4370, 'industries': 4371, 'porn': 4372, 'Nepal': 4373, 'ANC': 4374, 'Youth': 4375, 'posting': 4376, 'eighth': 4377, 'Juan': 4378, 'initiatives': 4379, 'municipal': 4380, 'predicted': 4381, 'Land': 4382, 'Robinson': 4383, 'faith': 4384, 'billions': 4385, 'piece': 4386, 'Boeing': 4387, 'aboard': 4388, 'guest': 4389, 'watched': 4390, 'sick': 4391, 'eating': 4392, 'twitter': 4393, 'producing': 4394, 'rumors': 4395, 'necessary': 4396, 'poverty': 4397, 'obesity': 4398, 'Queens': 4399, 'Phillips': 4400, 'naval': 4401, 'refinery': 4402, 'katy': 4403, 'honour': 4404, 'respond': 4405, 'topped': 4406, 'playoffs': 4407, 'slowed': 4408, 'serial': 4409, 'actors': 4410, 'Musharraf': 4411, 'flagship': 4412, 'nightclub': 4413, 'Rapids': 4414, 'Cuban': 4415, 'grocery': 4416, 'angry': 4417, 'Girls': 4418, 'Water': 4419, 'Islamabad': 4420, 'greatest': 4421, 'ships': 4422, 'HN': 4423, 'Chennai': 4424, 'saving': 4425, 'olympic': 4426, 'lawmaker': 4427, 'branches': 4428, 'hanging': 4429, 'Forces': 4430, 'Bahrain': 4431, 'vietnam': 4432, 'Today': 4433, 'Muslims': 4434, 'viewers': 4435, 'apply': 4436, 'arts': 4437, 'spoke': 4438, 'andy': 4439, 'abducted': 4440, 'Mall': 4441, 'wealth': 4442, 'slide': 4443, 'gasoline': 4444, 'spanish': 4445, 'Matthew': 4446, 'Rodriguez': 4447, 'planes': 4448, 'Ed': 4449, 'tops': 4450, 'drowns': 4451, 'premium': 4452, 'thieves': 4453, 'fiveyear': 4454, 'twoday': 4455, 'Grant': 4456, 'roles': 4457, 'commit': 4458, 'sterling': 4459, 'automotive': 4460, 'hong': 4461, 'statistics': 4462, 'mentally': 4463, 'Cheryl': 4464, 'Bulls': 4465, 'artists': 4466, 'System': 4467, 'Will': 4468, 'fighters': 4469, 'rand': 4470, 'versus': 4471, 'Transport': 4472, 'freeze': 4473, 'quick': 4474, 'wages': 4475, 'switch': 4476, 'naked': 4477, 'warn': 4478, 'mean': 4479, 'contractor': 4480, 'driven': 4481, 'Dmitry': 4482, 'freight': 4483, 'cheating': 4484, 'Globe': 4485, 'nominations': 4486, 'privacy': 4487, 'shops': 4488, 'mall': 4489, 'pricing': 4490, 'Summit': 4491, 'crushed': 4492, 'monitor': 4493, 'demi': 4494, 'EUR': 4495, 'Sony': 4496, 'observed': 4497, 'View': 4498, 'threeyear': 4499, 'gather': 4500, 'Thompson': 4501, 'bottom': 4502, 'Bryant': 4503, 'about': 4504, 'Mitchell': 4505, 'Assange': 4506, 'shared': 4507, 'Vikings': 4508, 'shelter': 4509, 'raw': 4510, 'Civil': 4511, 'ones': 4512, 'attended': 4513, 'smuggling': 4514, 'Zuma': 4515, 'Rogers': 4516, 'oldest': 4517, 'scrap': 4518, 'investing': 4519, 'particularly': 4520, 'races': 4521, 'words': 4522, 'code': 4523, 'hasnt': 4524, 'Larry': 4525, 'regulator': 4526, 'peak': 4527, 'Patriots': 4528, 'fundraising': 4529, 'damages': 4530, 'unrest': 4531, 'DJ': 4532, 'Liam': 4533, 'Maharashtra': 4534, 'Xinhua': 4535, 'concussion': 4536, 'task': 4537, 'unidentified': 4538, 'slashed': 4539, 'youths': 4540, 'type': 4541, 'minute': 4542, 'Sky': 4543, 'WASHINGTON': 4544, 'Brandon': 4545, 'Abdul': 4546, 'Derby': 4547, 'robberies': 4548, 'Main': 4549, 'violation': 4550, 'Kent': 4551, 'Karnataka': 4552, 'Gibson': 4553, 'Tottenham': 4554, 'seeing': 4555, 'Dalai': 4556, 'offset': 4557, 'Spencer': 4558, 'Georgian': 4559, 'Pope': 4560, 'rolls': 4561, 'fled': 4562, 'Thanksgiving': 4563, 'survived': 4564, 'costar': 4565, 'farmer': 4566, 'Danny': 4567, 'contain': 4568, 'vital': 4569, 'blocked': 4570, 'overhaul': 4571, 'riding': 4572, 'katie': 4573, 'nursing': 4574, 'easily': 4575, 'teenagers': 4576, 'angelina': 4577, 'Costa': 4578, 'rangers': 4579, 'Chase': 4580, 'swept': 4581, 'staying': 4582, 'burns': 4583, 'Banks': 4584, 'Circuit': 4585, 'corner': 4586, 'patrol': 4587, 'commodities': 4588, 'ace': 4589, 'universities': 4590, 'mothers': 4591, 'maximum': 4592, 'Modi': 4593, 'PLC': 4594, 'consumption': 4595, 'Eve': 4596, 'Its': 4597, 'brazil': 4598, 'Greg': 4599, 'gambling': 4600, 'Nokia': 4601, 'rumours': 4602, 'Jefferson': 4603, 'Sunderland': 4604, 'Angelina': 4605, 'Ottawa': 4606, 'Sandy': 4607, 'islands': 4608, 'Vladimir': 4609, 'Putin': 4610, 'promising': 4611, 'ads': 4612, 'slump': 4613, 'offences': 4614, 'fireworks': 4615, 'Petroleum': 4616, 'apology': 4617, 'writing': 4618, 'comment': 4619, 'defeats': 4620, 'slowing': 4621, 'estranged': 4622, 'wildfire': 4623, 'babies': 4624, 'solid': 4625, 'accidents': 4626, 'Salman': 4627, 'achieved': 4628, 'northwestern': 4629, 'Dick': 4630, 'Election': 4631, 'dozen': 4632, 'Laden': 4633, 'marine': 4634, 'strip': 4635, 'capture': 4636, 'supreme': 4637, 'Somalia': 4638, 'wasnt': 4639, 'Parish': 4640, 'roadside': 4641, 'civilian': 4642, 'qatar': 4643, 'novel': 4644, 'heroin': 4645, 'sing': 4646, 'guy': 4647, 'chrysler': 4648, 'V': 4649, 'throw': 4650, 'resource': 4651, 'elbow': 4652, 'liquor': 4653, 'earn': 4654, 'slams': 4655, 'Africas': 4656, 'landmark': 4657, 'statewide': 4658, 'newspapers': 4659, 'Tuesdays': 4660, 'and': 4661, 'Murphy': 4662, 'Sarkozy': 4663, 'titles': 4664, 'borrowing': 4665, 'ski': 4666, 'quoting': 4667, 'convention': 4668, 'moderate': 4669, 'multiyear': 4670, 'Memphis': 4671, 'AllStar': 4672, 'steal': 4673, 'identify': 4674, 'Iron': 4675, 'robber': 4676, 'bone': 4677, 'Sharif': 4678, 'editor': 4679, 'HSBC': 4680, 'counterpart': 4681, 'swiss': 4682, 'inning': 4683, 'formal': 4684, 'Sciences': 4685, 'watchdog': 4686, 'boycott': 4687, 'prisoner': 4688, 'smaller': 4689, 'guarantee': 4690, 'Rochester': 4691, 'diplomat': 4692, 'selects': 4693, 'stem': 4694, 'escapes': 4695, 'donates': 4696, 'Barry': 4697, 'interior': 4698, 'younger': 4699, 'NJ': 4700, 'operate': 4701, 'detention': 4702, 'Brooklyn': 4703, 'easier': 4704, 'Wellington': 4705, 'pneumonia': 4706, 'quarterfinals': 4707, 'Jays': 4708, 'Plc': 4709, 'Garden': 4710, 'referendum': 4711, 'directly': 4712, 'Men': 4713, 'pastor': 4714, 'sessions': 4715, 'womans': 4716, 'gunman': 4717, 'frozen': 4718, 'Wednesdays': 4719, 'homeowners': 4720, 'agenda': 4721, 'lung': 4722, 'APA': 4723, 'emotional': 4724, 'Keith': 4725, 'Arnold': 4726, 'Colombia': 4727, 'Superior': 4728, 'Shane': 4729, 'scare': 4730, 'enjoy': 4731, 'blaze': 4732, 'convenience': 4733, 'destroys': 4734, 'Free': 4735, 'discussion': 4736, 'unless': 4737, 'workshop': 4738, 'vacant': 4739, 'guide': 4740, 'discount': 4741, 'Mubarak': 4742, 'Lovato': 4743, 'select': 4744, 'virgin': 4745, 'tech': 4746, 'CBI': 4747, 'urban': 4748, 'recognition': 4749, 'centres': 4750, 'Cambridge': 4751, 'intel': 4752, 'mr': 4753, 'Rafael': 4754, 'Martinez': 4755, 'diplomats': 4756, 'chart': 4757, 'plot': 4758, 'Aviation': 4759, 'parks': 4760, 'Indonesian': 4761, 'affordable': 4762, 'permits': 4763, 'Kenny': 4764, 'sprint': 4765, 'ambulance': 4766, 'eliminate': 4767, 'Carey': 4768, 'Sport': 4769, 'bombs': 4770, 'rental': 4771, 'rebounds': 4772, 'optimism': 4773, 'unity': 4774, 'staged': 4775, 'scientific': 4776, 'values': 4777, 'disclosed': 4778, 'branded': 4779, 'scenes': 4780, 'inspired': 4781, 'Syed': 4782, 'automaker': 4783, 'airports': 4784, 'doubled': 4785, 'PGA': 4786, 'agricultural': 4787, 'fame': 4788, 'household': 4789, 'operational': 4790, 'Organization': 4791, 'deposit': 4792, 'kansas': 4793, 'crowned': 4794, 'Lebanese': 4795, 'palestinian': 4796, 'km': 4797, 'colleges': 4798, 'bags': 4799, 'suggesting': 4800, 'permission': 4801, 'sweep': 4802, 'Ricky': 4803, 'racist': 4804, 'hate': 4805, 'climbed': 4806, 'declining': 4807, 'Dave': 4808, 'Rice': 4809, 'easing': 4810, 'Jesus': 4811, 'specialty': 4812, 'Liberal': 4813, 'diet': 4814, 'duties': 4815, 'Soccer': 4816, 'wire': 4817, 'WWE': 4818, 'wine': 4819, 'stephen': 4820, 'garage': 4821, 'zero': 4822, 'purchases': 4823, 'jumps': 4824, 'bull': 4825, 'advances': 4826, 'Chidambaram': 4827, 'Monetary': 4828, 'clinical': 4829, 'Saint': 4830, 'delivers': 4831, 'Pirates': 4832, 'terminal': 4833, 'brown': 4834, 'Ministers': 4835, 'definitely': 4836, 'hailed': 4837, 'evacuation': 4838, 'Ridge': 4839, 'Adelaide': 4840, 'meat': 4841, 'Girl': 4842, 'Datuk': 4843, 'inquest': 4844, 'Studios': 4845, 'tape': 4846, 'UKs': 4847, 'liver': 4848, 'Crown': 4849, 'Julian': 4850, 'ballot': 4851, 'paris': 4852, 'submitted': 4853, 'Japans': 4854, 'implementation': 4855, 'survive': 4856, 'fitch': 4857, 'daughters': 4858, 'T': 4859, 'Sprint': 4860, 'bids': 4861, 'jewelry': 4862, 'verdict': 4863, 'fundraiser': 4864, 'Ashley': 4865, 'O': 4866, 'AFL': 4867, 'buses': 4868, 'Jamie': 4869, 'stuck': 4870, 'manufacturers': 4871, 'Legislature': 4872, 'Sacramento': 4873, 'italy': 4874, 'Pervez': 4875, 'russell': 4876, 'constitution': 4877, 'Karachi': 4878, 'downgrades': 4879, 'Gaddafi': 4880, 'aim': 4881, 'Brisbane': 4882, 'stripped': 4883, 'pleading': 4884, 'Vatican': 4885, 'diseases': 4886, 'Four': 4887, 'dubai': 4888, 'variety': 4889, 'vision': 4890, 'charging': 4891, 'doubles': 4892, 'Jeremy': 4893, 'closely': 4894, 'roger': 4895, 'eliminated': 4896, 'rebel': 4897, 'iconic': 4898, 'coastal': 4899, 'Beverly': 4900, 'achieve': 4901, 'Newton': 4902, 'matt': 4903, 'jason': 4904, 'tim': 4905, 'And': 4906, 'rallies': 4907, 'surveillance': 4908, 'Kuwait': 4909, 'medicine': 4910, 'ethnic': 4911, 'pulling': 4912, 'Ian': 4913, 'weakness': 4914, 'Ahmed': 4915, 'cofounder': 4916, 'condemns': 4917, 'Julia': 4918, 'Redskins': 4919, 'apologised': 4920, 'youre': 4921, 'collided': 4922, 'swap': 4923, 'transition': 4924, 'Belgium': 4925, 'Cruz': 4926, 'jazz': 4927, 'theatre': 4928, 'responded': 4929, 'Online': 4930, 'Up': 4931, 'Cloud': 4932, 'wildlife': 4933, 'donations': 4934, 'Rob': 4935, 'Ham': 4936, 'decisions': 4937, 'hotels': 4938, 'Judge': 4939, 'chip': 4940, 'Moss': 4941, 'pictures': 4942, 'clothes': 4943, 'upper': 4944, 'intervention': 4945, 'Ahmadinejad': 4946, 'Broncos': 4947, 'SUV': 4948, 'Potter': 4949, 'Camp': 4950, 'nearby': 4951, 'hybrid': 4952, 'golden': 4953, 'behaviour': 4954, 'declare': 4955, 'electrical': 4956, 'Peace': 4957, 'graduate': 4958, 'Heights': 4959, 'computing': 4960, 'stream': 4961, 'reviews': 4962, 'dad': 4963, 'download': 4964, 'inmates': 4965, 'Easter': 4966, 'designated': 4967, 'la': 4968, 'audit': 4969, 'audio': 4970, 'exploded': 4971, 'Mass': 4972, 'Francis': 4973, 'gary': 4974, 'tentative': 4975, 'uranium': 4976, 'couples': 4977, 'Thursdays': 4978, 'default': 4979, 'Oscars': 4980, 'righthander': 4981, 'Dolphins': 4982, 'Berry': 4983, 'Hamid': 4984, 'eat': 4985, 'rocker': 4986, 'Cook': 4987, 'Harper': 4988, 'fix': 4989, 'telecommunications': 4990, 'harassment': 4991, 'pupils': 4992, 'reliance': 4993, 'wing': 4994, 'amazon': 4995, 'toronto': 4996, 'departments': 4997, 'mill': 4998, 'unpaid': 4999, 'Gas': 5000, 'Manhattan': 5001, 'ICC': 5002, 'boats': 5003, 'teammate': 5004, 'Bashar': 5005, 'grave': 5006, 'differences': 5007, 'genetic': 5008, 'Convention': 5009, 'H': 5010, 'Chile': 5011, 'drinks': 5012, 'Route': 5013, 'warming': 5014, 'simple': 5015, 'volatile': 5016, 'aide': 5017, 'Lines': 5018, 'definitive': 5019, 'childhood': 5020, 'bird': 5021, 'fill': 5022, 'challenging': 5023, 'Karzai': 5024, 'wish': 5025, 'ninth': 5026, 'Program': 5027, 'Lane': 5028, 'yields': 5029, 'Nobel': 5030, 'prestigious': 5031, 'tower': 5032, 'Qaeda': 5033, 'fines': 5034, 'Timberlake': 5035, 'dumped': 5036, 'Bond': 5037, 'collapses': 5038, 'broadcaster': 5039, 'shootout': 5040, 'responding': 5041, 'irish': 5042, 'punishment': 5043, 'Phillies': 5044, 'Browns': 5045, 'Fiji': 5046, 'missiles': 5047, 'innovation': 5048, 'consulting': 5049, 'enhanced': 5050, 'neutral': 5051, 'Johannesburg': 5052, 'fugitive': 5053, 'Toyota': 5054, 'Emergency': 5055, 'Romania': 5056, 'Dow': 5057, 'verizon': 5058, 'Rooney': 5059, 'PlayStation': 5060, 'sky': 5061, 'mcCain': 5062, 'decrease': 5063, 'Pranab': 5064, 'Baldwin': 5065, 'replacement': 5066, 'honorary': 5067, 'Kris': 5068, 'lived': 5069, 'glass': 5070, 'burglaries': 5071, 'foundation': 5072, 'Television': 5073, 'Del': 5074, 'Heat': 5075, 'scoring': 5076, 'mild': 5077, 'Barclays': 5078, 'lights': 5079, 'striking': 5080, 'placement': 5081, 'retained': 5082, 'Jesse': 5083, 'Mario': 5084, 'Berlusconi': 5085, 'Store': 5086, 'dutch': 5087, 'Chancellor': 5088, 'shoppers': 5089, 'yard': 5090, 'commissioners': 5091, 'acquitted': 5092, 'representing': 5093, 'signal': 5094, 'mainly': 5095, 'transit': 5096, 'Montgomery': 5097, 'zimbabwe': 5098, 'loved': 5099, 'LP': 5100, 'screening': 5101, 'crossed': 5102, 'preparation': 5103, 'frontman': 5104, 'Diamond': 5105, 'Golf': 5106, 'views': 5107, 'What': 5108, 'transferred': 5109, 'covering': 5110, 'Inter': 5111, 'prompting': 5112, 'deposits': 5113, 'Congressional': 5114, 'Guy': 5115, 'volunteer': 5116, 'delivering': 5117, 'enable': 5118, 'taxpayers': 5119, 'Your': 5120, 'flash': 5121, 'Nigerian': 5122, 'torch': 5123, 'Kyi': 5124, 'warnings': 5125, 'azerbaijan': 5126, 'minnesota': 5127, 'De': 5128, 'nick': 5129, 'seed': 5130, 'replacing': 5131, 'booked': 5132, 'academic': 5133, 'earth': 5134, 'gross': 5135, 'Steelers': 5136, 'titled': 5137, 'Bihar': 5138, 'infant': 5139, 'socalled': 5140, 'promise': 5141, 'images': 5142, 'numerous': 5143, 'UBS': 5144, 'Three': 5145, 'recommended': 5146, 'Place': 5147, 'inaugural': 5148, 'arbitration': 5149, 'Healthcare': 5150, 'orange': 5151, 'entitled': 5152, 'administrative': 5153, 'Bros': 5154, 'warm': 5155, 'carriers': 5156, 'recruiting': 5157, 'larger': 5158, 'kg': 5159, 'breach': 5160, 'bounce': 5161, 'Gallagher': 5162, 'Challenge': 5163, 'Athens': 5164, 'opponents': 5165, 'AIDS': 5166, 'exposed': 5167, 'robbing': 5168, 'Damascus': 5169, 'renews': 5170, 'critics': 5171, 'sensex': 5172, 'Natural': 5173, 'chef': 5174, 'extremely': 5175, 'Province': 5176, 'indefinitely': 5177, 'triggered': 5178, 'Protection': 5179, 'Uttar': 5180, 'lifestyle': 5181, 'strengthened': 5182, 'Freedom': 5183, 'sense': 5184, 'reward': 5185, 'developments': 5186, 'aside': 5187, 'applied': 5188, 'Madonna': 5189, 'Magazine': 5190, 'broker': 5191, 'severely': 5192, 'controlled': 5193, 'bosses': 5194, 'motion': 5195, 'remembered': 5196, 'RB': 5197, 'Ken': 5198, 'endorse': 5199, 'tablets': 5200, 'XVI': 5201, 'martin': 5202, 'surged': 5203, 'mom': 5204, 'Schools': 5205, 'survival': 5206, 'trail': 5207, 'brush': 5208, 'Mars': 5209, 'Speedway': 5210, 'behalf': 5211, 'sun': 5212, 'routine': 5213, 'Nadal': 5214, 'Fashion': 5215, 'Coleman': 5216, 'mitt': 5217, 'strain': 5218, 'batsman': 5219, 'pledge': 5220, 'Athletic': 5221, 'Maoists': 5222, 'constitutional': 5223, 'rolling': 5224, 'priest': 5225, 'lottery': 5226, 'FORMER': 5227, 'Sonia': 5228, 'Aaron': 5229, 'marathon': 5230, 'shape': 5231, 'Roberto': 5232, 'organised': 5233, 'filming': 5234, 'Britney': 5235, 'soft': 5236, 'oath': 5237, 'Monroe': 5238, 'Suzuki': 5239, 'insurgents': 5240, 'grain': 5241, 'FOCUS': 5242, 'client': 5243, 'Women': 5244, 'neighbors': 5245, 'cautious': 5246, 'HD': 5247, 'fat': 5248, 'Thai': 5249, 'swing': 5250, 'ghana': 5251, 'happen': 5252, 'Mills': 5253, 'outfit': 5254, 'cotton': 5255, 'michelle': 5256, 'retain': 5257, 'IST': 5258, 'demonstration': 5259, 'willing': 5260, 'subscribers': 5261, 'conservation': 5262, 'executed': 5263, 'Wells': 5264, 'mph': 5265, 'badly': 5266, 'feed': 5267, 'stages': 5268, 'Haryana': 5269, 'extreme': 5270, 'hometown': 5271, 'Reds': 5272, 'Lance': 5273, 'Worldwide': 5274, 'odds': 5275, 'unanimously': 5276, 'backing': 5277, 'unprecedented': 5278, 'remember': 5279, 'bolster': 5280, 'Bloomberg': 5281, 'Irans': 5282, 'outlets': 5283, 'TMZ': 5284, 'Transportation': 5285, 'Nation': 5286, 'gaining': 5287, 'Presidential': 5288, 'destination': 5289, 'challenged': 5290, 'preferred': 5291, 'seniors': 5292, 'shoes': 5293, 'parole': 5294, 'intersection': 5295, 'treasury': 5296, 'importance': 5297, 'obtained': 5298, 'yes': 5299, 'nicole': 5300, 'Abbas': 5301, 'LG': 5302, 'substantial': 5303, 'locked': 5304, 'Suisse': 5305, 'widely': 5306, 'unbeaten': 5307, 'bands': 5308, 'Manning': 5309, 'Consumer': 5310, 'renew': 5311, 'discussions': 5312, 'tonights': 5313, 'Boyle': 5314, 'turmoil': 5315, 'Demi': 5316, 'migrants': 5317, 'brazilian': 5318, 'cinema': 5319, 'spy': 5320, 'sensation': 5321, 'combined': 5322, 'capabilities': 5323, 'Mondays': 5324, 'worried': 5325, 'invitation': 5326, 'Islam': 5327, 'readers': 5328, 'molestation': 5329, 'spectrum': 5330, 'answers': 5331, 'kicking': 5332, 'elephant': 5333, 'overdose': 5334, 'lunch': 5335, 'medals': 5336, 'Ted': 5337, 'Casey': 5338, 'arizona': 5339, 'flames': 5340, 'Marathon': 5341, 'indicated': 5342, 'indecent': 5343, 'weighed': 5344, 'drill': 5345, 'Scientific': 5346, 'Castro': 5347, 'misconduct': 5348, 'apart': 5349, 'ers': 5350, 'Rajasthan': 5351, 'Xbox': 5352, 'Sheikh': 5353, 'publishing': 5354, 'Blues': 5355, 'updates': 5356, 'distributor': 5357, 'barcelona': 5358, 'doping': 5359, 'Heart': 5360, 'quiet': 5361, 'shark': 5362, 'heritage': 5363, 'Leon': 5364, 'Johns': 5365, 'tips': 5366, 'master': 5367, 'horses': 5368, 'romney': 5369, 'michigan': 5370, 'valued': 5371, 'DNA': 5372, 'bound': 5373, 'hardware': 5374, 'grade': 5375, 'egyptian': 5376, 'plus': 5377, 'vulnerable': 5378, 'NRL': 5379, 'Kolkata': 5380, 'scott': 5381, 'europe': 5382, 'wounds': 5383, 'Airbus': 5384, 'urge': 5385, 'swim': 5386, 'Wenger': 5387, 'appealing': 5388, 'indiana': 5389, 'Housing': 5390, 'protesting': 5391, 'Sharma': 5392, 'Mail': 5393, 'miners': 5394, 'daniel': 5395, 'Baku': 5396, 'tag': 5397, 'Marc': 5398, 'victoria': 5399, 'mexican': 5400, 'Boy': 5401, 'climb': 5402, 'leaked': 5403, 'cliff': 5404, 'weekends': 5405, 'Polish': 5406, 'seminar': 5407, 'silence': 5408, 'theme': 5409, 'talked': 5410, 'restraining': 5411, 'Jacksonville': 5412, 'Schwarzenegger': 5413, 'mystery': 5414, 'indias': 5415, 'wishes': 5416, 'policeman': 5417, 'explosive': 5418, 'regrets': 5419, 'provinces': 5420, 'ancient': 5421, 'maritime': 5422, 'Tribune': 5423, 'broad': 5424, 'recruit': 5425, 'Edmonton': 5426, 'accepts': 5427, 'Tendulkar': 5428, 'ocean': 5429, 'aiming': 5430, 'proceedings': 5431, 'confessed': 5432, 'sisters': 5433, 'Clarke': 5434, 'Cubs': 5435, 'narrowly': 5436, 'meters': 5437, 'wickets': 5438, 'Stevens': 5439, 'appoint': 5440, 'crop': 5441, 'revolution': 5442, 'checkpoint': 5443, 'Medicine': 5444, 'johnson': 5445, 'Morning': 5446, 'flow': 5447, 'andrew': 5448, 'tens': 5449, 'foreigners': 5450, 'Budget': 5451, 'pattern': 5452, 'Brett': 5453, 'Salt': 5454, 'oneday': 5455, 'Mohammed': 5456, 'defeating': 5457, 'Me': 5458, 'our': 5459, 'reiterated': 5460, 'Local': 5461, 'Manuel': 5462, 'contribution': 5463, 'mistakes': 5464, 'professionals': 5465, 'Titans': 5466, 'participation': 5467, 'recovers': 5468, 'sporting': 5469, 'Nicole': 5470, 'trends': 5471, 'Floyd': 5472, 'concept': 5473, 'Delta': 5474, 'Magic': 5475, 'finances': 5476, 'seconds': 5477, 'Pacquiao': 5478, 'crunch': 5479, 'hiding': 5480, 'UEFA': 5481, 'Tommy': 5482, 'disorder': 5483, 'Coach': 5484, 'organisation': 5485, 'blocks': 5486, 'Aguilera': 5487, 'knew': 5488, 'Goldman': 5489, 'torn': 5490, 'guidelines': 5491, 'therapy': 5492, 'iTunes': 5493, 'drives': 5494, 'vacation': 5495, 'devastating': 5496, 'concerts': 5497, 'regulation': 5498, 'Nancy': 5499, 'Murdoch': 5500, 'Kyle': 5501, 'christina': 5502, 'educational': 5503, 'Childrens': 5504, 'complications': 5505, 'reverse': 5506, 'layoffs': 5507, 'Lynch': 5508, 'kitchen': 5509, 'Independent': 5510, 'telephone': 5511, 'capable': 5512, 'Jonas': 5513, 'favor': 5514, 'teaching': 5515, 'insurer': 5516, 'Bangalore': 5517, 'palm': 5518, 'disciplinary': 5519, 'Tinto': 5520, 'racial': 5521, 'recruitment': 5522, 'withdrew': 5523, 'availability': 5524, 'Leeds': 5525, 'IPL': 5526, 'relatives': 5527, 'newborn': 5528, 'mounting': 5529, 'Depp': 5530, 'Russias': 5531, 'engineers': 5532, 'singing': 5533, 'spreading': 5534, 'intent': 5535, 'deported': 5536, 'jon': 5537, 'pink': 5538, 'cues': 5539, 'understand': 5540, 'Christie': 5541, 'employer': 5542, 'nigeria': 5543, 'lee': 5544, 'Eagle': 5545, 'apologises': 5546, 'settles': 5547, 'neighbours': 5548, 'JPMorgan': 5549, 'Celtics': 5550, 'cardiac': 5551, 'touched': 5552, 'suggest': 5553, 'autopsy': 5554, 'longest': 5555, 'nude': 5556, 'acquiring': 5557, 'thin': 5558, 'assured': 5559, 'knows': 5560, 'compromise': 5561, 'document': 5562, 'Sanchez': 5563, 'occupied': 5564, 'reduces': 5565, 'Pete': 5566, 'Luis': 5567, 'Shore': 5568, 'Finland': 5569, 'bust': 5570, 'tragedy': 5571, 'allies': 5572, 'pursue': 5573, 'Southeast': 5574, 'composer': 5575, 'secondary': 5576, 'Angels': 5577, 'deer': 5578, 'inaugurated': 5579, 'pump': 5580, 'Tournament': 5581, 'startup': 5582, 'Art': 5583, 'cycling': 5584, 'By': 5585, 'Koreas': 5586, 'mortgages': 5587, 'basic': 5588, 'Haven': 5589, 'adam': 5590, 'focusing': 5591, 'refugee': 5592, 'Walsh': 5593, 'politician': 5594, 'pledges': 5595, 'jewellery': 5596, 'machines': 5597, 'splits': 5598, 'should': 5599, 'offenders': 5600, 'Credit': 5601, 'Todd': 5602, 'overturned': 5603, 'knot': 5604, 'Sheriff': 5605, 'organized': 5606, 'Month': 5607, 'Report': 5608, 'alex': 5609, 'Bernard': 5610, 'senators': 5611, 'rehabilitation': 5612, 'judiciary': 5613, 'clerk': 5614, 'shell': 5615, 'Harbor': 5616, 'speeding': 5617, 'heavily': 5618, 'exwife': 5619, 'Rovers': 5620, 'indefinite': 5621, 'catcher': 5622, 'footballer': 5623, 'dragged': 5624, 'speaker': 5625, 'dell': 5626, 'southwestern': 5627, 'As': 5628, 'essential': 5629, 'midday': 5630, 'SC': 5631, 'dress': 5632, 'Band': 5633, 'owns': 5634, 'resulted': 5635, 'Independence': 5636, 'elizabeth': 5637, 'certification': 5638, 'cooperate': 5639, 'secures': 5640, 'corn': 5641, 'solve': 5642, 'admitting': 5643, 'Moon': 5644, 'represent': 5645, 'reliever': 5646, 'questioned': 5647, 'favour': 5648, 'largely': 5649, 'Kutcher': 5650, 'supermodel': 5651, 'Kanye': 5652, 'journal': 5653, 'tractor': 5654, 'circuit': 5655, 'Owen': 5656, 'boosting': 5657, 'Portugal': 5658, 'Boys': 5659, 'express': 5660, 'modest': 5661, 'infringement': 5662, 'Blair': 5663, 'encouraged': 5664, 'qualify': 5665, 'colleagues': 5666, 'Silver': 5667, 'sensitive': 5668, 'Congressman': 5669, 'sorry': 5670, 'install': 5671, 'disappointed': 5672, 'Lord': 5673, 'rider': 5674, 'Voice': 5675, 'bronze': 5676, 'extradition': 5677, 'privately': 5678, 'lifts': 5679, 'museum': 5680, 'statements': 5681, 'myanmar': 5682, 'taliban': 5683, 'survives': 5684, 'campaigns': 5685, 'Grammy': 5686, 'Honda': 5687, 'Eds': 5688, 'eyes': 5689, 'calm': 5690, 'OPEC': 5691, 'Mining': 5692, 'discover': 5693, 'GDP': 5694, 'Canadas': 5695, 'impressive': 5696, 'curb': 5697, 'bob': 5698, 'jumping': 5699, 'tours': 5700, 'pizza': 5701, 'romance': 5702, 'cornerback': 5703, 'lowered': 5704, 'romantic': 5705, 'plc': 5706, 'gathering': 5707, 'nurse': 5708, 'Minneapolis': 5709, 'Heritage': 5710, 'ben': 5711, 'thai': 5712, 'arent': 5713, 'from': 5714, 'L': 5715, 'Chemical': 5716, 'borders': 5717, 'bullet': 5718, 'nonprofit': 5719, 'encourage': 5720, 'Edinburgh': 5721, 'trainer': 5722, 'bonuses': 5723, 'trooper': 5724, 'Louisville': 5725, 'pro': 5726, 'mexico': 5727, 'remake': 5728, 'ailing': 5729, 'picking': 5730, 'Medicare': 5731, 'cement': 5732, 'appointments': 5733, 'Oak': 5734, 'Virgin': 5735, 'grows': 5736, 'mile': 5737, 'Us': 5738, 'safely': 5739, 'excited': 5740, 'Drug': 5741, 'Opposition': 5742, 'fox': 5743, 'Muammar': 5744, 'Randy': 5745, 'fought': 5746, 'exciting': 5747, 'excessive': 5748, 'arrival': 5749, 'anna': 5750, 'del': 5751, 'enjoying': 5752, 'pharmacy': 5753, 'participants': 5754, 'ITV': 5755, 'external': 5756, 'Ashes': 5757, 'resigning': 5758, 'halted': 5759, 'Dame': 5760, 'accounting': 5761, 'tension': 5762, 'Donald': 5763, 'Trump': 5764, 'honors': 5765, 'Video': 5766, 'attractive': 5767, 'possessing': 5768, 'Hu': 5769, 'tobacco': 5770, 'pact': 5771, 'Colombian': 5772, 'Under': 5773, 'packaging': 5774, 'spell': 5775, 'dallas': 5776, 'parked': 5777, 'Nile': 5778, 'thinking': 5779, 'Orioles': 5780, 'Ericsson': 5781, 'woes': 5782, 'lease': 5783, 'ukraine': 5784, 'dairy': 5785, 'where': 5786, 'addresses': 5787, 'Images': 5788, 'Braves': 5789, 'awardwinning': 5790, 'Blacks': 5791, 'punched': 5792, 'iraqi': 5793, 'rob': 5794, 'RM': 5795, 'headon': 5796, 'Pakistans': 5797, 'rick': 5798, 'pollution': 5799, 'Andhra': 5800, 'anchor': 5801, 'End': 5802, 'Chamber': 5803, 'else': 5804, 'barclays': 5805, 'substance': 5806, 'miner': 5807, 'qualified': 5808, 'economists': 5809, 'libyan': 5810, 'proved': 5811, 'thousand': 5812, 'category': 5813, 'maintained': 5814, 'creator': 5815, 'occasion': 5816, 'Norman': 5817, 'temple': 5818, 'filled': 5819, 'arena': 5820, 'hijacked': 5821, 'Whitney': 5822, 'publication': 5823, 'Jail': 5824, 'molesting': 5825, 'Johansson': 5826, 'expensive': 5827, 'malaysian': 5828, 'Denmark': 5829, 'lesbian': 5830, 'athlete': 5831, 'Ravens': 5832, 'contribute': 5833, 'Liberty': 5834, 'fights': 5835, 'Alberta': 5836, 'Witherspoon': 5837, 'emerge': 5838, 'SAP': 5839, 'globe': 5840, 'honda': 5841, 'cope': 5842, 'citigroup': 5843, 'opera': 5844, 'arraigned': 5845, 'Ronaldo': 5846, 'buyout': 5847, 'warehouse': 5848, 'likes': 5849, 'stemming': 5850, 'Bullock': 5851, 'vendor': 5852, 'voter': 5853, 'camps': 5854, 'qantas': 5855, 'levy': 5856, 'fleeing': 5857, 'governors': 5858, 'sentencing': 5859, 'spirit': 5860, 'Enterprise': 5861, 'exgirlfriend': 5862, 'Sharks': 5863, 'seem': 5864, 'exporters': 5865, 'courses': 5866, 'Control': 5867, 'chicken': 5868, 'mines': 5869, 'Hazare': 5870, 'resulting': 5871, 'unconscious': 5872, 'traveling': 5873, 'Pentagon': 5874, 'licenses': 5875, 'UCLA': 5876, 'Richmond': 5877, 'Christchurch': 5878, 'travelling': 5879, 'Celtic': 5880, 'Merkel': 5881, 'Twins': 5882, 'appearing': 5883, 'spiritual': 5884, 'Tibet': 5885, 'PPP': 5886, 'advisor': 5887, 'inspection': 5888, 'councillors': 5889, 'Transit': 5890, 'Seahawks': 5891, 'interactive': 5892, 'fouryear': 5893, 'Benjamin': 5894, 'outage': 5895, 'absolutely': 5896, 'whale': 5897, 'degrees': 5898, 'threaten': 5899, 'handling': 5900, 'strengthening': 5901, 'execution': 5902, 'doubleheader': 5903, 'desperate': 5904, 'Mugabe': 5905, 'improvements': 5906, 'issuing': 5907, 'compliance': 5908, 'difference': 5909, 'Minaj': 5910, 'Staff': 5911, 'donate': 5912, 'detroit': 5913, 'declaration': 5914, 'rubber': 5915, 'ohio': 5916, 'map': 5917, 'Hyderabad': 5918, 'gordon': 5919, 'Diaz': 5920, 'Buffett': 5921, 'Federer': 5922, 'pioneer': 5923, 'Glasgow': 5924, 'risen': 5925, 'hanged': 5926, 'Bills': 5927, 'sheriff': 5928, 'furniture': 5929, 'Butler': 5930, 'Morris': 5931, 'logo': 5932, 'vehicular': 5933, 'partys': 5934, 'donation': 5935, 'function': 5936, 'engineer': 5937, 'experienced': 5938, 'Baptist': 5939, 'insisting': 5940, 'Banerjee': 5941, 'performances': 5942, 'Sydneys': 5943, 'Ave': 5944, 'remanded': 5945, 'Bernanke': 5946, 'firearms': 5947, 'colorado': 5948, 'Chrysler': 5949, 'Yemeni': 5950, 'Jintao': 5951, 'credits': 5952, 'abused': 5953, 'lily': 5954, 'procedure': 5955, 'garbage': 5956, 'amendment': 5957, 'pretax': 5958, 'Max': 5959, 'apps': 5960, 'Mae': 5961, 'shootings': 5962, 'licensing': 5963, 'liquidity': 5964, 'Albert': 5965, 'Mayer': 5966, 'controls': 5967, 'NYC': 5968, 'were': 5969, 'nurses': 5970, 'explain': 5971, 'govt': 5972, 'creates': 5973, 'insider': 5974, 'Organisation': 5975, 'Intel': 5976, 'thriller': 5977, 'components': 5978, 'profile': 5979, 'Lloyd': 5980, 'northeastern': 5981, 'concrete': 5982, 'Bull': 5983, 'Solar': 5984, 'finishing': 5985, 'Champion': 5986, 'Richardson': 5987, 'Embassy': 5988, 'Zoo': 5989, 'academy': 5990, 'plunge': 5991, 'Aston': 5992, 'stomach': 5993, 'autism': 5994, 'communist': 5995, 'teammates': 5996, 'Arctic': 5997, 'projected': 5998, 'Rahul': 5999, 'Angela': 6000, 'prompted': 6001, 'deployed': 6002, 'Front': 6003, 'Santorum': 6004, 'kolkata': 6005, 'Brands': 6006, 'invites': 6007, 'cheap': 6008, 'Le': 6009, 'walks': 6010, 'Customs': 6011, 'prosecution': 6012, 'Tulsa': 6013, 'alleging': 6014, 'develops': 6015, 'USbased': 6016, 'TWO': 6017, 'prepaid': 6018, 'counter': 6019, 'Six': 6020, 'Got': 6021, 'hikes': 6022, 'eve': 6023, 'Doherty': 6024, 'Suu': 6025, 'strict': 6026, 'participating': 6027, 'lessons': 6028, 'Sena': 6029, 'affecting': 6030, 'fiance': 6031, 'Richie': 6032, 'addressed': 6033, 'Quinn': 6034, 'BHP': 6035, 'containing': 6036, 'revive': 6037, 'dental': 6038, 'Survey': 6039, 'gear': 6040, 'breakfast': 6041, 'asia': 6042, 'slain': 6043, 'rio': 6044, 'postal': 6045, 'OS': 6046, 'Fernando': 6047, 'deutsche': 6048, 'intended': 6049, 'burst': 6050, 'richard': 6051, 'margin': 6052, 'tokyo': 6053, 'satellites': 6054, 'sponsorship': 6055, 'Richards': 6056, 'Representatives': 6057, 'How': 6058, 'motorola': 6059, 'paise': 6060, 'withdrawal': 6061, 'antigovernment': 6062, 'tumor': 6063, 'crown': 6064, 'Wild': 6065, 'attorneys': 6066, 'Data': 6067, 'Dark': 6068, 'monsoon': 6069, 'celebrities': 6070, 'Boulevard': 6071, 'couldnt': 6072, 'suburb': 6073, 'extensive': 6074, 'cleveland': 6075, 'comic': 6076, 'bench': 6077, 'bout': 6078, 'Gillard': 6079, 'DVD': 6080, 'simply': 6081, 'Gen': 6082, 'laundering': 6083, 'waived': 6084, 'Aden': 6085, 'Crystal': 6086, 'venezuela': 6087, 'Summer': 6088, 'cyber': 6089, 'brian': 6090, 'torture': 6091, 'windows': 6092, 'cameron': 6093, 'elect': 6094, 'Expo': 6095, 'Katy': 6096, 'Housewives': 6097, 'beautiful': 6098, 'Rehman': 6099, 'seconddegree': 6100, 'Harrison': 6101, 'symptoms': 6102, 'Packers': 6103, 'Osama': 6104, 'revealing': 6105, 'runway': 6106, 'wouldnt': 6107, 'clearing': 6108, 'Hope': 6109, 'spoken': 6110, 'salaries': 6111, 'Hosni': 6112, 'MW': 6113, 'Mohammad': 6114, 'Basketball': 6115, 'require': 6116, 'impose': 6117, 'grounds': 6118, 'Heath': 6119, 'delhi': 6120, 'rounds': 6121, 'Apr': 6122, 'burglar': 6123, 'toilet': 6124, 'inappropriate': 6125, 'Hunter': 6126, 'underground': 6127, 'Sioux': 6128, 'tear': 6129, 'chronic': 6130, 'mogul': 6131, 'cool': 6132, 'survivors': 6133, 'yuan': 6134, 'customs': 6135, 'purchased': 6136, 'battled': 6137, 'Walk': 6138, 'newcastle': 6139, 'harry': 6140, 'stick': 6141, 'Bancorp': 6142, 'excellent': 6143, 'Car': 6144, 'guru': 6145, 'presidents': 6146, 'hospitalised': 6147, 'whos': 6148, 'boxer': 6149, 'Verizon': 6150, 'villages': 6151, 'Industrial': 6152, 'cycle': 6153, 'defamation': 6154, 'turbine': 6155, 'illinois': 6156, 'johnny': 6157, 'delta': 6158, 'lineman': 6159, 'virginia': 6160, 'backup': 6161, 'Portsmouth': 6162, 'originally': 6163, 'encouraging': 6164, 'destinations': 6165, 'Building': 6166, 'Brady': 6167, 'load': 6168, 'activated': 6169, 'portion': 6170, 'format': 6171, 'Representative': 6172, 'guests': 6173, 'bottle': 6174, 'Herald': 6175, 'reconciliation': 6176, 'efficient': 6177, 'acquisitions': 6178, 'Upper': 6179, 'explore': 6180, 'Pictures': 6181, 'tennessee': 6182, 'slated': 6183, 'understanding': 6184, 'Tibetan': 6185, 'ethics': 6186, 'gifts': 6187, 'Holding': 6188, 'Dean': 6189, 'throat': 6190, 'Reliance': 6191, 'partially': 6192, 'Canadians': 6193, 'WiFi': 6194, 'print': 6195, 'Norwich': 6196, 'soaring': 6197, 'choose': 6198, 'southeastern': 6199, 'Lexington': 6200, 'cuba': 6201, 'Mohamed': 6202, 'Oman': 6203, 'Barnes': 6204, 'Petersburg': 6205, 'innocent': 6206, 'ecommerce': 6207, 'ONeal': 6208, 'violated': 6209, 'disputes': 6210, 'radical': 6211, 'sweeping': 6212, 'pose': 6213, 'protected': 6214, 'destroy': 6215, 'bombings': 6216, 'Fed': 6217, 'framework': 6218, 'sustainability': 6219, 'Michaels': 6220, 'marries': 6221, 'rankings': 6222, 'symbol': 6223, 'ET': 6224, 'repeatedly': 6225, 'Omaha': 6226, 'IPO': 6227, 'policemen': 6228, 'ideas': 6229, 'debts': 6230, 'Rachel': 6231, 'Mariners': 6232, 'Motion': 6233, 'warrants': 6234, 'assessment': 6235, 'riot': 6236, 'wheel': 6237, 'swings': 6238, 'navigation': 6239, 'Farm': 6240, 'hackers': 6241, 'stretch': 6242, 'reject': 6243, 'doubt': 6244, 'Motorola': 6245, 'derby': 6246, 'soul': 6247, 'Luke': 6248, 'Bruins': 6249, 'outsourcing': 6250, 'praise': 6251, 'Istanbul': 6252, 'LONDON': 6253, 'Paso': 6254, 'Patil': 6255, 'fate': 6256, 'merge': 6257, 'Peru': 6258, 'Now': 6259, 'erupted': 6260, 'specific': 6261, 'proceeds': 6262, 'youngest': 6263, 'suppliers': 6264, 'Wildlife': 6265, 'brokerage': 6266, 'Myers': 6267, 'LOS': 6268, 'AOL': 6269, 'disorderly': 6270, 'britains': 6271, 'Deutsche': 6272, 'Joel': 6273, 'renowned': 6274, 'birds': 6275, 'Chad': 6276, 'intention': 6277, 'exactly': 6278, 'oscar': 6279, 'lie': 6280, 'wisconsin': 6281, 'Medicaid': 6282, 'promotions': 6283, 'Ball': 6284, 'Clooney': 6285, 'Beatles': 6286, 'somali': 6287, 'noted': 6288, 'deciding': 6289, 'Lahore': 6290, 'Hathaway': 6291, 'Assam': 6292, 'Kabul': 6293, 'optimistic': 6294, 'Susan': 6295, 'Manila': 6296, 'advocates': 6297, 'approaching': 6298, 'Theater': 6299, 'hinted': 6300, 'addressing': 6301, 'influential': 6302, 'consensus': 6303, 'imported': 6304, 'foul': 6305, 'adoption': 6306, 'segment': 6307, 'Out': 6308, 'expelled': 6309, 'poisoning': 6310, 'Sierra': 6311, 'enjoyed': 6312, 'posed': 6313, 'effectively': 6314, 'Revenue': 6315, 'religion': 6316, 'brutal': 6317, 'holders': 6318, 'Rod': 6319, 'retreat': 6320, 'shipments': 6321, 'Constitution': 6322, 'Londons': 6323, 'bullish': 6324, 'intensive': 6325, 'punjab': 6326, 'Thackeray': 6327, 'lifetime': 6328, 'scientist': 6329, 'jim': 6330, 'Environmental': 6331, 'bell': 6332, 'soil': 6333, 'magic': 6334, 'tumbled': 6335, 'reception': 6336, 'hacked': 6337, 'suite': 6338, 'wed': 6339, 'jordan': 6340, 'only': 6341, 'Tripoli': 6342, 'Lakes': 6343, 'stone': 6344, 'Nationwide': 6345, 'Albany': 6346, 'americans': 6347, 'bitter': 6348, 'blind': 6349, 'Cable': 6350, 'congratulates': 6351, 'Bayern': 6352, 'CIA': 6353, 'stateowned': 6354, 'organizers': 6355, 'Child': 6356, 'Narendra': 6357, 'governance': 6358, 'bowling': 6359, 'rapidly': 6360, 'brawl': 6361, 'bowler': 6362, 'demonstrators': 6363, 'emma': 6364, 'detected': 6365, 'struggles': 6366, 'sidelines': 6367, 'Ashton': 6368, 'sluggish': 6369, 'Bhd': 6370, 'Raj': 6371, 'Twilight': 6372, 'fierce': 6373, 'Conrad': 6374, 'Tourism': 6375, 'endorsement': 6376, 'asthma': 6377, 'Criminal': 6378, 'Assistant': 6379, 'referee': 6380, 'amazing': 6381, 'displaced': 6382, 'batch': 6383, 'perhaps': 6384, 'bribery': 6385, 'WOMAN': 6386, 'criminals': 6387, 'duo': 6388, 'Parks': 6389, 'volatility': 6390, 'Markets': 6391, 'bankers': 6392, 'FDA': 6393, 'Charleston': 6394, 'Lucas': 6395, 'edges': 6396, 'meant': 6397, 'rebuild': 6398, 'swung': 6399, 'Reynolds': 6400, 'Pratt': 6401, 'invested': 6402, 'robbers': 6403, 'pipe': 6404, 'Norway': 6405, 'multimillion': 6406, 'decides': 6407, 'saves': 6408, 'horror': 6409, 'jerry': 6410, 'veto': 6411, 'crush': 6412, 'ricky': 6413, 'Cheney': 6414, 'Emmy': 6415, 'statue': 6416, 'vodafone': 6417, 'Sachin': 6418, 'McCarthy': 6419, 'carpet': 6420, 'slowly': 6421, 'Junior': 6422, 'covered': 6423, 'Mission': 6424, 'Omar': 6425, 'cops': 6426, 'Jazz': 6427, 'v': 6428, 'equal': 6429, 'dying': 6430, 'LSU': 6431, 'Economy': 6432, 'Brewers': 6433, 'circumstances': 6434, 'formula': 6435, 'Cuomo': 6436, 'Brook': 6437, 'Serie': 6438, 'appealed': 6439, 'sit': 6440, 'But': 6441, 'grass': 6442, 'convertible': 6443, 'mum': 6444, 'Michele': 6445, 'Meeting': 6446, 'awaited': 6447, 'Eddie': 6448, 'engines': 6449, 'imprisonment': 6450, 'Christians': 6451, 'OBrien': 6452, 'commerce': 6453, 'Urban': 6454, 'Cardiff': 6455, 'collected': 6456, 'Bolt': 6457, 'journey': 6458, 'Tenn': 6459, 'removing': 6460, 'Mutual': 6461, 'steep': 6462, 'theyve': 6463, 'NZ': 6464, 'Norfolk': 6465, 'personality': 6466, 'repairs': 6467, 'qualifier': 6468, 'grown': 6469, 'Winfrey': 6470, 'ditch': 6471, 'drawn': 6472, 'partial': 6473, 'portal': 6474, 'Salem': 6475, 'Marcus': 6476, 'Essex': 6477, 'chemicals': 6478, 'WikiLeaks': 6479, 'Lambert': 6480, 'postpones': 6481, 'shuts': 6482, 'helicopters': 6483, 'Bundesliga': 6484, 'belt': 6485, 'gender': 6486, 'greenhouse': 6487, 'factor': 6488, 'hamas': 6489, 'restructure': 6490, 'Left': 6491, 'workplace': 6492, 'presenter': 6493, 'Cox': 6494, 'carmaker': 6495, 'Giffords': 6496, 'Engineering': 6497, 'humans': 6498, 'Venezuelan': 6499, 'pointed': 6500, 'astronaut': 6501, 'Plan': 6502, 'iOS': 6503, 'buyer': 6504, 'offense': 6505, 'Watch': 6506, 'Armed': 6507, 'Planning': 6508, 'firstquarter': 6509, 'Favre': 6510, 'enterprises': 6511, 'comfortable': 6512, 'banning': 6513, 'Minn': 6514, 'Drew': 6515, 'prevention': 6516, 'TZ': 6517, 'Keys': 6518, 'HBO': 6519, 'ANGELES': 6520, 'citizenship': 6521, 'tattoo': 6522, 'cannabis': 6523, 'Third': 6524, 'Resort': 6525, 'beta': 6526, 'golfer': 6527, 'Hartford': 6528, 'Serbian': 6529, 'ballots': 6530, 'Airtel': 6531, 'Romanian': 6532, 'offerings': 6533, 'fathers': 6534, 'Norwegian': 6535, 'subsidiaries': 6536, 'retains': 6537, 'moments': 6538, 'analytics': 6539, 'barn': 6540, 'twotime': 6541, 'hed': 6542, 'Kirk': 6543, 'checked': 6544, 'atomic': 6545, 'Seoul': 6546, 'Catherine': 6547, 'batting': 6548, 'letters': 6549, 'lashed': 6550, 'gene': 6551, 'hamstring': 6552, 'consequences': 6553, 'lab': 6554, 'Windsor': 6555, 'LTE': 6556, 'AAA': 6557, 'clears': 6558, 'governing': 6559, 'spends': 6560, 'Blake': 6561, 'plotting': 6562, 'biopic': 6563, 'investigations': 6564, 'Marion': 6565, 'If': 6566, 'lockout': 6567, 'correspondent': 6568, 'incumbent': 6569, 'TripleA': 6570, 'beijing': 6571, 'miami': 6572, 'neglect': 6573, 'Temple': 6574, 'chair': 6575, 'stressed': 6576, 'regain': 6577, 'Orissa': 6578, 'Europa': 6579, 'altercation': 6580, 'rapid': 6581, 'contributions': 6582, 'historical': 6583, 'Billboard': 6584, 'Newman': 6585, 'theater': 6586, 'Five': 6587, 'pensions': 6588, 'institution': 6589, 'skip': 6590, 'monthold': 6591, 'wrestling': 6592, 'propose': 6593, 'ive': 6594, 'patents': 6595, 'underage': 6596, 'Yousuf': 6597, 'sheet': 6598, 'transmission': 6599, 'genocide': 6600, 'advisers': 6601, 'Bennett': 6602, 'santa': 6603, 'seekers': 6604, 'snapped': 6605, 'contender': 6606, 'orbit': 6607, 'philippine': 6608, 'Jane': 6609, 'Key': 6610, 'bounced': 6611, 'Coal': 6612, 'Canyon': 6613, 'adjourned': 6614, 'Janata': 6615, 'diving': 6616, 'requested': 6617, 'ounce': 6618, 'hamilton': 6619, 'Hindu': 6620, 'missouri': 6621, 'Midwest': 6622, 'mistake': 6623, 'Chopra': 6624, 'amnesty': 6625, 'wrist': 6626, 'mate': 6627, 'protecting': 6628, 'suddenly': 6629, 'muscle': 6630, 'Amazon': 6631, 'productivity': 6632, 'After': 6633, 'SEC': 6634, 'AS': 6635, 'pretty': 6636, 'Hart': 6637, 'collect': 6638, 'iraq': 6639, 'broader': 6640, 'pills': 6641, 'metres': 6642, 'Jakarta': 6643, 'Humphries': 6644, 'addiction': 6645, 'rebounded': 6646, 'Lisa': 6647, 'Dollar': 6648, 'acclaimed': 6649, 'polling': 6650, 'Reed': 6651, 'formation': 6652, 'Enterprises': 6653, 'Quebec': 6654, 'administrators': 6655, 'Raja': 6656, 'Henderson': 6657, 'CA': 6658, 'Analyst': 6659, 'electoral': 6660, 'nelson': 6661, 'Is': 6662, 'struggled': 6663, 'approaches': 6664, 'ultimate': 6665, 'container': 6666, 'Income': 6667, 'shortfall': 6668, 'alQaeda': 6669, 'exercises': 6670, 'Bolton': 6671, 'GE': 6672, 'blew': 6673, 'Athletics': 6674, 'Silvio': 6675, 'Penguins': 6676, 'tougher': 6677, 'pond': 6678, 'Riley': 6679, 'stunning': 6680, 'quake': 6681, 'graduates': 6682, 'UPA': 6683, 'shutting': 6684, 'Casino': 6685, 'distribute': 6686, 'studying': 6687, 'Poors': 6688, 'Ventures': 6689, 'testify': 6690, 'quarterfinal': 6691, 'toxic': 6692, 'Colin': 6693, 'Opera': 6694, 'Venture': 6695, 'Bachmann': 6696, 'surrender': 6697, 'cricketer': 6698, 'spray': 6699, 'teeth': 6700, 'disrupted': 6701, 'shoe': 6702, 'quitting': 6703, 'Rudd': 6704, 'ejected': 6705, 'Hungary': 6706, 'Jamaica': 6707, 'singles': 6708, 'caution': 6709, 'swedish': 6710, 'negotiating': 6711, 'legs': 6712, 'RBI': 6713, 'Rukh': 6714, 'Saskatchewan': 6715, 'mainland': 6716, 'So': 6717, 'mandate': 6718, 'cream': 6719, 'census': 6720, 'Anne': 6721, 'du': 6722, 'Des': 6723, 'trigger': 6724, 'Jake': 6725, 'Wallace': 6726, 'submit': 6727, 'platforms': 6728, 'weve': 6729, 'Stores': 6730, 'schemes': 6731, 'puppy': 6732, 'opposed': 6733, 'damaging': 6734, 'Duncan': 6735, 'sponsored': 6736, 'presentation': 6737, 'Minogue': 6738, 'Who': 6739, 'Mo': 6740, 'Wade': 6741, 'Diamondbacks': 6742, 'Roma': 6743, 'lays': 6744, 'maintains': 6745, 'publish': 6746, 'libya': 6747, 'weakens': 6748, 'freshman': 6749, 'Southwest': 6750, 'juvenile': 6751, 'questioning': 6752, 'Sebastian': 6753, 'Webber': 6754, 'Calgary': 6755, 'StraussKahn': 6756, 'marginally': 6757, 'Ahmad': 6758, 'laptop': 6759, 'Gardens': 6760, 'succeed': 6761, 'fruit': 6762, 'Phone': 6763, 'Baker': 6764, 'eventually': 6765, 'Products': 6766, 'setback': 6767, 'councils': 6768, 'Mamata': 6769, 'moon': 6770, 'uncertain': 6771, 'Properties': 6772, 'generate': 6773, 'Digital': 6774, 'Miley': 6775, 'boom': 6776, 'fractured': 6777, 'Glee': 6778, 'mysterious': 6779, 'upbeat': 6780, 'handle': 6781, 'counterparts': 6782, 'Ratings': 6783, 'snap': 6784, 'nissan': 6785, 'mandatory': 6786, 'Wichita': 6787, 'accusations': 6788, 'meaning': 6789, 'Christopher': 6790, 'Bailey': 6791, 'congratulated': 6792, 'sometimes': 6793, 'reckless': 6794, 'contractors': 6795, 'sweeps': 6796, 'collective': 6797, 'Chargers': 6798, 'weakening': 6799, 'carlos': 6800, 'jersey': 6801, 'overtime': 6802, 'unexpected': 6803, 'yellow': 6804, 'EA': 6805, 'Netanyahu': 6806, 'Zone': 6807, 'Everton': 6808, 'oppose': 6809, 'Gosselin': 6810, 'ambitious': 6811, 'massacre': 6812, 'proper': 6813, 'sidelined': 6814, 'ferry': 6815, 'holy': 6816, 'Selena': 6817, 'ex': 6818, 'ed': 6819, 'nervous': 6820, 'boeing': 6821, 'inventories': 6822, 'lock': 6823, 'Manny': 6824, 'Pune': 6825, 'posing': 6826, 'There': 6827, 'ramp': 6828, 'Austria': 6829, 'ally': 6830, 'reorganization': 6831, 'liberal': 6832, 'Winnipeg': 6833, 'method': 6834, 'Estate': 6835, 'Tax': 6836, 'rap': 6837, 'Tucson': 6838, 'eases': 6839, 'Mel': 6840, 'Princess': 6841, 'relay': 6842, 'Blackburn': 6843, 'relating': 6844, 'implemented': 6845, 'domain': 6846, 'Powell': 6847, 'hoped': 6848, 'Ann': 6849, 'panels': 6850, 'beaches': 6851, 'Rupert': 6852, 'treaty': 6853, 'shutdown': 6854, 'lil': 6855, 'Plus': 6856, 'valuable': 6857, 'shore': 6858, 'trained': 6859, 'heating': 6860, 'shocking': 6861, 'Maple': 6862, 'compact': 6863, 'Philip': 6864, 'faulty': 6865, 'calendar': 6866, 'Malta': 6867, 'Kingston': 6868, 'Mavericks': 6869, 'invests': 6870, 'Israels': 6871, 'confrontation': 6872, 'toss': 6873, 'Valentines': 6874, 'Longoria': 6875, 'connected': 6876, 'flown': 6877, 'slight': 6878, 'phil': 6879, 'acute': 6880, 'rainfall': 6881, 'Hassan': 6882, 'priced': 6883, 'surprised': 6884, 'Providence': 6885, 'rockets': 6886, 'farms': 6887, 'bahrain': 6888, 'percentage': 6889, 'tip': 6890, 'Reports': 6891, 'blasted': 6892, 'Jharkhand': 6893, 'chips': 6894, 'command': 6895, 'breakthrough': 6896, 'stood': 6897, 'Belfast': 6898, 'unusual': 6899, 'Heidi': 6900, 'TD': 6901, 'firmly': 6902, 'explosives': 6903, 'opposite': 6904, 'Wii': 6905, 'institute': 6906, 'rough': 6907, 'hundred': 6908, 'smashed': 6909, 'expresses': 6910, 'pride': 6911, 'seasonal': 6912, 'Belgian': 6913, 'Argentine': 6914, 'finale': 6915, 'ron': 6916, 'Sofia': 6917, 'facial': 6918, 'Falcons': 6919, 'sank': 6920, 'oklahoma': 6921, 'bulgaria': 6922, 'Worth': 6923, 'Panthers': 6924, 'iowa': 6925, 'dominated': 6926, 'draws': 6927, 'Brooks': 6928, 'lewis': 6929, 'Geneva': 6930, 'widened': 6931, 'Ferrari': 6932, 'zoo': 6933, 'barrels': 6934, 'Sindh': 6935, 'Broadcasting': 6936, 'bishop': 6937, 'Amitabh': 6938, 'athletic': 6939, 'wider': 6940, 'economist': 6941, 'climbing': 6942, 'videos': 6943, 'fisherman': 6944, 'Conservative': 6945, 'n': 6946, 'aston': 6947, 'eligible': 6948, 'philadelphia': 6949, 'goaltender': 6950, 'History': 6951, 'surcharge': 6952, 'listing': 6953, 'Down': 6954, 'Jun': 6955, 'liberty': 6956, 'bulls': 6957, 'Bar': 6958, 'organisers': 6959, 'popularity': 6960, 'maoists': 6961, 'counterfeit': 6962, 'hillary': 6963, 'gallon': 6964, 'pitches': 6965, 'Hot': 6966, 'Underwood': 6967, 'stakes': 6968, 'colombian': 6969, 'dismisses': 6970, 'strengthens': 6971, 'ranking': 6972, 'Fred': 6973, 'completing': 6974, 'reviewing': 6975, 'repeal': 6976, 'Light': 6977, 'initially': 6978, 'restricted': 6979, 'Spice': 6980, 'pack': 6981, 'Rays': 6982, 'deployment': 6983, 'panic': 6984, 'packed': 6985, 'publicist': 6986, 'firstdegree': 6987, 'relative': 6988, 'farewell': 6989, 'Revolution': 6990, 'bankrupt': 6991, 'faculty': 6992, 'Carson': 6993, 'Policy': 6994, 'alQaida': 6995, 'radiation': 6996, 'Anand': 6997, 'Bangkok': 6998, 'programmes': 6999, 'Ledger': 7000, 'designs': 7001, 'allocation': 7002, 'certificate': 7003, 'they': 7004, 'USC': 7005, 'Bin': 7006, 'Rocky': 7007, 'Investments': 7008, 'forming': 7009, 'Turner': 7010, 'exchanges': 7011, 'Englands': 7012, 'billy': 7013, 'admit': 7014, 'Newport': 7015, 'Mayweather': 7016, 'physically': 7017, 'zones': 7018, 'venezuelan': 7019, 'Satyam': 7020, 'tottenham': 7021, 'Bend': 7022, 'orlando': 7023, 'Yadav': 7024, 'finishes': 7025, 'Thunder': 7026, 'passport': 7027, 'airlifted': 7028, 'casey': 7029, 'boosts': 7030, 'dressed': 7031, 'Ground': 7032, 'everton': 7033, 'delighted': 7034, 'kanye': 7035, 'Action': 7036, 'contained': 7037, 'server': 7038, 'secretly': 7039, 'susan': 7040, 'astronauts': 7041, 'sudden': 7042, 'tipped': 7043, 'Yorkshire': 7044, 'Category': 7045, 'Attorneys': 7046, 'Occupy': 7047, 'nose': 7048, 'prefer': 7049, 'secondlargest': 7050, 'laying': 7051, 'highlight': 7052, 'challenger': 7053, 'GP': 7054, 'highspeed': 7055, 'Dhoni': 7056, 'moral': 7057, 'welterweight': 7058, 'Smart': 7059, 'Naval': 7060, 'extraordinary': 7061, 'poker': 7062, 'competing': 7063, 'strategies': 7064, 'axe': 7065, 'ports': 7066, 'covers': 7067, 'Nintendo': 7068, 'consultancy': 7069, 'Paterson': 7070, 'iPod': 7071, 'Barton': 7072, 'Margaret': 7073, 'requests': 7074, 'uniform': 7075, 'dip': 7076, 'drummer': 7077, 'narrow': 7078, 'pensioner': 7079, 'organic': 7080, 'JP': 7081, 'incentives': 7082, 'subway': 7083, 'Internal': 7084, 'slid': 7085, 'flee': 7086, 'infielder': 7087, 'matters': 7088, 'demolition': 7089, 'Dennis': 7090, 'nature': 7091, 'amanda': 7092, 'steven': 7093, 'waves': 7094, 'corporation': 7095, 'Clinic': 7096, 'Tea': 7097, 'pointing': 7098, 'exclusively': 7099, 'voluntarily': 7100, 'Lil': 7101, 'reflecting': 7102, 'Nathan': 7103, 'mn': 7104, 'thunderstorm': 7105, 'dubbed': 7106, 'TMobile': 7107, 'Railway': 7108, 'Reading': 7109, 'approached': 7110, 'arkansas': 7111, 'Secret': 7112, 'blames': 7113, 'Andrews': 7114, 'Rica': 7115, 'publishes': 7116, 'adopts': 7117, 'indictment': 7118, 'permanently': 7119, 'penalties': 7120, 'gunshot': 7121, 'Colombo': 7122, 'arrangements': 7123, 'Billiton': 7124, 'phoenix': 7125, 'albums': 7126, 'coma': 7127, 'exceed': 7128, 'entrepreneurs': 7129, 'Rams': 7130, 'Trail': 7131, 'Tel': 7132, 'equality': 7133, 'Peterson': 7134, 'Direct': 7135, 'respectively': 7136, 'Tonight': 7137, 'petroleum': 7138, 'consolidation': 7139, 'printing': 7140, 'sydney': 7141, 'commissioned': 7142, 'researcher': 7143, 'Alberto': 7144, 'Auburn': 7145, 'blockbuster': 7146, 'requiring': 7147, 'indicates': 7148, 'loaded': 7149, 'arriving': 7150, 'stayed': 7151, 'mad': 7152, 'bradley': 7153, 'Juventus': 7154, 'chat': 7155, 'Vince': 7156, 'Arthur': 7157, 'neil': 7158, 'shocked': 7159, 'Welsh': 7160, 'accidental': 7161, 'restart': 7162, 'Glenn': 7163, 'Rajya': 7164, 'Hussain': 7165, 'Run': 7166, 'yesterdays': 7167, 'Rockets': 7168, 'Victor': 7169, 'Silva': 7170, 'Felipe': 7171, 'dam': 7172, 'Blagojevich': 7173, 'convert': 7174, 'Training': 7175, 'Snow': 7176, 'eBay': 7177, 'Military': 7178, 'introduction': 7179, 'Patel': 7180, 'Ram': 7181, 'fiery': 7182, 'recommendations': 7183, 'Lower': 7184, 'Talent': 7185, 'particular': 7186, 'Timothy': 7187, 'Reddy': 7188, 'pressures': 7189, 'cheated': 7190, 'Technical': 7191, 'facilitate': 7192, 'repeat': 7193, 'Marlins': 7194, 'Tennis': 7195, 'lawsuits': 7196, 'Member': 7197, 'Wings': 7198, 'dated': 7199, 'lion': 7200, 'Riverside': 7201, 'afraid': 7202, 'founding': 7203, 'Friends': 7204, 'battles': 7205, 'Peters': 7206, 'flags': 7207, 'Garcia': 7208, 'loose': 7209, 'sequel': 7210, 'overweight': 7211, 'alabama': 7212, 'starbucks': 7213, 'reinstated': 7214, 'AFC': 7215, 'hails': 7216, 'legislators': 7217, 'notorious': 7218, 'Vietnamese': 7219, 'singersongwriter': 7220, 'secrets': 7221, 'revival': 7222, 'soap': 7223, 'tuition': 7224, 'Aberdeen': 7225, 'Seri': 7226, 'compound': 7227, 'precious': 7228, 'boards': 7229, 'universal': 7230, 'Christina': 7231, 'houston': 7232, 'reunion': 7233, 'That': 7234, 'accessories': 7235, 'withdrawing': 7236, 'Peninsula': 7237, 'Valencia': 7238, 'workout': 7239, 'Sheffield': 7240, 'Ellis': 7241, 'exhusband': 7242, 'evacuate': 7243, 'Thomson': 7244, 'Fulham': 7245, 'cattle': 7246, 'laser': 7247, 'singers': 7248, 'appropriate': 7249, 'valley': 7250, 'openly': 7251, 'hearts': 7252, 'youngsters': 7253, 'households': 7254, 'rage': 7255, 'truth': 7256, 'forecasters': 7257, 'height': 7258, 'Guinea': 7259, 'washed': 7260, 'Angel': 7261, 'explains': 7262, 'lane': 7263, 'Noble': 7264, 'preparations': 7265, 'internationally': 7266, 'Relations': 7267, 'indicating': 7268, 'dpa': 7269, 'tycoon': 7270, 'adjusted': 7271, 'roughly': 7272, 'doubts': 7273, 'declaring': 7274, 'surgeon': 7275, 'specifically': 7276, 'heidi': 7277, 'stays': 7278, 'hostile': 7279, 'grenade': 7280, 'Invitational': 7281, 'subscription': 7282, 'libel': 7283, 'opposes': 7284, 'maintaining': 7285, 'hang': 7286, 'Professor': 7287, 'avoided': 7288, 'RCMP': 7289, 'shortstop': 7290, 'villagers': 7291, 'Carlisle': 7292, 'stating': 7293, 'endangered': 7294, 'Ward': 7295, 'error': 7296, 'rifle': 7297, 'azerbaijani': 7298, 'detective': 7299, 'Alert': 7300, 'Puerto': 7301, 'Miliband': 7302, 'wayne': 7303, 'poses': 7304, 'flew': 7305, 'Goa': 7306, 'Hemsworth': 7307, 'Discovery': 7308, 'Money': 7309, 'Mahindra': 7310, 'institutional': 7311, 'attendance': 7312, 'el': 7313, 'debuts': 7314, 'Symphony': 7315, 'AK': 7316, 'smith': 7317, 'lowers': 7318, 'earns': 7319, 'indonesian': 7320, 'killings': 7321, 'abduction': 7322, 'foreclosures': 7323, 'driveby': 7324, 'serena': 7325, 'bump': 7326, 'Streets': 7327, 'sponsors': 7328, 'regard': 7329, 'cheaper': 7330, 'ousted': 7331, 'Wigan': 7332, 'chapter': 7333, 'kuwait': 7334, 'Aviv': 7335, 'Boss': 7336, 'messaging': 7337, 'Arquette': 7338, 'assassination': 7339, 'Glen': 7340, 'sting': 7341, 'Nova': 7342, 'premises': 7343, 'speeds': 7344, 'kazakhstan': 7345, 'tanks': 7346, 'quarters': 7347, 'marketplace': 7348, 'bears': 7349, 'Stones': 7350, 'initiated': 7351, 'cigarettes': 7352, 'tweet': 7353, 'intense': 7354, 'Culture': 7355, 'Rail': 7356, 'Syracuse': 7357, 'Order': 7358, 'maruti': 7359, 'Portuguese': 7360, 'liam': 7361, 'offseason': 7362, 'meals': 7363, 'ash': 7364, 'spree': 7365, 'steam': 7366, 'consultation': 7367, 'jointly': 7368, 'operates': 7369, 'creditors': 7370, 'Knicks': 7371, 'McLaren': 7372, 'spin': 7373, 'difficulties': 7374, 'battered': 7375, 'barry': 7376, 'example': 7377, 'Wyoming': 7378, 'Suffolk': 7379, 'relegation': 7380, 'repay': 7381, 'proposing': 7382, 'editorial': 7383, 'hunter': 7384, 'Tevez': 7385, 'mega': 7386, 'resolved': 7387, 'transactions': 7388, 'Be': 7389, 'lets': 7390, 'predicts': 7391, 'Average': 7392, 'elite': 7393, 'territorial': 7394, 'grandmother': 7395, 'visas': 7396, 'kidnap': 7397, 'raids': 7398, 'criticised': 7399, 'businessmen': 7400, 'Abbott': 7401, 'Sharapova': 7402, 'recognised': 7403, 'jockey': 7404, 'AB': 7405, 'protestors': 7406, 'stalking': 7407, 'scrapped': 7408, 'transparency': 7409, 'rogue': 7410, 'methods': 7411, 'Halifax': 7412, 'highlights': 7413, 'concerning': 7414, 'highprofile': 7415, 'inauguration': 7416, 'Railways': 7417, 'Dogg': 7418, 'thunderstorms': 7419, 'vessels': 7420, 'fullback': 7421, 'prefers': 7422, 'indie': 7423, 'classroom': 7424, 'volcano': 7425, 'Crawford': 7426, 'Universal': 7427, 'fever': 7428, 'prop': 7429, 'Bradford': 7430, 'casualties': 7431, 'Foster': 7432, 'tribunal': 7433, 'travellers': 7434, 'Focus': 7435, 'IP': 7436, 'procedures': 7437, 'Asset': 7438, 'logistics': 7439, 'Bryan': 7440, 'milwaukee': 7441, 'Children': 7442, 'distributed': 7443, 'Castle': 7444, 'Parkway': 7445, 'teach': 7446, 'dancing': 7447, 'detectives': 7448, 'belarus': 7449, 'toy': 7450, 'immigrant': 7451, 'subsidies': 7452, 'Danish': 7453, 'permit': 7454, 'Choice': 7455, 'observers': 7456, 'Hotels': 7457, 'Djokovic': 7458, 'bristol': 7459, 'foods': 7460, 'panasonic': 7461, 'kristen': 7462, 'seattle': 7463, 'Book': 7464, 'unemployed': 7465, 'wounding': 7466, 'Governments': 7467, 'scanner': 7468, 'exam': 7469, 'sometime': 7470, 'Somerset': 7471, 'departure': 7472, 'lions': 7473, 'reelected': 7474, 'cabin': 7475, 'stance': 7476, 'graduation': 7477, 'Harvey': 7478, 'Hopkins': 7479, 'planting': 7480, 'tragic': 7481, 'pursuit': 7482, 'piracy': 7483, 'kid': 7484, 'tap': 7485, 'burnt': 7486, 'rescues': 7487, 'replaces': 7488, 'Ronson': 7489, 'corrupt': 7490, 'presidentelect': 7491, 'tesco': 7492, 'grid': 7493, 'introducing': 7494, 'earning': 7495, 'Weekly': 7496, 'autumn': 7497, 'consideration': 7498, 'repeated': 7499, 'thief': 7500, 'BNP': 7501, 'ceremonies': 7502, 'dismissal': 7503, 'Hugh': 7504, 'Ramirez': 7505, 'successor': 7506, 'pittsburgh': 7507, 'Dead': 7508, 'placing': 7509, 'Pop': 7510, 'findings': 7511, 'tightened': 7512, 'Dominican': 7513, 'Cain': 7514, 'Claire': 7515, 'administrator': 7516, 'Jean': 7517, 'automakers': 7518, 'Scotia': 7519, 'Stamford': 7520, 'fourthquarter': 7521, 'Amanda': 7522, 'Klum': 7523, 'recognize': 7524, 'Durham': 7525, 'Derek': 7526, 'achievements': 7527, 'yoga': 7528, 'globally': 7529, 'neighbor': 7530, 'beyonce': 7531, 'Communist': 7532, 'upheld': 7533, 'removal': 7534, 'Niagara': 7535, 'showcase': 7536, 'abandon': 7537, 'Newark': 7538, 'Walmart': 7539, 'Hull': 7540, 'clashed': 7541, 'SAN': 7542, 'suspending': 7543, 'Vick': 7544, 'builder': 7545, 'reference': 7546, 'Draft': 7547, 'Jaguars': 7548, 'bullpen': 7549, 'harvest': 7550, 'Banking': 7551, 'At': 7552, 'Walters': 7553, 'reunited': 7554, 'Aung': 7555, 'lanes': 7556, 'subdued': 7557, 'Paltrow': 7558, 'predict': 7559, 'behavior': 7560, 'yards': 7561, 'Filipino': 7562, 'middleweight': 7563, 'Mourinho': 7564, 'Premiership': 7565, 'Interactive': 7566, 'insurers': 7567, 'elements': 7568, 'lobby': 7569, 'trademark': 7570, 'jesse': 7571, 'cigarette': 7572, 'Dutt': 7573, 'peacefully': 7574, 'cup': 7575, 'Palmer': 7576, 'ages': 7577, 'eddie': 7578, 'Krishna': 7579, 'painting': 7580, 'rachel': 7581, 'chaos': 7582, 'husbands': 7583, 'motel': 7584, 'Siemens': 7585, 'uk': 7586, 'riots': 7587, 'soared': 7588, 'capsized': 7589, 'admission': 7590, 'FOX': 7591, 'Darren': 7592, 'Winslet': 7593, 'Small': 7594, 'reunite': 7595, 'Kerr': 7596, 'Imran': 7597, 'Vincent': 7598, 'connect': 7599, 'lists': 7600, 'Intelligence': 7601, 'presenting': 7602, 'platinum': 7603, 'organisations': 7604, 'shale': 7605, 'represents': 7606, 'Capello': 7607, 'allrounder': 7608, 'Minsk': 7609, 'deportation': 7610, 'constable': 7611, 'sprained': 7612, 'Yorks': 7613, 'buffalo': 7614, 'Marketing': 7615, 'gubernatorial': 7616, 'Telegraph': 7617, 'dengue': 7618, 'Reporter': 7619, 'Computer': 7620, 'Zambia': 7621, 'atlanta': 7622, 'wellknown': 7623, 'disney': 7624, 'TVs': 7625, 'Tree': 7626, 'medicines': 7627, 'slows': 7628, 'Rally': 7629, 'combination': 7630, 'plate': 7631, 'Private': 7632, 'Oracle': 7633, 'jamie': 7634, 'ND': 7635, 'trophy': 7636, 'unfair': 7637, 'thomas': 7638, 'slower': 7639, 'anger': 7640, 'Ryder': 7641, 'Jeffrey': 7642, 'shook': 7643, 'Moines': 7644, 'indians': 7645, 'apologise': 7646, 'truly': 7647, 'associate': 7648, 'linking': 7649, 'stalled': 7650, 'Cedar': 7651, 'aggregate': 7652, 'Klitschko': 7653, 'stories': 7654, 'WBC': 7655, 'kentucky': 7656, 'runoff': 7657, 'Bath': 7658, 'kyrgyzstan': 7659, 'Australians': 7660, 'Harvard': 7661, 'Travel': 7662, 'Fall': 7663, 'nobody': 7664, 'sparking': 7665, 'Wilkinson': 7666, 'taste': 7667, 'bridges': 7668, 'seizure': 7669, 'harm': 7670, 'Trend': 7671, 'emirates': 7672, 'cisco': 7673, 'Cage': 7674, 'Northeast': 7675, 'ethanol': 7676, 'mode': 7677, 'trader': 7678, 'boil': 7679, 'bowl': 7680, 'alaska': 7681, 'dow': 7682, 'lashes': 7683, 'explodes': 7684, 'hunters': 7685, 'sentences': 7686, 'bones': 7687, 'Troy': 7688, 'mosque': 7689, 'wet': 7690, 'satisfaction': 7691, 'Colts': 7692, 'prayer': 7693, 'prayers': 7694, 'guitar': 7695, 'columnist': 7696, 'Stakes': 7697, 'greenback': 7698, 'integrity': 7699, 'reputation': 7700, 'acknowledged': 7701, 'Clemens': 7702, 'booking': 7703, 'cleanup': 7704, 'Griffin': 7705, 'ireland': 7706, 'bedroom': 7707, 'firmer': 7708, 'Palestine': 7709, 'Daytona': 7710, 'scholarships': 7711, 'Betty': 7712, 'repurchase': 7713, 'Oxford': 7714, 'under': 7715, 'Lords': 7716, 'Nuggets': 7717, 'wheelchair': 7718, 'Presidents': 7719, 'upside': 7720, 'awaiting': 7721, 'portsmouth': 7722, 'mansion': 7723, 'gym': 7724, 'aware': 7725, 'jimmy': 7726, 'blogger': 7727, 'Bonds': 7728, 'caps': 7729, 'Doug': 7730, 'restoration': 7731, 'murders': 7732, 'clinched': 7733, 'Greene': 7734, 'Rolling': 7735, 'Vanessa': 7736, 'urgent': 7737, 'Greater': 7738, 'Stuart': 7739, 'pages': 7740, 'tornadoes': 7741, 'folk': 7742, 'wikiLeaks': 7743, 'Hornets': 7744, 'formerly': 7745, 'courtroom': 7746, 'POLICE': 7747, 'packages': 7748, 'relation': 7749, 'Pierce': 7750, 'lighting': 7751, 'describing': 7752, 'yield': 7753, 'Vermont': 7754, 'yankees': 7755, 'MVP': 7756, 'civic': 7757, 'Laura': 7758, 'alarm': 7759, 'crops': 7760, 'Mancini': 7761, 'Zuckerberg': 7762, 'contempt': 7763, 'Against': 7764, 'legacy': 7765, 'champ': 7766, 'Aliyev': 7767, 'Santos': 7768, 'thailand': 7769, 'dump': 7770, 'starter': 7771, 'salman': 7772, 'typhoon': 7773, 'tweets': 7774, 'Race': 7775, 'plunges': 7776, 'Assad': 7777, 'secondquarter': 7778, 'Arsene': 7779, 'advocate': 7780, 'Living': 7781, 'inches': 7782, 'Jul': 7783, 'blaming': 7784, 'maiden': 7785, 'surrendered': 7786, 'devastated': 7787, 'crane': 7788, 'Fabio': 7789, 'Fitch': 7790, 'Tyson': 7791, 'Vijay': 7792, 'robust': 7793, 'Half': 7794, 'contestant': 7795, 'Rich': 7796, 'database': 7797, 'agreeing': 7798, 'maybe': 7799, 'Age': 7800, 'blockade': 7801, 'Change': 7802, 'programming': 7803, 'Ronnie': 7804, 'semiconductor': 7805, 'purpose': 7806, 'argentina': 7807, 'casting': 7808, 'rig': 7809, 'sum': 7810, 'lightweight': 7811, 'treating': 7812, 'DS': 7813, 'sole': 7814, 'payroll': 7815, 'solidarity': 7816, 'infections': 7817, 'lots': 7818, 'Apples': 7819, 'Ten': 7820, 'Huffington': 7821, 'gig': 7822, 'groin': 7823, 'airspace': 7824, 'engage': 7825, 'notices': 7826, 'Elton': 7827, 'Swan': 7828, 'Benitez': 7829, 'Bombay': 7830, 'undergone': 7831, 'Wars': 7832, 'Oprah': 7833, 'burden': 7834, 'commuters': 7835, 'bargain': 7836, 'eggs': 7837, 'XI': 7838, 'Pistorius': 7839, 'dramatically': 7840, 'disabilities': 7841, 'Rodgers': 7842, 'sort': 7843, 'bitten': 7844, 'infected': 7845, 'ASEAN': 7846, 'intellectual': 7847, 'Sudanese': 7848, 'nearing': 7849, 'heels': 7850, 'Final': 7851, 'combine': 7852, 'demonstrations': 7853, 'nicolas': 7854, 'vandals': 7855, 'Walter': 7856, 'describes': 7857, 'eagle': 7858, 'JD': 7859, 'sexy': 7860, 'dentist': 7861, 'scottish': 7862, 'slumped': 7863, 'Lancaster': 7864, 'busted': 7865, 'Adrian': 7866, 'mechanism': 7867, 'marched': 7868, 'expense': 7869, 'committees': 7870, 'coroner': 7871, 'Clippers': 7872, 'richest': 7873, 'Advani': 7874, 'legislature': 7875, 'coup': 7876, 'LTTE': 7877, 'reactor': 7878, 'spectacular': 7879, 'confirming': 7880, 'Hannah': 7881, 'Equity': 7882, 'Boris': 7883, 'uprising': 7884, 'dementia': 7885, 'factories': 7886, 'Robertson': 7887, 'nepal': 7888, 'Gonzalez': 7889, 'collections': 7890, 'Future': 7891, 'skating': 7892, 'kings': 7893, 'Joint': 7894, 'shortages': 7895, 'Sussex': 7896, 'vegetables': 7897, 'Seng': 7898, 'Pearl': 7899, 'gala': 7900, 'When': 7901, 'volumes': 7902, 'monitors': 7903, 'stopping': 7904, 'taipei': 7905, 'Chuck': 7906, 'consolidate': 7907, 'Frances': 7908, 'Tunisia': 7909, 'Khalifa': 7910, 'nickel': 7911, 'mel': 7912, 'thus': 7913, 'spotlight': 7914, 'Carroll': 7915, 'reiterates': 7916, 'arguing': 7917, 'friendship': 7918, 'Gray': 7919, 'certainly': 7920, 'surpassed': 7921, 'barrier': 7922, 'Hamburg': 7923, 'slips': 7924, 'Empire': 7925, 'hammer': 7926, 'Duchess': 7927, 'Robbie': 7928, 'Redknapp': 7929, 'malaria': 7930, 'Monica': 7931, 'length': 7932, 'Inn': 7933, 'writers': 7934, 'Oliver': 7935, 'Holland': 7936, 'profitability': 7937, 'embezzlement': 7938, 'Ivory': 7939, 'pete': 7940, 'handing': 7941, 'Slam': 7942, 'councillor': 7943, 'reaction': 7944, 'gunfire': 7945, 'Cisco': 7946, 'renovation': 7947, 'stamp': 7948, 'donor': 7949, 'actively': 7950, 'pancreatic': 7951, 'Senators': 7952, 'embattled': 7953, 'Resorts': 7954, 'Trading': 7955, 'lord': 7956, 'empty': 7957, 'Kidman': 7958, 'bearish': 7959, 'committing': 7960, 'bicyclist': 7961, 'automatic': 7962, 'exhibit': 7963, 'widens': 7964, 'Bengals': 7965, 'wood': 7966, 'Sullivan': 7967, 'budgets': 7968, 'birmingham': 7969, 'ICICI': 7970, 'Ice': 7971, 'remainder': 7972, 'jeff': 7973, 'Lynn': 7974, 'Padres': 7975, 'hide': 7976, 'hidden': 7977, 'indeed': 7978, 'dumping': 7979, 'minors': 7980, 'thank': 7981, 'tradition': 7982, 'poet': 7983, 'Shaun': 7984, 'Complex': 7985, 'Prairie': 7986, 'promotes': 7987, 'Vodafone': 7988, 'Stern': 7989, 'trio': 7990, 'meter': 7991, 'depth': 7992, 'roots': 7993, 'tighten': 7994, 'Cruises': 7995, 'Lyon': 7996, 'meth': 7997, 'highlighting': 7998, 'JayZ': 7999, 'Slovenia': 8000, 'Ike': 8001, 'discipline': 8002, 'injection': 8003, 'operated': 8004, 'surface': 8005, 'Captain': 8006, 'estimate': 8007, 'headline': 8008, 'negotiate': 8009, 'choices': 8010, 'Shield': 8011, 'Target': 8012, 'requires': 8013, 'Orchestra': 8014, 'Travis': 8015, 'endangerment': 8016, 'accelerated': 8017, 'outages': 8018, 'Gate': 8019, 'Player': 8020, 'Investigation': 8021, 'Boxing': 8022, 'Arabian': 8023, 'drain': 8024, 'Vista': 8025, 'Sandra': 8026, 'experimental': 8027, 'hostages': 8028, 'Command': 8029, 'manner': 8030, 'handset': 8031, 'Mercedes': 8032, 'punching': 8033, 'kiss': 8034, 'pets': 8035, 'familys': 8036, 'tonne': 8037, 'Frankfurt': 8038, 'fed': 8039, 'makeover': 8040, 'pig': 8041, 'reliable': 8042, 'cleaning': 8043, 'aaron': 8044, 'Kids': 8045, 'safer': 8046, 'Citigroup': 8047, 'exploitation': 8048, 'Abraham': 8049, 'Knox': 8050, 'curfew': 8051, 'william': 8052, 'Rockies': 8053, 'merchant': 8054, 'frank': 8055, 'tariffs': 8056, 'Companys': 8057, 'Portman': 8058, 'complained': 8059, 'Shell': 8060, 'Willis': 8061, 'ripped': 8062, 'crossborder': 8063, 'More': 8064, 'servants': 8065, 'flies': 8066, 'deny': 8067, 'Gilbert': 8068, 'toys': 8069, 'Rivers': 8070, 'warren': 8071, 'cats': 8072, 'dean': 8073, 'grandfather': 8074, 'tweeted': 8075, 'qualifiers': 8076, 'MTN': 8077, 'derailed': 8078, 'songwriter': 8079, 'gesture': 8080, 'textile': 8081, 'Vettel': 8082, 'grabbed': 8083, 'celtic': 8084, 'Isle': 8085, 'Accra': 8086, 'travelers': 8087, 'plenty': 8088, 'belonging': 8089, 'accreditation': 8090, 'abu': 8091, 'Diana': 8092, 'establishing': 8093, 'wrapped': 8094, 'experiences': 8095, 'spare': 8096, 'MLS': 8097, 'factors': 8098, 'Guardian': 8099, 'na': 8100, 'vampire': 8101, 'signature': 8102, 'Coffee': 8103, 'sore': 8104, 'Films': 8105, 'DWI': 8106, 'warship': 8107, 'Dynamics': 8108, 'inventory': 8109, 'Walt': 8110, 'MRI': 8111, 'Sound': 8112, 'Commercial': 8113, 'Veterans': 8114, 'concessions': 8115, 'cemetery': 8116, 'sitcom': 8117, 'Bear': 8118, 'Come': 8119, 'serves': 8120, 'generic': 8121, 'Macau': 8122, 'dissident': 8123, 'Amber': 8124, 'signals': 8125, 'foster': 8126, 'Hispanic': 8127, 'hacking': 8128, 'Swansea': 8129, 'However': 8130, 'thefts': 8131, 'utah': 8132, 'temperature': 8133, 'vandalism': 8134, 'barred': 8135, 'adaptation': 8136, 'Cooperation': 8137, 'wrap': 8138, 'Depot': 8139, 'bathroom': 8140, 'smash': 8141, 'appetite': 8142, 'Municipal': 8143, 'informs': 8144, 'BT': 8145, 'consortium': 8146, 'nigerian': 8147, 'CocaCola': 8148, 'Schumacher': 8149, 'Leafs': 8150, 'bonus': 8151, 'runner': 8152, 'Macedonia': 8153, 'Hawks': 8154, 'establishment': 8155, 'successive': 8156, 'attendant': 8157, 'Antony': 8158, 'Magistrates': 8159, 'spying': 8160, 'Dream': 8161, 'floating': 8162, 'obsessed': 8163, 'Ossetia': 8164, 'lodged': 8165, 'acid': 8166, 'mahindra': 8167, 'Access': 8168, 'meltdown': 8169, 'yacht': 8170, 'cardinals': 8171, 'Texans': 8172, 'Balotelli': 8173, 'Gingrich': 8174, 'Matthews': 8175, 'Dell': 8176, 'letting': 8177, 'elton': 8178, 'cook': 8179, 'aground': 8180, 'Mayo': 8181, 'williams': 8182, 'penn': 8183, 'medvedev': 8184, 'oracle': 8185, 'waive': 8186, 'activate': 8187, 'deploy': 8188, 'followers': 8189, 'Flyers': 8190, 'rafael': 8191, 'Coyotes': 8192, 'goodwill': 8193, 'Finnish': 8194, 'mouth': 8195, 'industrys': 8196, 'Bharatiya': 8197, 'item': 8198, 'breakaway': 8199, 'minorities': 8200, 'Franco': 8201, 'Gabrielle': 8202, 'Islamist': 8203, 'publishers': 8204, 'founded': 8205, 'Nazi': 8206, 'whatever': 8207, 'his': 8208, 'contamination': 8209, 'railroad': 8210, 'testified': 8211, 'sleeping': 8212, 'anne': 8213, 'Erie': 8214, 'Mortgage': 8215, 'desire': 8216, 'polar': 8217, 'Hungarian': 8218, 'Movement': 8219, 'consultant': 8220, 'charles': 8221, 'Plaza': 8222, 'indices': 8223, 'Mesa': 8224, 'extremists': 8225, 'backyard': 8226, 'disappeared': 8227, 'ceiling': 8228, 'fragile': 8229, 'Tower': 8230, 'Spurs': 8231, 'Duff': 8232, 'jeremy': 8233, 'cuban': 8234, 'guys': 8235, 'provision': 8236, 'Lt': 8237, 'Last': 8238, 'nationally': 8239, 'rid': 8240, 'steroids': 8241, 'leagues': 8242, 'Perez': 8243, 'dirty': 8244, 'harsh': 8245, 'alAssad': 8246, 'Canterbury': 8247, 'Season': 8248, 'Just': 8249, 'BAE': 8250, 'Johnston': 8251, 'bicycle': 8252, 'collecting': 8253, 'flexible': 8254, 'cab': 8255, 'Cannon': 8256, 'vendors': 8257, 'types': 8258, 'opponent': 8259, 'firstround': 8260, 'Jenkins': 8261, 'turnover': 8262, 'occupy': 8263, 'beloved': 8264, 'inch': 8265, 'sovereignty': 8266, 'Ranch': 8267, 'sweet': 8268, 'daylight': 8269, 'Busch': 8270, 'slapped': 8271, 'attends': 8272, 'ryanair': 8273, 'Carlo': 8274, 'campaigning': 8275, 'Brunswick': 8276, 'wolves': 8277, 'Carr': 8278, 'dividends': 8279, 'nifty': 8280, 'cease': 8281, 'mainstream': 8282, 'freeagent': 8283, 'Holocaust': 8284, 'sinks': 8285, 'sam': 8286, 'ferrari': 8287, 'injures': 8288, 'thirdquarter': 8289, 'divisions': 8290, 'sat': 8291, 'ton': 8292, 'vicepresident': 8293, 'remarkable': 8294, 'worsening': 8295, 'debris': 8296, 'smokers': 8297, 'robin': 8298, 'Prevention': 8299, 'focuses': 8300, 'NYSE': 8301, 'mid': 8302, 'apparel': 8303, 'Playboy': 8304, 'maria': 8305, 'Shriver': 8306, 'federation': 8307, 'gearing': 8308, 'securing': 8309, 'counsel': 8310, 'Stanford': 8311, 'sailing': 8312, 'consent': 8313, 'Astros': 8314, 'Pride': 8315, 'viral': 8316, 'PMLN': 8317, 'neighbouring': 8318, 'Amtrak': 8319, 'Raul': 8320, 'besides': 8321, 'joy': 8322, 'Yang': 8323, 'Halloween': 8324, 'Nolan': 8325, 'sailors': 8326, 'fraudulent': 8327, 'conglomerate': 8328, 'dealt': 8329, 'famed': 8330, 'pork': 8331, 'Wilmington': 8332, 'bayern': 8333, 'Nawaz': 8334, 'concludes': 8335, 'continental': 8336, 'detailed': 8337, 'treatments': 8338, 'Border': 8339, 'Northwest': 8340, 'plug': 8341, 'desktop': 8342, 'dan': 8343, 'aftermath': 8344, 'Work': 8345, 'Rai': 8346, 'FTSE': 8347, 'raided': 8348, 'sad': 8349, 'Second': 8350, 'Paulo': 8351, 'Managing': 8352, 'Noel': 8353, 'Commons': 8354, 'emails': 8355, 'Chrome': 8356, 'confirmation': 8357, 'seemed': 8358, 'WalMart': 8359, 'Shetty': 8360, 'liability': 8361, 'affirmed': 8362, 'enjoys': 8363, 'kilometres': 8364, 'Freddie': 8365, 'democrats': 8366, 'deserve': 8367, 'your': 8368, 'tamil': 8369, 'sparks': 8370, 'JSE': 8371, 'thermal': 8372, 'obligations': 8373, 'portable': 8374, 'mariah': 8375, 'czech': 8376, 'Spains': 8377, 'Pratibha': 8378, 'impressed': 8379, 'Hero': 8380, 'bracing': 8381, 'dancer': 8382, 'charities': 8383, 'inspectors': 8384, 'Marco': 8385, 'balanced': 8386, 'pray': 8387, 'Damon': 8388, 'baltimore': 8389, 'Hood': 8390, 'testimony': 8391, 'venue': 8392, 'rivers': 8393, 'Sanjay': 8394, 'poultry': 8395, 'characters': 8396, 'disruption': 8397, 'tumble': 8398, 'sharks': 8399, 'eva': 8400, 'Beirut': 8401, 'pushes': 8402, 'Cannes': 8403, 'Button': 8404, 'alltime': 8405, 'Master': 8406, 'Morrison': 8407, 'Preston': 8408, 'disclosure': 8409, 'Curtis': 8410, 'Dominique': 8411, 'prosperity': 8412, 'amongst': 8413, 'Automotive': 8414, 'Ponting': 8415, 'literacy': 8416, 'expression': 8417, 'critic': 8418, 'medium': 8419, 'pitching': 8420, 'Emma': 8421, 'Ethiopia': 8422, 'soar': 8423, 'strange': 8424, 'Presidentelect': 8425, 'learnt': 8426, 'ideal': 8427, 'bombers': 8428, 'anywhere': 8429, 'Austrian': 8430, 'outgoing': 8431, 'otherwise': 8432, 'commuter': 8433, 'Sanford': 8434, 'annually': 8435, 'downloads': 8436, 'Marie': 8437, 'bulgarian': 8438, 'pubs': 8439, 'explained': 8440, 'negligent': 8441, 'troopers': 8442, 'Surrey': 8443, 'Hague': 8444, 'armenian': 8445, 'Alto': 8446, 'provisions': 8447, 'installation': 8448, 'courthouse': 8449, 'suburbs': 8450, 'Vienna': 8451, 'yemen': 8452, 'Trafford': 8453, 'Dylan': 8454, 'Parliamentary': 8455, 'imminent': 8456, 'Devils': 8457, 'rocked': 8458, 'Joey': 8459, 'laboratory': 8460, 'copyright': 8461, 'audiences': 8462, 'afford': 8463, 'unite': 8464, 'Ehud': 8465, 'Shannon': 8466, 'measuring': 8467, 'ray': 8468, 'Treasurer': 8469, 'Dance': 8470, 'Mens': 8471, 'ward': 8472, 'splitting': 8473, 'denying': 8474, 'UC': 8475, 'medalist': 8476, 'interesting': 8477, 'transfers': 8478, 'Bhutto': 8479, 'nice': 8480, 'integrate': 8481, 'conducting': 8482, 'indoor': 8483, 'canal': 8484, 'episodes': 8485, 'Tsvangirai': 8486, 'serbia': 8487, 'Soviet': 8488, 'Kenyan': 8489, 'stunned': 8490, 'errors': 8491, 'convinced': 8492, 'laptops': 8493, 'ODI': 8494, 'cooking': 8495, 'crazy': 8496, 'Kyrgyz': 8497, 'sean': 8498, 'bet': 8499, 'elects': 8500, 'Turkmenistan': 8501, 'bow': 8502, 'reopening': 8503, 'renewal': 8504, 'motorist': 8505, 'usual': 8506, 'silent': 8507, 'peers': 8508, 'Rico': 8509, 'campbell': 8510, 'hazardous': 8511, 'She': 8512, 'Vernon': 8513, 'Property': 8514, 'Miguel': 8515, 'Kunis': 8516, 'tiny': 8517, 'distributing': 8518, 'Burke': 8519, 'hangs': 8520, 'iPhones': 8521, 'christian': 8522, 'forgery': 8523, 'establishes': 8524, 'african': 8525, 'cleric': 8526, 'bottles': 8527, 'patrick': 8528, 'jackson': 8529, 'kyle': 8530, 'discusses': 8531, 'migrant': 8532, 'tenants': 8533, 'patch': 8534, 'medication': 8535, 'escalating': 8536, 'semi': 8537, 'showdown': 8538, 'shrank': 8539, 'experiencing': 8540, 'colleague': 8541, 'Dodge': 8542, 'girlfriends': 8543, 'republic': 8544, 'automation': 8545, 'holdings': 8546, 'CITY': 8547, 'dust': 8548, 'amidst': 8549, 'Rajapaksa': 8550, 'Burma': 8551, 'daytime': 8552, 'statutory': 8553, 'vast': 8554, 'punch': 8555, 'Branch': 8556, 'fourday': 8557, 'Electronic': 8558, 'preserve': 8559, 'dreams': 8560, 'Miranda': 8561, 'Nets': 8562, 'Circle': 8563, 'lifting': 8564, 'Wolves': 8565, 'lover': 8566, 'Baba': 8567, 'sewer': 8568, 'naomi': 8569, 'calf': 8570, 'reconstruction': 8571, 'Michel': 8572, 'bias': 8573, 'comparison': 8574, 'appearances': 8575, 'slashes': 8576, 'walMart': 8577, 'Kindle': 8578, 'TSX': 8579, 'Lansing': 8580, 'discussing': 8581, 'glory': 8582, 'exboyfriend': 8583, 'Reagan': 8584, 'firearm': 8585, 'Hezbollah': 8586, 'stint': 8587, 'narrowed': 8588, 'Actress': 8589, 'wholly': 8590, 'judgment': 8591, 'fertilizer': 8592, 'majors': 8593, 'Jiabao': 8594, 'Uganda': 8595, 'brandon': 8596, 'heated': 8597, 'inter': 8598, 'Iceland': 8599, 'disasters': 8600, 'Irene': 8601, 'mob': 8602, 'lined': 8603, 'stupid': 8604, 'opted': 8605, 'Horizon': 8606, 'Jorge': 8607, 'headlines': 8608, 'Geithner': 8609, 'Karl': 8610, 'ted': 8611, 'Pass': 8612, 'self': 8613, 'halftime': 8614, 'lorry': 8615, 'skies': 8616, 'Christ': 8617, 'embezzling': 8618, 'trim': 8619, 'Canberra': 8620, 'Kay': 8621, 'responds': 8622, 'Arlington': 8623, 'melbourne': 8624, 'incentive': 8625, 'bestselling': 8626, 'moratorium': 8627, 'pieces': 8628, 'Unit': 8629, 'partly': 8630, 'ecuador': 8631, 'undercover': 8632, 'protested': 8633, 'Suns': 8634, 'inspector': 8635, 'breakdown': 8636, 'alan': 8637, 'reservation': 8638, 'happiness': 8639, 'Midlands': 8640, 'Retail': 8641, 'Luther': 8642, 'neighboring': 8643, 'woods': 8644, 'howard': 8645, 'Amsterdam': 8646, 'demonstrate': 8647, 'Hindi': 8648, 'ordinary': 8649, 'Simmons': 8650, 'Rescue': 8651, 'impersonating': 8652, 'Bang': 8653, 'weighing': 8654, 'brett': 8655, 'etihad': 8656, 'gates': 8657, 'Nielsen': 8658, 'promoter': 8659, 'chinas': 8660, 'dipped': 8661, 'Ecuador': 8662, 'Hogan': 8663, 'attitude': 8664, 'Helen': 8665, 'duke': 8666, 'disorders': 8667, 'amber': 8668, 'evaluation': 8669, 'zardari': 8670, 'havoc': 8671, 'App': 8672, 'cyclone': 8673, 'pitched': 8674, 'sergeant': 8675, 'disturbance': 8676, 'contrary': 8677, 'indigenous': 8678, 'sailor': 8679, 'persistent': 8680, 'Katrina': 8681, 'Jet': 8682, 'Ronald': 8683, 'strained': 8684, 'larceny': 8685, 'destruction': 8686, 'appreciation': 8687, 'menu': 8688, 'Archbishop': 8689, 'Chaudhry': 8690, 'Novosti': 8691, 'Nikkei': 8692, 'tunnel': 8693, 'Fish': 8694, 'premiums': 8695, 'Pine': 8696, 'Kamal': 8697, 'Lautner': 8698, 'Grace': 8699, 'borrow': 8700, 'spark': 8701, 'witnessed': 8702, 'pepper': 8703, 'Eye': 8704, 'Hernandez': 8705, 'examine': 8706, 'fingers': 8707, 'liquid': 8708, 'crystal': 8709, 'Rural': 8710, 'assess': 8711, 'Croatia': 8712, 'Aamir': 8713, 'criticized': 8714, 'widow': 8715, 'crushing': 8716, 'litre': 8717, 'economics': 8718, 'flooded': 8719, 'shifted': 8720, 'CPI': 8721, 'Sanders': 8722, 'lengthy': 8723, 'Oval': 8724, 'Barrymore': 8725, 'scholarship': 8726, 'Dunn': 8727, 'spate': 8728, 'Our': 8729, 'councilman': 8730, 'Olmert': 8731, 'franklin': 8732, 'selena': 8733, 'joke': 8734, 'Instruments': 8735, 'Semiconductor': 8736, 'jose': 8737, 'constituency': 8738, 'Fourth': 8739, 'Re': 8740, 'Mirza': 8741, 'Daniels': 8742, 'enemy': 8743, 'Laurent': 8744, 'Ferdinand': 8745, 'margins': 8746, 'taught': 8747, 'Georgetown': 8748, 'tigers': 8749, 'jackpot': 8750, 'Montag': 8751, 'Huntington': 8752, 'der': 8753, 'directing': 8754, 'DiCaprio': 8755, 'USS': 8756, 'Cristiano': 8757, 'youTube': 8758, 'searched': 8759, 'Pa': 8760, 'donating': 8761, 'mount': 8762, 'Take': 8763, 'Canucks': 8764, 'forever': 8765, 'Hurricanes': 8766, 'longawaited': 8767, 'Sons': 8768, 'ONeill': 8769, 'controlling': 8770, 'loyal': 8771, 'Bible': 8772, 'tire': 8773, 'ian': 8774, 'Downs': 8775, 'matthew': 8776, 'breaching': 8777, 'relationships': 8778, 'princess': 8779, 'copies': 8780, 'respects': 8781, 'consulate': 8782, 'p': 8783, 'sophomore': 8784, 'bobby': 8785, 'adele': 8786, 'Rev': 8787, 'colin': 8788, 'acted': 8789, 'barbara': 8790, 'preventing': 8791, 'bruce': 8792, 'lieutenant': 8793, 'EP': 8794, 'occupation': 8795, 'overwhelming': 8796, 'scared': 8797, 'downgrade': 8798, 'recommends': 8799, 'yy': 8800, 'greg': 8801, 'nadal': 8802, 'clinch': 8803, 'lied': 8804, 'Leicester': 8805, 'WA': 8806, 'gulf': 8807, 'clearly': 8808, 'Lily': 8809, 'shifting': 8810, 'abdominal': 8811, 'drowning': 8812, 'Brendan': 8813, 'Grande': 8814, 'MySpace': 8815, 'Aquino': 8816, 'hates': 8817, 'MS': 8818, 'Lou': 8819, 'divided': 8820, 'outlet': 8821, 'deliberately': 8822, 'wifes': 8823, 'RIA': 8824, 'synthetic': 8825, 'telecoms': 8826, 'AJ': 8827, 'teaming': 8828, 'breathing': 8829, 'reversing': 8830, 'Primary': 8831, 'Lumpur': 8832, 'lucrative': 8833, 'respiratory': 8834, 'attracting': 8835, 'automated': 8836, 'modified': 8837, 'neighbour': 8838, 'Metropolitan': 8839, 'sinking': 8840, 'rated': 8841, 'owes': 8842, 'arrivals': 8843, 'Leone': 8844, 'broadcasting': 8845, 'requirement': 8846, 'bizarre': 8847, 'Shiite': 8848, 'Burlington': 8849, 'dictator': 8850, 'sounds': 8851, 'disappointment': 8852, 'movements': 8853, 'generations': 8854, 'Reno': 8855, 'dominant': 8856, 'patience': 8857, 'anthem': 8858, 'mini': 8859, 'metric': 8860, 'conclusion': 8861, 'Box': 8862, 'freezing': 8863, 'PS': 8864, 'unlawful': 8865, 'AllAmerican': 8866, 'Lionel': 8867, 'Messi': 8868, 'Medal': 8869, 'relatively': 8870, 'Merrill': 8871, 'Alzheimers': 8872, 'Pretoria': 8873, 'Plant': 8874, 'Efron': 8875, 'External': 8876, 'tightening': 8877, 'ALeague': 8878, 'bright': 8879, 'interviews': 8880, 'pakistans': 8881, 'rupert': 8882, 'Clegg': 8883, 'dual': 8884, 'bold': 8885, 'Gazprom': 8886, 'Corporate': 8887, 'sections': 8888, 'Dover': 8889, 'Nato': 8890, 'Lagos': 8891, 'deepening': 8892, 'auburn': 8893, 'Animal': 8894, 'comply': 8895, 'intentionally': 8896, 'pot': 8897, 'Dayton': 8898, 'clinics': 8899, 'Knoxville': 8900, 'transparent': 8901, 'brokers': 8902, 'powered': 8903, 'donors': 8904, 'Design': 8905, 'passage': 8906, 'disgraced': 8907, 'animated': 8908, 'Rover': 8909, 'longrunning': 8910, 'Belmont': 8911, 'closures': 8912, 'obese': 8913, 'Alonso': 8914, 'obtain': 8915, 'pains': 8916, 'Pierre': 8917, 'felonies': 8918, 'Zsa': 8919, 'MotoGP': 8920, 'frequent': 8921, 'josh': 8922, 'Samuel': 8923, 'amended': 8924, 'danny': 8925, 'achieving': 8926, 'rescuers': 8927, 'publics': 8928, 'bath': 8929, 'Tracy': 8930, 'bloc': 8931, 'PA': 8932, 'funny': 8933, 'Rouge': 8934, 'delaying': 8935, 'cables': 8936, 'reflect': 8937, 'grains': 8938, 'Javier': 8939, 'explosions': 8940, 'highlighted': 8941, 'ST': 8942, 'Lightning': 8943, 'indicate': 8944, 'lies': 8945, 'background': 8946, 'Victorian': 8947, 'Himachal': 8948, 'destroying': 8949, 'personally': 8950, 'Cohen': 8951, 'landfall': 8952, 'exporter': 8953, 'upward': 8954, 'Partnership': 8955, 'intoxicated': 8956, 'Wanderers': 8957, 'rumor': 8958, 'Song': 8959, 'twist': 8960, 'shake': 8961, 'derivatives': 8962, 'chains': 8963, 'purchasing': 8964, 'accord': 8965, 'conjunction': 8966, 'flick': 8967, 'Mill': 8968, 'generating': 8969, 'groundbreaking': 8970, 'Kuala': 8971, 'favourites': 8972, 'screens': 8973, 'prolonged': 8974, 'contracted': 8975, 'RIM': 8976, 'Dawn': 8977, 'Go': 8978, 'mentor': 8979, 'Monaco': 8980, 'Ind': 8981, 'virtually': 8982, 'sixmonth': 8983, 'balloon': 8984, 'Palo': 8985, 'twovehicle': 8986, 'purse': 8987, 'detect': 8988, 'Plains': 8989, 'landslide': 8990, 'wrongful': 8991, 'accelerate': 8992, 'separated': 8993, 'Hewitt': 8994, 'epidemic': 8995, 'bride': 8996, 'Wen': 8997, 'BSE': 8998, 'Tropical': 8999, 'neither': 9000, 'fog': 9001, 'LED': 9002, 'attached': 9003, 'Rossi': 9004, 'Appeal': 9005, 'eyeing': 9006, 'Bishop': 9007, 'livestock': 9008, 'Huntsman': 9009, 'desert': 9010, 'Hurley': 9011, 'invite': 9012, 'novelist': 9013, 'dick': 9014, 'yearonyear': 9015, 'cubs': 9016, 'Pedro': 9017, 'touching': 9018, 'cop': 9019, 'achievement': 9020, 'siemens': 9021, 'MD': 9022, 'Patricks': 9023, 'bargaining': 9024, 'ukrainian': 9025, 'Clayton': 9026, 'youve': 9027, 'frontier': 9028, 'martial': 9029, 'Blackhawks': 9030, 'scarlett': 9031, 'Lion': 9032, 'builds': 9033, 'robbie': 9034, 'indexes': 9035, 'rent': 9036, 'MGM': 9037, 'Gerrard': 9038, 'Anniversary': 9039, 'athletics': 9040, 'soybean': 9041, 'Universe': 9042, 'notebook': 9043, 'arab': 9044, 'eric': 9045, 'showers': 9046, 'distance': 9047, 'Hodgson': 9048, 'wonder': 9049, 'Gloucester': 9050, 'Grammer': 9051, 'austin': 9052, 'controller': 9053, 'trustees': 9054, 'collapsing': 9055, 'deeply': 9056, 'identifying': 9057, 'Rule': 9058, 'australias': 9059, 'wound': 9060, 'Ramdev': 9061, 'bases': 9062, 'entrance': 9063, 'unsecured': 9064, 'turnout': 9065, 'quest': 9066, 'principle': 9067, 'Common': 9068, 'musicians': 9069, 'rupees': 9070, 'Neutral': 9071, 'broking': 9072, 'Kobe': 9073, 'Commander': 9074, 'borrowers': 9075, 'Wembley': 9076, 'bharti': 9077, 'settlers': 9078, 'Hold': 9079, 'Endeavour': 9080, 'anthony': 9081, 'lt': 9082, 'Gore': 9083, 'visual': 9084, 'interbank': 9085, 'Torres': 9086, 'BB': 9087, 'finalist': 9088, 'Malawi': 9089, 'expires': 9090, 'postpone': 9091, 'Chartered': 9092, 'Tan': 9093, 'Baby': 9094, 'strongest': 9095, 'Fraser': 9096, 'strokes': 9097, 'guarantees': 9098, 'enemies': 9099, 'MLB': 9100, 'LLP': 9101, 'payable': 9102, 'happens': 9103, 'rooms': 9104, 'Nitish': 9105, 'OSCE': 9106, 'handsets': 9107, 'lecture': 9108, 'proof': 9109, 'infamous': 9110, 'Infrastructure': 9111, 'entrepreneur': 9112, 'UKbased': 9113, 'ODonnell': 9114, 'booming': 9115, 'Viktor': 9116, 'freak': 9117, 'smallest': 9118, 'splash': 9119, 'Superintendent': 9120, 'Drake': 9121, 'lewd': 9122, 'Programme': 9123, 'Modern': 9124, 'paving': 9125, 'Aid': 9126, 'ontario': 9127, 'earthquakes': 9128, 'Bermuda': 9129, 'hungry': 9130, 'Investors': 9131, 'Augusta': 9132, 'indicators': 9133, 'Germanys': 9134, 'Cornwall': 9135, 'Sabah': 9136, 'onetime': 9137, 'sealed': 9138, 'shower': 9139, 'snowmobile': 9140, 'labourers': 9141, 'Florence': 9142, 'moodys': 9143, 'mountains': 9144, 'both': 9145, 'pocket': 9146, 'Sergio': 9147, 'Base': 9148, 'deliveries': 9149, 'examination': 9150, 'Cathedral': 9151, 'Novak': 9152, 'lovers': 9153, 'FM': 9154, 'bidding': 9155, 'intensified': 9156, 'chose': 9157, 'sack': 9158, 'Met': 9159, 'Guantanamo': 9160, 'aerospace': 9161, 'Knightley': 9162, 'Arbor': 9163, 'properly': 9164, 'Russians': 9165, 'ranging': 9166, 'diva': 9167, 'austrian': 9168, 'Appeals': 9169, 'Crosby': 9170, 'kris': 9171, 'tuesday': 9172, 'auctions': 9173, 'Saeed': 9174, 'trash': 9175, 'gotten': 9176, 'sight': 9177, 'Taiwanese': 9178, 'Raymond': 9179, 'mln': 9180, 'Westminster': 9181, 'They': 9182, 'ammunition': 9183, 'shortterm': 9184, 'upto': 9185, 'Renault': 9186, 'convoy': 9187, 'chocolate': 9188, 'decisive': 9189, 'beverage': 9190, 'Tanzania': 9191, 'gradually': 9192, 'Million': 9193, 'Stallone': 9194, 'filling': 9195, 'lebanese': 9196, 'spreads': 9197, 'cricketers': 9198, 'attacker': 9199, 'Monte': 9200, 'slot': 9201, 'transformation': 9202, 'custom': 9203, 'childs': 9204, 'rahul': 9205, 'lance': 9206, 'township': 9207, 'resistances': 9208, 'banker': 9209, 'detainees': 9210, 'except': 9211, 'Incorporated': 9212, 'capability': 9213, 'Paula': 9214, 'prodemocracy': 9215, 'penguins': 9216, 'Movie': 9217, 'touchdown': 9218, 'Eid': 9219, 'Holy': 9220, 'landscape': 9221, 'Ban': 9222, 'bloody': 9223, 'Atlantis': 9224, 'recruits': 9225, 'apartments': 9226, 'Kurdish': 9227, 'Play': 9228, 'shrink': 9229, 'capped': 9230, 'homeland': 9231, 'impossible': 9232, 'mayoral': 9233, 'Most': 9234, 'interstate': 9235, 'implications': 9236, 'Qantas': 9237, 'freestyle': 9238, 'ear': 9239, 'anonymous': 9240, 'Doha': 9241, 'injunction': 9242, 'leaking': 9243, 'outcome': 9244, 'Hai': 9245, 'underwear': 9246, 'tone': 9247, 'Swat': 9248, 'Basu': 9249, 'finalized': 9250, 'Scouts': 9251, 'truce': 9252, 'Li': 9253, 'principles': 9254, 'locals': 9255, 'sharon': 9256, 'Highlands': 9257, 'nonstop': 9258, 'crossings': 9259, 'PCs': 9260, 'salmonella': 9261, 'swimmer': 9262, 'Plymouth': 9263, 'Honolulu': 9264, 'methamphetamine': 9265, 'immune': 9266, 'bullying': 9267, 'Beyonce': 9268, 'enabling': 9269, 'transform': 9270, 'counting': 9271, 'Fresno': 9272, 'theaters': 9273, 'listen': 9274, 'touring': 9275, 'Hudgens': 9276, 'intensify': 9277, 'hacker': 9278, 'unmanned': 9279, 'Binghamton': 9280, 'Methodist': 9281, 'conferences': 9282, 'choppy': 9283, 'Blood': 9284, 'Balochistan': 9285, 'Death': 9286, 'Marines': 9287, 'module': 9288, 'catching': 9289, 'array': 9290, 'commenced': 9291, 'stray': 9292, 'AsiaPacific': 9293, 'surging': 9294, 'missions': 9295, 'commissions': 9296, 'rabies': 9297, 'drills': 9298, 'en': 9299, 'Chilean': 9300, 'Millions': 9301, 'pirate': 9302, 'Belgrade': 9303, 'EMC': 9304, 'junk': 9305, 'intoxication': 9306, 'Story': 9307, 'detection': 9308, 'Trevor': 9309, 'Jackie': 9310, 'burglars': 9311, 'Spirit': 9312, 'lingerie': 9313, 'JC': 9314, 'versions': 9315, 'empire': 9316, 'breached': 9317, 'palestinians': 9318, 'cohost': 9319, 'stones': 9320, 'nicki': 9321, 'Booker': 9322, 'Sargsyan': 9323, 'conflicts': 9324, 'approvals': 9325, 'Mother': 9326, 'epic': 9327, 'studios': 9328, 'observe': 9329, 'Dixon': 9330, 'rumored': 9331, 'collide': 9332, 'that': 9333, 'biological': 9334, 'reese': 9335, 'overturns': 9336, 'freezes': 9337, 'revamped': 9338, 'sandra': 9339, 'Ana': 9340, 'rejecting': 9341, 'Congo': 9342, 'columbus': 9343, 'Zero': 9344, 'biden': 9345, 'Alba': 9346, 'palin': 9347, 'steals': 9348, 'oregon': 9349, 'jurors': 9350, 'eager': 9351, 'Phillip': 9352, 'Desert': 9353, 'Burton': 9354, 'directions': 9355, 'historian': 9356, 'brilliant': 9357, 'Gibb': 9358, 'triumph': 9359, 'designers': 9360, 'cyprus': 9361, 'outperform': 9362, 'Bulldogs': 9363, 'halts': 9364, 'carries': 9365, 'physician': 9366, 'rejoin': 9367, 'impaired': 9368, 'roommate': 9369, 'preview': 9370, 'demonstrated': 9371, 'antitrust': 9372, 'Operation': 9373, 'Nasdaq': 9374, 'Incs': 9375, 'dominate': 9376, 'surrounded': 9377, 'libraries': 9378, 'blues': 9379, 'emission': 9380, 'syndrome': 9381, 'Rodham': 9382, 'Thatcher': 9383, 'Notre': 9384, 'catastrophic': 9385, 'territories': 9386, 'lowering': 9387, 'attracted': 9388, 'tactics': 9389, 'none': 9390, 'extradited': 9391, 'ensuring': 9392, 'Tomas': 9393, 'maryland': 9394, 'blocking': 9395, 'Copa': 9396, 'Cavaliers': 9397, 'reinstate': 9398, 'Pakistanis': 9399, 'Abbey': 9400, 'wealthy': 9401, 'basket': 9402, 'deeper': 9403, 'honoring': 9404, 'connecting': 9405, 'candidacy': 9406, 'Cory': 9407, 'Ellen': 9408, 'Owens': 9409, 'footprint': 9410, 'unanimous': 9411, 'nintendo': 9412, 'impending': 9413, 'browns': 9414, 'kenya': 9415, 'timing': 9416, 'elsewhere': 9417, 'Heather': 9418, 'firsthalf': 9419, 'GS': 9420, 'headquartered': 9421, 'premieres': 9422, 'acceptance': 9423, 'eliminating': 9424, 'Davies': 9425, 'optical': 9426, 'electrocuted': 9427, 'Conn': 9428, 'Minerals': 9429, 'troubles': 9430, 'Silicon': 9431, 'Oasis': 9432, 'exist': 9433, 'manufacture': 9434, 'Carol': 9435, 'banner': 9436, 'Rand': 9437, 'column': 9438, 'Citys': 9439, 'Mediterranean': 9440, 'Centers': 9441, 'spared': 9442, 'Tebow': 9443, 'Do': 9444, 'sprinter': 9445, 'engulfing': 9446, 'Metal': 9447, 'Raceway': 9448, 'divers': 9449, 'churches': 9450, 'Census': 9451, 'scrutiny': 9452, 'eagles': 9453, 'onevehicle': 9454, 'deficits': 9455, 'Midland': 9456, 'quota': 9457, 'isolated': 9458, 'autobiography': 9459, 'triggering': 9460, 'meal': 9461, 'Roses': 9462, 'tomorrows': 9463, 'Ashok': 9464, 'aides': 9465, 'Boise': 9466, 'casual': 9467, 'Total': 9468, 'revenge': 9469, 'Uzbekistan': 9470, 'Kurt': 9471, 'Letterman': 9472, 'certified': 9473, 'whilst': 9474, 'condemn': 9475, 'webcast': 9476, 'pumps': 9477, 'Forbes': 9478, 'ratio': 9479, 'Radcliffe': 9480, 'follows': 9481, 'GPS': 9482, 'Sugar': 9483, 'containers': 9484, 'QB': 9485, 'ambush': 9486, 'Construction': 9487, 'stimulate': 9488, 'Asias': 9489, 'Biel': 9490, 'decreased': 9491, 'knockout': 9492, 'Paterno': 9493, 'afghanistan': 9494, 'da': 9495, 'scratched': 9496, 'math': 9497, 'musharraf': 9498, 'debates': 9499, 'employed': 9500, 'psychiatric': 9501, 'imposes': 9502, 'recognizes': 9503, 'Maradona': 9504, 'Zimmerman': 9505, 'affects': 9506, 'dock': 9507, 'shakes': 9508, 'emerges': 9509, 'Eden': 9510, 'tortured': 9511, 'Telekom': 9512, 'Enforcement': 9513, 'NH': 9514, 'dismiss': 9515, 'verge': 9516, 'Maoist': 9517, 'multinational': 9518, 'Bigg': 9519, 'Richter': 9520, 'disqualified': 9521, 'Workers': 9522, 'flows': 9523, 'Prasad': 9524, 'shadow': 9525, 'Disease': 9526, 'Tymoshenko': 9527, 'Webb': 9528, 'indication': 9529, 'Chandler': 9530, 'Raleigh': 9531, 'hiphop': 9532, 'bulk': 9533, 'owed': 9534, 'reactors': 9535, 'Leonardo': 9536, 'Bernie': 9537, 'Get': 9538, 'Sergei': 9539, 'promotional': 9540, 'slashing': 9541, 'enrollment': 9542, 'english': 9543, 'patrols': 9544, 'fiancee': 9545, 'stormed': 9546, 'denver': 9547, 'sticks': 9548, 'consultants': 9549, 'megan': 9550, 'commitments': 9551, 'halle': 9552, 'enables': 9553, 'meningitis': 9554, 'pared': 9555, 'Ibrahim': 9556, 'whales': 9557, 'scenario': 9558, 'driveway': 9559, 'kickoff': 9560, 'buzz': 9561, 'Ritchie': 9562, 'Morocco': 9563, 'Laboratories': 9564, 'Gene': 9565, 'Lokpal': 9566, 'fantasy': 9567, 'dave': 9568, 'Mountains': 9569, 'Task': 9570, 'instructor': 9571, 'shotgun': 9572, 'runaway': 9573, 'honours': 9574, 'Hampton': 9575, 'heroes': 9576, 'cooling': 9577, 'contention': 9578, 'WBO': 9579, 'happening': 9580, 'Berkeley': 9581, 'relocate': 9582, 'fare': 9583, 'switching': 9584, 'Scherzinger': 9585, 'casinos': 9586, 'pc': 9587, 'ligament': 9588, 'campaigners': 9589, 'commence': 9590, 'Aires': 9591, 'braced': 9592, 'Fine': 9593, 'Di': 9594, 'Buccaneers': 9595, 'homage': 9596, 'Employment': 9597, 'tournaments': 9598, 'demolished': 9599, 'grades': 9600, 'Zurich': 9601, 'gate': 9602, 'Crowe': 9603, 'barely': 9604, 'avoiding': 9605, 'briefing': 9606, 'restoring': 9607, 'goodbye': 9608, 'belong': 9609, 'candlestick': 9610, 'Planet': 9611, 'chamber': 9612, 'Manipur': 9613, 'Hayden': 9614, 'Universitys': 9615, 'pursuing': 9616, 'sunderland': 9617, 'Continental': 9618, 'Postal': 9619, 'uncle': 9620, 'continent': 9621, 'doctorate': 9622, 'hints': 9623, 'sand': 9624, 'Watford': 9625, 'accountability': 9626, 'dismal': 9627, 'exceeded': 9628, 'cooperative': 9629, 'bruised': 9630, 'subsidy': 9631, 'Natalie': 9632, 'rocks': 9633, 'shelves': 9634, 'wrestler': 9635, 'Governors': 9636, 'ATP': 9637, 'sellers': 9638, 'riders': 9639, 'OMalley': 9640, 'brent': 9641, 'onboard': 9642, 'gutted': 9643, 'Purdue': 9644, 'instant': 9645, 'bald': 9646, 'Cash': 9647, 'Linda': 9648, 'Jackets': 9649, 'GaGa': 9650, 'jay': 9651, 'Page': 9652, 'paternity': 9653, 'Yankee': 9654, 'prostitute': 9655, 'Guide': 9656, 'cowboys': 9657, 'cheat': 9658, 'ann': 9659, 'perry': 9660, 'Pietersen': 9661, 'vow': 9662, 'dalai': 9663, 'Rapid': 9664, 'Samantha': 9665, 'Mahinda': 9666, 'processor': 9667, 'sachin': 9668, 'Affleck': 9669, 'indictments': 9670, 'surprising': 9671, 'par': 9672, 'Caroline': 9673, 'Paribas': 9674, 'Solomon': 9675, 'LK': 9676, 'anxiety': 9677, 'Sporting': 9678, 'commencement': 9679, 'participated': 9680, 'Isaac': 9681, 'infosys': 9682, 'misleading': 9683, 'boating': 9684, 'tense': 9685, 'Roethlisberger': 9686, 'memories': 9687, 'Skype': 9688, 'endorsing': 9689, 'hiked': 9690, 'articles': 9691, 'improper': 9692, 'fence': 9693, 'Macon': 9694, 'Bucks': 9695, 'bullets': 9696, 'graffiti': 9697, 'Gadhafi': 9698, 'HM': 9699, 'origin': 9700, 'shoplifting': 9701, 'Speed': 9702, 'expired': 9703, 'supervisors': 9704, 'iPads': 9705, 'deserved': 9706, 'SWAT': 9707, 'restive': 9708, 'warships': 9709, 'offenses': 9710, 'monoxide': 9711, 'virtualization': 9712, 'talented': 9713, 'understands': 9714, 'youngster': 9715, 'Paper': 9716, 'architecture': 9717, 'categories': 9718, 'Shahid': 9719, 'reaffirmed': 9720, 'rank': 9721, 'Weisz': 9722, 'issuer': 9723, 'totally': 9724, 'colombia': 9725, 'Gabriel': 9726, 'downward': 9727, 'fulltime': 9728, 'Pyongyang': 9729, 'havent': 9730, 'importing': 9731, 'oakland': 9732, 'Pawlenty': 9733, 'WBA': 9734, 'underlying': 9735, 'deepen': 9736, 'boots': 9737, 'lowcost': 9738, 'Coral': 9739, 'nutrition': 9740, 'Room': 9741, 'Colbert': 9742, 'seasonally': 9743, 'prevented': 9744, 'titans': 9745, 'wildfires': 9746, 'Holder': 9747, 'connectivity': 9748, 'Myrtle': 9749, 'absolute': 9750, 'worry': 9751, 'checking': 9752, 'weeklong': 9753, 'collides': 9754, 'contemporary': 9755, 'wigan': 9756, 'Leigh': 9757, 'backdrop': 9758, 'japans': 9759, 'atop': 9760, 'intelligent': 9761, 'terrible': 9762, 'anticipation': 9763, 'noting': 9764, 'Kandahar': 9765, 'careers': 9766, 'aussie': 9767, 'intimate': 9768, 'spurs': 9769, 'diverted': 9770, 'BCCI': 9771, 'wars': 9772, 'ACT': 9773, 'Amazoncom': 9774, 'Webster': 9775, 'comfort': 9776, 'lap': 9777, 'egg': 9778, 'weigh': 9779, 'Immigration': 9780, 'twoweek': 9781, 'stamps': 9782, 'khloe': 9783, 'Mrs': 9784, 'Chevrolet': 9785, 'Salisbury': 9786, 'Eva': 9787, 'languages': 9788, 'warner': 9789, 'alcoholic': 9790, 'immunity': 9791, 'comprising': 9792, 'Shiv': 9793, 'Stoke': 9794, 'Works': 9795, 'Chan': 9796, 'turtle': 9797, 'Actor': 9798, 'condolences': 9799, 'airstrike': 9800, 'overwhelmingly': 9801, 'priorities': 9802, 'vegetable': 9803, 'bribe': 9804, 'pat': 9805, 'taxation': 9806, 'goalless': 9807, 'Wind': 9808, 'ashore': 9809, 'Durban': 9810, 'respective': 9811, 'adventure': 9812, 'planet': 9813, 'bribes': 9814, 'commemorate': 9815, 'Haley': 9816, 'Mich': 9817, 'pensioners': 9818, 'bingo': 9819, 'Usain': 9820, 'disposal': 9821, 'seal': 9822, 'Cal': 9823, 'controllers': 9824, 'Malcolm': 9825, 'ID': 9826, 'Bharti': 9827, 'carl': 9828, 'tv': 9829, 'Earl': 9830, 'mary': 9831, 'kissing': 9832, 'Partner': 9833, 'Guinness': 9834, 'auctioned': 9835, 'loud': 9836, 'Rwanda': 9837, 'spots': 9838, 'Jindal': 9839, 'relaunch': 9840, 'displays': 9841, 'narcotics': 9842, 'upsets': 9843, 'shipment': 9844, 'ladies': 9845, 'skilled': 9846, 'marriages': 9847, 'louis': 9848, 'funded': 9849, 'spacecraft': 9850, 'concentrate': 9851, 'narrows': 9852, 'ahmadinejad': 9853, 'lloyds': 9854, 'captures': 9855, 'rubbish': 9856, 'servers': 9857, 'Mahendra': 9858, 'produces': 9859, 'allen': 9860, 'CIS': 9861, 'Hillsborough': 9862, 'conceded': 9863, 'Benson': 9864, 'idol': 9865, 'conspiring': 9866, 'Awareness': 9867, 'contaminated': 9868, 'Oscarwinning': 9869, 'convince': 9870, 'extremism': 9871, 'firstever': 9872, 'Herman': 9873, 'Astana': 9874, 'CNBC': 9875, 'Egypts': 9876, 'conversation': 9877, 'relevant': 9878, 'usually': 9879, 'contentious': 9880, 'forget': 9881, 'Pharma': 9882, 'cardiovascular': 9883, 'Roland': 9884, 'Sandusky': 9885, 'Salvation': 9886, 'outskirts': 9887, 'Recreation': 9888, 'tube': 9889, 'Crime': 9890, 'contacts': 9891, 'Whats': 9892, 'atmosphere': 9893, 'donald': 9894, 'Waziristan': 9895, 'Jacksons': 9896, 'Nexus': 9897, 'boutique': 9898, 'consistent': 9899, 'tumour': 9900, 'Sultan': 9901, 'supposed': 9902, 'Bangladeshi': 9903, 'Fitness': 9904, 'locally': 9905, 'jokes': 9906, 'belief': 9907, 'homer': 9908, 'surges': 9909, 'Back': 9910, 'highlevel': 9911, 'jake': 9912, 'Fiat': 9913, 'unified': 9914, 'Clara': 9915, 'complaining': 9916, 'Bynes': 9917, 'Bahamas': 9918, 'repaired': 9919, 'Wizards': 9920, 'avalanche': 9921, 'Quality': 9922, 'tampa': 9923, 'marines': 9924, 'Fenway': 9925, 'opposing': 9926, 'Felix': 9927, 'Maldives': 9928, 'knocking': 9929, 'Aurora': 9930, 'costing': 9931, 'threetime': 9932, 'municipality': 9933, 'helm': 9934, 'finalists': 9935, 'leap': 9936, 'telstra': 9937, 'slaying': 9938, 'thirdlargest': 9939, 'surfaced': 9940, 'anticorruption': 9941, 'RSS': 9942, 'Atomic': 9943, 'competitors': 9944, 'Oilers': 9945, 'peso': 9946, 'runners': 9947, 'connections': 9948, 'Kuwaiti': 9949, 'modestly': 9950, 'apologize': 9951, 'twenty': 9952, 'grounded': 9953, 'Eugene': 9954, 'Mercury': 9955, 'BART': 9956, 'conditioning': 9957, 'viewing': 9958, 'deemed': 9959, 'Fairfield': 9960, 'balls': 9961, 'reshuffle': 9962, 'Snyder': 9963, 'Toledo': 9964, 'Pelosi': 9965, 'warplanes': 9966, 'ANZ': 9967, 'passion': 9968, 'betterthanexpected': 9969, 'aka': 9970, 'Uniteds': 9971, 'edward': 9972, 'blown': 9973, 'madison': 9974, 'valuation': 9975, 'Mt': 9976, 'cincinnati': 9977, 'tenure': 9978, 'supervision': 9979, 'QPR': 9980, 'Les': 9981, 'Players': 9982, 'fernando': 9983, 'tired': 9984, 'Jews': 9985, 'browser': 9986, 'kenny': 9987, 'imaging': 9988, 'Grid': 9989, 'disrupt': 9990, 'sedan': 9991, 'fundamental': 9992, 'bishops': 9993, 'Leno': 9994, 'broadly': 9995, 'searches': 9996, 'undefeated': 9997, 'closet': 9998, 'lesson': 9999}\n"
     ]
    }
   ],
   "source": [
    "vocab_size = 10_000\n",
    "vocab = vocab_counter.most_common(vocab_size)\n",
    "token_to_id = {word: i for i, (word, _) in enumerate(vocab)}\n",
    "print(token_to_id)"
   ]
  },
  {
   "cell_type": "markdown",
   "metadata": {
    "collapsed": false,
    "pycharm": {
     "name": "#%% md\n"
    }
   },
   "source": [
    "<a name='e4'></a>\n",
    "### Exercise 4: Bag of Words\n",
    "(1p) Here we will create the bag-of-words representation of the sentences. The function will take a single sentence (list of tokens) and return an array of size `vocab_size` with the counts of each word in the vocabulary. The\n",
    "`vocab_size` is calculated as the length of the passed `token_to_id` dictionary. The resulting array should have zeros everywhere but the indices corresponding to the words in the vocabulary where it should have the counts of the words in the sentence. For example, if the sentence is `['fox', 'and', 'deer']` and the vocabulary is `{'fox': 0, 'and': 1, 'deer': 2}`, the resulting array should be `[1, 1, 1]`. If the sentence is `['fox', 'and', 'fox', 'deer']`, the resulting array should be `[2, 1, 1]`."
   ]
  },
  {
   "cell_type": "code",
   "execution_count": 154,
   "metadata": {
    "collapsed": false,
    "pycharm": {
     "name": "#%%\n"
    }
   },
   "outputs": [],
   "source": [
    "def bag_of_words(sentence, token_to_id):\n",
    "    \"\"\"\n",
    "    Creates a bag-of-words representation of the sentence\n",
    "    Args:\n",
    "        sentence: a list of tokens\n",
    "        token_to_id: a dictionary mapping each word to an index in the vocabulary\n",
    "\n",
    "    Returns:: a numpy array of size vocab_size with the counts of each word in the vocabulary\n",
    "\n",
    "    \"\"\"\n",
    "    vocab_size = len(token_to_id)\n",
    "    bow = np.zeros(vocab_size, dtype=int)\n",
    "\n",
    "    ### YOUR CODE HERE\n",
    "\n",
    "    # Iterate through each token in the sentence\n",
    "    for token in sentence:\n",
    "        # If the token is in the vocabulary, increment its count in the bag-of-words representation\n",
    "        if token in token_to_id:\n",
    "            index = token_to_id[token]\n",
    "            bow[index] += 1\n",
    "\n",
    "    ### YOUR CODE ENDS HERE\n",
    "\n",
    "    return bow"
   ]
  },
  {
   "cell_type": "markdown",
   "metadata": {
    "collapsed": false,
    "pycharm": {
     "name": "#%% md\n"
    }
   },
   "source": [
    "Let's see how the function works on a single sentence. The output should be a numpy array of size `vocab_size` with the counts of each word in the vocabulary."
   ]
  },
  {
   "cell_type": "code",
   "execution_count": 155,
   "metadata": {
    "collapsed": false,
    "pycharm": {
     "name": "#%%\n"
    }
   },
   "outputs": [
    {
     "name": "stdout",
     "output_type": "stream",
     "text": [
      "Tokenized sentence:\n",
      "['A', 'Ridgeway', 'man', 'pleaded', 'guilty', 'Tuesday', 'shooting', 'estranged', 'wife', 'found', 'hiding', 'bed', 'could', 'spend', 'rest', 'life', 'prison']\n",
      "Bag of words:\n",
      "[0 1 0 ... 0 0 0]\n",
      "Type of bag of words:\n",
      "<class 'numpy.ndarray'>\n",
      "Shape of bag of words:\n",
      "(10000,)\n",
      "Non-zero elements in bag of words:\n",
      "[   1    4   11   40   54   73  167  272  330  350  411 1059 1755 4338\n",
      " 4622 5480]\n"
     ]
    }
   ],
   "source": [
    "print('Tokenized sentence:')\n",
    "print(tokenized_sentences[0])\n",
    "sentence_bow = bag_of_words(tokenized_sentences[0], token_to_id)\n",
    "\n",
    "print('Bag of words:')\n",
    "print(sentence_bow)\n",
    "print('Type of bag of words:')\n",
    "print(type(sentence_bow))\n",
    "print('Shape of bag of words:')\n",
    "print(sentence_bow.shape)\n",
    "print('Non-zero elements in bag of words:')\n",
    "print(np.nonzero(sentence_bow)[0])"
   ]
  },
  {
   "cell_type": "markdown",
   "metadata": {
    "collapsed": false,
    "pycharm": {
     "name": "#%% md\n"
    }
   },
   "source": [
    "We can also check in detail what words and their counts are in the bag-of-words representation."
   ]
  },
  {
   "cell_type": "code",
   "execution_count": 156,
   "metadata": {
    "collapsed": false,
    "pycharm": {
     "name": "#%%\n"
    }
   },
   "outputs": [
    {
     "name": "stdout",
     "output_type": "stream",
     "text": [
      "Non-zero elements in bag of words:\n",
      "[   1    4   11   40   54   73  167  272  330  350  411 1059 1755 4338\n",
      " 4622 5480]\n",
      "A : 1\n",
      "man : 1\n",
      "Tuesday : 1\n",
      "found : 1\n",
      "could : 1\n",
      "guilty : 1\n",
      "life : 1\n",
      "prison : 1\n",
      "shooting : 1\n",
      "wife : 1\n",
      "pleaded : 1\n",
      "rest : 1\n",
      "spend : 1\n",
      "bed : 1\n",
      "estranged : 1\n",
      "hiding : 1\n"
     ]
    }
   ],
   "source": [
    "sentence_non_zero_bow = np.nonzero(sentence_bow)[0]\n",
    "print('Non-zero elements in bag of words:')\n",
    "print(sentence_non_zero_bow)\n",
    "for i in sentence_non_zero_bow:\n",
    "    print(vocab[i][0], ':', sentence_bow[i])"
   ]
  },
  {
   "cell_type": "markdown",
   "metadata": {
    "collapsed": false,
    "pycharm": {
     "name": "#%% md\n"
    }
   },
   "source": [
    "The following function will apply all the steps we implemented to a single sentence. It returns a bag of words representation that we will use to calculate the similarity between different sentences."
   ]
  },
  {
   "cell_type": "code",
   "execution_count": 157,
   "metadata": {
    "collapsed": false,
    "pycharm": {
     "name": "#%%\n"
    }
   },
   "outputs": [],
   "source": [
    "def embed_text(text, clean_fn, tokenize_fn, embed_fn):\n",
    "    cleaned = clean_fn(text)\n",
    "    tokens = tokenize_fn(cleaned)\n",
    "    embedding = embed_fn(tokens)\n",
    "    return embedding"
   ]
  },
  {
   "cell_type": "markdown",
   "metadata": {
    "collapsed": false,
    "pycharm": {
     "name": "#%% md\n"
    }
   },
   "source": [
    "<a name='e5'></a>\n",
    "### Exercise 5: Cosine Similarity between two vectors\n",
    "\n",
    "(1p) Complete the following function that given any two vectors will compute the cosine similarity. If you don't remember the formula for the cosine similarity, revisit the course material. Notice that the function receives numpy arrays and recall that you can express cosine similarity as a dot product. Use numpy functions to write an efficient implementation."
   ]
  },
  {
   "cell_type": "code",
   "execution_count": 158,
   "metadata": {
    "collapsed": false,
    "pycharm": {
     "name": "#%%\n"
    }
   },
   "outputs": [],
   "source": [
    "def cosine_similarity(vector1, vector2):\n",
    "    \"\"\"\n",
    "    Computes the cosine similarity between two vectors\n",
    "    Args:\n",
    "        vector1: numpy array of the first vector\n",
    "        vector2: numpy array of the second vector\n",
    "\n",
    "    Returns: cosine similarity\n",
    "\n",
    "    \"\"\"\n",
    "    ### YOUR CODE HERE\n",
    "    \n",
    "    # Compute the L2 norms of the two vectors\n",
    "    norm1 = np.linalg.norm(vector1)\n",
    "    norm2 = np.linalg.norm(vector2)\n",
    "    # Compute the cosine similarity\n",
    "    cosine_sim = np.dot(vector1, vector2) / (norm1 * norm2)\n",
    "\n",
    "    return cosine_sim\n",
    "    ### YOUR CODE ENDS HERE"
   ]
  },
  {
   "cell_type": "code",
   "execution_count": 159,
   "metadata": {
    "collapsed": false,
    "pycharm": {
     "name": "#%%\n"
    }
   },
   "outputs": [
    {
     "data": {
      "text/plain": [
       "0.9999999999999998"
      ]
     },
     "execution_count": 159,
     "metadata": {},
     "output_type": "execute_result"
    }
   ],
   "source": [
    "cosine_similarity(np.array([0, 1, 2]), np.array([0, 2, 4]))"
   ]
  },
  {
   "cell_type": "code",
   "execution_count": 160,
   "metadata": {
    "collapsed": false,
    "pycharm": {
     "name": "#%%\n"
    }
   },
   "outputs": [
    {
     "name": "stdout",
     "output_type": "stream",
     "text": [
      "Query: fox and deer\n",
      "Cosine Similarity: 0.2887 - Sentence: The quick brown fox jumps over the lazy dog.\n",
      "Cosine Similarity: 0.0000 - Sentence: Some interesting document containin sentences.\n",
      "Cosine Similarity: 0.2887 - Sentence: The quick brown fox jumps over the lazy cat and some other stuff.\n",
      "Cosine Similarity: 0.8165 - Sentence: Fox and deer are not friends.\n",
      "Cosine Similarity: 0.3430 - Sentence: Fox and deer are not friends. But this document is a lot longer than the previous one. We can add sentence by sentence and see how the embeddings change.\n"
     ]
    }
   ],
   "source": [
    "sentences = [\n",
    "    'The quick brown fox jumps over the lazy dog.',\n",
    "    'Some interesting document containin sentences.',\n",
    "    'The quick brown fox jumps over the lazy cat and some other stuff.',\n",
    "    'Fox and deer are not friends.',\n",
    "    'Fox and deer are not friends. But this document is a lot longer than the previous one. We can add sentence by sentence and see how the embeddings change.',\n",
    "]\n",
    "embedded_sentences = [\n",
    "    embed_text(sentence, clean, tokenize, lambda x: bag_of_words(x, token_to_id))\n",
    "    for sentence in sentences\n",
    "]\n",
    "\n",
    "query = 'fox and deer'\n",
    "embedded_query = embed_text(query, clean, tokenize, lambda x: bag_of_words(x, token_to_id))\n",
    "\n",
    "cosine_similarities = [\n",
    "    cosine_similarity(embedded_query, embedded_sentence)\n",
    "    for embedded_sentence in embedded_sentences\n",
    "]\n",
    "print(f'Query: {query}')\n",
    "for sent, cos_sim in zip(sentences, cosine_similarities):\n",
    "    print(f'Cosine Similarity: {cos_sim:.4f} - Sentence: {sent}')"
   ]
  },
  {
   "cell_type": "markdown",
   "metadata": {
    "collapsed": false,
    "pycharm": {
     "name": "#%% md\n"
    }
   },
   "source": [
    "We will apply the function to the whole dataset. This might take a while, so be patient. The result will be stored in the `sentence_bow` and `compressed_bow` fields of the dataset."
   ]
  },
  {
   "cell_type": "code",
   "execution_count": 161,
   "metadata": {
    "collapsed": false,
    "pycharm": {
     "name": "#%%\n"
    }
   },
   "outputs": [],
   "source": [
    "def bag_of_words_dataset(example):\n",
    "    \"\"\"\n",
    "    Creates a bag-of-words representation of the sentence and compressed sentence in the example from the Dataset\n",
    "    Args:\n",
    "        example: an example from the Dataset\n",
    "\n",
    "    Returns: updated example with 'sentence_bow' and 'compressed_bow' columns\n",
    "\n",
    "    \"\"\"\n",
    "    sentence_tokens = example['sentence_tokens']\n",
    "    compressed_tokens = example['compressed_tokens']\n",
    "\n",
    "    sentence_bow = bag_of_words(sentence_tokens, token_to_id)\n",
    "    compressed_bow = bag_of_words(compressed_tokens, token_to_id)\n",
    "\n",
    "    example['sentence_bow'] = sentence_bow\n",
    "    example['compressed_bow'] = compressed_bow\n",
    "    return example"
   ]
  },
  {
   "cell_type": "markdown",
   "metadata": {
    "collapsed": false,
    "pycharm": {
     "name": "#%% md\n"
    }
   },
   "source": [
    "The following cell will apply the function to the whole dataset. The result will be stored in the `sentence_bow` and `compressed_bow` fields of the dataset. We will also convert the dataset's fields `sentence_bow` and `compressed_bow` to numpy format for easier manipulation."
   ]
  },
  {
   "cell_type": "code",
   "execution_count": 162,
   "metadata": {
    "collapsed": false,
    "pycharm": {
     "name": "#%%\n"
    }
   },
   "outputs": [
    {
     "name": "stderr",
     "output_type": "stream",
     "text": [
      "Map: 100%|██████████| 36000/36000 [00:15<00:00, 2304.61 examples/s]"
     ]
    },
    {
     "name": "stdout",
     "output_type": "stream",
     "text": [
      "Dataset({\n",
      "    features: ['set', 'clean_sentence', 'clean_compressed', 'sentence_tokens', 'compressed_tokens', 'sentence_bow', 'compressed_bow'],\n",
      "    num_rows: 36000\n",
      "})\n"
     ]
    },
    {
     "name": "stderr",
     "output_type": "stream",
     "text": [
      "\n"
     ]
    }
   ],
   "source": [
    "test_ds = split_ds['test'].map(bag_of_words_dataset)\n",
    "test_ds = test_ds.with_format('np', columns=['sentence_bow', 'compressed_bow'], dtype=float)\n",
    "print(test_ds)"
   ]
  },
  {
   "cell_type": "markdown",
   "metadata": {
    "collapsed": false,
    "pycharm": {
     "name": "#%% md\n"
    }
   },
   "source": [
    "Let's check the results. The `sentence_bow` and `compressed_bow` fields should contain the bag-of-words representation of the sentences and compressed sentences, respectively."
   ]
  },
  {
   "cell_type": "code",
   "execution_count": 163,
   "metadata": {
    "collapsed": false,
    "pycharm": {
     "name": "#%%\n"
    }
   },
   "outputs": [
    {
     "name": "stdout",
     "output_type": "stream",
     "text": [
      "{'sentence_bow': array([0., 0., 0., ..., 0., 0., 0.]), 'compressed_bow': array([0., 0., 0., ..., 0., 0., 0.])}\n"
     ]
    }
   ],
   "source": [
    "print(test_ds[0])"
   ]
  },
  {
   "cell_type": "code",
   "execution_count": 164,
   "metadata": {
    "collapsed": false,
    "pycharm": {
     "name": "#%%\n"
    }
   },
   "outputs": [
    {
     "name": "stdout",
     "output_type": "stream",
     "text": [
      "(36000, 10000)\n"
     ]
    }
   ],
   "source": [
    "sentences_bows = test_ds['sentence_bow']\n",
    "print(sentences_bows.shape)"
   ]
  },
  {
   "cell_type": "markdown",
   "metadata": {
    "collapsed": false,
    "pycharm": {
     "name": "#%% md\n"
    }
   },
   "source": [
    "Now we can start building a retriever based on the bag of words representation. The first step is to calculate the cosine similarity between two vectors."
   ]
  },
  {
   "cell_type": "markdown",
   "metadata": {
    "collapsed": false,
    "pycharm": {
     "name": "#%% md\n"
    }
   },
   "source": [
    "<a name='e6'></a>\n",
    "### Exercise 6: Cosine Similarity between a vector and an array of vectors\n",
    "\n",
    "(2p) The next step in our retrieval system, would be to calculate the proximity of a query to our retrieval corpus (in our case that is all the sentences).\n",
    "\n",
    "Complete the following function to calculate the cosine similarity between a vector (first parameter `vector`, that will usually be the query vector) and all other vectors (second parameter `other_vectors`, that will be the sentence embeddings in our case). Note that the `other_vectors` parameter is a single numpy array of size `N x D`, where $N$ is the number of vectors and $D$ is the dimension of each vector.\n",
    "\n",
    "For maximum efficiency (we will need it) do not use loops. Try to write the implementation with numpy functions. Hint: matrix multiplication can be seen as calculating the dot product between rows and columns of the multiplied matrices."
   ]
  },
  {
   "cell_type": "code",
   "execution_count": 165,
   "metadata": {
    "id": "LgaV2b3fpSOR",
    "pycharm": {
     "name": "#%%\n"
    }
   },
   "outputs": [],
   "source": [
    "def cosine_similarity_1_to_n(vector, other_vectors):\n",
    "    \"\"\"\n",
    "    Calculates the cosine similarity between a single vector and other vectors.\n",
    "    Args:\n",
    "        vector: a numpy array representing a vector of D dimensions\n",
    "        other_vectors: a 2D numpy array representing other vectors (of the size NxD, where N is the number of vectors and D is their dimension)\n",
    "\n",
    "    Returns: a 1D numpy array of size N containing the cosine similarity between the vector and all the other vectors\n",
    "\n",
    "    \"\"\"\n",
    "\n",
    "    #### YOUR CODE HERE\n",
    "    # Compute the dot product between the vector and all other vectors\n",
    "    dot_product = np.dot(other_vectors, vector)\n",
    "    # Compute the L2 norms of the vector and all other vectors\n",
    "    norm_vector = np.linalg.norm(vector)\n",
    "    norm_other_vectors = np.linalg.norm(other_vectors, axis=1)\n",
    "    # Compute the cosine similarity\n",
    "    cosine_sim = dot_product / (norm_vector * norm_other_vectors)\n",
    "    # Handle division by zero by replacing NaN values with 0\n",
    "    cosine_sim[np.isnan(cosine_sim)] = 0.0\n",
    "    # Return the cosine similarity values\n",
    "    return cosine_sim\n",
    "\n",
    "    ### YOUR CODE ENDS HERE"
   ]
  },
  {
   "cell_type": "markdown",
   "metadata": {
    "collapsed": false,
    "id": "irNqAJZLpSOR",
    "pycharm": {
     "name": "#%% md\n"
    }
   },
   "source": [
    "We will use the function to calculate the similarity of all sentences in the dataset to our query."
   ]
  },
  {
   "cell_type": "code",
   "execution_count": 166,
   "metadata": {
    "collapsed": false,
    "pycharm": {
     "name": "#%%\n"
    }
   },
   "outputs": [],
   "source": [
    "query = 'fox and deer'\n",
    "embedded_query = embed_text(query, clean, tokenize, lambda x: bag_of_words(x, token_to_id))"
   ]
  },
  {
   "cell_type": "code",
   "execution_count": 167,
   "metadata": {
    "id": "uD9mVAhYpSOR",
    "pycharm": {
     "name": "#%%\n"
    }
   },
   "outputs": [
    {
     "name": "stdout",
     "output_type": "stream",
     "text": [
      "(36000,)\n",
      "[0. 0. 0. 0. 0. 0. 0. 0. 0. 0.]\n"
     ]
    },
    {
     "name": "stderr",
     "output_type": "stream",
     "text": [
      "C:\\Users\\matec\\AppData\\Local\\Temp\\ipykernel_9160\\2675754988.py:19: RuntimeWarning: invalid value encountered in divide\n",
      "  cosine_sim = dot_product / (norm_vector * norm_other_vectors)\n"
     ]
    }
   ],
   "source": [
    "query_similarity = cosine_similarity_1_to_n(embedded_query, sentences_bows)\n",
    "print(query_similarity.shape)\n",
    "print(query_similarity[:10])"
   ]
  },
  {
   "cell_type": "markdown",
   "metadata": {
    "collapsed": false,
    "id": "_l3erVTNpSOR",
    "pycharm": {
     "name": "#%% md\n"
    }
   },
   "source": [
    "The following cell will select the most similar sentence."
   ]
  },
  {
   "cell_type": "code",
   "execution_count": 168,
   "metadata": {
    "id": "0wWa4AWHpSOR",
    "pycharm": {
     "name": "#%%\n"
    }
   },
   "outputs": [
    {
     "name": "stdout",
     "output_type": "stream",
     "text": [
      "14003\n",
      "0.24999999999999994\n",
      "Fox News has announced that Apple is now officially taking pre-orders for its new iPad.\n"
     ]
    }
   ],
   "source": [
    "most_similar = int(np.argmax(query_similarity))\n",
    "print(most_similar)\n",
    "print(query_similarity[most_similar])\n",
    "print(split_ds['test'][most_similar]['set'][0])"
   ]
  },
  {
   "cell_type": "markdown",
   "metadata": {
    "collapsed": false,
    "id": "fpdJHFD1pSOR",
    "pycharm": {
     "name": "#%% md\n"
    }
   },
   "source": [
    "The following function will return the indices of the top-k elements in the array."
   ]
  },
  {
   "cell_type": "code",
   "execution_count": 169,
   "metadata": {
    "id": "QFUNI9elpSOS",
    "pycharm": {
     "name": "#%%\n"
    }
   },
   "outputs": [],
   "source": [
    "def top_k_indices(array, k, sorted=True):\n",
    "    \"\"\"\n",
    "    Returns top-k indices from the 1D array. If `sorted` is `True` the returned indices are sorted in the descending order\n",
    "    Args:\n",
    "        array: a 1D numpy array\n",
    "        k: a number of top indices to return\n",
    "        sorted: if True, the returned indices are sorted in descending order\n",
    "\n",
    "    Returns: a 1D array containing top-k indices\n",
    "\n",
    "    \"\"\"\n",
    "    top_k = np.argpartition(array, -k)[-k:]\n",
    "    if sorted:\n",
    "        selected = array[top_k]\n",
    "        sorted_selected = (-selected).argsort()\n",
    "        top_k = top_k[sorted_selected]\n",
    "    return top_k"
   ]
  },
  {
   "cell_type": "code",
   "execution_count": 170,
   "metadata": {
    "id": "nY8vvJdepSOS",
    "pycharm": {
     "name": "#%%\n"
    }
   },
   "outputs": [
    {
     "name": "stdout",
     "output_type": "stream",
     "text": [
      "Fox News has announced that Apple is now officially taking pre-orders for its new iPad.\n",
      "similarity: 0.24999999999999994\n",
      "What time of the day is best for hunting deer during a full moon?\n",
      "similarity: 0.24999999999999994\n",
      "A Wisconsin man has been injured while deer hunting in western Iowa.\n",
      "similarity: 0.24999999999999994\n",
      "The body of a rabid fox was found in the Pleasant Point area of the city last week.\n",
      "similarity: 0.2357022603955158\n",
      "Fox wants Natalie Portman to play Ellen Ripley in the upcoming 'Alien' prequel, according to an article on cinemablend.com.\n",
      "similarity: 0.2357022603955158\n",
      "For the third straight year, DeForest will hire sharpshooters to kill about 50 deer in an effort to control the encroaching population.\n",
      "similarity: 0.22360679774997896\n",
      "Missouri lawmakers will spend their summer and fall studying Medicaid, elections and a disease that afflicts deer.\n",
      "similarity: 0.22360679774997896\n",
      "The Ministry of Natural Resources reminds people that it is not necessary to feed local deer this winter.\n",
      "similarity: 0.22360679774997896\n",
      "Fox owned the summer TV ratings according to a press release issued by the network on Tuesday.\n",
      "similarity: 0.21320071635561041\n",
      "County health officials are urging residents to take extra precautions for themselves and their pets now that a confirmed rabid fox has been found in Marion.\n",
      "similarity: 0.20412414523193148\n"
     ]
    }
   ],
   "source": [
    "top_indices = top_k_indices(query_similarity, k=10).tolist()\n",
    "for idx in top_indices:\n",
    "    print(split_ds['test'][idx]['set'][0])\n",
    "    print(f'similarity: {query_similarity[idx]}')"
   ]
  },
  {
   "cell_type": "markdown",
   "metadata": {
    "collapsed": false,
    "id": "BuRI2JzQpSOS",
    "pycharm": {
     "name": "#%% md\n"
    }
   },
   "source": [
    "<a name='e7'></a>\n",
    "### Exercise 7: Analyzing and improving BOW search results\n",
    "\n",
    "Experiment with different queries (taking into account the nature of the dataset and your insights from the analysis so far).\n",
    "Answer the following questions:\n",
    "- (5p) Does the search perform well? When does it fail? Discuss several examples that are we get an expected but also unexpected results (find at least 3 from each category). Provide reasons for the good/bad result in each case (e.g. is there some error in the data, is there some linguistic phenomenon that we don't capture, is something wrong with our modeling with average embeddings, ...)\n",
    "- (5p) If you see problems with search, how could you improve your implementation? Change the functions above, if you think there is room for improvement. Describe your changes and how they made the search better or (in case you made no changes) explain what made the search robust enough to work well."
   ]
  },
  {
   "cell_type": "code",
   "execution_count": 171,
   "metadata": {
    "id": "sEQKHAvcpSOS",
    "pycharm": {
     "name": "#%%\n"
    }
   },
   "outputs": [],
   "source": [
    "#### YOUR CODE HERE\n",
    "def search_with_query(query, clean, tokenize, token_to_id, sentences_bows, k=10):\n",
    "    \"\"\"\n",
    "    Searches for the most similar sentences to the given query in the dataset\n",
    "    Args:\n",
    "        query: a string representing the query sentence\n",
    "\n",
    "    Returns: None\n",
    "\n",
    "    \"\"\"\n",
    "    # Embed the query\n",
    "    embedded_query = embed_text(query, clean, tokenize, lambda x: bag_of_words(x, token_to_id))\n",
    "    \n",
    "    # Calculate cosine similarity between the query and all sentences in the dataset\n",
    "    query_similarity = cosine_similarity_1_to_n(embedded_query, sentences_bows)\n",
    "    \n",
    "    # Get top 10 most similar sentences\n",
    "    top_indices = top_k_indices(query_similarity, k).tolist()\n",
    "    \n",
    "    # Print the most similar sentences and their similarity scores\n",
    "    print(f'Query: {query}')\n",
    "    print('Top similar sentences:')\n",
    "\n",
    "    for idx in top_indices:\n",
    "        print(split_ds['test'][idx]['set'][0])\n",
    "        print(f'similarity: {query_similarity[idx]}')\n",
    "\n",
    "    print('---')\n",
    "    # Return the most similar sentences and their similarity scores\n",
    "    return [(split_ds['test'][idx]['set'][0], query_similarity[idx]) for idx in top_indices]\n",
    "\n",
    "\n",
    "\n",
    "#The results were recorded with the previous lower case function not the new one so they will rpbably vary.\n",
    "#k=3\n",
    "# search_with_query('fox and deer', clean, tokenize, token_to_id, sentences_bows, k)\n",
    "# search_with_query('fox deer', clean, tokenize, token_to_id, sentences_bows, k)\n",
    "# search_with_query('fox', clean, tokenize, token_to_id, sentences_bows, k)\n",
    "# search_with_query('fox fox fox fox fox fox fox fox fox fox', clean, tokenize, token_to_id, sentences_bows, k)\n",
    "# search_with_query('quick lazy fox dog dog', clean, tokenize, token_to_id, sentences_bows, k)\n",
    "#search_with_query('Fed',clean, tokenize, token_to_id, sentences_bows, k)\n",
    "\n",
    "\n",
    "\n",
    "### YOUR CODE ENDS HERE"
   ]
  },
  {
   "cell_type": "markdown",
   "metadata": {
    "id": "eiIGTfq6eFI5",
    "pycharm": {
     "name": "#%% md\n"
    }
   },
   "source": [
    "Unexpected results we got:\n",
    "\n",
    "1. Query: fox and deer\n",
    "- Top similar sentences:\n",
    "- Harry and Sally, Joey and Dawson, Ross and Rachel...can straight guys and girls ever REALLY be ``just friends''?\n",
    "- similarity: 0.4364357804719848\n",
    "- Explanation: Here as we can see our top sentence doesnt mention anything about foxes or deers, but since we had an \"and\" in the query, and this -sentence contains a lot of ands, it matched very closely\n",
    "\n",
    "2. Query: fox\n",
    "- Top similar sentences:\n",
    "- Fox Broadcasting announced today it has renewed its drama Fringe for a fourth season, with Fox Entertainment President Kevin Reilly crediting its fans.\n",
    "- similarity: 0.4082482904638631\n",
    "- Explanation: Here we serched just for fox, so we found as a sentence mentioning fox as many times as possible. Due to our cleaning methods, we assume fox and Fox are the same (even if thats not entirely true), so an artice mentioning Fox news multiple times, gave us the highest similiarity score.\n",
    "\n",
    "3. Query: Fed\n",
    "- Top similar sentences:\n",
    "- Regional Federal Reserve banks saw the US economy as stabilizing though still weak in August and none wanted to raise the rate the Fed charges emergency borrowers, documents released by the Fed Tuesday showed.\n",
    "- similarity: 0.2917299829957891\n",
    "- Explanation: Here I wouldnt expect to actually get articles about the Fed since we lower everything in our code. But since there were no sentences using the other meaning of the word fed, or at least none that had a high enough proportion fo it used, we actually got articles about Fed.\n",
    "\n",
    "Expected results we got:\n",
    "\n",
    "1. Query: fox deer\n",
    "- Top similar sentences:\n",
    "- Information is being sought in a deer poaching case east of Deer Lodge this week.\n",
    "- similarity: 0.35355339059327373\n",
    "- Explanation: Here, our top sentence does mention deer (twice) and since there was no other text that matched both deer and fox, it matched just one and then found the shortest text contatining it.\n",
    "\n",
    "2. Query: fox fox fox fox fox fox fox fox fox fox\n",
    "- Top similar sentences:\n",
    "- Fox Broadcasting announced today it has renewed its drama Fringe for a fourth season, with Fox Entertainment President Kevin Reilly crediting its fans.\n",
    "- similarity: 0.408248290463863\n",
    "- Explanation: Now that we've figured out why fox gets picked, we got the same result as when search just 'fox'. Which is expected since nothing changed other than amount of times we reapeated it. So the cosinse similairty will still be highest in the sentence that has the highest proportion of 'fox' used.\n",
    "\n",
    "3. Query: quick lazy fox dog dog\n",
    "- Top similar sentences:\n",
    "- An aggressive fox bit two people and a dog in Pittsfield.\n",
    "- similarity: 0.3872983346207417\n",
    "- Explanation: Here we got a short sentence with both dog and fox used since there was no sentece including all words.\n",
    "\n",
    "\n",
    "\n"
   ]
  },
  {
   "cell_type": "markdown",
   "metadata": {
    "collapsed": false,
    "pycharm": {
     "name": "#%% md\n"
    }
   },
   "source": [
    "## 3. Term Frequency - Inverse Document Frequency (TF-IDF)\n",
    "\n",
    "In this section we will implement the TF-IDF algorithm. While BOW is a simple way to represent the documents, it has some limitations. For example, it does not take into account the importance of each word in the document. TF-IDF representation takes into account the frequency of each word in the document and the frequency of the word in the whole dataset. It is a widely used technique in information retrieval and text mining. Refer to the lecture slides for more details."
   ]
  },
  {
   "cell_type": "markdown",
   "metadata": {
    "collapsed": false,
    "pycharm": {
     "name": "#%% md\n"
    }
   },
   "source": [
    "<a name='e8'></a>\n",
    "### Exercise 8: Inverse Document Frequency (IDF)\n",
    "(5p) In this exercise, you will implement the TF-IDF algorithm. First, calculate Inverse Document Frequency (IDF) for each word in the vocabulary. Intuitively, it is a measure of how informative a word is based on the whole dataset. Consult the lecture slides for the details. The IDF is calculated as follows:\n",
    "$$\n",
    "IDF(t) = log_{10}(N/df(t))$$\n",
    "where $N$ is the total number of documents (sentences) in the dataset and $df(t)$ is the number of documents containing the word $t$.\n"
   ]
  },
  {
   "cell_type": "code",
   "execution_count": 172,
   "metadata": {
    "collapsed": false,
    "pycharm": {
     "name": "#%%\n"
    }
   },
   "outputs": [
    {
     "name": "stdout",
     "output_type": "stream",
     "text": [
      "[1.97748682 2.09128923 2.18233596 ... 8.09337894 9.10497986 8.41183268]\n"
     ]
    }
   ],
   "source": [
    "def calculate_idf(bows):\n",
    "    \"\"\"\n",
    "    Calculates the IDF for each word in the vocabulary\n",
    "    Args:\n",
    "        bows: numpty array of size (N x D) where N is the number of documents and D is the vocabulary size\n",
    "\n",
    "    Returns: a numpy array of size D with IDF values for each token\n",
    "    \"\"\"\n",
    "\n",
    "    ### YOUR CODE HERE\n",
    "\n",
    "    N = bows.shape[0] \n",
    "    df = np.count_nonzero(bows > 0, axis=0)\n",
    "    idf = np.log(N / (1 + df))\n",
    "\n",
    "    return idf\n",
    "\n",
    "    ### YOUR CODE ENDS HERE\n",
    "\n",
    "idf = calculate_idf(sentences_bows)\n",
    "print(idf)"
   ]
  },
  {
   "cell_type": "markdown",
   "metadata": {
    "collapsed": false,
    "pycharm": {
     "name": "#%% md\n"
    }
   },
   "source": [
    "<a name='e9'></a>\n",
    "### Exercise 9: TF-IDF\n",
    "- (5p) Calculate TF-IDF on the `test` subset of the dataset.\n",
    "- (5p) Analyze the search results based on your implemented TF-IDF. Does the search perform well? When does it fail? Discuss several examples that are we get an expected but also unexpected results (find at least 3 from each category). Provide reasons for the good/bad result in each case (e.g. is there some error in the data, is there some linguistic phenomenon that we don't capture, is something wrong with our modeling with average embeddings, ...)\n",
    "- (5p) Compare the results with the ones you got with the bag-of-words representation. Discuss the differences and similarities. Do you think TF-IDF is a better representation for this task? Why or why not? Provide examples to support your arguments.\n"
   ]
  },
  {
   "cell_type": "code",
   "execution_count": 173,
   "metadata": {
    "collapsed": false,
    "pycharm": {
     "name": "#%%\n"
    }
   },
   "outputs": [],
   "source": [
    "### YOUR CODE HERE\n",
    "\n",
    "def calculate_tfidf(bows, idf):\n",
    "    \"\"\"\n",
    "    Calculates the TF-IDF for each word in the vocabulary\n",
    "    Args:\n",
    "        bows: numpy array of size (N x D) where N is the number of documents and D is the vocabulary size\n",
    "        idf: a numpy array of size D with IDF values for each token\n",
    "\n",
    "    Returns: a numpy array of size (N x D) with TF-IDF values for each token in each document\n",
    "\n",
    "    \"\"\"\n",
    "    ### YOUR CODE HERE\n",
    "    row_sums = np.sum(bows, axis=1, keepdims=True)\n",
    "    row_sums[row_sums == 0] = 1\n",
    "    term_frequencies = bows / row_sums\n",
    "    tfidf = term_frequencies * idf\n",
    "    return tfidf\n",
    "\n",
    "\n",
    "    ### YOUR CODE ENDS HERE\n",
    "\n",
    "### YOU CAN ADD MORE CELLS"
   ]
  },
  {
   "cell_type": "code",
   "execution_count": 174,
   "metadata": {},
   "outputs": [
    {
     "data": {
      "text/plain": [
       "array([[0.        , 0.        , 0.        , ..., 0.        , 0.        ,\n",
       "        0.        ],\n",
       "       [0.11632275, 0.        , 0.        , ..., 0.        , 0.        ,\n",
       "        0.        ],\n",
       "       [0.        , 0.        , 0.        , ..., 0.        , 0.        ,\n",
       "        0.        ],\n",
       "       ...,\n",
       "       [0.12359293, 0.        , 0.        , ..., 0.        , 0.        ,\n",
       "        0.        ],\n",
       "       [0.11632275, 0.        , 0.        , ..., 0.        , 0.        ,\n",
       "        0.        ],\n",
       "       [0.        , 0.        , 0.        , ..., 0.        , 0.        ,\n",
       "        0.        ]])"
      ]
     },
     "execution_count": 174,
     "metadata": {},
     "output_type": "execute_result"
    }
   ],
   "source": [
    "test_idf = calculate_idf(sentences_bows)\n",
    "test_tfidf = calculate_tfidf(sentences_bows, test_idf)\n",
    "\n",
    "test_tfidf"
   ]
  },
  {
   "cell_type": "markdown",
   "metadata": {
    "collapsed": false,
    "pycharm": {
     "name": "#%% md\n"
    }
   },
   "source": [
    "lets create a simple way to run search and print the results"
   ]
  },
  {
   "cell_type": "code",
   "execution_count": 175,
   "metadata": {},
   "outputs": [
    {
     "name": "stdout",
     "output_type": "stream",
     "text": [
      "\n",
      " Query: fox and deer\n"
     ]
    },
    {
     "name": "stderr",
     "output_type": "stream",
     "text": [
      "C:\\Users\\matec\\AppData\\Local\\Temp\\ipykernel_9160\\2675754988.py:19: RuntimeWarning: invalid value encountered in divide\n",
      "  cosine_sim = dot_product / (norm_vector * norm_other_vectors)\n"
     ]
    },
    {
     "name": "stdout",
     "output_type": "stream",
     "text": [
      "\\ 1 | Score: 0.388\n",
      "The body of a rabid fox was found in the Pleasant Point area of the city last week.\n",
      "\\ 2 | Score: 0.376\n",
      "Fox News has announced that Apple is now officially taking pre-orders for its new iPad.\n",
      "\\ 3 | Score: 0.341\n",
      "A Wisconsin man has been injured while deer hunting in western Iowa.\n",
      "\\ 4 | Score: 0.326\n",
      "Fox owned the summer TV ratings according to a press release issued by the network on Tuesday.\n",
      "\\ 5 | Score: 0.308\n",
      "What time of the day is best for hunting deer during a full moon?\n",
      "\n",
      "======================================================================\n",
      "\n",
      " Query: fox\n",
      "\\ 1 | Score: 0.542\n",
      "The body of a rabid fox was found in the Pleasant Point area of the city last week.\n",
      "\\ 2 | Score: 0.526\n",
      "Fox News has announced that Apple is now officially taking pre-orders for its new iPad.\n",
      "\\ 3 | Score: 0.455\n",
      "Fox owned the summer TV ratings according to a press release issued by the network on Tuesday.\n",
      "\\ 4 | Score: 0.414\n",
      "Fox wants Natalie Portman to play Ellen Ripley in the upcoming 'Alien' prequel, according to an article on cinemablend.com.\n",
      "\\ 5 | Score: 0.394\n",
      "Fox Broadcasting announced today it has renewed its drama Fringe for a fourth season, with Fox Entertainment President Kevin Reilly crediting its fans.\n",
      "\n",
      "======================================================================\n",
      "\n",
      " Query: fox deer\n",
      "\\ 1 | Score: 0.388\n",
      "The body of a rabid fox was found in the Pleasant Point area of the city last week.\n",
      "\\ 2 | Score: 0.376\n",
      "Fox News has announced that Apple is now officially taking pre-orders for its new iPad.\n",
      "\\ 3 | Score: 0.341\n",
      "A Wisconsin man has been injured while deer hunting in western Iowa.\n",
      "\\ 4 | Score: 0.326\n",
      "Fox owned the summer TV ratings according to a press release issued by the network on Tuesday.\n",
      "\\ 5 | Score: 0.308\n",
      "What time of the day is best for hunting deer during a full moon?\n",
      "\n",
      "======================================================================\n",
      "\n",
      " Query: fox fox fox fox fox fox fox fox fox fox\n",
      "\\ 1 | Score: 0.542\n",
      "The body of a rabid fox was found in the Pleasant Point area of the city last week.\n",
      "\\ 2 | Score: 0.526\n",
      "Fox News has announced that Apple is now officially taking pre-orders for its new iPad.\n",
      "\\ 3 | Score: 0.455\n",
      "Fox owned the summer TV ratings according to a press release issued by the network on Tuesday.\n",
      "\\ 4 | Score: 0.414\n",
      "Fox wants Natalie Portman to play Ellen Ripley in the upcoming 'Alien' prequel, according to an article on cinemablend.com.\n",
      "\\ 5 | Score: 0.394\n",
      "Fox Broadcasting announced today it has renewed its drama Fringe for a fourth season, with Fox Entertainment President Kevin Reilly crediting its fans.\n",
      "\n",
      "======================================================================\n",
      "\n",
      " Query: quick lazy fox dog dog\n",
      "\\ 1 | Score: 0.437\n",
      "A police dog handler has been found dead in East Lothian.\n",
      "\\ 2 | Score: 0.335\n",
      "A Korean biotech firm may be the first in the world to clone a dog for a client.\n",
      "\\ 3 | Score: 0.315\n",
      "Broward County is offering free dog park ``petiquette'' classes in partnership with the Pompano Pet Lodge and Doggie Daycare.\n",
      "\\ 4 | Score: 0.313\n",
      "A woman and a dog were rescued from a house fire in a village north of Maesteg last night.\n",
      "\\ 5 | Score: 0.313\n",
      "A small dog that was the victim of a vicious random attack in Spokane eight days ago is clinging to life.\n",
      "\n",
      "======================================================================\n",
      "\n",
      " Query: Fed\n",
      "\\ 1 | Score: 0.406\n",
      "An infant at a women's protection home here died on Saturday within minutes of being fed milk, an official said.\n",
      "\\ 2 | Score: 0.402\n",
      "Peter Andre has claimed that he is fed up of talking about his ex-wife Katie Price.\n",
      "\\ 3 | Score: 0.389\n",
      "Fire, flood or giant calabash... pick your apocalypse Nature's cycles -- day succeeding night, the four seasons -- long fed fears of being plunged into eternal darkness, or an endless winter.\n",
      "\\ 4 | Score: 0.362\n",
      "WASHINGTON Sen. Evan Bayh of Indiana said Monday that he was fed up with Congress and wouldn't seek re-election this year, the latest in a series of retirements spurred by frustration with dysfunction in Congress.\n",
      "\\ 5 | Score: 0.347\n",
      "International Syria mediator Lakhdar Brahimi is determined to resign because he is fed up with the deadlock over how to end the country's two-year civil war and believes his role has been compromised, UN diplomats said on Wednesday.\n",
      "\n",
      "======================================================================\n"
     ]
    }
   ],
   "source": [
    "# First, keep the full dataset with original sentences\n",
    "test_ds_full = split_ds['test'].map(bag_of_words_dataset)\n",
    "\n",
    "# Use this for the actual modeling (TF-IDF etc.)\n",
    "test_ds = test_ds_full.with_format('np', columns=['sentence_bow', 'compressed_bow'], dtype=float)\n",
    "\n",
    "def embed_custom_query(query, clean, tokenize, token_to_id, idf):\n",
    "    tokens = tokenize(clean(query))\n",
    "    bow = bag_of_words(tokens, token_to_id)\n",
    "    tf = bow / bow.sum() if bow.sum() > 0 else bow\n",
    "    tfidf_vector = tf * idf\n",
    "    return tfidf_vector\n",
    "\n",
    "def search_custom_query(query, tfidf_matrix, idf, clean, tokenize, token_to_id, top_k=5):\n",
    "    query_vector = embed_custom_query(query, clean, tokenize, token_to_id, idf)\n",
    "    similarities = cosine_similarity_1_to_n(query_vector, tfidf_matrix)\n",
    "    top_indices = np.argsort(similarities)[::-1][:top_k]\n",
    "    return top_indices, similarities[top_indices], query_vector\n",
    "\n",
    "idf_test = calculate_idf(sentences_bows)\n",
    "\n",
    "queries = [\n",
    "    \"fox and deer\",\n",
    "    \"fox\",\n",
    "    \"fox deer\",\n",
    "    \"fox fox fox fox fox fox fox fox fox fox\",\n",
    "    \"quick lazy fox dog dog\",\n",
    "    \"Fed\"\n",
    "]\n",
    "\n",
    "for query in queries:\n",
    "    print(f\"\\n Query: {query}\")\n",
    "    top_indices, scores, _ = search_custom_query(query, test_tfidf, idf_test, clean, tokenize, token_to_id)\n",
    "    \n",
    "    for rank, (idx, score) in enumerate(zip(top_indices, scores)):\n",
    "        print(f\"\\ {rank + 1} | Score: {score:.3f}\")\n",
    "        print(f\"{test_ds_full[int(idx)]['set'][0]}\")\n",
    "    \n",
    "    print(\"\\n\" + \"=\"*70)\n",
    "\n"
   ]
  },
  {
   "cell_type": "markdown",
   "metadata": {},
   "source": [
    "### Unexpected results we got:\n",
    "\n",
    "1. **Query:** piece of cake  \n",
    "- **Top similar sentence:**  \n",
    "A housing development is planned for an unincorporated piece of property between Naperville and Lisle.  \n",
    "- **Similarity:** 0.531  \n",
    "- **Explanation:** This idiom was interpreted literally. TF-IDF focuses on “piece” and “cake” as individual tokens — completely missing the **figurative meaning** (\"easy task\"). No result even comes close to the intended phrase.\n",
    "\n",
    "\n",
    "2. **Query:** didn't hate it  \n",
    "- **Top similar sentence:**  \n",
    "A daring nine-year-old boy who asked “why do people hate you?”  \n",
    "- **Similarity:** 0.488  \n",
    "- **Explanation:** TF-IDF picks up on the word “hate” but completely ignores the **negation** (“didn’t”). The results are all about hate crimes, strong opinions, or emotional anger — opposite to the intended neutral/slightly positive sentiment.\n",
    "\n",
    "\n",
    "3. **Query:** storm of lies  \n",
    "- **Top similar sentence:**  \n",
    "But Johnson confronted Livingstone in a lift after the show and shouted: “It’s all f***ing lies, it’s all f***ing lies”.  \n",
    "- **Similarity:** 0.613  \n",
    "- **Explanation:** TF-IDF sort of works here — it captures the word “lies” — but the phrase “storm of lies” is metaphorical. Results about **weather storms**, **dust storms**, and **technical analysis** show how TF-IDF can’t distinguish metaphor from literal language.\n",
    "\n",
    "---\n",
    "\n",
    "### Expected results we got:\n",
    "\n",
    "1. **Query:** olympic games  \n",
    "- **Top similar sentence:**  \n",
    "Lloy Ball returned home to the city of Woodburn as an Olympic volleyball champion.  \n",
    "- **Similarity:** 0.377  \n",
    "- **Explanation:** Works as intended. TF-IDF handles specific named entities like “Olympic” well, especially in a sports context. Multiple top results refer to Olympic athletes or events.\n",
    "\n",
    "\n",
    "2. **Query:** terrorist attack president  \n",
    "- **Top similar sentence:**  \n",
    "Clinton told reporters Friday at the State Department that, quote, “what happened in Benghazi was a terrorist attack.”  \n",
    "- **Similarity:** 0.487  \n",
    "- **Explanation:** This is a solid match. The sentence is relevant and includes “terrorist attack” and references a high-level government figure. TF-IDF does well when literal terms are used in high-density news contexts.\n",
    "\n",
    "\n",
    "3. **Query:** fed up  \n",
    "- **Top similar sentence:**  \n",
    "Fed fund futures continue to favour the status quo on Monday and price in a hold on rates until the end of the year.  \n",
    "- **Similarity:** 0.429  \n",
    "- **Explanation:** The first result is a classic **TF-IDF failure** — interpreting “fed” as the **Federal Reserve** instead of as part of theliteral phrase “fed up” However, later matches correctly captured “fed up” in emotional contexts. TF-IDF recovers a bit thanks to literal term matches.\n",
    "\n"
   ]
  },
  {
   "cell_type": "code",
   "execution_count": 176,
   "metadata": {},
   "outputs": [],
   "source": [
    "# 3) QUESTION 3"
   ]
  },
  {
   "cell_type": "markdown",
   "metadata": {},
   "source": [
    "### 🔍 TF-IDF vs BoW: Direct Comparison on Shared Queries\n",
    "\n",
    "We tested the following queries using **both Bag-of-Words (BoW)** and **TF-IDF** search, analyzing the top 5 results by cosine similarity. Below is a comparison by query.\n",
    "\n",
    "---\n",
    "\n",
    "#### 📌 Query: `fox`\n",
    "\n",
    "**BoW:**\n",
    "- Top 5 results all come from “Fox” network-related news (TV shows, sports).\n",
    "- High similarity scores due to repetition of the word “Fox”.\n",
    "\n",
    "**TF-IDF:**\n",
    "- Same results, but scores are slightly more distinct.\n",
    "- TF-IDF works similarly here because “Fox” is rare and repeated in relevant contexts.\n",
    "\n",
    " **Conclusion:** Both perform well. No added value from TF-IDF here, but still consistent.\n",
    "\n",
    "---\n",
    "\n",
    "#### 📌 Query: `fox and deer`\n",
    "\n",
    "**BoW:**\n",
    "- “And” introduces noise — BoW overemphasizes this common word.\n",
    "- Results contain mostly “deer”-only articles; “fox” gets downplayed.\n",
    "\n",
    "**TF-IDF:**\n",
    "- Better results. Top articles feature either “deer” or “fox,” and the impact of “and” is reduced.\n",
    "\n",
    " **Conclusion:** TF-IDF handles stopwords better and gives more meaningful matches.\n",
    "\n",
    "---\n",
    "\n",
    "#### 📌 Query: `fox deer`\n",
    "\n",
    "**BoW:**\n",
    "- Similar to “fox and deer” — mostly about deer with occasional mention of fox.\n",
    "- Relevance is moderate.\n",
    "\n",
    "**TF-IDF:**\n",
    "- Same top article about the deer-flung accident.\n",
    "- TF-IDF slightly prioritizes “fox” more due to rarity.\n",
    "\n",
    " **Conclusion:** Slight win for TF-IDF, but both converge on reasonable results.\n",
    "\n",
    "---\n",
    "\n",
    "#### 📌 Query: `fox fox fox fox fox fox fox fox fox fox`\n",
    "\n",
    "**BoW:**\n",
    "- Extremely high frequency of “fox” in query boosts sentences with high word count matches.\n",
    "- Top article: “Fox has reportedly picked up its drama Fringe...”\n",
    "\n",
    "**TF-IDF:**\n",
    "- Exact same results and order as BoW.\n",
    "- TF-IDF normalizes frequency, so repeating “fox” doesn’t change the ranking much.\n",
    "\n",
    " **Conclusion:** Both perform equally well. TF-IDF avoids frequency bias but the results remain unchanged.\n",
    "\n",
    "---\n",
    "\n",
    "#### 📌 Query: `quick lazy fox dog dog`\n",
    "\n",
    "**BoW:**\n",
    "- Only the word “dog” has good matches — several articles about dog attacks or rescues.\n",
    "- “Fox” and “quick/lazy” are ignored due to lack of presence in the dataset.\n",
    "\n",
    "**TF-IDF:**\n",
    "- Similar behavior: many top results are about dogs, some have both “dog” and “fox”.\n",
    "\n",
    " **Conclusion:** Neither model captures sentence semantics, but TF-IDF slightly edges out by rewarding shared rarer words.\n",
    "\n",
    "---\n",
    "\n",
    "#### 📌 Query: `Fed`\n",
    "\n",
    "**BoW:**\n",
    "- Returns articles both about the **Federal Reserve** and the expression **“fed up.”**\n",
    "- High confusion due to lowercase normalization and word ambiguity.\n",
    "\n",
    "**TF-IDF:**\n",
    "- First match is about the **Federal Reserve**.\n",
    "- Remaining matches are about **“fed up”** as an emotional state.\n",
    "\n",
    " **Conclusion:** TF-IDF shows better flexibility in **recovering semantic range**, though both suffer from polysemy confusion.\n",
    "\n",
    "---\n",
    "\n",
    "### 💡 Summary Table\n",
    "\n",
    "| Query                | Better Method | Reason                                                                 |\n",
    "|----------------------|---------------|------------------------------------------------------------------------|\n",
    "| `fox`                | Tie           | Both return strong keyword matches.                                    |\n",
    "| `fox and deer`       | TF-IDF        | De-emphasizes common stopwords.                                        |\n",
    "| `fox deer`           | TF-IDF        | Gives more weight to rare, relevant words.                             |\n",
    "| `fox ... (x10)`      | Tie           | Frequency normalization makes results same in both.                    |\n",
    "| `quick lazy fox dog` | TF-IDF        | Slightly better at balancing rare terms.                               |\n",
    "| `Fed`                | TF-IDF        | Handles multiple meanings better due to weighting rare uses.           |\n",
    "\n",
    "---\n",
    "\n",
    "### 🧠 Final Thoughts\n",
    "\n",
    "TF-IDF is generally **superior to BoW** in real-world retrieval tasks like this. It:\n",
    "- Handles **stopwords** more gracefully.\n",
    "- Emphasizes **informative, uncommon words**.\n",
    "- Produces more **precise and interpretable results**.\n",
    "\n",
    "However, both models lack:\n",
    "- **Contextual understanding**\n",
    "- **Phrase/word order handling**\n",
    "- **Idiomatic, sarcastic, or metaphorical nuance**\n",
    "\n",
    "To improve further, switching to **word embeddings (e.g., Word2Vec, BERT)** would be necessary.\n"
   ]
  },
  {
   "cell_type": "markdown",
   "metadata": {},
   "source": [
    "---\n"
   ]
  },
  {
   "cell_type": "markdown",
   "metadata": {
    "collapsed": false,
    "pycharm": {
     "name": "#%% md\n"
    }
   },
   "source": [
    "## 4. Word Embeddings\n",
    "\n",
    "In this section you will load the pre-trained word embeddings model - Glove. You can read more about it [here](https://aclanthology.org/D14-1162/) ([https://aclanthology.org/D14-1162/](https://aclanthology.org/D14-1162/)). The embeddings are trained on a large corpus of text and are available in different dimensions. We will start with the dimension of 100, but later you will be asked to experiment with other dimensions.\n",
    "Gensim library maintains a storage containing some pre-trained models. You can read more about it [here](https://github.com/piskvorky/gensim-data) ([https://github.com/piskvorky/gensim-data](https://github.com/piskvorky/gensim-data)). Be sure to read the README of this repository.\n",
    "\n",
    "Let's first load the info of what models are available."
   ]
  },
  {
   "cell_type": "code",
   "execution_count": 177,
   "metadata": {
    "collapsed": false,
    "pycharm": {
     "name": "#%%\n"
    }
   },
   "outputs": [
    {
     "name": "stdout",
     "output_type": "stream",
     "text": [
      "{\n",
      "  \"fasttext-wiki-news-subwords-300\": {\n",
      "    \"num_records\": 999999,\n",
      "    \"file_size\": 1005007116,\n",
      "    \"base_dataset\": \"Wikipedia 2017, UMBC webbase corpus and statmt.org news dataset (16B tokens)\",\n",
      "    \"reader_code\": \"https://github.com/RaRe-Technologies/gensim-data/releases/download/fasttext-wiki-news-subwords-300/__init__.py\",\n",
      "    \"license\": \"https://creativecommons.org/licenses/by-sa/3.0/\",\n",
      "    \"parameters\": {\n",
      "      \"dimension\": 300\n",
      "    },\n",
      "    \"description\": \"1 million word vectors trained on Wikipedia 2017, UMBC webbase corpus and statmt.org news dataset (16B tokens).\",\n",
      "    \"read_more\": [\n",
      "      \"https://fasttext.cc/docs/en/english-vectors.html\",\n",
      "      \"https://arxiv.org/abs/1712.09405\",\n",
      "      \"https://arxiv.org/abs/1607.01759\"\n",
      "    ],\n",
      "    \"checksum\": \"de2bb3a20c46ce65c9c131e1ad9a77af\",\n",
      "    \"file_name\": \"fasttext-wiki-news-subwords-300.gz\",\n",
      "    \"parts\": 1\n",
      "  },\n",
      "  \"conceptnet-numberbatch-17-06-300\": {\n",
      "    \"num_records\": 1917247,\n",
      "    \"file_size\": 1225497562,\n",
      "    \"base_dataset\": \"ConceptNet, word2vec, GloVe, and OpenSubtitles 2016\",\n",
      "    \"reader_code\": \"https://github.com/RaRe-Technologies/gensim-data/releases/download/conceptnet-numberbatch-17-06-300/__init__.py\",\n",
      "    \"license\": \"https://github.com/commonsense/conceptnet-numberbatch/blob/master/LICENSE.txt\",\n",
      "    \"parameters\": {\n",
      "      \"dimension\": 300\n",
      "    },\n",
      "    \"description\": \"ConceptNet Numberbatch consists of state-of-the-art semantic vectors (also known as word embeddings) that can be used directly as a representation of word meanings or as a starting point for further machine learning. ConceptNet Numberbatch is part of the ConceptNet open data project. ConceptNet provides lots of ways to compute with word meanings, one of which is word embeddings. ConceptNet Numberbatch is a snapshot of just the word embeddings. It is built using an ensemble that combines data from ConceptNet, word2vec, GloVe, and OpenSubtitles 2016, using a variation on retrofitting.\",\n",
      "    \"read_more\": [\n",
      "      \"http://aaai.org/ocs/index.php/AAAI/AAAI17/paper/view/14972\",\n",
      "      \"https://github.com/commonsense/conceptnet-numberbatch\",\n",
      "      \"http://conceptnet.io/\"\n",
      "    ],\n",
      "    \"checksum\": \"fd642d457adcd0ea94da0cd21b150847\",\n",
      "    \"file_name\": \"conceptnet-numberbatch-17-06-300.gz\",\n",
      "    \"parts\": 1\n",
      "  },\n",
      "  \"word2vec-ruscorpora-300\": {\n",
      "    \"num_records\": 184973,\n",
      "    \"file_size\": 208427381,\n",
      "    \"base_dataset\": \"Russian National Corpus (about 250M words)\",\n",
      "    \"reader_code\": \"https://github.com/RaRe-Technologies/gensim-data/releases/download/word2vec-ruscorpora-300/__init__.py\",\n",
      "    \"license\": \"https://creativecommons.org/licenses/by/4.0/deed.en\",\n",
      "    \"parameters\": {\n",
      "      \"dimension\": 300,\n",
      "      \"window_size\": 10\n",
      "    },\n",
      "    \"description\": \"Word2vec Continuous Skipgram vectors trained on full Russian National Corpus (about 250M words). The model contains 185K words.\",\n",
      "    \"preprocessing\": \"The corpus was lemmatized and tagged with Universal PoS\",\n",
      "    \"read_more\": [\n",
      "      \"https://www.academia.edu/24306935/WebVectors_a_Toolkit_for_Building_Web_Interfaces_for_Vector_Semantic_Models\",\n",
      "      \"http://rusvectores.org/en/\",\n",
      "      \"https://github.com/RaRe-Technologies/gensim-data/issues/3\"\n",
      "    ],\n",
      "    \"checksum\": \"9bdebdc8ae6d17d20839dd9b5af10bc4\",\n",
      "    \"file_name\": \"word2vec-ruscorpora-300.gz\",\n",
      "    \"parts\": 1\n",
      "  },\n",
      "  \"word2vec-google-news-300\": {\n",
      "    \"num_records\": 3000000,\n",
      "    \"file_size\": 1743563840,\n",
      "    \"base_dataset\": \"Google News (about 100 billion words)\",\n",
      "    \"reader_code\": \"https://github.com/RaRe-Technologies/gensim-data/releases/download/word2vec-google-news-300/__init__.py\",\n",
      "    \"license\": \"not found\",\n",
      "    \"parameters\": {\n",
      "      \"dimension\": 300\n",
      "    },\n",
      "    \"description\": \"Pre-trained vectors trained on a part of the Google News dataset (about 100 billion words). The model contains 300-dimensional vectors for 3 million words and phrases. The phrases were obtained using a simple data-driven approach described in 'Distributed Representations of Words and Phrases and their Compositionality' (https://code.google.com/archive/p/word2vec/).\",\n",
      "    \"read_more\": [\n",
      "      \"https://code.google.com/archive/p/word2vec/\",\n",
      "      \"https://arxiv.org/abs/1301.3781\",\n",
      "      \"https://arxiv.org/abs/1310.4546\",\n",
      "      \"https://www.microsoft.com/en-us/research/publication/linguistic-regularities-in-continuous-space-word-representations/?from=http%3A%2F%2Fresearch.microsoft.com%2Fpubs%2F189726%2Frvecs.pdf\"\n",
      "    ],\n",
      "    \"checksum\": \"a5e5354d40acb95f9ec66d5977d140ef\",\n",
      "    \"file_name\": \"word2vec-google-news-300.gz\",\n",
      "    \"parts\": 1\n",
      "  },\n",
      "  \"glove-wiki-gigaword-50\": {\n",
      "    \"num_records\": 400000,\n",
      "    \"file_size\": 69182535,\n",
      "    \"base_dataset\": \"Wikipedia 2014 + Gigaword 5 (6B tokens, uncased)\",\n",
      "    \"reader_code\": \"https://github.com/RaRe-Technologies/gensim-data/releases/download/glove-wiki-gigaword-50/__init__.py\",\n",
      "    \"license\": \"http://opendatacommons.org/licenses/pddl/\",\n",
      "    \"parameters\": {\n",
      "      \"dimension\": 50\n",
      "    },\n",
      "    \"description\": \"Pre-trained vectors based on Wikipedia 2014 + Gigaword, 5.6B tokens, 400K vocab, uncased (https://nlp.stanford.edu/projects/glove/).\",\n",
      "    \"preprocessing\": \"Converted to w2v format with `python -m gensim.scripts.glove2word2vec -i <fname> -o glove-wiki-gigaword-50.txt`.\",\n",
      "    \"read_more\": [\n",
      "      \"https://nlp.stanford.edu/projects/glove/\",\n",
      "      \"https://nlp.stanford.edu/pubs/glove.pdf\"\n",
      "    ],\n",
      "    \"checksum\": \"c289bc5d7f2f02c6dc9f2f9b67641813\",\n",
      "    \"file_name\": \"glove-wiki-gigaword-50.gz\",\n",
      "    \"parts\": 1\n",
      "  },\n",
      "  \"glove-wiki-gigaword-100\": {\n",
      "    \"num_records\": 400000,\n",
      "    \"file_size\": 134300434,\n",
      "    \"base_dataset\": \"Wikipedia 2014 + Gigaword 5 (6B tokens, uncased)\",\n",
      "    \"reader_code\": \"https://github.com/RaRe-Technologies/gensim-data/releases/download/glove-wiki-gigaword-100/__init__.py\",\n",
      "    \"license\": \"http://opendatacommons.org/licenses/pddl/\",\n",
      "    \"parameters\": {\n",
      "      \"dimension\": 100\n",
      "    },\n",
      "    \"description\": \"Pre-trained vectors based on Wikipedia 2014 + Gigaword 5.6B tokens, 400K vocab, uncased (https://nlp.stanford.edu/projects/glove/).\",\n",
      "    \"preprocessing\": \"Converted to w2v format with `python -m gensim.scripts.glove2word2vec -i <fname> -o glove-wiki-gigaword-100.txt`.\",\n",
      "    \"read_more\": [\n",
      "      \"https://nlp.stanford.edu/projects/glove/\",\n",
      "      \"https://nlp.stanford.edu/pubs/glove.pdf\"\n",
      "    ],\n",
      "    \"checksum\": \"40ec481866001177b8cd4cb0df92924f\",\n",
      "    \"file_name\": \"glove-wiki-gigaword-100.gz\",\n",
      "    \"parts\": 1\n",
      "  },\n",
      "  \"glove-wiki-gigaword-200\": {\n",
      "    \"num_records\": 400000,\n",
      "    \"file_size\": 264336934,\n",
      "    \"base_dataset\": \"Wikipedia 2014 + Gigaword 5 (6B tokens, uncased)\",\n",
      "    \"reader_code\": \"https://github.com/RaRe-Technologies/gensim-data/releases/download/glove-wiki-gigaword-200/__init__.py\",\n",
      "    \"license\": \"http://opendatacommons.org/licenses/pddl/\",\n",
      "    \"parameters\": {\n",
      "      \"dimension\": 200\n",
      "    },\n",
      "    \"description\": \"Pre-trained vectors based on Wikipedia 2014 + Gigaword, 5.6B tokens, 400K vocab, uncased (https://nlp.stanford.edu/projects/glove/).\",\n",
      "    \"preprocessing\": \"Converted to w2v format with `python -m gensim.scripts.glove2word2vec -i <fname> -o glove-wiki-gigaword-200.txt`.\",\n",
      "    \"read_more\": [\n",
      "      \"https://nlp.stanford.edu/projects/glove/\",\n",
      "      \"https://nlp.stanford.edu/pubs/glove.pdf\"\n",
      "    ],\n",
      "    \"checksum\": \"59652db361b7a87ee73834a6c391dfc1\",\n",
      "    \"file_name\": \"glove-wiki-gigaword-200.gz\",\n",
      "    \"parts\": 1\n",
      "  },\n",
      "  \"glove-wiki-gigaword-300\": {\n",
      "    \"num_records\": 400000,\n",
      "    \"file_size\": 394362229,\n",
      "    \"base_dataset\": \"Wikipedia 2014 + Gigaword 5 (6B tokens, uncased)\",\n",
      "    \"reader_code\": \"https://github.com/RaRe-Technologies/gensim-data/releases/download/glove-wiki-gigaword-300/__init__.py\",\n",
      "    \"license\": \"http://opendatacommons.org/licenses/pddl/\",\n",
      "    \"parameters\": {\n",
      "      \"dimension\": 300\n",
      "    },\n",
      "    \"description\": \"Pre-trained vectors based on Wikipedia 2014 + Gigaword, 5.6B tokens, 400K vocab, uncased (https://nlp.stanford.edu/projects/glove/).\",\n",
      "    \"preprocessing\": \"Converted to w2v format with `python -m gensim.scripts.glove2word2vec -i <fname> -o glove-wiki-gigaword-300.txt`.\",\n",
      "    \"read_more\": [\n",
      "      \"https://nlp.stanford.edu/projects/glove/\",\n",
      "      \"https://nlp.stanford.edu/pubs/glove.pdf\"\n",
      "    ],\n",
      "    \"checksum\": \"29e9329ac2241937d55b852e8284e89b\",\n",
      "    \"file_name\": \"glove-wiki-gigaword-300.gz\",\n",
      "    \"parts\": 1\n",
      "  },\n",
      "  \"glove-twitter-25\": {\n",
      "    \"num_records\": 1193514,\n",
      "    \"file_size\": 109885004,\n",
      "    \"base_dataset\": \"Twitter (2B tweets, 27B tokens, 1.2M vocab, uncased)\",\n",
      "    \"reader_code\": \"https://github.com/RaRe-Technologies/gensim-data/releases/download/glove-twitter-25/__init__.py\",\n",
      "    \"license\": \"http://opendatacommons.org/licenses/pddl/\",\n",
      "    \"parameters\": {\n",
      "      \"dimension\": 25\n",
      "    },\n",
      "    \"description\": \"Pre-trained vectors based on 2B tweets, 27B tokens, 1.2M vocab, uncased (https://nlp.stanford.edu/projects/glove/).\",\n",
      "    \"preprocessing\": \"Converted to w2v format with `python -m gensim.scripts.glove2word2vec -i <fname> -o glove-twitter-25.txt`.\",\n",
      "    \"read_more\": [\n",
      "      \"https://nlp.stanford.edu/projects/glove/\",\n",
      "      \"https://nlp.stanford.edu/pubs/glove.pdf\"\n",
      "    ],\n",
      "    \"checksum\": \"50db0211d7e7a2dcd362c6b774762793\",\n",
      "    \"file_name\": \"glove-twitter-25.gz\",\n",
      "    \"parts\": 1\n",
      "  },\n",
      "  \"glove-twitter-50\": {\n",
      "    \"num_records\": 1193514,\n",
      "    \"file_size\": 209216938,\n",
      "    \"base_dataset\": \"Twitter (2B tweets, 27B tokens, 1.2M vocab, uncased)\",\n",
      "    \"reader_code\": \"https://github.com/RaRe-Technologies/gensim-data/releases/download/glove-twitter-50/__init__.py\",\n",
      "    \"license\": \"http://opendatacommons.org/licenses/pddl/\",\n",
      "    \"parameters\": {\n",
      "      \"dimension\": 50\n",
      "    },\n",
      "    \"description\": \"Pre-trained vectors based on 2B tweets, 27B tokens, 1.2M vocab, uncased (https://nlp.stanford.edu/projects/glove/)\",\n",
      "    \"preprocessing\": \"Converted to w2v format with `python -m gensim.scripts.glove2word2vec -i <fname> -o glove-twitter-50.txt`.\",\n",
      "    \"read_more\": [\n",
      "      \"https://nlp.stanford.edu/projects/glove/\",\n",
      "      \"https://nlp.stanford.edu/pubs/glove.pdf\"\n",
      "    ],\n",
      "    \"checksum\": \"c168f18641f8c8a00fe30984c4799b2b\",\n",
      "    \"file_name\": \"glove-twitter-50.gz\",\n",
      "    \"parts\": 1\n",
      "  },\n",
      "  \"glove-twitter-100\": {\n",
      "    \"num_records\": 1193514,\n",
      "    \"file_size\": 405932991,\n",
      "    \"base_dataset\": \"Twitter (2B tweets, 27B tokens, 1.2M vocab, uncased)\",\n",
      "    \"reader_code\": \"https://github.com/RaRe-Technologies/gensim-data/releases/download/glove-twitter-100/__init__.py\",\n",
      "    \"license\": \"http://opendatacommons.org/licenses/pddl/\",\n",
      "    \"parameters\": {\n",
      "      \"dimension\": 100\n",
      "    },\n",
      "    \"description\": \"Pre-trained vectors based on  2B tweets, 27B tokens, 1.2M vocab, uncased (https://nlp.stanford.edu/projects/glove/)\",\n",
      "    \"preprocessing\": \"Converted to w2v format with `python -m gensim.scripts.glove2word2vec -i <fname> -o glove-twitter-100.txt`.\",\n",
      "    \"read_more\": [\n",
      "      \"https://nlp.stanford.edu/projects/glove/\",\n",
      "      \"https://nlp.stanford.edu/pubs/glove.pdf\"\n",
      "    ],\n",
      "    \"checksum\": \"b04f7bed38756d64cf55b58ce7e97b15\",\n",
      "    \"file_name\": \"glove-twitter-100.gz\",\n",
      "    \"parts\": 1\n",
      "  },\n",
      "  \"glove-twitter-200\": {\n",
      "    \"num_records\": 1193514,\n",
      "    \"file_size\": 795373100,\n",
      "    \"base_dataset\": \"Twitter (2B tweets, 27B tokens, 1.2M vocab, uncased)\",\n",
      "    \"reader_code\": \"https://github.com/RaRe-Technologies/gensim-data/releases/download/glove-twitter-200/__init__.py\",\n",
      "    \"license\": \"http://opendatacommons.org/licenses/pddl/\",\n",
      "    \"parameters\": {\n",
      "      \"dimension\": 200\n",
      "    },\n",
      "    \"description\": \"Pre-trained vectors based on 2B tweets, 27B tokens, 1.2M vocab, uncased (https://nlp.stanford.edu/projects/glove/).\",\n",
      "    \"preprocessing\": \"Converted to w2v format with `python -m gensim.scripts.glove2word2vec -i <fname> -o glove-twitter-200.txt`.\",\n",
      "    \"read_more\": [\n",
      "      \"https://nlp.stanford.edu/projects/glove/\",\n",
      "      \"https://nlp.stanford.edu/pubs/glove.pdf\"\n",
      "    ],\n",
      "    \"checksum\": \"e52e8392d1860b95d5308a525817d8f9\",\n",
      "    \"file_name\": \"glove-twitter-200.gz\",\n",
      "    \"parts\": 1\n",
      "  },\n",
      "  \"__testing_word2vec-matrix-synopsis\": {\n",
      "    \"description\": \"[THIS IS ONLY FOR TESTING] Word vecrors of the movie matrix.\",\n",
      "    \"parameters\": {\n",
      "      \"dimensions\": 50\n",
      "    },\n",
      "    \"preprocessing\": \"Converted to w2v using a preprocessed corpus. Converted to w2v format with `python3.5 -m gensim.models.word2vec -train <input_filename> -iter 50 -output <output_filename>`.\",\n",
      "    \"read_more\": [],\n",
      "    \"checksum\": \"534dcb8b56a360977a269b7bfc62d124\",\n",
      "    \"file_name\": \"__testing_word2vec-matrix-synopsis.gz\",\n",
      "    \"parts\": 1\n",
      "  }\n",
      "}\n"
     ]
    }
   ],
   "source": [
    "import json\n",
    "import gensim.downloader as api\n",
    "\n",
    "info = api.info()  # show info about available models/datasets\n",
    "print(json.dumps(info['models'], indent=2))"
   ]
  },
  {
   "cell_type": "code",
   "execution_count": 178,
   "metadata": {
    "collapsed": false,
    "pycharm": {
     "name": "#%%\n"
    }
   },
   "outputs": [],
   "source": [
    "glove_model = api.load(\"glove-wiki-gigaword-100\")"
   ]
  },
  {
   "cell_type": "markdown",
   "metadata": {
    "collapsed": false,
    "pycharm": {
     "name": "#%% md\n"
    }
   },
   "source": [
    "We can use the loaded model's `key_to_index` attribute to retrieve the whole vocabulary (aka for how many words we learned embeddings for)."
   ]
  },
  {
   "cell_type": "code",
   "execution_count": 179,
   "metadata": {
    "collapsed": false,
    "pycharm": {
     "name": "#%%\n"
    }
   },
   "outputs": [
    {
     "name": "stdout",
     "output_type": "stream",
     "text": [
      "400000\n"
     ]
    }
   ],
   "source": [
    "vocab = list(glove_model.key_to_index)\n",
    "print(len(vocab))"
   ]
  },
  {
   "cell_type": "markdown",
   "metadata": {
    "collapsed": false,
    "pycharm": {
     "name": "#%% md\n"
    }
   },
   "source": [
    "Let's explore a bit further the embeddings. In the following cells, the embedding of a single word is returned. Double-check the dimensions (as sanity check). This is like inspecting the `W` matrix (weights) that we discussed in the lecture."
   ]
  },
  {
   "cell_type": "code",
   "execution_count": 180,
   "metadata": {
    "collapsed": false,
    "pycharm": {
     "name": "#%%\n"
    }
   },
   "outputs": [
    {
     "data": {
      "text/plain": [
       "array([-1.5180e-01,  3.8409e-01,  8.9340e-01, -4.2421e-01, -9.2161e-01,\n",
       "        3.7988e-02, -3.2026e-01,  3.4119e-03,  2.2101e-01, -2.2045e-01,\n",
       "        1.6661e-01,  2.1956e-01,  2.5325e-01, -2.9267e-01,  1.0171e-01,\n",
       "       -7.5491e-02, -6.0406e-02,  2.8194e-01, -5.8519e-01,  4.8271e-01,\n",
       "        1.7504e-02, -1.2086e-01, -1.0990e-01, -6.9554e-01,  1.5600e-01,\n",
       "        7.0558e-02, -1.5058e-01, -8.1811e-01, -1.8535e-01, -3.6863e-01,\n",
       "        3.1650e-02,  7.6616e-01,  8.4041e-02,  2.6928e-03, -2.7440e-01,\n",
       "        2.1815e-01, -3.5157e-02,  3.2569e-01,  1.0032e-01, -6.0932e-01,\n",
       "       -7.0316e-01,  1.8299e-01,  3.3134e-01, -1.2416e-01, -9.0542e-01,\n",
       "       -3.9157e-02,  4.4719e-01, -5.7338e-01, -4.0172e-01, -8.2234e-01,\n",
       "        5.5740e-01,  1.5101e-01,  2.4598e-01,  1.0113e+00, -4.6626e-01,\n",
       "       -2.7133e+00,  4.3273e-01, -1.6314e-01,  1.5828e+00,  5.5081e-01,\n",
       "       -2.4738e-01,  1.4184e+00, -1.6867e-02, -1.9368e-01,  1.0090e+00,\n",
       "       -5.9864e-02,  9.1853e-01,  4.3022e-01, -2.0624e-01,  7.6127e-02,\n",
       "        2.1595e-01, -2.6834e-01, -3.3342e-01, -3.7151e-01,  4.5197e-01,\n",
       "       -8.2460e-02,  3.2984e-01, -5.7376e-01, -1.3042e+00,  2.7121e-01,\n",
       "        6.6277e-01, -7.9626e-02, -7.9167e-01, -5.3662e-03, -1.7916e+00,\n",
       "       -3.3298e-01, -3.0698e-01, -3.3980e-01, -5.5618e-01, -6.9471e-01,\n",
       "        2.7427e-01, -2.1898e-01, -2.6714e-01,  2.2561e-03, -5.0178e-01,\n",
       "       -3.2775e-01, -4.5670e-01, -2.7123e-01,  2.2157e-01,  9.2112e-01],\n",
       "      dtype=float32)"
      ]
     },
     "execution_count": 180,
     "metadata": {},
     "output_type": "execute_result"
    }
   ],
   "source": [
    "# vector of a particular model. note that it is 100 dimensional as specified.\n",
    "glove_model['what']"
   ]
  },
  {
   "cell_type": "markdown",
   "metadata": {
    "collapsed": false,
    "pycharm": {
     "name": "#%% md\n"
    }
   },
   "source": [
    "Gensim objects offers different methods to easily run very common tasks. For example, there are different functions to find the most similar words.\n",
    "\n",
    "Check the documentation on how [`most_similar`](https://tedboy.github.io/nlps/generated/generated/gensim.models.Word2Vec.most_similar.html) and [`similar_by_word`](https://tedboy.github.io/nlps/generated/generated/gensim.models.Word2Vec.similar_by_word.html) can be used."
   ]
  },
  {
   "cell_type": "code",
   "execution_count": 181,
   "metadata": {
    "collapsed": false,
    "pycharm": {
     "name": "#%%\n"
    }
   },
   "outputs": [
    {
     "name": "stdout",
     "output_type": "stream",
     "text": [
      "[('how', 0.9303215742111206), ('why', 0.9196363091468811), ('fact', 0.906943678855896), ('know', 0.8876389265060425), ('that', 0.8810365796089172), ('think', 0.8772969841957092), ('so', 0.8753098249435425), ('even', 0.8751895427703857), ('something', 0.874744176864624), ('if', 0.8702542781829834)]\n",
      "[('play', 0.6266524791717529), ('missed', 0.608065128326416), ('she', 0.596325695514679), ('chance', 0.5839369297027588), ('tournament', 0.572258710861206)]\n"
     ]
    }
   ],
   "source": [
    "# most similar words to a given word\n",
    "print(glove_model.most_similar('what', topn=10))\n",
    "\n",
    "# also u can use\n",
    "print(glove_model.similar_by_word('miss', topn=5))"
   ]
  },
  {
   "cell_type": "code",
   "execution_count": 182,
   "metadata": {
    "collapsed": false,
    "pycharm": {
     "name": "#%%\n"
    }
   },
   "outputs": [
    {
     "name": "stdout",
     "output_type": "stream",
     "text": [
      "[('know', 0.944094181060791), ('what', 0.9196362495422363), ('think', 0.9086559414863586), ('how', 0.9020735621452332), ('tell', 0.8923122882843018), (\"n't\", 0.8890628814697266), ('sure', 0.8870969414710999), ('thought', 0.8747684955596924), ('believe', 0.8745115399360657), ('say', 0.8730075359344482)]\n"
     ]
    }
   ],
   "source": [
    "print(glove_model.most_similar('why', topn=10))"
   ]
  },
  {
   "cell_type": "code",
   "execution_count": 183,
   "metadata": {
    "collapsed": false,
    "pycharm": {
     "name": "#%%\n"
    }
   },
   "outputs": [
    {
     "name": "stdout",
     "output_type": "stream",
     "text": [
      "[('whom', 0.8642492890357971), ('he', 0.8201969861984253), ('whose', 0.8143677711486816), ('had', 0.8035843968391418), ('others', 0.7708418965339661)]\n"
     ]
    }
   ],
   "source": [
    "print(glove_model.similar_by_word('who', topn=5))"
   ]
  },
  {
   "cell_type": "markdown",
   "metadata": {
    "collapsed": false,
    "pycharm": {
     "name": "#%% md\n"
    }
   },
   "source": [
    "We can now compare our implementation with the one in the pre-trained model and confirm what we already expected."
   ]
  },
  {
   "cell_type": "code",
   "execution_count": 184,
   "metadata": {
    "collapsed": false,
    "pycharm": {
     "name": "#%%\n"
    }
   },
   "outputs": [
    {
     "name": "stdout",
     "output_type": "stream",
     "text": [
      "0.15712576\n"
     ]
    },
    {
     "data": {
      "text/plain": [
       "0.15712577"
      ]
     },
     "execution_count": 184,
     "metadata": {},
     "output_type": "execute_result"
    }
   ],
   "source": [
    "# simalarity between two words\n",
    "word1 = 'alive'\n",
    "word2 = 'biology'\n",
    "print(glove_model.similarity(word1, word2))\n",
    "cosine_similarity(glove_model[word1], glove_model[word2])"
   ]
  },
  {
   "cell_type": "code",
   "execution_count": 185,
   "metadata": {
    "collapsed": false,
    "pycharm": {
     "name": "#%%\n"
    }
   },
   "outputs": [
    {
     "name": "stdout",
     "output_type": "stream",
     "text": [
      "0.6400605\n",
      "0.6400605\n"
     ]
    }
   ],
   "source": [
    "# simalarity between two words. similar words\n",
    "word1 = 'alive'\n",
    "word2 = 'life'\n",
    "print(glove_model.similarity(word1, word2))\n",
    "print(cosine_similarity(glove_model[word1], glove_model[word2]))"
   ]
  },
  {
   "cell_type": "code",
   "execution_count": 186,
   "metadata": {
    "collapsed": false,
    "pycharm": {
     "name": "#%%\n"
    }
   },
   "outputs": [
    {
     "name": "stdout",
     "output_type": "stream",
     "text": [
      "0.7103517\n",
      "0.71035177\n"
     ]
    }
   ],
   "source": [
    "# simalarity between two words. dissimilar words\n",
    "word1 = 'alive'\n",
    "word2 = 'dead'\n",
    "print(glove_model.similarity(word1, word2))\n",
    "print(cosine_similarity(glove_model[word1], glove_model[word2]))"
   ]
  },
  {
   "cell_type": "code",
   "execution_count": 187,
   "metadata": {
    "collapsed": false,
    "pycharm": {
     "name": "#%%\n"
    }
   },
   "outputs": [
    {
     "name": "stdout",
     "output_type": "stream",
     "text": [
      "0.34625494\n",
      "0.34625497\n"
     ]
    }
   ],
   "source": [
    "# simalarity between two words. unrelated words\n",
    "word1 = 'alive'\n",
    "word2 = 'horse'\n",
    "print(glove_model.similarity(word1, word2))\n",
    "print(cosine_similarity(glove_model[word1], glove_model[word2]))"
   ]
  },
  {
   "cell_type": "code",
   "execution_count": 188,
   "metadata": {
    "collapsed": false,
    "pycharm": {
     "name": "#%%\n"
    }
   },
   "outputs": [
    {
     "name": "stdout",
     "output_type": "stream",
     "text": [
      "1.0\n",
      "1.0000001\n"
     ]
    }
   ],
   "source": [
    "# simalarity between two SAME words\n",
    "glove_model.similarity('equal', 'equal')\n",
    "word1 = 'equal'\n",
    "word2 = 'equal'\n",
    "print(glove_model.similarity(word1, word2))\n",
    "print(cosine_similarity(glove_model[word1], glove_model[word2]))"
   ]
  },
  {
   "cell_type": "markdown",
   "metadata": {
    "collapsed": false,
    "pycharm": {
     "name": "#%% md\n"
    }
   },
   "source": [
    "The next function contains the code to plot a similarity matrix between multiple words (e.g. if we want to compare 10 words and their pair-wise similarities). It requires a matrix with similarities (as input) and labels (aka the words) to display in the final figure."
   ]
  },
  {
   "cell_type": "code",
   "execution_count": 189,
   "metadata": {
    "collapsed": false,
    "pycharm": {
     "name": "#%%\n"
    }
   },
   "outputs": [],
   "source": [
    "def plot_similarity_matrix(matrix, labels):\n",
    "    \"\"\"\n",
    "    Displays a plot of the `matrix` of size (N x N) with the labels specified as a list of size N\n",
    "    Args:\n",
    "        matrix: a square-sized (N x N) numpy array\n",
    "        labels: a list of strings of hte size N\n",
    "    \"\"\"\n",
    "\n",
    "    fig, ax = plt.subplots()\n",
    "    im = ax.imshow(matrix)\n",
    "\n",
    "    # Show all ticks and label them with the respective list entries\n",
    "    ax.set_xticks(np.arange(len(labels)), labels=labels)\n",
    "    ax.set_yticks(np.arange(len(labels)), labels=labels)\n",
    "\n",
    "    # Rotate the tick labels and set their alignment.\n",
    "    plt.setp(ax.get_xticklabels(), rotation=45, ha=\"right\",\n",
    "             rotation_mode=\"anchor\")\n",
    "\n",
    "    # Loop over data dimensions and create text annotations.\n",
    "    for i in range(len(labels)):\n",
    "        for j in range(len(labels)):\n",
    "            text = ax.text(j, i, f'{matrix[i, j]:.2f}',\n",
    "                           ha=\"center\", va=\"center\", color=\"w\")\n",
    "\n",
    "    # ax.set_title(\"Give a title if you want\")\n",
    "    fig.tight_layout()\n",
    "    plt.show()"
   ]
  },
  {
   "cell_type": "markdown",
   "metadata": {
    "collapsed": false,
    "pycharm": {
     "name": "#%% md\n"
    }
   },
   "source": [
    "<a name='e10'></a>\n",
    "### Exercise 10: Plotting similarities between words\n",
    "\n",
    "(10p) In the following, we will explore some properties of word embeddings through some examples. We will use 6 example words for this purpose but experiment with other set of words as well. Fill in the next cell to create a similarity matrix between a list of words.\n",
    "\n",
    "Experiment with different words and their similarities plotted. Try at least 3 different sets of words of at least 6 words each. Use the `plot_similarity_matrix` function to visualize the results.\n",
    "Comment on the results. Do they make sense? Why some words are closer to each other than others? What does it mean?"
   ]
  },
  {
   "cell_type": "code",
   "execution_count": 190,
   "metadata": {
    "collapsed": false,
    "pycharm": {
     "name": "#%%\n"
    }
   },
   "outputs": [
    {
     "data": {
      "image/png": "[encoded data removed]",
      "text/plain": [
       "<Figure size 640x480 with 1 Axes>"
      ]
     },
     "metadata": {},
     "output_type": "display_data"
    }
   ],
   "source": [
    "list_of_words = ['love', 'hate', 'life', 'equal', 'alive', 'dead']\n",
    "\n",
    "### YOUR CODE HERE\n",
    "def enumeration(list_of_words):\n",
    "    matrix = np.zeros((len(list_of_words), len(list_of_words)), dtype=float)\n",
    "    for i, word1 in enumerate(list_of_words):\n",
    "        for j, word2 in enumerate(list_of_words):\n",
    "            if word1 in glove_model and word2 in glove_model:\n",
    "                matrix[i][j] = glove_model.similarity(word1, word2)\n",
    "            else:\n",
    "                matrix[i][j] = np.nan\n",
    "    return matrix\n",
    "\n",
    "similarity_matrix = enumeration(list_of_words)\n",
    "### YOUR CODE ENDS HERE\n",
    "\n",
    "\n",
    "plot_similarity_matrix(similarity_matrix, list_of_words)"
   ]
  },
  {
   "cell_type": "markdown",
   "metadata": {
    "collapsed": false,
    "pycharm": {
     "name": "#%% md\n"
    }
   },
   "source": [
    "<a name='e11'></a>\n",
    "### Exercise 11: Other pre-trained word embeddings\n",
    "(10p) For this exercise, experiment with at least one different word embedding model. You can choose Glove with different dimensions or other pre-trained models. Use the gensim library to download and use the models.\n",
    "Plot similarity matrices between sets of words you used in the previous exercise and compare the results. Are there noticeable differences? Why (not)?"
   ]
  },
  {
   "cell_type": "code",
   "execution_count": 191,
   "metadata": {
    "collapsed": false,
    "pycharm": {
     "name": "#%%\n"
    }
   },
   "outputs": [
    {
     "data": {
      "image/png": "[encoded data removed]",
      "text/plain": [
       "<Figure size 640x480 with 1 Axes>"
      ]
     },
     "metadata": {},
     "output_type": "display_data"
    },
    {
     "data": {
      "image/png": "[encoded data removed]",
      "text/plain": [
       "<Figure size 640x480 with 1 Axes>"
      ]
     },
     "metadata": {},
     "output_type": "display_data"
    },
    {
     "data": {
      "image/png": "[encoded data removed]",
      "text/plain": [
       "<Figure size 640x480 with 1 Axes>"
      ]
     },
     "metadata": {},
     "output_type": "display_data"
    }
   ],
   "source": [
    "#### YOUR CODE HERE\n",
    "# Set 1: pluchniks wheel of emotions\n",
    "words_1 = ['joy', 'trust', 'fear', 'surprise', 'sadness', 'disgust', 'anger', 'anticipation']\n",
    "sim1 = enumeration(words_1)\n",
    "plot_similarity_matrix(sim1, words_1)\n",
    "\n",
    "# Set 2: animales\n",
    "words_2 = ['dog', 'cat', 'lion', 'tiger', 'rabbit', 'elephant', 'monkey', 'giraffe']\n",
    "sim2 = enumeration(words_2)\n",
    "plot_similarity_matrix(sim2, words_2)\n",
    "\n",
    "# Set 3: fod\n",
    "words_3 = ['apple', 'banana', 'bread', 'butter', 'cheese', 'milk', 'egg', 'chicken']\n",
    "sim3 = enumeration(words_3)\n",
    "plot_similarity_matrix(sim3, words_3)\n",
    "\n",
    "\n",
    "\n",
    "\n",
    "### YOUR CODE ENDS HERE"
   ]
  },
  {
   "cell_type": "markdown",
   "metadata": {
    "collapsed": false,
    "pycharm": {
     "name": "#%% md\n"
    }
   },
   "source": [
    "// your comments"
   ]
  },
  {
   "cell_type": "markdown",
   "metadata": {
    "collapsed": false,
    "pycharm": {
     "name": "#%% md\n"
    }
   },
   "source": [
    "## 5. Sentence Embeddings by Averaging Word Embeddings\n",
    "\n",
    "Word embeddings are a powerful model for representing words and their meaning (in terms of distributional similarity). As we discussed in class, we can use them in a wide variety of tasks with more complex architectures. Word vectors offer a dense vector for each word. What if we wanted to represent a sentence (or a document) based on word vectors. How can we do that?\n",
    "\n",
    "In the course, we will see different architectures that take into account the sequence of words (by combining their vectors). A first naive but simple and sometimes (as we are going to see) quite effective approach would be to represent a sentence with an embedding vector that is the average of the word vectors that form the sentence.\n",
    "\n",
    "So formally, this is what we are aiming for:\n",
    "\n",
    "$\n",
    "\\text{Sentence_Embedding} = \\frac{1}{N} \\sum_{i=1}^{N} \\text{Word_Embedding}_i\n",
    "$\n",
    "\n",
    "where:\n",
    "* $N$ is the number of words in a sentence\n",
    "* $\\text{Word_Embedding}_i$ is the word vector for the $i$-th in the sentence.\n",
    "\n",
    "Things to note:\n",
    "* The embedding vector for the sentence will obviously have the same dimension as the word embedding.\n",
    "* This representation ignores the word order (like bag-of-words). During the course we will see how we can overcome this limitation by using sequence models."
   ]
  },
  {
   "cell_type": "markdown",
   "metadata": {
    "collapsed": false,
    "pycharm": {
     "name": "#%% md\n"
    }
   },
   "source": [
    "<a name='e12'></a>\n",
    "### Exercise 12: Sentence Embedding\n",
    "\n",
    "(10p) Complete the function below that takes as input the sentence in the form of tokens (so it's a list of words) and calculates the sentence embedding vector. First, we would need to retrieve the word embeddings for each word from our loaded model and then average the vectors.\n",
    "\n",
    "Note: There can be cases where all tokens from a sentence are out-of-vocabulary words (OOV). Think what to do in this case and make sure to discuss it in the report."
   ]
  },
  {
   "cell_type": "code",
   "execution_count": 192,
   "metadata": {
    "collapsed": false,
    "pycharm": {
     "name": "#%%\n"
    }
   },
   "outputs": [],
   "source": [
    "def embed_sentence_word_model(tokens, model):\n",
    "    \"\"\"\n",
    "    Calculates the sentence embedding by averaging the embeddings of the tokens\n",
    "    Args:\n",
    "        tokens: a list of words from the sentence\n",
    "        model: a trained word embeddings model\n",
    "\n",
    "    Returns: a numpy array of the sentence embedding\n",
    "\n",
    "    \"\"\"\n",
    "    #### YOUR CODE HERE\n",
    "    #### CAUTION: be sure to cover the case where all tokens are out-of-vocabulary!!!\n",
    "\n",
    "    valid_embeddings = [model[word] for word in tokens if word in model]\n",
    "\n",
    "    if not valid_embeddings:\n",
    "        return np.zeros(model.vector_size)\n",
    "\n",
    "    return np.mean(valid_embeddings, axis=0)\n",
    "    ### YOUR CODE ENDS HERE"
   ]
  },
  {
   "cell_type": "markdown",
   "metadata": {
    "collapsed": false,
    "pycharm": {
     "name": "#%% md\n"
    }
   },
   "source": [
    "Now we can apply the function to the whole dataset. Here we do it both for the sentence and the compressed version. You should know it by now, but this operation might take some time. The next cells will apply your function to the whole dataset."
   ]
  },
  {
   "cell_type": "code",
   "execution_count": 195,
   "metadata": {
    "collapsed": false,
    "pycharm": {
     "name": "#%%\n"
    }
   },
   "outputs": [],
   "source": [
    "def embed_sentence_word_model_dataset(example, model):\n",
    "    \"\"\"\n",
    "    Embeds the sentence and the compressed sentence in the example from the Dataset\n",
    "    Args:\n",
    "        example: an example from the Dataset\n",
    "        model: a trained word embeddings model\n",
    "\n",
    "    Returns: updated example with 'sentence_embedding' and 'compressed_embedding' columns\n",
    "\n",
    "    \"\"\"\n",
    "    sentence_tokens = example['sentence_tokens']\n",
    "    clean_compressed = example['clean_compressed']\n",
    "    compressed_tokens = tokenize(clean_compressed)\n",
    "\n",
    "    sentence_embedding = embed_sentence_word_model(sentence_tokens, model).astype(np.float32)\n",
    "    compressed_embedding = embed_sentence_word_model(compressed_tokens, model).astype(np.float32)\n",
    "\n",
    "    example['sentence_embedding'] = sentence_embedding\n",
    "    example['compressed_embedding'] = compressed_embedding\n",
    "    return example"
   ]
  },
  {
   "cell_type": "code",
   "execution_count": 196,
   "metadata": {
    "collapsed": false,
    "pycharm": {
     "name": "#%%\n"
    }
   },
   "outputs": [
    {
     "name": "stderr",
     "output_type": "stream",
     "text": [
      "Map: 100%|██████████| 36000/36000 [01:02<00:00, 571.49 examples/s]"
     ]
    },
    {
     "name": "stdout",
     "output_type": "stream",
     "text": [
      "Dataset({\n",
      "    features: ['set', 'clean_sentence', 'clean_compressed', 'sentence_tokens', 'compressed_tokens', 'sentence_bow', 'compressed_bow', 'sentence_embedding', 'compressed_embedding'],\n",
      "    num_rows: 36000\n",
      "})\n"
     ]
    },
    {
     "name": "stderr",
     "output_type": "stream",
     "text": [
      "\n"
     ]
    }
   ],
   "source": [
    "test_ds = test_ds.map(embed_sentence_word_model_dataset, fn_kwargs={'model': glove_model})\n",
    "print(test_ds)"
   ]
  },
  {
   "cell_type": "code",
   "execution_count": 213,
   "metadata": {
    "collapsed": false,
    "pycharm": {
     "name": "#%%\n"
    }
   },
   "outputs": [
    {
     "name": "stdout",
     "output_type": "stream",
     "text": [
      "{'sentence_bow': array([0., 0., 0., ..., 0., 0., 0.]), 'compressed_bow': array([0., 0., 0., ..., 0., 0., 0.]), 'sentence_embedding': array([-0.09174732,  0.34170407, -0.08320142, -0.19484785,  0.16618656,\n",
      "        0.16255379, -0.19536236,  0.02521885, -0.17537339, -0.14365135,\n",
      "       -0.28842321, -0.14675114,  0.38872632,  0.13051707,  0.06410608,\n",
      "        0.06471315,  0.3994588 , -0.18568742, -0.24351706,  0.25504285,\n",
      "        0.13812643,  0.1479875 ,  0.15843022, -0.33887583, -0.06254772,\n",
      "        0.01904875, -0.18599084, -0.11926966, -0.0377689 , -0.14802955,\n",
      "        0.14950421,  0.26492184,  0.0930735 ,  0.01733929, -0.04648   ,\n",
      "        0.14474307,  0.03792614,  0.05738822, -0.11153205, -0.04929564,\n",
      "       -0.10673285, -0.3183578 ,  0.16999495, -0.24666449,  0.22295645,\n",
      "       -0.19390735,  0.15128   , -0.20845757,  0.10684972, -0.46236888,\n",
      "        0.05693157, -0.10335771,  0.34962574,  0.50212485, -0.28367361,\n",
      "       -1.73330295, -0.04340314, -0.04382643,  1.21046507,  0.32078671,\n",
      "       -0.18932821,  0.63863713,  0.04955493,  0.02958694,  0.34793371,\n",
      "       -0.06272287,  0.22645651, -0.07814714,  0.44900241, -0.07450358,\n",
      "        0.03105764, -0.213668  , -0.06280429,  0.05039116, -0.15470244,\n",
      "        0.09587586,  0.08550406,  0.08882071, -0.60410303,  0.09877136,\n",
      "        0.59163207, -0.05612328,  0.03009949,  0.16057913, -0.80157995,\n",
      "       -0.11674841, -0.17691159,  0.05583271, -0.00318615, -0.4206408 ,\n",
      "        0.08725674, -0.22434044, -0.11040209,  0.15679049, -0.77022564,\n",
      "       -0.06643416, -0.01625265, -0.43386126,  0.62799793, -0.13682505]), 'compressed_embedding': array([-0.16741951, -0.0254282 ,  0.06506439, -0.39517981,  0.30953363,\n",
      "        0.17097382, -0.17321602,  0.06538261, -0.0753464 , -0.49612942,\n",
      "       -0.03886   , -0.012122  ,  0.1981754 ,  0.22819519,  0.12946799,\n",
      "       -0.23461702,  0.36837202,  0.09541441,  0.03252701,  0.23229602,\n",
      "        0.13700978, -0.15660161,  0.0594596 , -0.10829379,  0.36544439,\n",
      "        0.19103   , -0.22856501, -0.17699327,  0.0255244 , -0.15011199,\n",
      "        0.05822279,  0.27146399,  0.02202399,  0.28974321, -0.06866301,\n",
      "        0.01301621, -0.14634621, -0.017312  ,  0.32499003, -0.28600702,\n",
      "       -0.04636   ,  0.06681399,  0.16547999, -0.06584998,  0.18580601,\n",
      "        0.1318098 , -0.059733  , -0.28828001,  0.21902061, -0.51404202,\n",
      "        0.076852  , -0.30049801,  0.22599599,  0.49455398,  0.018948  ,\n",
      "       -1.66912007, -0.3107996 ,  0.44001397,  0.67206997,  0.38505962,\n",
      "        0.081237  ,  0.83368605,  0.07349399, -0.17082639,  0.19154699,\n",
      "       -0.00638999,  0.29180703, -0.40125999, -0.0689558 , -0.11388679,\n",
      "       -0.222506  , -0.348012  , -0.25769201,  0.07098261,  0.187198  ,\n",
      "       -0.01993599,  0.19833   ,  0.03761279, -0.2373623 , -0.38163638,\n",
      "        0.10757001, -0.18837199, -0.16683879,  0.10506921, -0.62866843,\n",
      "        0.05224226, -0.16118519, -0.26307401,  0.2148128 , -0.0534542 ,\n",
      "        0.2322654 , -0.20339   ,  0.37405437,  0.28258359, -0.814942  ,\n",
      "        0.0030664 , -0.047725  , -0.15458639,  0.34544   , -0.228122  ])}\n",
      "{'sentence_bow': array([1., 0., 0., ..., 0., 0., 0.]), 'compressed_bow': array([0., 0., 0., ..., 0., 0., 0.]), 'sentence_embedding': array([-0.03470212,  0.04242635, -0.03853489, -0.11484122, -0.01581288,\n",
      "        0.44235051, -0.01807836,  0.359604  , -0.10620206,  0.20232189,\n",
      "        0.17884636,  0.28763387,  0.37036136,  0.29374352,  0.09402417,\n",
      "       -0.11227749, -0.2633127 , -0.28626308, -0.8771053 ,  0.11032416,\n",
      "        0.77822441, -0.08221607,  0.28885978,  0.0049285 , -0.09497339,\n",
      "       -0.18379191, -0.20042436, -0.20782299,  0.14106736,  0.23169443,\n",
      "        0.08383569,  0.03728839, -0.20390116,  0.14985706, -0.0258025 ,\n",
      "       -0.21408002, -0.17717266,  0.11843034,  0.24046983, -0.01911261,\n",
      "       -0.40707049, -0.08735449,  0.56345159, -0.10813368,  0.39079231,\n",
      "        0.11814272, -0.20396884, -0.11414177, -0.13151246, -0.29202718,\n",
      "        0.02312857, -0.42517042,  0.00350908,  1.17328548, -0.20639424,\n",
      "       -1.57631063, -0.16056173, -0.23285161,  1.33445334,  0.63443762,\n",
      "       -0.19228895,  0.56377548, -0.03703211, -0.06243816,  0.25910255,\n",
      "        0.13563621,  0.39709961,  0.1026645 ,  0.01043361,  0.21743642,\n",
      "       -0.16453524, -0.46643966, -0.11879724, -0.30897439,  0.06426723,\n",
      "        0.40342504,  0.07790823,  0.25897095, -0.7860589 , -0.03474896,\n",
      "        0.74024254,  0.13108951, -0.20004579,  0.05750259, -0.95962113,\n",
      "       -0.1807    ,  0.07709747,  0.00903555, -0.09017143, -0.1305261 ,\n",
      "        0.47234881, -0.36710224, -0.02106294,  0.10045332, -0.74951333,\n",
      "        0.24582833,  0.03120698,  0.06070206,  0.45125559, -0.11959313]), 'compressed_embedding': array([ 0.140122  ,  0.21792001, -0.00655665, -0.44297335, -0.13990334,\n",
      "        0.87140006, -0.01903333,  0.378914  , -0.05413467,  0.06649667,\n",
      "        0.23242001,  0.37210536,  0.48291996,  0.27430668, -0.1054    ,\n",
      "        0.28424001, -0.17136   ,  0.02130002, -1.07546663,  0.28798667,\n",
      "        1.04120672,  0.06320667,  0.28852099,  0.15078899, -0.29229867,\n",
      "        0.00570001, -0.17880599, -0.42064333,  0.48507667,  0.16642334,\n",
      "        0.00300333,  0.01435   , -0.32178   ,  0.2437768 , -0.14320767,\n",
      "       -0.28117666, -0.15271199, -0.206576  ,  0.12979567, -0.34664002,\n",
      "       -0.40119329, -0.09557533,  0.08002   , -0.08303667,  0.00874999,\n",
      "       -0.00798666, -0.06352001, -0.01343333,  0.06953466, -0.185499  ,\n",
      "       -0.00621766, -0.54076666, -0.04782433,  0.96584004, -0.16743   ,\n",
      "       -1.00646663, -0.06116   , -0.27889469,  1.33525336,  0.27876332,\n",
      "       -0.40664998,  0.67712331, -0.02715333, -0.5921157 ,  0.47838333,\n",
      "        0.40031663,  0.29002565, -0.10121834, -0.54723001,  0.10695019,\n",
      "       -0.12831233, -0.70813674, -0.44101667, -0.32158899, -0.16982268,\n",
      "        0.44671333, -0.04137999,  0.23662333, -0.36459336, -0.05107933,\n",
      "        0.65164334,  0.23029132, -0.14572334,  0.27099732, -1.01355994,\n",
      "       -0.07997666,  0.192509  , -0.046549  , -0.03410332, -0.13561934,\n",
      "       -0.17069234, -0.42757332,  0.08250666,  0.20889632, -0.43224001,\n",
      "       -0.33485666,  0.25615001,  0.20176999,  0.63267332,  0.09926324])}\n",
      "{'sentence_bow': array([0., 0., 0., ..., 0., 0., 0.]), 'compressed_bow': array([0., 0., 0., ..., 0., 0., 0.]), 'sentence_embedding': array([-0.12983134, -0.11676635, -0.01965481, -0.13222092,  0.12305275,\n",
      "        0.36868432, -0.4932836 , -0.11162721,  0.01742495,  0.30680066,\n",
      "       -0.13747489,  0.17684013,  0.19820312,  0.14400533, -0.10906376,\n",
      "       -0.03891241, -0.14043424, -0.24485111, -0.77215922,  0.00459159,\n",
      "        0.48323172, -0.30818257,  0.34184095, -0.02639902, -0.10516698,\n",
      "       -0.04403612, -0.15862925, -0.15690641,  0.08046186,  0.07883662,\n",
      "        0.29058623,  0.22039488, -0.17907961,  0.08927027, -0.07186797,\n",
      "       -0.02270588,  0.03393698, -0.14969335, -0.12376744,  0.14457467,\n",
      "       -0.76461238, -0.03374095,  0.51035815, -0.09223878,  0.13017191,\n",
      "       -0.32588628,  0.21279466,  0.04278271, -0.11838787, -0.50790501,\n",
      "        0.21107814, -0.07549812,  0.12843573,  1.04934371, -0.11486183,\n",
      "       -1.23688519,  0.08191364, -0.0805662 ,  1.20155919,  0.23401587,\n",
      "       -0.11699514,  0.16069409, -0.17038248, -0.17106211,  0.43786007,\n",
      "        0.09632917,  0.17129973,  0.24204488,  0.00239422, -0.10690676,\n",
      "        0.01885275, -0.47088772, -0.2755107 , -0.35789895, -0.18860532,\n",
      "        0.02052981, -0.08328138,  0.18973744, -0.74360275,  0.10249563,\n",
      "        0.74830025, -0.08009913, -0.2927874 , -0.12173694, -0.95342779,\n",
      "       -0.18699206,  0.01793113,  0.29212216, -0.19064994, -0.33526167,\n",
      "        0.18772008, -0.21683861, -0.27065891,  0.08494655, -0.52219212,\n",
      "        0.10517263, -0.07256962,  0.02176747,  0.32931089,  0.02053884]), 'compressed_embedding': array([-1.39478341e-01,  3.46640050e-02,  1.21459991e-01,  3.41520011e-02,\n",
      "        2.74652660e-01,  2.75006652e-01, -5.96894324e-01, -3.20282966e-01,\n",
      "       -4.70984340e-01,  2.42740035e-01, -2.14663327e-01,  7.69586712e-02,\n",
      "        6.17667055e-03,  1.15203321e-01, -3.44836682e-01,  7.48666143e-03,\n",
      "       -1.00386672e-01, -3.12909693e-01, -8.82514298e-01,  1.22399993e-01,\n",
      "        8.10036659e-01, -6.43000066e-01,  5.58336675e-01, -2.94886649e-01,\n",
      "       -1.38539985e-01,  4.32733297e-02,  1.96613356e-01, -2.28110671e-01,\n",
      "        6.16992302e-02,  1.96860000e-01,  1.57960057e-02,  1.27059996e-01,\n",
      "       -2.75486678e-01,  1.91967010e-01,  1.12099946e-03, -2.67476648e-01,\n",
      "       -8.93233195e-02,  4.91193324e-01,  1.62430346e-01,  2.27543667e-01,\n",
      "       -7.13306665e-01, -9.31200013e-02,  7.94640064e-01, -2.13793322e-01,\n",
      "        3.24963331e-01, -7.21583366e-01,  2.34620020e-01, -2.11933460e-02,\n",
      "        7.89329931e-02, -6.26853287e-01,  1.41866684e-01, -1.69258669e-01,\n",
      "        5.43201983e-01,  9.36786652e-01, -1.22279324e-01, -1.15961993e+00,\n",
      "       -4.24010009e-01,  3.60083342e-01,  1.78676665e+00,  3.16973329e-01,\n",
      "       -4.64696676e-01,  3.28456610e-02,  2.96626687e-02, -3.98647338e-01,\n",
      "        4.76596683e-01,  2.01489985e-01,  8.50267243e-03,  3.58416647e-01,\n",
      "        2.75396675e-01,  3.15821677e-01,  2.90600002e-01, -1.09803326e-01,\n",
      "       -4.39169973e-01, -8.37080002e-01, -1.68819979e-01,  3.53837997e-01,\n",
      "        1.30400002e-01,  1.23676658e-01, -6.65833294e-01, -2.34630987e-01,\n",
      "        5.94630003e-01,  4.02987488e-02,  6.65466711e-02, -2.87589997e-01,\n",
      "       -6.22746646e-01, -2.09334329e-01, -9.51550007e-02,  3.51866692e-01,\n",
      "        3.60699892e-02, -2.96278328e-01,  2.76037991e-01, -3.83000016e-01,\n",
      "       -6.49425685e-01,  4.03783321e-01, -2.24223331e-01,  1.32338658e-01,\n",
      "        4.21553344e-01,  2.66199976e-01,  1.23776667e-01,  4.12474304e-01])}\n",
      "{'sentence_bow': array([1., 0., 0., ..., 0., 0., 0.]), 'compressed_bow': array([0., 0., 0., ..., 0., 0., 0.]), 'sentence_embedding': array([-2.53724247e-01,  2.73269147e-01,  1.53949901e-01,  6.07832856e-02,\n",
      "        2.82410774e-02,  1.37552127e-01, -1.33571411e-02,  1.10285230e-01,\n",
      "        3.11878603e-02,  3.22079569e-01,  3.96922156e-02,  1.74392566e-01,\n",
      "        5.30361354e-01,  2.13841572e-01,  6.69538528e-02, -3.32926571e-01,\n",
      "       -5.72656468e-02, -4.53394353e-01, -7.33943284e-01,  1.89874560e-01,\n",
      "        9.56291378e-01, -9.84563455e-02,  3.33315670e-01,  1.48636848e-01,\n",
      "       -6.67232051e-02, -1.49891481e-01, -1.57662202e-02, -3.59268397e-01,\n",
      "        3.73552829e-01, -8.86845738e-02,  1.12336297e-02, -2.21400689e-02,\n",
      "       -1.34930000e-01, -1.58549502e-01,  1.58387110e-01, -1.59293517e-01,\n",
      "        3.74974981e-02,  2.50976980e-01, -9.03306678e-02,  1.24791645e-01,\n",
      "       -5.96856415e-01, -2.57893540e-02,  3.38716179e-01, -7.57402182e-02,\n",
      "        4.02737319e-01, -8.55482072e-02,  1.42663077e-03, -3.35422307e-01,\n",
      "       -3.22550237e-01, -4.35811907e-01,  3.00018582e-02, -2.53384501e-01,\n",
      "       -1.63597185e-02,  1.21550071e+00, -1.01744570e-01, -1.85110366e+00,\n",
      "       -4.95668389e-02, -4.23845142e-01,  1.70339990e+00,  7.54480779e-01,\n",
      "        2.82356422e-02,  7.51755059e-01,  2.24491358e-02, -6.46049976e-02,\n",
      "        5.18583357e-01,  1.94452077e-01,  7.20939785e-02,  2.82907814e-01,\n",
      "        2.02075005e-01,  2.69791514e-01,  2.11007148e-01, -5.86653352e-01,\n",
      "       -3.57909203e-01, -3.07145208e-01,  2.01437041e-01,  2.25999549e-01,\n",
      "       -1.37628615e-03,  3.25211734e-01, -1.04844701e+00,  1.34985775e-01,\n",
      "        1.06444931e+00,  3.10237147e-02, -2.43783861e-01,  3.79376598e-02,\n",
      "       -1.09359634e+00, -1.76600784e-01,  3.87281403e-02, -1.92665577e-01,\n",
      "       -1.93836778e-01, -3.00371975e-01,  2.56304234e-01, -1.01913221e-01,\n",
      "       -1.54950932e-01,  1.01621151e-01, -9.14549351e-01,  2.11614802e-01,\n",
      "       -2.45383099e-01,  9.04615670e-02,  3.22846562e-01, -7.93287158e-03]), 'compressed_embedding': array([-0.20971633,  0.24339665, -0.19324233, -0.17500998, -0.14260666,\n",
      "        0.86995333,  0.329822  ,  0.41120002, -0.22039433,  0.395677  ,\n",
      "        0.51536334,  0.45884666,  0.90461665,  0.38623333,  0.156275  ,\n",
      "       -0.09914801, -0.15381001, -0.60489982, -1.25169659,  0.50104463,\n",
      "        1.48152006, -0.47454667,  0.52132332,  0.249505  ,  0.136002  ,\n",
      "       -0.45623663, -0.28282666, -0.24204667,  0.43530664,  0.06315333,\n",
      "        0.40174332, -0.04969667, -0.23842664, -0.06318998,  0.39290333,\n",
      "       -0.51510334, -0.18783002,  0.31179333,  0.36421001,  0.58206004,\n",
      "       -0.56000996,  0.12254999,  0.68894005, -0.06528   ,  0.6961    ,\n",
      "        0.29388833, -0.36794266, -0.25363669, -0.30686668, -0.23675583,\n",
      "       -0.36752066, -0.39258334, -0.14681333,  1.68513334, -0.19764931,\n",
      "       -1.5876168 , -0.11571333, -0.48964265,  1.5439533 ,  1.11791003,\n",
      "       -0.06056333,  1.27160001,  0.34505001,  0.18872   ,  0.32239667,\n",
      "        0.25318334,  0.08814493,  0.15980133, -0.05988297,  0.53588003,\n",
      "       -0.12483   , -0.65177232, -0.24055968, -0.19265001,  0.08180001,\n",
      "        0.61481667,  0.29001668,  0.29824802, -1.21300662,  0.03958667,\n",
      "        1.23716664,  0.31711665, -0.20735435,  0.11398965, -0.95912331,\n",
      "       -0.19732468,  0.105389  , -0.13782766, -0.19159333,  0.02775733,\n",
      "        0.44279   , -0.22554334, -0.18789701,  0.15287668, -1.38433325,\n",
      "        0.15775333, -0.3116838 ,  0.14708398,  0.12292733, -0.18247335])}\n",
      "{'sentence_bow': array([0., 0., 0., ..., 0., 0., 0.]), 'compressed_bow': array([0., 0., 0., ..., 0., 0., 0.]), 'sentence_embedding': array([-8.39235932e-02,  2.62115896e-01,  3.32946956e-01,  1.48824915e-01,\n",
      "        9.17025432e-02, -5.92113376e-01, -4.72431242e-01, -1.20630853e-01,\n",
      "        2.68832431e-03, -3.52090806e-01, -1.90436438e-01,  6.95664361e-02,\n",
      "        3.06933492e-01, -3.34933460e-01,  1.29771695e-01, -1.94183797e-01,\n",
      "       -2.86859930e-01, -8.28649998e-02,  1.82946235e-01, -8.15375373e-02,\n",
      "        4.89779651e-01, -5.24043851e-02, -1.82055053e-03,  4.12500441e-01,\n",
      "       -2.71408617e-01, -3.22933495e-01,  8.59873816e-02, -1.55277699e-01,\n",
      "       -2.71306634e-01,  7.60870948e-02,  4.06263843e-02,  1.75358132e-01,\n",
      "       -3.34251553e-01,  3.70305590e-02,  1.08144321e-01,  2.36036167e-01,\n",
      "        2.86007673e-01, -5.40217608e-02, -2.10715950e-01, -3.49294633e-01,\n",
      "       -4.81266946e-01, -6.46559298e-01,  7.39530027e-02,  4.97304425e-02,\n",
      "       -2.26816144e-02, -1.18420854e-01,  2.11878359e-01, -8.39661658e-02,\n",
      "       -4.32761535e-02, -1.26897788e+00,  1.58589065e-01, -1.74219236e-01,\n",
      "        4.30290066e-02,  8.64356101e-01, -7.74700716e-02, -1.92688930e+00,\n",
      "        6.27231598e-02, -2.76594460e-01,  1.69660997e+00,  2.00292289e-01,\n",
      "       -3.45723450e-01,  3.44915926e-01, -5.33484340e-01,  4.90391254e-02,\n",
      "        1.31871477e-01,  2.45794460e-01,  4.67659198e-02,  1.48306593e-01,\n",
      "        4.76030648e-01, -1.38330698e-01,  1.50962332e-02,  1.09396167e-02,\n",
      "       -3.01394343e-01, -3.38141859e-01, -9.30581540e-02, -5.67700202e-03,\n",
      "       -2.66830772e-01,  5.90676889e-02, -7.79179990e-01, -1.54547319e-01,\n",
      "        6.35066986e-01,  1.81325167e-01, -5.57557881e-01,  9.49484389e-03,\n",
      "       -1.04561305e+00, -4.98520792e-01, -2.04916000e-02,  2.43384633e-02,\n",
      "       -1.46414533e-01, -4.27788526e-01, -1.29149228e-01,  2.68904924e-01,\n",
      "       -1.60551965e-01, -2.17135847e-01, -5.53863823e-01,  2.80515790e-01,\n",
      "        1.80053696e-01, -3.05942595e-01,  4.52648491e-01,  2.85655320e-01]), 'compressed_embedding': array([ 0.06418885,  0.20129783,  0.28710499,  0.26549336,  0.25024718,\n",
      "       -0.38224569, -0.05343367,  0.13328983, -0.03849666, -0.18505166,\n",
      "       -0.16926731,  0.07761883,  0.34971681, -0.18126576, -0.11513335,\n",
      "       -0.37591067,  0.079495  , -0.08215066, -0.00490816,  0.0360155 ,\n",
      "        0.57664996, -0.16650882,  0.07828333,  0.57796091,  0.03077083,\n",
      "       -0.36666667, -0.0385565 , -0.190515  , -0.04339117, -0.10847651,\n",
      "       -0.15271182,  0.34831667, -0.06553999,  0.09026849, -0.0117515 ,\n",
      "        0.31653702,  0.28315827, -0.248317  , -0.39870915, -0.324819  ,\n",
      "       -0.35522333, -0.51551503,  0.19289117, -0.22248501, -0.14046334,\n",
      "        0.16436349, -0.01090692, -0.110493  ,  0.12556334, -1.21132839,\n",
      "       -0.06763334, -0.20527001,  0.22717617,  0.880835  , -0.2161545 ,\n",
      "       -1.9230684 , -0.07143001, -0.23391666,  1.78253508,  0.34794119,\n",
      "       -0.40937999,  0.43634   , -0.24747948,  0.14342345, -0.13509201,\n",
      "        0.45133832,  0.08686999,  0.54711169,  0.27587309,  0.02046534,\n",
      "        0.14099167, -0.13533983, -0.42631665, -0.4625667 , -0.07664933,\n",
      "        0.04988784, -0.33275169,  0.16623783, -0.79278326,  0.20100649,\n",
      "        0.55500501,  0.00556983, -0.242402  ,  0.09215266, -0.89753836,\n",
      "       -0.41630164,  0.06601916,  0.13762733,  0.18131016, -0.237285  ,\n",
      "        0.02982999,  0.24137001, -0.1668805 , -0.035896  , -0.76741004,\n",
      "        0.357645  ,  0.15581   , -0.26565665,  0.55046004,  0.27053332])}\n",
      "{'sentence_bow': array([0., 0., 0., ..., 0., 0., 0.]), 'compressed_bow': array([0., 0., 0., ..., 0., 0., 0.]), 'sentence_embedding': array([-3.68924513e-02, -1.03998050e-01,  6.46101981e-02, -6.02354519e-02,\n",
      "        5.07554591e-01, -8.36803094e-02,  3.16151008e-02,  1.07939616e-01,\n",
      "       -1.59715451e-02,  9.65147931e-03,  2.43115664e-01, -2.25839615e-01,\n",
      "        2.17949435e-01, -3.79561841e-01,  9.14082453e-02, -1.29408926e-01,\n",
      "        3.52109283e-01,  4.83082496e-02, -1.77329313e-02,  8.98683667e-02,\n",
      "       -2.22676545e-01, -2.41377681e-01,  3.30360293e-01,  9.21449587e-02,\n",
      "        1.05636254e-01, -2.07603842e-01,  2.26167396e-01,  3.35532010e-01,\n",
      "       -1.77658588e-01,  2.04152584e-01,  1.66061312e-01,  6.08656168e-01,\n",
      "       -3.21571261e-01,  8.58554468e-02,  4.25770193e-01,  1.98507413e-01,\n",
      "       -9.55773517e-02, -4.05478179e-02, -1.56747341e-01, -2.76780158e-01,\n",
      "        1.10165097e-01,  1.92484502e-02, -2.17983752e-01,  6.76843803e-03,\n",
      "       -1.32554084e-01, -3.18592899e-02,  1.44774942e-02, -3.04347128e-01,\n",
      "        2.42176294e-01, -4.48599190e-01,  2.71383487e-02,  1.90843508e-04,\n",
      "        1.50477692e-01,  4.41323996e-01,  1.95722207e-01, -1.63388705e+00,\n",
      "        2.06766017e-02, -2.26320073e-01,  1.63396549e+00,  4.92748804e-02,\n",
      "       -4.91575003e-02,  3.51560980e-01, -9.16975141e-02, -2.82498479e-01,\n",
      "        3.67010653e-01, -5.48664257e-02,  3.48987520e-01,  5.44924028e-02,\n",
      "        3.45402479e-01, -6.34579286e-02,  6.44074827e-02, -1.58529431e-01,\n",
      "        2.06394866e-01, -1.98850334e-01, -6.89004436e-02,  1.32597595e-01,\n",
      "        1.78895995e-01,  4.70991991e-02, -5.25404215e-01, -3.72250140e-01,\n",
      "        5.31220078e-01, -2.23444313e-01, -7.64165521e-02,  2.46419668e-01,\n",
      "       -1.11473608e+00,  4.35623974e-02,  1.48149461e-01, -1.64372876e-01,\n",
      "        1.58960521e-02, -1.82005242e-01,  3.24257538e-02,  1.82226151e-01,\n",
      "       -1.12347260e-01, -2.32753113e-01, -2.42859479e-02, -3.49043012e-02,\n",
      "       -2.23420352e-01, -1.29584789e-01,  8.14263701e-01,  2.57512897e-01]), 'compressed_embedding': array([ 0.27719334, -0.07154   , -0.15372266, -0.38311669,  0.84362668,\n",
      "       -0.36903   , -0.14947666,  0.63775998,  0.33403668, -0.01200299,\n",
      "        0.132751  ,  0.32042536,  0.43407002, -0.53453767,  0.14927667,\n",
      "       -0.36003998,  0.35319331,  0.39227533,  0.15238   , -0.00229667,\n",
      "       -0.30837664, -0.46359   ,  0.46661666,  0.30664   ,  0.17997332,\n",
      "       -0.26928332,  0.26349333,  0.62428665, -0.08341333,  0.30094334,\n",
      "        0.03426999,  0.53378063, -0.08594332,  0.44812667,  0.73306996,\n",
      "        0.31483999, -0.43877664, -0.116176  , -0.10125333, -0.09223524,\n",
      "        0.21652067, -0.30397335, -0.13730998,  0.087424  , -0.53482997,\n",
      "       -0.46466398, -0.08129   , -0.16452099,  0.03098067, -0.02916666,\n",
      "       -0.23970668,  0.31073034,  0.03148533,  0.30201998,  0.17087032,\n",
      "       -0.8505733 , -0.01190999, -0.17375635,  1.36255467, -0.01607667,\n",
      "       -0.18955334, -0.20748334,  0.18950041, -0.22004633,  0.21316735,\n",
      "        0.14396666,  0.116672  , -0.28782067,  0.27854332, -0.51089001,\n",
      "       -0.15857901, -0.18916966,  0.42936668, -0.15983334, -0.44037667,\n",
      "        0.27935335,  0.06886   ,  0.08328068, -0.43088201, -0.64969665,\n",
      "        0.13956001, -0.56461298,  0.19315165,  0.45237336, -0.70104003,\n",
      "        0.126698  ,  0.44391632, -0.08828483,  0.12011001, -0.06954   ,\n",
      "        0.27022332,  0.00942667,  0.13132034, -0.10588664,  0.27937999,\n",
      "        0.00530999, -0.28334999,  0.27319667,  0.90718669,  0.18195002])}\n",
      "{'sentence_bow': array([0., 0., 0., ..., 0., 0., 0.]), 'compressed_bow': array([0., 0., 0., ..., 0., 0., 0.]), 'sentence_embedding': array([ 0.08685247,  0.13472484,  0.56989539, -0.08627407,  0.09296338,\n",
      "        0.20026731,  0.05987108,  0.08567539, -0.23659785, -0.15818383,\n",
      "        0.30027306, -0.06903617,  0.0951577 , -0.07971393, -0.08578077,\n",
      "       -0.12196751,  0.17335555,  0.13994278, -0.02684853,  0.14860691,\n",
      "        0.35853463,  0.19122694,  0.31119817,  0.25999326,  0.22782837,\n",
      "       -0.42930457, -0.13213192, -0.46450698,  0.22874331, -0.33515346,\n",
      "       -0.23557454,  0.30018175, -0.16895777,  0.03150454,  0.12484161,\n",
      "       -0.04140493, -0.40907893,  0.35308138, -0.56152689,  0.08922815,\n",
      "       -0.11077416, -0.41270998,  0.47975925, -0.48146623,  0.4159815 ,\n",
      "       -0.01850708,  0.4590461 , -0.10755961,  0.20752208, -0.64045149,\n",
      "       -0.19397391, -0.07410177,  0.11440615,  0.92114854,  0.30181655,\n",
      "       -2.18101931, -0.24748272, -0.137907  ,  0.95426691,  0.63042855,\n",
      "       -0.33511129,  0.3465533 , -0.32882982,  0.08625516,  0.40701157,\n",
      "        0.06680083,  0.1166377 ,  0.41424826, -0.28706089, -0.24004437,\n",
      "       -0.03493069,  0.05956969, -0.05618877, -0.34340283,  0.11348978,\n",
      "        0.24774161, -0.40448406, -0.12091877, -0.78469151,  0.13323471,\n",
      "        0.38590878,  0.07073539, -0.30936962,  0.12782055, -0.87763077,\n",
      "       -0.36107063, -0.36687267,  0.20998476,  0.00959001,  0.14809507,\n",
      "       -0.32596427,  0.03021603,  0.06566386,  0.42935592, -0.60434079,\n",
      "        0.04367843, -0.10160998,  0.34087008,  0.37861922, -0.02016869]), 'compressed_embedding': array([ 0.42657501,  0.172582  ,  0.22365999, -0.57576501, -0.10906503,\n",
      "        0.105104  , -0.291655  ,  0.27568001, -0.27216998, -0.3012405 ,\n",
      "        0.34441501, -0.11189   , -0.24348   , -0.082684  , -0.07593   ,\n",
      "       -0.64811003, -0.12426   ,  0.25492999,  0.214075  ,  0.88365996,\n",
      "        0.42868   , -0.0318895 , -0.029414  , -0.2231175 ,  0.114     ,\n",
      "       -0.47749001,  0.0702255 , -0.61926496,  0.61672002, -0.61628497,\n",
      "       -0.7234655 ,  0.81862998, -0.34380999, -0.43188   , -0.107364  ,\n",
      "       -0.136363  , -0.589405  ,  0.64858997, -0.28503999, -0.046615  ,\n",
      "        0.0528955 , -0.62738001,  0.36590001, -0.74727499,  0.57701498,\n",
      "        0.19866851,  0.71509004,  0.019271  ,  0.40037501, -0.35423002,\n",
      "        0.31448498, -0.0940205 , -0.307105  ,  0.77332997,  0.314715  ,\n",
      "       -1.80824995, -0.252505  , -0.30127001,  0.51210004,  0.025575  ,\n",
      "       -0.0433375 ,  0.200735  , -0.93944001, -0.101234  ,  0.21292999,\n",
      "        0.50174499,  0.13398752,  0.74295998, -0.42195553, -0.41597   ,\n",
      "       -0.054705  ,  0.411865  ,  0.26535806, -0.78642648,  0.152263  ,\n",
      "       -0.494508  , -0.16325   , -0.19396001, -0.47301501,  0.34754997,\n",
      "        0.35497499, -0.168735  , -0.50651503,  0.15191799, -0.81731999,\n",
      "       -0.64728999, -0.359945  ,  0.62909502, -0.15571201,  0.32016498,\n",
      "       -0.53190398, -0.0457455 ,  0.25852498,  0.34007648, -0.65354502,\n",
      "        0.0704835 ,  0.579575  ,  0.50778496,  0.35851499, -0.23005551])}\n",
      "{'sentence_bow': array([0., 0., 0., ..., 0., 0., 0.]), 'compressed_bow': array([0., 0., 0., ..., 0., 0., 0.]), 'sentence_embedding': array([-1.75974578e-01,  4.81811851e-01,  7.86384344e-02, -1.51461139e-01,\n",
      "        1.98845729e-01,  4.68665570e-01,  1.43440023e-01, -1.61024168e-01,\n",
      "       -3.28678526e-02, -1.37287840e-01, -4.34442848e-01, -3.83797914e-01,\n",
      "        9.66205671e-02, -7.78043345e-02, -4.13150005e-02, -2.80251026e-01,\n",
      "        2.20626146e-01, -1.50501728e-01, -1.06311433e-01,  7.07192868e-02,\n",
      "        3.58638555e-01, -7.12916106e-02,  3.93122852e-01, -2.24547848e-01,\n",
      "       -1.14692278e-01, -1.86391443e-01, -6.69628382e-03, -3.75510007e-01,\n",
      "        6.11477159e-02, -9.46071465e-03,  2.11349443e-01,  2.43887141e-01,\n",
      "        4.82061446e-01, -2.29026005e-01,  2.66584307e-01,  1.64331838e-01,\n",
      "        9.91958845e-03,  2.23998323e-01, -1.78069428e-01, -9.89357568e-03,\n",
      "       -4.36672837e-01, -2.15991423e-01,  2.39403889e-01, -5.77565670e-01,\n",
      "        8.75092819e-02, -2.87130147e-01, -4.11629863e-02, -4.46505755e-01,\n",
      "       -2.62471706e-01, -5.23975730e-01,  2.00866118e-01, -8.79758596e-02,\n",
      "       -3.23211402e-01,  9.15762901e-01, -8.77914280e-02, -1.25815868e+00,\n",
      "        5.96288068e-04, -1.09415136e-01,  9.49612916e-01, -2.45702863e-02,\n",
      "        1.62030295e-01,  5.10742925e-02, -3.34631711e-01,  1.07975721e-01,\n",
      "        6.06238067e-01,  3.97936553e-01,  3.56939465e-01, -2.60834154e-02,\n",
      "        2.26903841e-01, -1.36781558e-01,  1.49426177e-01, -1.16464145e-01,\n",
      "        8.70342776e-02, -1.58072710e-01, -4.18692887e-01,  6.38328567e-02,\n",
      "       -1.96549565e-01, -3.08157444e-01, -8.20692420e-01, -1.63228706e-01,\n",
      "       -6.43501654e-02, -1.55523151e-01, -1.80724293e-01,  7.32299909e-02,\n",
      "       -8.63414407e-01, -4.25492823e-01, -4.26426142e-01, -1.43375874e-01,\n",
      "        1.20257132e-01, -6.99899942e-02,  1.12326726e-01, -1.97923139e-01,\n",
      "       -4.83571403e-02,  4.39051688e-01, -4.03112829e-01,  1.91900015e-01,\n",
      "       -7.40951300e-02,  1.62853003e-01,  6.29078567e-01,  1.81066275e-01]), 'compressed_embedding': array([-0.05963239,  0.44084463, -0.1585646 , -0.29033598, -0.18613121,\n",
      "        0.27486199,  0.36072001, -0.50346404, -0.033665  , -0.399986  ,\n",
      "       -0.25827199, -0.27349505, -0.017688  ,  0.0570659 , -0.09528501,\n",
      "       -0.29214582,  0.149066  , -0.52924699, -0.25744599,  0.0363396 ,\n",
      "        0.61185396, -0.14166999,  0.29364797,  0.0722368 ,  0.1101502 ,\n",
      "        0.14265999, -0.0097522 , -0.15161601,  0.07124679, -0.1372906 ,\n",
      "        0.1430912 ,  0.10593001,  0.221028  , -0.18203601,  0.26032022,\n",
      "        0.28742599,  0.2280426 ,  0.31988019,  0.0046639 , -0.06520299,\n",
      "       -0.25867277, -0.13493481, -0.20194399, -0.62276798,  0.2029556 ,\n",
      "       -0.24185419, -0.31294799, -0.20113599, -0.0202744 , -0.59684199,\n",
      "        0.1081146 , -0.15720659, -0.80865002,  0.85027009, -0.140086  ,\n",
      "       -0.69576603,  0.10162598, -0.00637899,  0.91452599,  0.18659601,\n",
      "        0.454992  , -0.22617801, -0.1447302 , -0.186318  ,  0.39515939,\n",
      "        0.4378272 ,  0.51770723, -0.1133794 , -0.0110424 , -0.19776559,\n",
      "        0.34246701, -0.4345234 ,  0.012076  ,  0.10448019, -0.43657002,\n",
      "       -0.13099802, -0.21970138, -0.40390319, -0.8657589 ,  0.20755181,\n",
      "        0.10498579, -0.32294959,  0.12951203,  0.36221099, -0.64826822,\n",
      "       -0.400518  , -0.283292  , -0.0601282 , -0.30729201, -0.009338  ,\n",
      "        0.19427982, -0.17509198, -0.05482399,  0.10980439, -0.32699201,\n",
      "        0.0054816 , -0.30917996,  0.26253623,  0.73399001,  0.34819219])}\n",
      "{'sentence_bow': array([0., 0., 0., ..., 0., 0., 0.]), 'compressed_bow': array([0., 0., 0., ..., 0., 0., 0.]), 'sentence_embedding': array([ 0.10261611,  0.0652305 ,  0.22277999, -0.63771003, -0.37652537,\n",
      "        0.22367771, -0.015308  ,  0.0692063 , -0.13198507,  0.100471  ,\n",
      "        0.0137843 , -0.00473101,  0.10922899, -0.04919871, -0.1076913 ,\n",
      "       -0.10333081,  0.11189522, -0.16826169, -0.20622139,  0.36801031,\n",
      "        0.0175019 ,  0.15488701, -0.11721542,  0.06475401,  0.11406799,\n",
      "       -0.07247622, -0.40971899, -0.20683673,  0.12225151,  0.0879913 ,\n",
      "       -0.1711324 ,  0.49493751, -0.30059859,  0.1113847 , -0.19076903,\n",
      "        0.20812471, -0.36587003,  0.0999223 , -0.28496677, -0.098736  ,\n",
      "       -0.31328386,  0.2181433 ,  0.49226007, -0.1564423 ,  0.18003681,\n",
      "        0.377404  ,  0.14255849, -0.18991093,  0.06322501, -0.43512502,\n",
      "        0.24346766, -0.02009219, -0.1097208 ,  0.58633095, -0.05889099,\n",
      "       -1.33183396, -0.18792948,  0.0025441 ,  0.47193789,  0.42412814,\n",
      "       -0.0156842 ,  0.06560139, -0.0875348 , -0.08237515,  0.41151199,\n",
      "       -0.05676141,  0.47132283,  0.33773929, -0.0857373 ,  0.04601636,\n",
      "       -0.037446  ,  0.0822553 , -0.10443769, -0.34502402, -0.01754528,\n",
      "        0.10194699,  0.0672823 ,  0.1527575 , -0.44040623,  0.13334306,\n",
      "        0.26942897, -0.43924999, -0.08303101, -0.14484689, -0.61548579,\n",
      "       -0.3958478 , -0.1053137 ,  0.11143301, -0.11273949, -0.23792359,\n",
      "       -0.14116141,  0.077188  , -0.0840949 ,  0.10904451,  0.1110508 ,\n",
      "        0.22277217, -0.26169607,  0.0737312 ,  0.16798294, -0.0055616 ]), 'compressed_embedding': array([ 0.00715633,  0.131365  ,  0.4398067 , -0.57177335, -0.29432166,\n",
      "        0.18097334, -0.10580667, -0.24491   ,  0.51341003,  0.07335501,\n",
      "        0.22917666,  0.37587333,  0.18095   ,  0.22218667,  0.07665664,\n",
      "       -0.26880333, -0.13754933,  0.06858267, -0.05437799,  0.07110766,\n",
      "        0.19832666, -0.06665667, -0.07224333,  0.25124002, -0.14199001,\n",
      "        0.016423  , -0.27140334,  0.11821664,  0.14865834, -0.13902999,\n",
      "        0.05261667,  0.03723633,  0.003862  ,  0.16730966, -0.31919   ,\n",
      "        0.41483232, -0.04482667,  0.05477534, -0.024246  , -0.00612333,\n",
      "       -0.4162333 ,  0.35239533,  0.11923367, -0.20688666, -0.16124   ,\n",
      "        0.16826999,  0.33589998, -0.24252667,  0.06269001, -0.74985665,\n",
      "        0.12164233,  0.10563733, -0.08028833,  0.60593671,  0.10322634,\n",
      "       -1.37112999,  0.24078166, -0.21295632,  0.62213665,  0.55218768,\n",
      "       -0.14942867,  0.36819336, -0.31696934, -0.16011333,  0.60189331,\n",
      "        0.13749333,  0.39007667, -0.33285233,  0.047518  , -0.23008333,\n",
      "       -0.34631333,  0.25102332, -0.20290668, -0.56906003,  0.06639567,\n",
      "        0.6847803 ,  0.21450698, -0.18190002, -0.62084335,  0.18415232,\n",
      "        0.26997998, -0.48168668, -0.01975334, -0.017     , -0.97165662,\n",
      "       -0.42970666,  0.12830998, -0.19531   , -0.18510364, -0.23177333,\n",
      "        0.00798366,  0.16502999, -0.12037367, -0.18053599,  0.15018333,\n",
      "        0.07920799, -0.04566666, -0.26482967,  0.10332332,  0.17193501])}\n",
      "{'sentence_bow': array([0., 0., 0., ..., 0., 0., 0.]), 'compressed_bow': array([0., 0., 0., ..., 0., 0., 0.]), 'sentence_embedding': array([ 4.07437980e-03, -5.59040084e-02,  2.68420130e-01, -2.73312509e-01,\n",
      "        5.60387492e-01,  1.26635373e-01,  6.80349916e-02,  1.37029901e-01,\n",
      "        9.89264995e-02,  9.60751176e-02,  4.03821260e-01, -7.22449943e-02,\n",
      "        3.25926542e-01, -6.78762570e-02,  8.68300945e-02,  6.55537397e-02,\n",
      "        2.93277502e-01, -1.14259116e-01,  3.55614983e-02,  3.64189968e-02,\n",
      "        4.55592871e-01, -4.33241248e-01,  7.54516274e-02, -3.84500809e-03,\n",
      "       -6.99272454e-02, -1.72191113e-01,  1.21736996e-01, -1.21477365e-01,\n",
      "        3.66692506e-02,  3.63385022e-01,  2.20052496e-01,  1.83518246e-01,\n",
      "       -2.55952507e-01,  2.90766120e-01,  1.51728746e-02,  1.78179368e-01,\n",
      "        1.80046886e-01,  1.83300115e-03, -6.64967448e-02, -3.53249550e-01,\n",
      "       -1.06101379e-01, -6.14649951e-02, -3.39124352e-04,  3.53218645e-01,\n",
      "        3.08600754e-01, -2.12382615e-01, -2.83800840e-01, -2.32595131e-01,\n",
      "        3.71706903e-01, -3.23284507e-01,  9.99882519e-02, -3.34975049e-02,\n",
      "        2.78226249e-02,  4.15118754e-01, -2.18026236e-01, -1.80479610e+00,\n",
      "       -3.49405885e-01, -1.53975248e-01,  9.28351223e-01,  4.55916494e-01,\n",
      "        4.44125012e-02,  7.10707486e-01, -1.82076886e-01, -7.26072639e-02,\n",
      "        6.76798701e-01, -2.98367441e-01,  3.04457873e-01,  2.32436121e-01,\n",
      "        1.70632496e-01, -1.75690129e-01,  9.33393687e-02,  4.17516112e-01,\n",
      "       -1.57624990e-01,  1.55682996e-01, -4.11499292e-03,  2.49136120e-01,\n",
      "        6.64240122e-02,  1.42088875e-01, -4.20675009e-01, -2.39408731e-01,\n",
      "        1.27487376e-01,  1.06466904e-01,  4.39087301e-03,  1.43966883e-01,\n",
      "       -8.96573722e-01, -1.76901251e-01,  2.56678760e-02, -5.68542540e-01,\n",
      "       -1.00392252e-01,  3.72220010e-01, -1.87736243e-01, -3.18913221e-01,\n",
      "       -2.41475001e-01,  1.03762776e-01, -2.42568970e-01, -1.52153492e-01,\n",
      "       -3.22028756e-01, -1.62935257e-01,  3.61631274e-01, -6.35982379e-02]), 'compressed_embedding': array([-0.120945  , -0.102541  ,  0.28663152, -0.11524999,  0.32867497,\n",
      "       -0.11845   , -0.35040498,  0.034122  ,  0.37606549, -0.18783249,\n",
      "        0.17244498, -0.06867   ,  0.1763622 ,  0.050795  , -0.0489115 ,\n",
      "        0.76157504, -0.233835  , -0.26609501,  0.39054102,  0.15921649,\n",
      "        0.03073499, -0.59056497, -0.48737502,  0.28235   , -0.66714501,\n",
      "        0.05771001, -0.129825  , -0.0621135 , -0.1367725 ,  0.40039501,\n",
      "        0.31818998, -0.0278465 , -0.464975  ,  0.5928455 , -0.19403   ,\n",
      "       -0.09223   , -0.11777845, -0.29517001, -0.29911497, -0.46155   ,\n",
      "        0.0804285 ,  0.17587501, -0.152062  ,  0.42524952,  0.041135  ,\n",
      "       -0.22211   , -0.49395502, -0.18860999,  0.47147501, -0.06989999,\n",
      "        0.120098  , -0.0202    , -0.103519  ,  0.108185  ,  0.181345  ,\n",
      "        0.00410002, -0.24998501,  0.07264   ,  0.41382003,  0.41821998,\n",
      "       -0.04048   ,  0.17042001,  0.14717449, -0.46483999,  0.40618503,\n",
      "       -0.14496329,  0.17474851,  0.15365399,  0.04534999,  0.02122   ,\n",
      "        0.45477498,  0.28701001,  0.0695705 ,  0.221655  , -0.22005999,\n",
      "        0.56147003,  0.091386  , -0.22172001, -0.223425  , -0.41638499,\n",
      "        0.10366951, -0.0137419 , -0.02054501,  0.18436001, -0.29306   ,\n",
      "       -0.26960501,  0.278308  , -0.16698502, -0.0093545 ,  0.45971501,\n",
      "        0.27090499,  0.15927699, -0.18432499, -0.222735  , -0.09897001,\n",
      "       -0.22239998, -0.0687476 ,  0.160859  ,  0.22028503, -0.30462497])}\n"
     ]
    }
   ],
   "source": [
    "for i in range(10):\n",
    "    print(test_ds[i])"
   ]
  },
  {
   "cell_type": "markdown",
   "metadata": {
    "collapsed": false,
    "pycharm": {
     "name": "#%% md\n"
    }
   },
   "source": [
    "Here you can see that the new dataset returned a single numpy array containing all sentence embeddings in our dataset. This is a lot more efficient than returning a list of arrays (which is the default behaviour). Below we check the type and the dimensionality.\n",
    "\n",
    "We will be using `text` subset from our dataset to not use too much RAM."
   ]
  },
  {
   "cell_type": "code",
   "execution_count": 198,
   "metadata": {
    "collapsed": false,
    "pycharm": {
     "name": "#%%\n"
    }
   },
   "outputs": [
    {
     "name": "stdout",
     "output_type": "stream",
     "text": [
      "<class 'numpy.ndarray'>\n",
      "(36000, 100)\n",
      "<class 'numpy.ndarray'>\n",
      "(36000, 100)\n"
     ]
    }
   ],
   "source": [
    "sent_embedding = test_ds['sentence_embedding']\n",
    "compr_embedding = test_ds['compressed_embedding']\n",
    "print(type(sent_embedding))\n",
    "print(sent_embedding.shape)\n",
    "print(type(compr_embedding))\n",
    "print(compr_embedding.shape)"
   ]
  },
  {
   "cell_type": "markdown",
   "metadata": {
    "collapsed": false,
    "pycharm": {
     "name": "#%% md\n"
    }
   },
   "source": [
    "Next we try the condensed representatin based on a simple query. Feel free to try different queries with different words. What happens if we have OOV words in a query?"
   ]
  },
  {
   "cell_type": "code",
   "execution_count": 212,
   "metadata": {
    "collapsed": false,
    "pycharm": {
     "name": "#%%\n"
    }
   },
   "outputs": [
    {
     "name": "stdout",
     "output_type": "stream",
     "text": [
      "i love kids\n",
      "(100,)\n",
      "[ 0.43071002  0.55469     0.44891998 -0.45935    -0.357255    0.83371496\n",
      " -0.37151998  0.106895   -0.018917   -0.295695    0.00892    -0.0218\n",
      " -0.012147    0.51628     0.28162998 -0.146607    0.23850499  0.635655\n",
      " -0.56755996  1.18507     0.08746     0.1604375   0.053335   -0.30177498\n",
      "  0.259216    0.75864    -0.1482625  -0.546475    0.31791997  0.05113\n",
      " -0.19816     0.89412     0.560785   -0.033197    0.1939165   0.1732125\n",
      " -0.108805    0.463405    0.46839002 -0.40787     0.04617855  0.19092199\n",
      " -0.46236616 -0.545615   -0.443825   -0.0909255  -0.65477     0.072621\n",
      "  0.39060998 -0.76459    -0.420685   -0.29802498 -0.15316999  0.722785\n",
      "  0.1584855  -2.2227      0.37357     0.308375    0.97121     0.1387705\n",
      "  0.19328     1.40025    -0.43556    -0.610005    0.55443     0.505045\n",
      "  0.871575    0.07794251  0.0915185  -0.31255     0.199276    0.006085\n",
      "  0.03124     0.040275   -0.395315    0.94797     0.1051775  -0.09851\n",
      " -0.32516852 -0.322145   -0.29802     0.252065    0.00909501  0.07889999\n",
      " -1.4208     -0.226735   -0.71931    -0.430185   -0.74927497 -0.07783\n",
      " -0.38784     0.162099    0.4383835  -0.17515501 -0.78659505 -0.42662\n",
      " -0.54689    -0.356395    0.379654    0.53610003]\n"
     ]
    }
   ],
   "source": [
    "query = 'i love kids'\n",
    "print(query)\n",
    "\n",
    "query_embedding = embed_text(query, clean, tokenize, lambda x: embed_sentence_word_model(x, glove_model))\n",
    "print(query_embedding.shape)\n",
    "print(query_embedding)"
   ]
  },
  {
   "cell_type": "markdown",
   "metadata": {
    "collapsed": false,
    "pycharm": {
     "name": "#%% md\n"
    }
   },
   "source": [
    "<a name='e13'></a>\n",
    "### Exercise 13: Analyze sentence embeddings\n",
    "- (5p) Calculate similarity between the word embeddings representations of the selected queries and the dataset sentences.\n",
    "- (5p) Analyze the search results. Does the search work as expected? Discuss the results.\n",
    "- (5p) Compare the results with the ones you got with the bag-of-words and TF-IDF representation. Discuss the differences and similarities."
   ]
  },
  {
   "cell_type": "code",
   "execution_count": null,
   "metadata": {
    "collapsed": false,
    "pycharm": {
     "name": "#%%\n"
    }
   },
   "outputs": [],
   "source": [
    "### YOUR CODE HERE\n",
    "\n",
    "\n",
    "\n",
    "\n",
    "### YOUR CODE ENDS HERE"
   ]
  },
  {
   "cell_type": "markdown",
   "metadata": {
    "id": "ZY2jouFmeHOg",
    "pycharm": {
     "name": "#%% md\n"
    }
   },
   "source": [
    "## 6. Evaluating Retrieval\n",
    "\n",
    "In this last section we will try to evaluate how good our sentence retrieval system is. To keep the computational resources manageable, we will use the test set for that as its size is more manageable.\n",
    "\n",
    "Recall from the lecture in IR that there are several metrics to evaluate retrieval performance by taking into account the relevance of the retrieved results to the query. We will use Recall@K here (for more metrics and more details refer to the lecture slides and the textbooks).\n",
    "\n",
    "RRecall@K is a metric used to measure the effectiveness of a search system in retrieving relevant documents within the top $K$ retrieved documents. It calculates the proportion of relevant documents retrieved within the top-$K$ results, compared to the total number of relevant documents in the collection.\n",
    "\n",
    "$\n",
    "\\text{Recall@K} = \\frac{\\text{Number of relevant documents retrieved in the top }-K}{\\text{Total number of relevant documents}}\n",
    "$\n",
    "\n",
    "In our case, we have a sentence, and it's compressed version. To test our system, we will treat compressed sentences as the queries. Each query will have only a single relevant sentence - the corresponding uncompressed sentence.\n",
    "\n",
    "Therefore, for the calculation of Recall@K we will take into account whether the correct retrieved result is contained within the first $K$ retrieved results. For example, if for a query (i.e. a compressed sentence) we retrieve 10 results and within these we see the relevant one (i.e. the full sentence), then Recall@10 = 1."
   ]
  },
  {
   "cell_type": "markdown",
   "metadata": {
    "id": "QUKPtG-uem9f",
    "pycharm": {
     "name": "#%% md\n"
    }
   },
   "source": [
    "<a name='e14'></a>\n",
    "### Exercise 14: Cosine similarity between two sets of vectors\n",
    "\n",
    "(3p) In this exercise you will revisit your implementation of the cosine similarity. Generalize it so that it can accept two arrays containing two sets of vectors (first one containing $M$ vectors and the second one $N$ vectors). Compute the cosine similarity between each pair of vectors coming from the two sets. The result should be an array of size $M x N$.\n",
    "\n",
    "Once again, try to write an efficient code. This means no loops. Remember the relation between matrix multiplication and dot product. (Depending on your implementation of the previous function calculating cosine similarity, this one can be almost the same)"
   ]
  },
  {
   "cell_type": "code",
   "execution_count": null,
   "metadata": {
    "id": "xKiHDrN9eld7",
    "pycharm": {
     "name": "#%%\n"
    }
   },
   "outputs": [],
   "source": [
    "def cosine_similarity_m_to_n(vectors, other_vectors):\n",
    "    \"\"\"\n",
    "    Calculates the cosine similarity between a multiple vectors and other vectors.\n",
    "    Args:\n",
    "        vectors: a numpy array representing M number of vectors of D dimensions (of the size MxD)\n",
    "        other_vectors: a 2D numpy array representing other vectors (of the size NxD, where N is the number of vectors and D is their dimension)\n",
    "\n",
    "    Returns: a numpy array of cosine similarity between all the vectors and all the other vectors\n",
    "\n",
    "    \"\"\"\n",
    "\n",
    "    #### YOUR CODE HERE\n",
    "\n",
    "\n",
    "\n",
    "\n",
    "    ### YOUR CODE ENDS HERE"
   ]
  },
  {
   "cell_type": "markdown",
   "metadata": {
    "id": "qQ-Yhl1Sgoka",
    "pycharm": {
     "name": "#%% md\n"
    }
   },
   "source": [
    "The following function will use your implementation to calculate Recall@K based on the similarity matrix."
   ]
  },
  {
   "cell_type": "code",
   "execution_count": null,
   "metadata": {
    "id": "z0sLS3uRCfdh",
    "pycharm": {
     "name": "#%%\n"
    }
   },
   "outputs": [],
   "source": [
    "def calculate_recall(queries, sentences, k, batch_size=1000):\n",
    "    \"\"\"\n",
    "    Calculates recall@k given the embeddings of the queries and sentences.\n",
    "    Assumes that only a single sentence with the same index as query is relevant.\n",
    "    Batching is implemented to avoid high memory usage.\n",
    "    Args:\n",
    "        queries: a numpy array with the embeddings of N queries\n",
    "        sentences: a numpy array with the embeddings of N sentences available for retrieval\n",
    "        k: number of top results to search for the relevant sentence\n",
    "        batch_size: number of queries to process at a time\n",
    "\n",
    "    Returns: calculated recall@k\n",
    "\n",
    "    \"\"\"\n",
    "    n_queries = queries.shape[0]\n",
    "    correct = np.zeros(n_queries, dtype=bool)\n",
    "\n",
    "    with tqdm.tqdm(total=n_queries) as pbar:\n",
    "        for batch_start in range(0, n_queries, batch_size):\n",
    "            batch_end = min(batch_start + batch_size, n_queries)\n",
    "            queries_batch = queries[batch_start:batch_end]\n",
    "            batch_similarity = cosine_similarity_m_to_n(queries_batch, sentences)\n",
    "\n",
    "            for i, similarity_row in enumerate(batch_similarity):\n",
    "                query_index = batch_start + i\n",
    "                top_k = top_k_indices(similarity_row, k=k, sorted=False)\n",
    "\n",
    "                if query_index in top_k:\n",
    "                    correct[query_index] = True\n",
    "\n",
    "                pbar.update(1)\n",
    "\n",
    "    recall = np.sum(correct) / n_queries\n",
    "    return recall"
   ]
  },
  {
   "cell_type": "markdown",
   "metadata": {
    "id": "3QgAgMiDgw8m",
    "pycharm": {
     "name": "#%% md\n"
    }
   },
   "source": [
    "You can use it like so:"
   ]
  },
  {
   "cell_type": "code",
   "execution_count": null,
   "metadata": {
    "id": "Yxpex7ZxHM7c",
    "pycharm": {
     "name": "#%%\n"
    }
   },
   "outputs": [
    {
     "name": "stderr",
     "output_type": "stream",
     "text": [
      "  0%|          | 0/36000 [00:00<?, ?it/s]\n"
     ]
    },
    {
     "ename": "TypeError",
     "evalue": "'NoneType' object is not iterable",
     "output_type": "error",
     "traceback": [
      "\u001b[31m---------------------------------------------------------------------------\u001b[39m",
      "\u001b[31mTypeError\u001b[39m                                 Traceback (most recent call last)",
      "\u001b[36mCell\u001b[39m\u001b[36m \u001b[39m\u001b[32mIn[65]\u001b[39m\u001b[32m, line 1\u001b[39m\n\u001b[32m----> \u001b[39m\u001b[32m1\u001b[39m recall_at_1 = \u001b[43mcalculate_recall\u001b[49m\u001b[43m(\u001b[49m\u001b[43mcompr_embedding\u001b[49m\u001b[43m,\u001b[49m\u001b[43m \u001b[49m\u001b[43msent_embedding\u001b[49m\u001b[43m,\u001b[49m\u001b[43m \u001b[49m\u001b[43mk\u001b[49m\u001b[43m=\u001b[49m\u001b[32;43m1\u001b[39;49m\u001b[43m,\u001b[49m\u001b[43m \u001b[49m\u001b[43mbatch_size\u001b[49m\u001b[43m=\u001b[49m\u001b[32;43m1000\u001b[39;49m\u001b[43m)\u001b[49m\n\u001b[32m      2\u001b[39m \u001b[38;5;28mprint\u001b[39m(\u001b[33mf\u001b[39m\u001b[33m'\u001b[39m\u001b[38;5;130;01m\\n\u001b[39;00m\u001b[38;5;132;01m{\u001b[39;00mrecall_at_1\u001b[38;5;250m \u001b[39m*\u001b[38;5;250m \u001b[39m\u001b[32m100\u001b[39m\u001b[38;5;132;01m:\u001b[39;00m\u001b[33m.2f\u001b[39m\u001b[38;5;132;01m}\u001b[39;00m\u001b[33m%\u001b[39m\u001b[33m'\u001b[39m)\n",
      "\u001b[36mCell\u001b[39m\u001b[36m \u001b[39m\u001b[32mIn[64]\u001b[39m\u001b[32m, line 24\u001b[39m, in \u001b[36mcalculate_recall\u001b[39m\u001b[34m(queries, sentences, k, batch_size)\u001b[39m\n\u001b[32m     21\u001b[39m queries_batch = queries[batch_start:batch_end]\n\u001b[32m     22\u001b[39m batch_similarity = cosine_similarity_m_to_n(queries_batch, sentences)\n\u001b[32m---> \u001b[39m\u001b[32m24\u001b[39m \u001b[38;5;28;01mfor\u001b[39;00m i, similarity_row \u001b[38;5;129;01min\u001b[39;00m \u001b[38;5;28;43menumerate\u001b[39;49m\u001b[43m(\u001b[49m\u001b[43mbatch_similarity\u001b[49m\u001b[43m)\u001b[49m:\n\u001b[32m     25\u001b[39m     query_index = batch_start + i\n\u001b[32m     26\u001b[39m     top_k = top_k_indices(similarity_row, k=k, \u001b[38;5;28msorted\u001b[39m=\u001b[38;5;28;01mFalse\u001b[39;00m)\n",
      "\u001b[31mTypeError\u001b[39m: 'NoneType' object is not iterable"
     ]
    }
   ],
   "source": [
    "recall_at_1 = calculate_recall(compr_embedding, sent_embedding, k=1, batch_size=1000)\n",
    "print(f'\\n{recall_at_1 * 100:.2f}%')"
   ]
  },
  {
   "cell_type": "markdown",
   "metadata": {
    "id": "zY5ZVq5ogzMI",
    "pycharm": {
     "name": "#%% md\n"
    }
   },
   "source": [
    "<a name='e15'></a>\n",
    "### Exercise 15: Evaluating retrieval methods\n",
    "\n",
    "(10p) Calculate recall for different values of $K$ for all methods:\n",
    "- BOW,\n",
    "- TF-IDF,\n",
    "- Pre-trained embeddings.\n",
    "\n",
    "Discuss the results.\n",
    "Comment on how recall changes based on the value of $K$. Are the results expected or surprising?"
   ]
  },
  {
   "cell_type": "code",
   "execution_count": null,
   "metadata": {
    "collapsed": false,
    "pycharm": {
     "name": "#%%\n"
    }
   },
   "outputs": [],
   "source": [
    "#### YOUR CODE HERE\n",
    "\n",
    "\n",
    "\n",
    "### YOUR CODE ENDS HERE"
   ]
  },
  {
   "cell_type": "markdown",
   "metadata": {
    "collapsed": false,
    "pycharm": {
     "name": "#%% md\n"
    }
   },
   "source": [
    "<a name='e16'></a>\n",
    "### Exercise 16: Improving retrieval\n",
    "\n",
    "(10p) Imagine that you work at a company and are tasked with delivering the best retrieval method. Select the most promising one and try to improve the scores (e.g. by changing the vocab size, loading different model, etc.).\n",
    "Discuss the results you achieve, even if you didn't manage to improve the scores."
   ]
  },
  {
   "cell_type": "code",
   "execution_count": null,
   "metadata": {
    "id": "YA9bEm5ehMq8",
    "pycharm": {
     "name": "#%%\n"
    }
   },
   "outputs": [],
   "source": [
    "#### YOUR CODE HERE\n",
    "\n",
    "\n",
    "\n",
    "### YOUR CODE ENDS HERE"
   ]
  },
  {
   "cell_type": "markdown",
   "metadata": {
    "collapsed": false,
    "pycharm": {
     "name": "#%% md\n"
    }
   },
   "source": [
    "// your comments"
   ]
  }
 ],
 "metadata": {
  "colab": {
   "provenance": [],
   "toc_visible": true
  },
  "kernelspec": {
   "display_name": "Python 3",
   "language": "python",
   "name": "python3"
  },
  "language_info": {
   "codemirror_mode": {
    "name": "ipython",
    "version": 3
   },
   "file_extension": ".py",
   "mimetype": "text/x-python",
   "name": "python",
   "nbconvert_exporter": "python",
   "pygments_lexer": "ipython3",
   "version": "3.11.9"
  }
 },
 "nbformat": 4,
 "nbformat_minor": 0
}
